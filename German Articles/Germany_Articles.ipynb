{
 "cells": [
  {
   "cell_type": "markdown",
   "id": "3e4664fb",
   "metadata": {},
   "source": [
    "# Identify Articles related to Germany"
   ]
  },
  {
   "cell_type": "markdown",
   "id": "cda07884",
   "metadata": {},
   "source": [
    "The newspapers in our dataset cover international as well as domestic German news. For our further analysis and forecasting\n",
    "we are mostly interested in news covering the German economy. Hence, we split our dataset into Articles with and without\n",
    "a direct relation to the Germany economy. "
   ]
  },
  {
   "cell_type": "code",
   "execution_count": 1,
   "id": "b4b09b6c",
   "metadata": {},
   "outputs": [],
   "source": [
    "import pandas as pd\n",
    "from identify_german_articles import identify_german_articles"
   ]
  },
  {
   "cell_type": "code",
   "execution_count": 2,
   "id": "4fa5f420",
   "metadata": {},
   "outputs": [],
   "source": [
    "# load lists for identifying German and non-German articles\n",
    "country_and_capital_list = list(pd.read_excel(r'D:\\Studium\\PhD\\Media Tenor\\Preprocessing\\country_and_capital_list.xlsx', index_col = 0)[0])\n",
    "german_list = list(pd.read_excel(r'D:\\Studium\\PhD\\Media Tenor\\Preprocessing\\german_list.xlsx', index_col = 0)[0])\n",
    "\n",
    "# load lemmatized articles\n",
    "articles = pd.read_excel(r'D:\\Studium\\PhD\\Media Tenor\\Preprocessing\\test_german_related2.xlsx')\n",
    "lemmas = articles['Lemmas']"
   ]
  },
  {
   "cell_type": "code",
   "execution_count": 3,
   "id": "dfec5124",
   "metadata": {},
   "outputs": [],
   "source": [
    "idx_non_german = identify_german_articles(lemmas, german_list, country_and_capital_list)"
   ]
  },
  {
   "cell_type": "code",
   "execution_count": 4,
   "id": "f91cc9ae",
   "metadata": {},
   "outputs": [],
   "source": [
    "# load test-set and transform it to numeric values\n",
    "test = articles['German']\n",
    "test = [1 if art == 'G' else 0 for art in test]"
   ]
  },
  {
   "cell_type": "code",
   "execution_count": 5,
   "id": "9cd74fa6",
   "metadata": {},
   "outputs": [],
   "source": [
    "# create list with 1 and 0 based on the classified articles\n",
    "pred = []\n",
    "\n",
    "for i in range(0,len(lemmas)):\n",
    "    \n",
    "    if i in idx_non_german:\n",
    "        pred.append(0)\n",
    "    else:\n",
    "        pred.append(1)"
   ]
  },
  {
   "cell_type": "code",
   "execution_count": 6,
   "id": "ae8b807d",
   "metadata": {},
   "outputs": [
    {
     "name": "stdout",
     "output_type": "stream",
     "text": [
      "Accuracy: 0.8214285714285714\n"
     ]
    }
   ],
   "source": [
    "from sklearn.metrics import accuracy_score\n",
    "\n",
    "print('Accuracy: ' + str(accuracy_score(test, pred)))"
   ]
  },
  {
   "cell_type": "code",
   "execution_count": null,
   "id": "1264be0f",
   "metadata": {},
   "outputs": [],
   "source": []
  }
 ],
 "metadata": {
  "kernelspec": {
   "display_name": "Python 3",
   "language": "python",
   "name": "python3"
  },
  "language_info": {
   "codemirror_mode": {
    "name": "ipython",
    "version": 3
   },
   "file_extension": ".py",
   "mimetype": "text/x-python",
   "name": "python",
   "nbconvert_exporter": "python",
   "pygments_lexer": "ipython3",
   "version": "3.8.8"
  }
 },
 "nbformat": 4,
 "nbformat_minor": 5
}
