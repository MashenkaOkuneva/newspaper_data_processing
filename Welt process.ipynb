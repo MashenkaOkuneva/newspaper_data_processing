{
 "cells": [
  {
   "cell_type": "code",
   "execution_count": 20,
   "metadata": {},
   "outputs": [],
   "source": [
    "from setuptools import setup\n",
    "from setuptools import Extension\n",
    "\n",
    "%matplotlib inline\n",
    "import matplotlib\n",
    "import numpy as np\n",
    "import matplotlib.pyplot as plt\n",
    "\n",
    "import pandas as pd"
   ]
  },
  {
   "cell_type": "code",
   "execution_count": 21,
   "metadata": {},
   "outputs": [],
   "source": [
    "# import packages we need\n",
    "import nltk\n",
    "import re\n",
    "import os\n",
    "import codecs\n",
    "from sklearn import feature_extraction\n",
    "import mpld3\n",
    "from os import walk\n",
    "import time\n",
    "import calendar\n",
    "import datetime"
   ]
  },
  {
   "cell_type": "code",
   "execution_count": 22,
   "metadata": {},
   "outputs": [],
   "source": [
    "from bs4 import BeautifulSoup"
   ]
  },
  {
   "cell_type": "code",
   "execution_count": 1,
   "metadata": {},
   "outputs": [],
   "source": [
    "import os\n",
    "import codecs\n",
    "import re"
   ]
  },
  {
   "cell_type": "markdown",
   "metadata": {},
   "source": [
    "# Welt Data (1999-2018)"
   ]
  },
  {
   "cell_type": "code",
   "execution_count": 2,
   "metadata": {},
   "outputs": [
    {
     "name": "stdout",
     "output_type": "stream",
     "text": [
      "Wall time: 1min 53s\n"
     ]
    }
   ],
   "source": [
    "%%time\n",
    "path = 'E:\\\\Userhome\\\\mokuneva\\\\Welt' #your path here\n",
    "\n",
    "journal = []\n",
    "day = []\n",
    "month = []\n",
    "year = []\n",
    "titles = []\n",
    "texts = []\n",
    "section = []\n",
    "\n",
    "# os.listdir(path) - names of directories: '1999', '2000'...\n",
    "# we proceed folder by folder\n",
    "for f in [f for f in os.listdir(path) ]: \n",
    "    # again folder by folder\n",
    "    for s in [s for s in os.listdir(path + '\\\\' + f) ]:\n",
    "        #for each file in a particular folder\n",
    "        for k in [k for k in os.listdir(path +  '\\\\' + f + '\\\\' + s) ]: \n",
    "            with codecs.open(path + '\\\\' + f + '\\\\' + s + '\\\\' + k, \"r\", encoding = 'utf-8' ) as input_data:\n",
    "                for line in input_data:\n",
    "                    # the line containing \"Download\" looks like this: \"Download Request: Select Items: 601-642\"\n",
    "                    # repeat: the number of articles in the document, here 642-601+1\n",
    "                    if line.find('Download') != -1:   \n",
    "                        repeat = int(line.split()[4].split('-')[1])-int(line.split()[4].split('-')[0])+1\n",
    "                        break\n",
    "                    # documents from 2018: \"Ausgabeauftrag: Dokument(e): 1-200\"\n",
    "                    # this means that a search was completed in German\n",
    "                    elif line.find('Ausgabeauftrag') != -1:\n",
    "                        repeat = int(line.split()[2].split('-')[1])-int(line.split()[2].split('-')[0])+1\n",
    "                        break\n",
    "                # for each article in the document\n",
    "                for i in range(repeat):\n",
    "                    text = []\n",
    "                    # Skips text before the beginning of the interesting block:\n",
    "                    for line in input_data:\n",
    "                        # find the line including the string \"DOCUMENTS\", skip the text before this line\n",
    "                        if ((line.find('DOCUMENTS') != -1)|(line.find('Dokument') != -1)) :   #\n",
    "                            break\n",
    "                            \n",
    "                    # NESPAPER NAME (makes sense to add as the data is coming from several sources) \n",
    "                    for line in input_data:\n",
    "                        if ((line.find('Die Welt') != -1) | (line.find('DIE WELT') != -1)) :\n",
    "                            journal.append('Welt')\n",
    "                            break\n",
    "                    \n",
    "                    # DAY/MONTH/YEAR\n",
    "                    for line in input_data:\n",
    "                        if line.find('.') != -1:\n",
    "                            if len(line.split()) == 3:\n",
    "                                day.append(line.split()[0][:-1])\n",
    "                                month.append(line.split()[1])\n",
    "                                year.append(line.split()[2])\n",
    "                                break\n",
    "                            else:\n",
    "                                day.append(line.split()[1][:-1])\n",
    "                                month.append(line.split()[2])\n",
    "                                year.append(line.split()[3])\n",
    "                                break\n",
    "                    \n",
    "                    # TITLE AND ANNOTATION\n",
    "                    title = []\n",
    "                    for line in input_data:\n",
    "                        if (line.find('RUBRIK') != -1):\n",
    "                            # in the title:\n",
    "                            # 1. strip whitespace on both sides\n",
    "                            # 2. remove tab and line break\n",
    "                            title[1] = title[1].strip().replace(\"\\n\", '').replace(\"\\t\", '').replace(\"\\r\", '')\n",
    "                            # if the title ends with \";\", remove it\n",
    "                            title[1] = title[1].replace(\";\", '') \n",
    "                            # if there is no period, colon, semicolon, exclamation, or question mark\n",
    "                            # at the end of the sentence, add the period.\n",
    "                            if title[1][-1] not in ['.', '!', ':', ';', '?']:\n",
    "                                title[1] = title[1] + '.' \n",
    "                                \n",
    "                            title = ' '.join(title)\n",
    "                            # If the section contains 'kompakt', then the text already contains the titles\n",
    "                            # of subsections, and annotation is not required.\n",
    "                            if ((line.find('kompakt') == -1) & (line.find('Kompakt') == -1)):\n",
    "                                title = title.strip().replace(\"\\n\", '').replace(\"\\t\", '').replace(\"\\r\", '')\n",
    "                                # replace ' ++' in the annotation with '.'\n",
    "                                title = title.replace(' ++', '.')\n",
    "                                if title[-1] not in ['.', '!', ':', ';', '?', '\"']: \n",
    "                                    title = title + '.'\n",
    "                                titles.append(title)\n",
    "                            else:\n",
    "                                titles.append('')\n",
    "                            section.append(line.split(':')[1].split(';')[0].strip())\n",
    "                            break\n",
    "                        elif (line.find('AUTOR') == -1):\n",
    "                            title.append(line)\n",
    "                    \n",
    "                    # TEXT\n",
    "                    for line in input_data:\n",
    "                        if line.find(u'Wörter') != -1:\n",
    "                            break\n",
    "                    for line in input_data:\n",
    "                        if line.find('UPDATE') != -1:\n",
    "                            break\n",
    "                        line = line.strip()\n",
    "                        line = line.replace(\"\\n\", '').replace(\"\\r\", '').replace(\"\\t\", '')\n",
    "                        if line != '':\n",
    "                            if ((line[-1] not in ['.', '!', ':', ';', '?', '\"', \"'\"]) & (len(line.split(' '))<6)):\n",
    "                                line = line + '.'\n",
    "                            line = line.replace('Weitere Informationen im Internet unter: ', '')\n",
    "                            # remove URLs\n",
    "                            line = re.sub(r'https\\S+', '', line)\n",
    "                            line = re.sub(r'http\\S+', '', line)\n",
    "                            line = re.sub(r'www.\\S+', '', line)\n",
    "                            # replace a non-breaking space with a space\n",
    "                            line = re.sub('\\xa0', ' ', line)\n",
    "                            text.append(line)      \n",
    "                    text = ' '.join(text)\n",
    "                    text = text.strip()\n",
    "                    # if the text is not empty, then merge the title, annotation and the text:\n",
    "                    if ((len(text)>0) & (len(titles[-1])>0)):\n",
    "                        text = titles[-1] + ' ' + text\n",
    "                    texts.append(text)"
   ]
  },
  {
   "cell_type": "code",
   "execution_count": 3,
   "metadata": {},
   "outputs": [],
   "source": [
    "# create dictionary to transform month name into month number\n",
    "name_to_number = {u'Januar':1, u'Februar':2, u'M\\xe4rz':3, u'April':4, u'Mai':5, u'Juni':6, u'Juli':7, u'August':8, u'September':9, u'Oktober':10, \n",
    "                  u'November':11, u'Dezember':12}"
   ]
  },
  {
   "cell_type": "code",
   "execution_count": 4,
   "metadata": {},
   "outputs": [],
   "source": [
    "# month name to month number\n",
    "month_num = []\n",
    "for m in month:\n",
    "    month_num.append(name_to_number[m])"
   ]
  },
  {
   "cell_type": "code",
   "execution_count": 5,
   "metadata": {},
   "outputs": [],
   "source": [
    "# day to integer, year to integer\n",
    "day = list(map(int, day))\n",
    "year = list(map(int, year))"
   ]
  },
  {
   "cell_type": "code",
   "execution_count": 6,
   "metadata": {},
   "outputs": [],
   "source": [
    "# now we will create a DataFrame \n",
    "import pandas as pd\n",
    "data = pd.DataFrame({'year' : year,\n",
    " 'month' : month_num,\n",
    " 'day' : day,\n",
    " 'journal': journal,\n",
    " 'texts': texts,\n",
    " 'section': section,\n",
    " 'titles': titles})"
   ]
  },
  {
   "cell_type": "markdown",
   "metadata": {},
   "source": [
    "# Light pre-processing"
   ]
  },
  {
   "cell_type": "code",
   "execution_count": 7,
   "metadata": {},
   "outputs": [],
   "source": [
    "# remove the articles with an empty text (normally these are descriptions of the pictures)\n",
    "data = data[data['texts'] != '']\n",
    "data = data.reset_index()\n",
    "del data['index']"
   ]
  },
  {
   "cell_type": "code",
   "execution_count": 8,
   "metadata": {},
   "outputs": [],
   "source": [
    "# sorting values\n",
    "data = data.sort_values(['year', 'month', 'day'], ascending=[True, True, True])\n",
    "data = data.reset_index()\n",
    "del data['index']"
   ]
  },
  {
   "cell_type": "markdown",
   "metadata": {},
   "source": [
    "## Duplicates"
   ]
  },
  {
   "cell_type": "code",
   "execution_count": 9,
   "metadata": {},
   "outputs": [],
   "source": [
    "welt_duplicates = data[data['texts'].isin(data['texts'][data['texts'].duplicated()])]"
   ]
  },
  {
   "cell_type": "markdown",
   "metadata": {},
   "source": [
    "Possible reasons for the existence of duplicated articles:\n",
    "* The same article was published in different sections: e.g. in 'Wirtschaft kompakt' (general) and 'Berlin Wirtschaft' (region-specific).\n",
    "* The series of news (e.g. about taxes) is introduced several times.\n",
    "* Simple repetition without any good reason."
   ]
  },
  {
   "cell_type": "code",
   "execution_count": 11,
   "metadata": {},
   "outputs": [],
   "source": [
    "# drop duplicates\n",
    "data = data.drop_duplicates(['texts'], keep = 'first')\n",
    "data = data.reset_index() # reset the index of the DataFrame\n",
    "del data['index'] # delete a column with an old index"
   ]
  },
  {
   "cell_type": "code",
   "execution_count": 139,
   "metadata": {},
   "outputs": [],
   "source": [
    "# Save the data after very simple pre-processing\n",
    "data.to_csv('cleaned_welt.csv', encoding='utf-8-sig', sep = ';')"
   ]
  },
  {
   "cell_type": "markdown",
   "metadata": {},
   "source": [
    "# Filtering"
   ]
  },
  {
   "cell_type": "markdown",
   "metadata": {},
   "source": [
    "## Sections"
   ]
  },
  {
   "cell_type": "code",
   "execution_count": 12,
   "metadata": {},
   "outputs": [
    {
     "name": "stdout",
     "output_type": "stream",
     "text": [
      "[('WIRTSCHAFT', 69791), ('Wirtschaft', 63652), ('FINANZEN', 27078), ('Finanzen', 24209), ('Hamburg Wirtschaft', 7186), ('Wirtschaft kompakt', 1106), ('Berlin Wirtschaft', 1055), ('Wirtschaft Kompakt', 693), ('Finanzen kompakt', 159), ('Finanzen Kompakt', 67), ('Extra', 39), ('Extra Messe-Wirtschaft', 27), ('Berlin', 27), ('Berliner Web Wirtschaft', 26), ('FINANZEN Ausg. 241', 24), ('HH-WIRTSCHAFT', 22), ('FINANZEN Ausg. 228', 19), ('KLIMA & FINANZEN Ausg. 19', 17), ('FINANZEN Ausg. 105', 17), ('Hamburg', 13), ('FINANZEN Ausg. 115', 11), ('Berliner Wirtschaft', 10), ('Wissenschaft', 9), ('FINANZEN Ausg. 90', 8), ('Wirtschafts-Bücher', 8), ('WIRTSCHAFT GESAMT', 6), ('Berlin Werbe Wirtschaft', 6), ('BERLIN WIRTSCHAFT', 6), ('WebWirtschaft', 6), ('wirtschaft kompakt', 6), ('HAMBURG', 5), ('Messe-Wirtschaft', 4), ('Wirtschafts Bücher', 4), ('Sonderseite Messe Wirtschaft', 4), ('wirtschaft-bestseller', 3), ('WISSENSCHAFT', 3), ('finanzen kompakt', 3), ('FINANZEN Ausg. 76', 3), ('Sonderseite Messe-Wirtschaft', 3), ('Wirtschaft-Bestseller', 2), ('Wirtschaft - Termine', 2), ('TITEL', 2), ('FEUILLETON', 2), ('Investment-Tipps', 1), ('Wirtschaft-Termine', 1), ('Boot', 1), ('WebWelt', 1), ('KUNSTMARKT', 1), ('Finanzen-Ticker', 1), ('BERLIN', 1), ('Härtetest für den Stabilitätspakt', 1), ('WebFinanzen', 1), ('Internationale Luftfahrtausstellung', 1), ('Web-Wirtschaft kompakt', 1), ('Zinsen ? Devisen ? Derivate ? Waren', 1), ('FINANZEN Ausg. 227', 1), ('ZINSEN ? DEVISEN ? DERIVATE ? WAREN', 1)]\n"
     ]
    }
   ],
   "source": [
    "# Sections and the number of articles per section\n",
    "import collections\n",
    "counter=collections.Counter(data['section'])\n",
    "print(counter.most_common(1000))"
   ]
  },
  {
   "cell_type": "code",
   "execution_count": 13,
   "metadata": {},
   "outputs": [],
   "source": [
    "keep_sections = ['WIRTSCHAFT', 'Wirtschaft', 'FINANZEN', 'Finanzen', 'Wirtschaft kompakt', 'Wirtschaft Kompakt', \n",
    "                 'Finanzen kompakt', 'Finanzen Kompakt', 'wirtschaft kompakt', 'finanzen kompakt']"
   ]
  },
  {
   "cell_type": "code",
   "execution_count": 14,
   "metadata": {},
   "outputs": [],
   "source": [
    "# Keep only relevant sections\n",
    "data = data[data['section'].isin(keep_sections)]\n",
    "data = data.reset_index() # reset the index of the DataFrame\n",
    "del data['index'] # delete a column with an old index"
   ]
  },
  {
   "cell_type": "markdown",
   "metadata": {},
   "source": [
    "## Titles"
   ]
  },
  {
   "cell_type": "markdown",
   "metadata": {},
   "source": [
    "Titles to clean:\n",
    "* 'Verlierer.': stock prices only.\n",
    "* 'Gewinner.': stock prices only.\n",
    "* 'Auf dem Sprung an die Börse.': quantitative info on companies that plan to go public.\n",
    "* 'Aktuelle Neuemissionen.': quantitative info on new issues.\n",
    "* 'Zinsen in Prozent.': quantitative info on interest rates. \n",
    "* 'Die Schlagzeile vom 1962.' ('Die Schlagzeile vom 1963.'): headlines from 1962/1963, news from the past.\n",
    "* 'Leserfrage der Woche.' ('Leserfrage.'): reader's questions, have nothing to do with the Economy. Usually, these are some legal questions.\n",
    "* 'Messe-Termine.': trade show dates.\n",
    "* 'service splitter.' ('ServiceSplitter.', 'Service-Splitter.', 'Service Splitter.') : has nothing to do with the economy.\n",
    "* 'Die Steuer-Serie auf einen Blick.': the tax series, not economy-related.\n",
    "* 'WebWegWeiser.': web news.\n",
    "* 'Die Titel mit den größten Kursausschlägen. Stand: Schluss.': stock prices.\n",
    "* 'Wirtschaft. Vernetzt im Wohnzimmer.' ('Vernetzt im Wohnzimmer.'): advertisement of digital products.\n",
    "* 'Telefonaktion.': advertisement of the possibility to ask questions over the phone about a particular topic.\n",
    "* 'TICKER.' ('Ticker.'): stock prices.\n",
    "* 'Heizöl-Preise aktuell.': current heating oil prices.\n",
    "* 'Die Titel mit den größten Kursausschlägen. Schluss.': stock prices.\n",
    "* 'Telefontarife.': phone rates (numbers).\n",
    "* 'heute im sportteil.': today in sports section (irrelevant).\n",
    "* 'WELT-Rangliste der deutschen Wirtschaft - Auf einen Blick: Umsatz und. Beschäftigung; Die 500 größten Unternehmen des Landes auf einen Blick: Umsatz, Branchen und Beschäftigte.': sales and employment in the largest companies(numbers).\n",
    "* 'Serie im Überblick.' ('Die Serie im Überblick.'): short introduction of the series.\n",
    "* 'So können Sie Ihr Portfolio optimieren.': the asset check organized by Welt.\n",
    "* 'Richtig vorsorgen. So finden Sie den perfekten Riester-Vertrag.': how to find the perfect pension plan.\n",
    "* 'Die Titel mit den größten Kursausschlägen. Stand: 16.00 Uhr.': stock prices.\n",
    "* 'wirtschaft-bestseller.' ('Wirtschaft-Bestseller.'): book prices.\n",
    "* 'Themen (Fotos).': introduction of the topics discussed in the issue."
   ]
  },
  {
   "cell_type": "code",
   "execution_count": 15,
   "metadata": {},
   "outputs": [],
   "source": [
    "title_clean = ['Verlierer.', 'Gewinner.', 'Auf dem Sprung an die Börse.', 'Aktuelle Neuemissionen.',\n",
    "              'Zinsen in Prozent.', 'Die Schlagzeile vom 1962.', 'Leserfrage der Woche.',\n",
    "              'Messe-Termine.', 'service splitter.', 'ServiceSplitter.', 'Service-Splitter.', 'Service Splitter.',\n",
    "              'Die Steuer-Serie auf einen Blick.', 'WebWegWeiser.',\n",
    "              'Die Titel mit den größten Kursausschlägen. Stand: Schluss.',\n",
    "              'Wirtschaft. Vernetzt im Wohnzimmer.', 'Telefonaktion.', 'TICKER.',\n",
    "              'Vernetzt im Wohnzimmer.', 'Die Schlagzeile vom 1963.', 'Heizöl-Preise aktuell.',\n",
    "              'Die Titel mit den größten Kursausschlägen. Schluss.', 'Telefontarife.',\n",
    "              'heute im sportteil.', \n",
    "              'WELT-Rangliste der deutschen Wirtschaft - Auf einen Blick: Umsatz und. Beschäftigung; Die 500 größten Unternehmen des Landes auf einen Blick: Umsatz, Branchen und Beschäftigte.',\n",
    "              'Serie im Überblick.', 'So können Sie Ihr Portfolio optimieren.',\n",
    "              'Richtig vorsorgen. So finden Sie den perfekten Riester-Vertrag.',\n",
    "              'Die Serie im Überblick.', 'Leserfrage.', 'Ticker.',\n",
    "              'Die Titel mit den größten Kursausschlägen. Stand: 16.00 Uhr.'\n",
    "              'wirtschaft-bestseller.', 'Wirtschaft-Bestseller.', 'Themen (Fotos).']"
   ]
  },
  {
   "cell_type": "code",
   "execution_count": 16,
   "metadata": {},
   "outputs": [],
   "source": [
    "data = data[~data['titles'].isin(title_clean)]\n",
    "data = data.reset_index() # reset the index of the DataFrame\n",
    "del data['index'] # delete a column with an old index"
   ]
  },
  {
   "cell_type": "code",
   "execution_count": 17,
   "metadata": {
    "scrolled": true
   },
   "outputs": [
    {
     "name": "stdout",
     "output_type": "stream",
     "text": [
      "[('', 17981), ('Menschen und Märkte.', 1423), ('Hamburger Börse.', 1369), ('Gewinner und Verlierer.', 887), ('Der Tag heute.', 442), ('Markt und Meinung.', 412), ('HAMBURGER BÖRSE.', 390), ('Das jüngste Gerücht.', 348), ('Ölpreis-Ticker.', 143), ('Analysten-Barometer.', 99), ('Der Manager.', 78), ('Zur Person.', 74), ('Das Unternehmen.', 73), ('Finanz-Meldungen.', 71), ('MENSCHEN UND MÄRKTE.', 65), ('Euwax.', 56), ('WIRTSCHAFT KOMPAKT.', 49), ('Der Chef.', 42), ('Menschen Und Märkte.', 40), ('ÖLPREIS-TICKER.', 38), ('Fazit.', 37), ('markt und meinung.', 36), ('DER TAG HEUTE.', 36), ('Die Firma.', 34), ('Meldungen.', 32), ('ANALYSE.', 31), ('DAS JÜNGSTE GERÜCHT.', 29), ('Analyse.', 29), ('Gewinner - Verlierer.', 29), ('Wirtschaft und Politik.', 28), ('Im DAX-100 verzeichneten gestern bis 13.00 Uhr folgende Titel die größten. Kursausschläge (Basis: Schlusskurs Vortag).', 28), ('MARKT UND MEINUNG.', 27), ('Im HDax verzeichneten gestern bis 13.00 Uhr folgende Titel die größten. Kursausschläge (Basis: Schlusskurs Vortag).', 23), ('Markt & Meinung.', 15), ('Der Konzern.', 15), ('Menschen & Märkte.', 14), ('Die Branche.', 13), ('Finanzen-Meldungen.', 11), ('+. Gewinner & Verlierer 2004.', 10), ('ANALYSTEN-BAROMETER.', 10), ('-. Gewinner & Verlierer 2004.', 10), ('Gewinner Verlierer.', 9), ('\"Das Schlimmste ist überstanden\".', 9), ('Mehr Transparenz.', 8), ('FIRMEN KOMPAKT.', 8), ('Spiel mit dem Feuer.', 8), ('Späte Einsicht.', 8), ('Das Jüngste Gerücht.', 7), ('Überfälliger Schritt.', 7), ('Die Manager.', 7), ('Keine Entwarnung.', 7), ('Der Tag Heute.', 7), ('Tipps und Hilfe für die Steuer.', 7), ('Die Probleme der Hersteller.', 6), ('Großbritannien.', 6), ('So machen Sie beim Vermögens-Check mit.', 6), ('Im DAX-100 verzeichneten letzte Woche folgende Titel die größten Kursausschläge. (Basis: Freitag, 13.00 Uhr gegen Schluss Vorwoche).', 6), ('Nur ein erster Schritt.', 6), ('Walter Bau.', 6), ('Der Präsident.', 6), ('Zum 65.', 6), ('Analystenbarometer.', 6), ('Vertrauen verspielt.', 6), ('Falsches Signal.', 6), ('menschen und märkte.', 6), ('Ein Land lebt auf Verschleiß.', 6), ('Wirtschafts-Termine.', 6), ('Wie andere Handelsunternehmen mit Schwierigkeiten umgehen.', 6), ('Wirtschaftsnobelpreis 2006.', 5), ('das jüngste gerücht.', 5), ('So machen Sie mit beim Vermögens-Check.', 5), ('Glorreiche Vergangenheit. Sony.', 5), ('Der Markt.', 5), ('Menschenund Märkte.', 5), ('Eine Frage des Vertrauens.', 5), ('Keine Alternative.', 5), ('365 Orte im Land der Ideen.', 5), ('Was Anleger jetzt machen können.', 5), ('wirtschaft-bestseller.', 5), ('Skeptische Anleger.', 5), ('100 Milliarden Euro. Das haben wir uns 2009 alles gegönnt.', 5), ('Verpasste Chance.', 5), ('Handlungsempfehlungen an die Politik.', 5), ('Messe kompakt.', 5), ('Anleger fassen Mut.', 5), ('Die Titel mit den größten Kursausschlägen. Stand: 16.00 Uhr.', 5), ('So funktioniert der Vermögens-Check.', 5), ('Stimmen zur Situation.', 5), ('Bald Rezession? Was Ökonomen sagen.', 5), ('Themen (Foto).', 5), ('Skepsis überwiegt.', 5), ('Optionsschein-Barometer.', 5), ('Gesundheit.', 4), ('Zur Person: Frank Riemensperger.', 4), ('Bilder des Jahres.', 4), ('Dax-Calls gefragt.', 4), ('Anleger steigen ein.', 4), ('Gegendarstellung.', 4), ('Milch.', 4), ('Die Top-Empfehlungen von führenden Aktienstrategen für das Jahr 2008.', 4), ('Unternehmen.', 4), ('Auf dem richtigen Weg.', 4), ('Brötchen.', 4), ('Geld & Glück.', 4), ('Streitgespräch. Gold - irre Spekulation oder sicherer Hafen?', 4), ('Maschinenbau.', 4), ('Fehler im System.', 4), ('Ohne Alternative.', 4), ('Führende Strategen. Führende Strategen.', 4), ('Chemie.', 4), ('Eier.', 4), ('Nur eine Atempause.', 4), ('Zucker.', 4), ('Butter.', 4), ('Chance vertan.', 4), (\"Vermögens-Check: So geht's.\", 4), ('Die Bank.', 4), ('Welche Probleme das EADS-Management lösen muss (Fotos).', 4), ('Neue Zuversicht.', 4), ('WEBWELTINDEX.', 4), ('Dreidimensionale Revolution.', 4), ('Wunsch und Wirklichkeit.', 4), ('Zur Person: Michael Hüther.', 4), ('Die Macher hinter der größten Bankenübernahme.', 4), ('Neu auf dem Markt.', 4), ('In der Zwickmühle.', 4), ('Wohnungen. Dürfen Mieter bei kalter Heizung Handwerker rufen?', 4), ('Die Stunde der Wahrheit.', 4), ('Steuern kompakt.', 4), ('Schinken.', 4), ('Schwere Hypothek.', 4), ('Orangensaft.', 4), ('Korrektur.', 4), ('Exklusive Umfrage. Deutsche sind unzufrieden mit den Nullerjahren.', 4), ('analysten-barometer.', 4), ('Gewinnmitnahmen.', 4), ('Schutzschilde gegen ausländische Investoren.', 4), ('Ungelöste Probleme.', 4), ('Festgeld. Hilfe, wer hat die Zinsen geschrumpft?', 4), ('Im HDax verzeichneten gestern bis 13.00 Uhr folgende Titel d...', 4), ('Schokolade.', 4), ('Lernen von den besten Firmen.', 4), ('Zeit der Zukunftsmacher.', 4), ('Leseraktion: Rendite-Check für Ihre Immobilie.', 3), ('Die Familie.', 3), ('So funktioniert der Depot-Check.', 3), ('Italien.', 3), ('Im HDax verzeichneten Freitag bis 13.00 Uhr folgende Titel die größten. Kursausschläge (Basis: Schlusskurs Vorwoche).', 3), ('Handel.', 3), ('Gefährliche Illusion.', 3), ('MX Award.', 3), ('Sieg der Vernunft.', 3), ('Teure Neubauten. St. Pauli fürchtet um seine Kiezkultur.', 3), ('Prognosen. Das waren die besten Börsen-Analytiker 2009.', 3), ('Sorgenkind Frankreich.', 3), ('Zur Person: Violeta Bulc.', 3), ('GEWINNER.', 3), ('Metallarbeitgeber. Kannegiesser hält 26-Stunden-Woche für sinnvoll.', 3), ('Notwendiger Schritt.', 3), ('Eine Frage der Gerechtigkeit.', 3), ('Technologiewerte belasten die Märkte.', 3), ('Chronik.', 3), ('Südfrüchte.', 3), ('Weitere Informationen.', 3), ('Hochkarätige Gäste.', 3), ('SPD.', 3), ('Kasse gemacht.', 3), ('Zeichen der Hoffnung.', 3), ('Auto.', 3), ('Zur Person: Rainer Dulger.', 3), ('Zahl des Tages.', 3), ('Der Unternehmer.', 3), ('Abgerechnet wird später.', 3), ('Prinzip Hoffnung.', 3), ('Anschluss verloren.', 3), ('Salat.', 3), ('Thomas Cook.', 3), ('Analyse. Bayern bezahlt Österreich-Abenteuer mit Milliarden.', 3), ('Frankreich.', 3), ('Schwere Zeiten.', 3), ('WebWeltIndex.', 3), ('Kartellamt. Hohe Geldbußen gegen deutsche Kaffeeröster.', 3), ('MX Award 2014.', 3), ('Gefährliches Spiel.', 3), ('Wall Street. US-Börsen schließen uneinheitlich.', 3), ('Zur Person: Reinhard K. Sprenger.', 3), ('Fünf Milliarden Euro.', 3), ('Anleger skeptisch.', 3), ('Wachstum.', 3), ('Günstig im Telekom-Netz.', 3), ('Kurzarbeit.', 3), ('Der Weg nach oben.', 3), ('Menschen und märkte.', 3), ('Nichts dazugelernt.', 3), ('Spanien.', 3), ('Riskantes Spiel.', 3), ('Gefragte Rohstoffe.', 3), ('Gegen den Euro.', 3), ('Riskante Wette.', 3), ('Deutsche Bank.', 3), ('Themenwoche für Sparer.', 3), ('Deutschland.', 3), ('Wirtschaftsweiser. „Alle Bezieher von Hartz IV sollen dafür arbeiten\"', 3), ('Keine Atempause.', 3), ('Der Werbe-Oscar.', 3), ('Konsumenten-Studie. Briten haben mehr Krisen-Angst als Deutsche.', 3), ('Zur Person: Hans-Werner Sinn.', 3), ('Automaten im Discounter. Aldi steigt groß ins Bäckerei-Geschäft ein.', 3), ('Zweifel am Dax.', 3), ('Geschichte.', 3), ('Produktivität.', 3), ('„Welt\"-Serie: Was gute Firmen besser machen.', 3), ('verlierer.', 3), ('Zippert zappt.', 3), ('Kein Grund zur Panik.', 3), ('Marmelade.', 3), ('Keine andere Wahl.', 3), ('Fisch.', 3), ('Rentenversicherung. Bundesregierung will Riestern billiger machen.', 3), ('Solarwerte im Fokus.', 3), ('Neue Zeiten.', 3), ('Zur Person: Stephan Fanderl.', 3), ('Urteil. Bundesgerichtshof billigt die AGB von Happy Digits.', 3), ('Die Region.', 3), ('Der Banker.', 3), ('Gefährliche Spirale.', 3), ('Arbeitslosigkeit. So kommen Sie nach der Kündigung zu Ihrem Geld.', 3), ('Versicherer gefragt.', 3), ('Signal der Hoffnung.', 3), ('gewinner.', 3), ('Zu früh gefreut.', 3), ('Analysten-Prognose. Dax wird in diesem Jahr noch weiter steigen.', 3), ('Kluger Schachzug.', 3), ('Weihnachtsmärkte. Beschauliche Buden machen ein Milliardengeschäft.', 3), ('Schöne Bescherung.', 3), ('Alphatiere am Steuer: Streit, Missgunst und Männerfreundschaften.', 3), ('Bewerbung für den MX Award 2014.', 3), ('Der Gründer.', 3), ('Glossar.', 3), ('Optimismus hält an.', 3), ('Aus Fehlern lernen.', 3), ('Messe-Termine. Messe-Wirtschaft.', 3), ('Europäische Börsen tendieren fester.', 3), ('+++ Nasdaq-Ticker.+.', 3), ('Zur Person: Detlef Wetzel.', 3), ('Auf tönernen Füßen.', 3), ('Der Preis.', 3), ('EZB lässt Leitzinsen unverändert.', 3), ('Martin Blessing.', 3), ('Investments. So verdienen Sie Geld mit dem Klimaschutz.', 3), ('Gefährliche Abhängigkeit.', 3), ('Studie. Die Bundesländer im Osten sind am dynamischsten.', 3), ('Besser spät als nie.', 3), ('Der Verband.', 3), ('Wie ich \"9/11\" erlebte.', 3), ('Cebit-Neuheit.', 3), ('Rolle rückwärts.', 3), ('Spiel auf Zeit.', 3), ('Börsen-Steckbrief.', 3), ('Discounter gefragt.', 3), ('Rohstoffe im Blick.', 3), ('Zur Person: Matthias Wissmann.', 3), ('Zur Person: Jürgen Stark.', 3), ('Die Geschichte.', 3), ('Babcock Borsig.', 3), ('Skepsis bleibt.', 3), ('Daten-Download.', 3), ('Erster Schritt.', 3), ('Falscher Weg.', 3), ('LBBW-Durchsuchung. Nun leben auch andere Manager in Angst.', 3), ('Mehr Spielraum.', 3), ('Finger weg!', 3), ('Der lange Abschied.', 3), ('Euro im Fokus.', 3), ('Zur Person: Anton F. Börner.', 3), ('Bier.', 3), ('Richtige Strategie.', 3), ('Banken im Fokus.', 2), ('Schmerzensgeld für Esser.', 2), ('Schneechaos. Hauseigentümer sind im Winterdienst in der Pflicht.', 2), ('Suche nach dem Mittelweg.', 2), ('Informationen.', 2), ('Lebensmittelpreise. Das Frühstück wird wieder billiger.', 2), ('Osteuropa hängt Ostdeutschland ab. Slowenien ist jetzt reicher als die neuen Länder.', 2), ('Sicherheit. Kreditkarten-Aufrüstung kommt zu langsam voran.', 2), ('Kostenexplosion. Jetzt langen die privaten Kassen erst richtig zu.', 2), ('Schwerpunkt.', 2), ('Steuerkarte 2010. Jetzt schnell die Freibeträge eintragen lassen.', 2), ('Schröder verbreitet Optimismus.', 2), ('Top Ten. Deutschlands teuerste Straßen für Hauskäufer.', 2), ('Der Manager und der Konzern.', 2), ('Schöne Bescherung. Tarifliches Weihnachtsgeld fällt höher aus als 2008.', 2), ('Hoher Ölpreis belastet die Märkte.', 2), ('Finanzchaos. US-Banken finden ihre Hypotheken nicht mehr.', 2), ('Eine Frage des Stils.', 2), ('Ryanair/Easyjet.', 2), ('Krankenversicherung. Diese Kassen verzichten 2010 auf Zusatzbeiträge.', 2), ('Fachmesse Internorga.', 2), ('Bayers Sparkurs sorgt für Rückkehr in die Gewinnzone.', 2), ('Erneuerbare Energien.', 2), ('Weniger Gehalt bei Mercedes.', 2), ('Anleger trauen dem Dax wenig zu.', 2), ('Der Druck wächst.', 2), ('Unfälle. So ist Ihr Kind auf dem Schulweg versichert.', 2), ('Bitterer Nachgeschmack.', 2), ('Familie verpflichtet.', 2), ('Arbeitnehmer. Jobangst sorgt für niedrigen Krankenstand.', 2), ('Zweifelhafte Strategie.', 2), ('Investment. Warum Anleger wissen sollten, wie der Staat tickt.', 2), ('Zur Person: Friedhelm Loh.', 2), ('Die Mitglieder der Kommission.', 2), ('Die Serie.', 2), ('Dosenpfand.', 2), ('Doppelpack Hilfe für Ihre Steuererklärung. „Welt\"-Steuerjournal.', 2), ('Weihnachtspost. Bunte Briefe sind teurer und brauchen länger.', 2), ('Twitter. Banken wollen Kunden mit Gezwitscher locken.', 2), ('Termine vom 10. bis 16. März.', 2), ('Gut gemeint reicht nicht.', 2), ('Hamburger Reederei übernimmt neuen Frachter bei Aker.', 2), ('Willkommen im Club.', 2), ('Konjunktur. Nie waren Prognosen so schlecht wie 2009.', 2), ('Zeit für die Wahrheit.', 2), ('Dow Jones. Wall Street schließt deutlich im Plus.', 2), ('Nord/LB erhält von Ländern und Sparkassen zwei Milliarden Euro.', 2), ('Mobilcom muß um Freenet kämpfen. Konflikt zwischen Vorstandschefs um Verschmelzung - Rekordzahlen im Mobilfunk.', 2), ('Großaktionäre zeichnen Heidelberg-Cement-Kapitalerhöhung. Bisherige Anteilseigner erhalten für 13 Aktien eine neue - Bezugspreis auf 35 Euro festgelegt.', 2), ('Emnid-Umfrage. Drei Viertel der Deutschen für Steuersenkungen.', 2), ('Eine Frage der Moral.', 2), ('Signal Iduna 2004 mit starkem Beitragsplus. 2005 wird das Wachstum geringer ausfallen - Scharfe Kritik am Antidiskriminierungsgesetz.', 2), ('Mit der Brechstange.', 2), ('Die Anbieter.', 2), ('Medienkonzern Bertelsmann rutscht in die roten Zahlen.', 2), ('Clement beendet Streit um Verteilung der Arbeitslosen. Der Minister spricht von \"Mißverständnissen\"', 2), ('Staatshaushalte. Nicht die Steuern, die Sozialabgaben sind zu hoch.', 2), ('Pharmahändler.', 2), ('Immobilienfonds. Eine Milliarde versickert in Dubais Bauwüste.', 2), ('Opel-Chef Demant glaubt nicht an Erholung des Automarkts.', 2), ('Nach dem Beinah-Kollaps von Dubai. Angst vor Staatspleiten - Wer ist als Nächster dran?', 2), ('Zur Person: Michael Ziesemer.', 2), ('Kalte Wohnungen. Moskau schürt Angst vor einem neuem Gaskrieg.', 2), ('Gute Unterhaltung.', 2), ('Bericht entlastet Vorstände der HSH Nordbank.', 2), ('DIHK-Umfrage. Jedes vierte Unternehmen plant Stellenabbau.', 2), ('Eon gehört zu Top Picks bei Versorgern.', 2), ('Der Handelsriese.', 2), ('Kaufen - Verkaufen.', 2), ('Neuer Spiele-Preis soll Firmen an die Elbe locken.', 2), ('Wirtschaftsweise wollen Hartz IV auf 250 Euro kürzen.', 2), ('Starker Yen setzt Nikkei unter Druck.', 2), ('Wechselvolle Geschichte.', 2), ('Eigenheim-Finanzierung. Mietkauf von Wohnungen birgt viele Risiken.', 2), ('Branche.', 2), ('Inflationsrate. Die Preise ziehen in Deutschland wieder an.', 2), ('Eine letzte Chance.', 2), ('Nasdaq ist immer noch meilenweit vom Rekordhoch entfernt. Heute vor fünf Jahren erreichte der Index der Technologiebörse seinen Höhepunkt - Investoren setzten bei Erholung auf Google & Co.', 2), ('Berthold Huber.', 2), ('Alcatel-Aktie hat 20 Prozent Kurspotential.', 2), ('Friedrich Bohl wird 60.', 2), ('Sparliste. Die Marken hinter Billig-Produkten bei Aldi und Co.', 2), ('Bücher.', 2), ('Vorsichtige Anleger.', 2), ('Kosten auf Nutzungsdauer verteilen.', 2), ('Rohstoffe. Energiemarkt wird zum Spielball der Spekulanten.', 2), ('Die Edeka-Gruppe startet neue Werbekampagne.', 2), ('Finanzminister denken neu über Steuerrabatt nach.', 2), ('Gesundheit. EU warnt vor Boom bei gefälschten Medikamenten.', 2), ('Investoren für Karstadt.', 2), ('Verunsicherte Anleger.', 2), ('Wie das BIP von Brasilien ausgelöscht wurde.', 2), ('Verbraucherstudie. Deutsche haben Vertrauen in Nivea, Aldi und Bier.', 2), ('Delphi feuert den Finanzchef.', 2), ('Zur Person: Valdis Dombrovskis.', 2), ('AOL startet neue Markenkampagne. Motto: \"Vernetzte Welt\" - Scholz & Friends als Kreativ-Agentur engagiert.', 2), ('Europa-Expansion. Französische Bahn erobert Berlin und Hamburg.', 2), ('Zur Person: Rupert Stadler.', 2), ('Begrenzte Aussagekraft.', 2), ('Aufschnitt.', 2), ('Firmen.', 2), ('Kunden drängen vor dem Fest in die Geschäfte. Händler mit viertem Adventswochenende zufrieden - Eiseskälte macht Winterkleidung zum Renner.', 2), ('Übernahmeversuch. Kraft bietet mehr Bargeld für Cadbury.', 2), ('China National Coal will in Hongkong an die Börse gehen. Zweitgrößter chinesischer Kohleproduzent plant Emissionserlös von mindestens einer Milliarde Dollar - Zu den begleitenden Banken gehören Citigroup und Morgan Stanley.', 2), (\"Zu wenige Biertrinker. Beck's-Brauer Inbev streicht jede zehnte Stelle.\", 2), ('Axel Springer baut Einfluss bei Dogan-Gruppe aus.', 2), ('Cebit-Splitter.', 2), ('Trotz Stellenstreichung. Siemens-Chef Löscher lobt den Kündigungsschutz.', 2), ('Zu viel versprochen.', 2), ('Die Schlagzeile vom 12. Februar 1962.', 2), ('Clements Agenda.', 2), ('Richtiger Weg.', 2), ('10 Jahre, 10 Trends. Biolebensmittel sind auf dem Vormarsch.', 2), ('Mehr Geld.', 2), ('Spitzen-Einkommen. Britische Banken kontern Boni-Sondersteuer aus.', 2), ('Exotische Geldanlagen. So profitieren Sie von Afrikas Wirtschaftswunder.', 2), ('Techem sträubt sich gegen Übernahme. Australische Bank Macquarie bietet 1,1 Milliarden Euro für den Energiedienstleister; Techem.', 2), ('Keine Lösung.', 2), ('Am Markt vorbei.', 2), ('Pulver verschossen.', 2), ('Quelle und Neckermann expandieren im Ausland. Die Versandhäuser von Karstadt-Quelle wollen den Osteuropa-Umsatz bis 2008 verdoppeln und investieren dafür 50 Millionen Euro.', 2), ('Tafeläpfel.', 2), ('Finanzierung der Frankfurter Chipfabrik offenbar gesichert.', 2), ('Hoher Einsatz.', 2), ('Welternährung. Naturkatastrophen lassen Reispreis explodieren.', 2), ('Zur Person: Frank-Jürgen Weise.', 2), ('Zeit zum Umdenken.', 2), ('Falsche Anreize.', 2), ('Trügerische Hoffnung.', 2), ('Zum Glück gezwungen.', 2), ('Chemie: Neue Zuversicht.', 2), ('Ende der Blockade.', 2), ('IT-Branche will 10 000 neue Stellen schaffen.', 2), ('Palm Beach. Freund des Betrügers Madoff liegt tot im Pool.', 2), ('Auch für Euronext bleiben Risiken.', 2), ('Streitgespräch. Der Endkampf ums Gold hat begonnen.', 2), ('Weitere Infos zum Thema.', 2), ('Boni-Debatte. Wie Investmentbanker zum großen Geld kommen.', 2), ('Pharma.', 2), ('Gerichtsurteil. Millionen Gaskunden dürfen auf Geldsegen hoffen.', 2), ('Der Ökonom.', 2), ('Stimmung dreht sich.', 2), ('Stolpes Agenda.', 2), ('Der Deutsche Aktienindex Dax hat in der Sitzung am Donnersta...', 2), ('Neue Ära an den Schwellenmärkten. Emerging-Markets-Aktien werden zu strategischen Investments - Rußland und Taiwan als Favoriten; Emerging-Markets-Investments.', 2), ('In der Sackgasse.', 2), ('Kampf um Jobs. Mitarbeiter wollen Karstadt-Filiale übernehmen.', 2), ('Online-Broker Comdirect muß sich bescheiden. Analysten nach Abstieg in den SDax weiter skeptisch - Februar-Statistik könnte positiven Impuls bringen.', 2), ('Kündigungsfrist.', 2), ('Die fünf Wirtschaftsweisen.', 2), ('Zur Person: Clemens Fuest.', 2), ('30 Jahre Ariane. EADS arbeitet an neuen Weltraum-Raketen.', 2), ('Pfeifen im Walde.', 2), ('Versicherer im Fokus.', 2), ('Gipfel von Kopenhagen. Die Angst der Insulaner vor dem Ertrinken.', 2), ('Schnee-Chaos. Wer zu spät zur Arbeit kommt, muss nachsitzen.', 2), ('Überzogene Erwartungen.', 2), ('Altersvorsorge. Wie Sie mit Wohn-Riester zum Eigenheim kommen.', 2), ('Wer hat die besten Zertifikate? Die „Welt\" bewertet die Arbeit der Branche. Leser können abstimmen und Gold gewinnen.', 2), ('Die Schlagzeile vom 22. März 1961.', 2), ('Milliarden-Markt.', 2), ('Premiere erinnert an Boom-Zeiten. Erfolgreicher Börsenstart des Bezahlsenders - Experten erwarten aber keine IPO-Flut.', 2), ('Reichtum. Faszination und Fluch des edlen Goldes.', 2), ('Zahl der privaten Pleiten steigt auf ein Rekordhoch.', 2), ('Deutschlands Opel-Werke sind gerettet. Keine betriebsbedingten Kündigungen und Werksschließungen bis 2010 - Einschnitte beim Gehalt.', 2), ('Studie zur Weltwirtschaft. Schwellenländer lassen Deutschland links liegen.', 2), ('Weniger Besucher auf der Grünen Woche.', 2), ('Stahlhersteller.', 2), ('6. September 1970.', 2), ('Am Scheideweg.', 2), ('Pofallas Wut über Clements Zahlenspiele.', 2), ('Klimaschutz-Spezial. Wie Jugendliche die Erderwärmung beeinflussen.', 2), ('Aktionäre der Deutschen Börse positionieren sich für die nächsten Wochen. Kurs erreicht Rekordhoch bei knapp 58 Euro - Märkte halten Bietergefecht weiter für unwahrscheinlich - Anteilseigner stellt sich hinter Management.', 2), ('Energie-Konzern MVV steht wegen 20 Millionen Euro vor Gericht.', 2), ('Exklusive Studie. Experten erwarten „grausames\" Autojahr 2010.', 2), ('An den Pranger.', 2), ('\"Welt\"-Gipfel zur Infrastruktur.', 2), ('Versandhandel. Quelle-Ausverkauf - und die Mitarbeiter verzweifeln.', 2), ('Banken-Calls gesucht.', 2), ('Altersvorsorge-Check von WELT und AWD.', 2), ('Einlagensicherung.', 2), ('Sportartikelhersteller. Konsumflaute hat Adidas weiter fest im Griff.', 2), ('Hoffen auf den Konsum.', 2), ('Regierung soll Privatkassen beim Sparen helfen. Versicherer fordern Erlaubnis zu Verhandlungen mit Ärzten - Kritik an Kopfpauschale.', 2), ('Zur Person: Jürgen Graalmann.', 2), ('Reservewährung. Währungshüter entdecken ihre Liebe zum Gold.', 2), ('Regionalverkehr. EU macht Deutscher Bahn Gewinne streitig.', 2), ('17,95 Milliarden Euro.', 2), ('Branchen-Umfrage. VW und Hyundai-Kia sind die neuen Champions.', 2), ('SPD will auch in der Pflege eine Bürgerversicherung. Regierungsberater Lauterbach legt Konzept vor.', 2), ('Europas Eisenbahnen. Deutsche und Franzosen - halb Freund, halb Feind.', 2), ('Konjunktur. Japans Wirtschaft steht vor dem großen Schock.', 2), ('Stoiber und Schröder spüren Gegenwind. CDU-Politiker kritisieren CSU-Chef - Kanzler schreckt Gewerkschaften auf.', 2), ('Verschuldeter Staat. IfW-Chef warnt vor dem Absturz Griechenlands.', 2), ('Pannenserie. Bahn schickt gesamte ICE-Flotte in die Werkstatt.', 2), ('Frank Bsirske.', 2), ('Gefährlicher Irrweg.', 2), ('analystenbarometer.', 2), ('Ölpreis sorgt für Zurückhaltung.', 2), ('Russland. Wie viel ist ein russischer Mensch wert?', 2), ('T-Online verdient erstmals Geld. Nettogewinn von 317 Millionen Euro - Telekom-Tochter will Geschäft mit DSL-Anschlüssen ausbauen.', 2), ('Tradition.', 2), ('Echte und scheinbare Korrelationen.', 2), ('So werden die Einkommen verglichen.', 2), ('Geschenke-Umtausch. Wenn der Weihnachtsmann danebengegriffen hat.', 2), ('Flower Power.', 2), ('Branchen Ticker.', 2), ('Handel. Supermärkte greifen Premiummarken wie Lindt an.', 2), ('Scheidungsfolgen. Unterhalt für die Ex - was das BGH-Urteil bedeutet.', 2), ('HSBC stuft Douglas auf \"Reduzieren\".', 2), ('Bierkonzern Inbev steht trotz Problemen in Deutschland gut da.', 2), ('Zur Person: Josef Sanktjohanser.', 2), ('Paefgen und die Politik der Knappheit.', 2), ('Hohe Rohstoffkosten: Goodyear erhöht die Reifenpreise.', 2), ('Trübe Aussichten.', 2), ('Hamburger Hafen erwartet erneut Rekordumschlag.', 2), ('Auf dem Schleudersitz.', 2), ('Falsch verbunden.', 2), ('Bundeshaushalt 2010. Neuverschuldung explodiert auf 100 Milliarden.', 2), ('Totgesagte leben länger.', 2), ('Bentley ist wieder profitabel. Volkswagens britische Nobelmarke rechnet mit Wachstum - WELT-Gespräch.', 2), ('Börse 2009. Über 1000 Prozent Gewinn mit der richtigen Aktie.', 2), ('Volkswagen-Konzern. Im Reich von Ferdinand Piëch lauern Gefahren.', 2), ('Kampf der Kulturen.', 2), ('Zur Person: Robert Ketterer.', 2), ('Das Vorbild.', 2), ('Absatz von Mercedes ist am Jahresanfang eingebrochen.', 2), ('Emittenten starten beim Div-Dax durch.', 2), ('BA-Chef Weise. Trotz Kurzarbeit steigt ab 2010 die Arbeitslosigkeit.', 2), ('Neue Regeln für die Energiebranche. Rot-Grün einigt sich auf Energiewirtschaftsgesetz - Mehr Wettbewerb.', 2), ('Bundeswirtschaftsministerium. Brüderle endlich am Ziel seiner Träume.', 2), ('Regeln für mehr Sicherheit.', 2), ('Alles getan.', 2), ('Tue Gutes - und tue es wie ein Manager.', 2), ('Im Bezirk Mitte werden mehr als 1,5 Milliarden Euro in Bauprojekte investiert.', 2), ('Angela Merkel.', 2), ('Deutschland schwächelt.', 2), ('Achtmal so viele Hosen.', 2), ('Ohne Rückfahrschein. Auch Auswanderer müssen abgesichert sein.', 2), ('Scheichs interessieren sich für Transrapid. Kanzler lädt Golfstaaten zu Gesprächen ein - 13 Milliarden Dollar Investitionssumme.', 2), ('Schering mit Yasmin auf Rekordkurs. Konzern ist mit seinen Anti-Baby-Pillen Weltmarktführer - Gewinn steigt 2004 deutlich.', 2), ('Luftfahrt. Ryanair zieht Milliardenauftrag bei Boeing zurück.', 2), ('Öl-Titel geraten unter Druck.', 2), ('Verbleib bei GM. Jetzt hat Opel bessere Überlebenschancen.', 2), ('Streit um polnischen Mobilfunker.', 2), ('Cabrio-Spezialist Karmann erzielt Produktionsrekord.', 2), ('Mehrere Herabstufungen belasten Halbleiter-Aktie. Infineon.', 2), ('Was tun gegen Telefon-Spam?', 2), ('Gold-Gewinn.', 2), ('Anleger begrüßen Rückkauf der Tochterfirma. Evotec OAI.', 2), ('Analyse. Ist Escada nur ein Spielzeug für Frau Mittal?', 2), ('Optimistischer Wochenstart.', 2), ('Weihnachtseinkauf. Nirgends sind Geschenke so günstig wie in Berlin.', 2), ('Schätzungen beim IPO-Kandidaten Conergy gehen weit auseinander.', 2), ('Müllverordnung. Der Fortbestand der gelben Tonne ist in Gefahr.', 2), ('Zahl des Tages: 120.', 2), ('Günstige Navis sind besser als teure Luxusgeräte. ADAC testet Einstiegs- und Premiummodelle.', 2), ('Die Schlagzeile vom 18. Juli 1963.', 2), ('Auf halber Strecke.', 2), ('Ohne Spielraum. Steuereinnahmen.', 2), ('Schätzchen will das Gesicht wahren. Gericht verhandelt über angeblich schlechte Hautcreme von Uschi Glas.', 2), ('Bohnenkaffee.', 2), ('Hersteller klagen. Kakao-Spekulanten machen Schokolade teurer.', 2), ('Entlastungen. Von wem die Steuergeschenke wirklich stammen.', 2), ('Abgabe für Banker. Bonus-Steuer löst Streit bei Deutscher Bank aus.', 2), ('RWE Dea: Weniger Gas produziert und Öl gefördert.', 2), ('Währungen. Fed-Chef beobachtet die Dollar-Abwertung genau.', 2), ('Auf dem Holzweg.', 2), ('Jürgen Peters.', 2), ('Rainer Schmückle. Mercedes-Vize wird als neuer Opel-Chef gehandelt.', 2), ('Risikofaktor FDA.', 2), ('Liebschaften werden zum Corporate-Governance-Kriterium.', 2), ('Zur Person: Andreas Mundt.', 2), ('Defizit der Sozialkassen. Rentenzahlern drohen neue Rekord-Beiträge.', 2), ('Anleger fassen wieder Mut.', 2), ('Arbeitslosengeld II. Jobcenter-Chefs gegen Hartz-IV-Behördenreform.', 2), ('Bank und Banker.', 2), ('Weihnachtseinkäufe. Ein Recht auf Umtausch gibt es nicht.', 2), ('Ost-Mythen. War damals in der DDR wirklich alles schlechter?', 2), ('Karstadt scheitert mit Klage wegen Wertheim-Grundstück. Erfolg für jüdische Erben - Aktie bricht ein.', 2), ('Lebenspolice. Ehemalige Versicherungskunden hoffen auf Geld.', 2), ('10 Jahre, 10 Trends. Russen, Inder und Chinesen kaufen West-Konzerne.', 2), ('So können Sie den Report beziehen.', 2), ('Aktionäre befürchten Ergebniseinbußen bei Energieversorger MVV.', 2), ('Staatsverschuldung. Angst vor der Mittelschicht lähmt Bundesregierung.', 2), ('Kleinster Nenner.', 2), ('25 Milliarden Euro.', 2), ('Kaffeemaschinen im Test. Kopf-an-Kopf-Rennen zwischen Pad und Kapsel.', 2), ('Tipps zur Altersvorsorge.', 2), ('Winterwetter heizt Energiepreise an. Benzin und Heizöl teurer - Opec-Öl auf Rekordhoch.', 2), ('Einkaufskalender. So sparen Sie das ganze Jahr beim Shoppen.', 2), ('Mehrere Interessenten für die Gewerkschaftsbank BHW.', 2), ('Begrenzte Wirkung.', 2), ('Strom.', 2), ('Handwerk im Umbruch. Das Ende der glückseligen Schornsteinfegerei.', 2), ('Super-Immobilie. Der absurde Turmbau von Dubai.', 2), ('Finanzverwaltung schwenkt um. Experten sehen nach BFH-Entscheid Kehrtwende im Streit um die Spekulationsteuer.', 2), ('Luxus verkauft sich wieder.', 2), ('Zertifikate. Die passenden Produkte für Dax-Skeptiker.', 2), ('Wahlprogramme im Expertencheck.', 2), ('Geldanlage. Die besten Fonds des Jahrzehnts seit 2000.', 2), ('12,4 Milliarden Euro.', 2), ('Russische Firma gewinnt Bieterstreit um Nato-Auftrag.', 2), ('Zur Person: Taleb Rifai.', 2), ('Gewinne bei Euro-Calls.', 2), ('Kursgewinne auf breiter Front.', 2), ('Erhebliche Risiken.', 2), ('Rainer Brüderle. Wirtschaftsminister verteidigt Steuerentlastung.', 2), ('Genug geschrumpft.', 2), ('Streik bei der Royal Mail. Britische Briefträger kämpfen gegen den Fortschritt.', 2), ('Rosige Aussichten.', 2), ('Die Schlagzeile vom 26. November 1961.', 2), ('Griff in die Mottenkiste.', 2), ('Steuererhöhung. Reiche Briten flüchten aus ihrem Land.', 2), ('Vorbild Großbritannien.', 2), ('Prognose. Zahl der Firmenpleiten wird 2010 noch zunehmen.', 2), ('Handelskonkurrenz. Warum sich Otto bei Quelle die Rosinen rauspickt.', 2), ('Rewe zeigt Ex-Chef Berninghaus an.', 2), ('Europas Märkte auf Erholungskurs.', 2), ('Seifert will wieder \"Charming Werner\" sein. Der Chef der Deutschen Börse bemüht sich in London um eine Verbesserung seines ramponierten Rufes.', 2), ('2,4 Milliarden Euro.', 2), ('Autobauer. General Motors hat doch noch einen Plan B.', 2), ('Die Macht der Aktionäre nimmt zu.', 2), ('Investieren mit gutem Gewissen.', 2), ('Wärme im Winter. Die zehn besten Spar-Tipps für die Heizung.', 2), ('Europäische Börsen leicht im Plus.', 2), ('Szenarien. Wie der Klimawandel Deutschland trifft.', 2), ('Private Gesellschafter geben die Macht bei der Weberbank ab.', 2), ('Duell zweier Frauen. Um Escada ist ein Zickenkrieg entbrannt.', 2), ('Riskantes Geschäft.', 2), ('Wal-Mart.', 2), ('Jahr-2010-Fehler. Hersteller wollen EC-Karten nur umprogrammieren.', 2), ('Wer bietet mehr?', 2), ('Gericht entscheidet über Wertheim-Klage.', 2), ('7,5 Milliarden Euro.', 2), ('20 Jahre an der Deutschen Börse. Dax schlägt europäische Konkurrenten um Längen.', 2), ('Finanzdienstleister.', 2), ('Cisco Systems. Cebit; Netzwerke.', 2), ('Bundeswirtschaftsminister. Rainer Brüderle - der unterschätzte Kümmerer.', 2), ('IBM will Rechenzentren in Hannover und Schweinfurt schließen.', 2), ('Konsequenter Schritt.', 2), ('Fachkräfte verzweifelt gesucht.', 2), ('Die Macht der Monokultur. Eine Stadt für Socken, eine für Feuerzeuge, eine für Schuhe: Die Industrie-Konzentration aus der chinesischen Planwirtschaft erweist sich für Chinas Privatunternehmen als Vorteil.', 2), ('Verarbeitendes Gewerbe meldet Auftragszuwachs.', 2), ('Gefragtes Gold.', 2), ('Die optimale Steuerklassenwahl.', 2), ('Euro fällt auf den tiefsten Stand seit sechs Monaten.', 2), ('Geduld zahlt sich aus.', 2), ('Schlussverkauf.', 2), ('Umfrage: Selbstbeteiligung dämpft die Konsumlust.', 2), ('Transparenz - das Jahrhundertwort. \"Top-50 Dialog\" - Immobilienexperten diskutieren über die Büros der Zukunft.', 2), ('Kosten für Klimaschutz. Aluminiumhütte Neuss droht die Schließung.', 2), ('USA. Radiohörer pfeifen auf GEZ-Gebühren und spenden.', 2), ('Jahresgutachten. Wirtschaftsweise rechnen mit Bundesregierung ab.', 2), ('Zur Person: Achim Wambach.', 2), ('Bevölkerungsrückgang. Deutsche bekommen immer noch zu wenig Kinder.', 2), ('Winterreifen-Pflicht.', 2), ('Winter in der Firma. Arbeitgeber müssen ausreichend heizen.', 2), ('Geldanlagen. Banken stellen telefonische Wertpapierberatung ein.', 2), ('Studie. In der Autoindustrie fallen 240.000 Stellen weg.', 2), ('Glaxo-Smithkline geraten unter Druck.', 2), ('Post hat Probleme mit Karstadt-Logistik. Antrag auf Übernahme beim Kartellamt zurückgezogen - Ausstieg aus Bietergefecht um belgische Staatspost - Interesse an britischer Exel.', 2), ('Der Gewinner.', 2), ('Anleger steigen aus.', 2), ('Francs, Lira und Peseten. So füllen „Schlafmünzen\" Ihre Urlaubskasse.', 2), ('Bussgelder. So teuer ist es, Polizisten zu beleidigen.', 2), ('Zur Person: Norbert Steiner.', 2), ('Mysteriöses Objekt der Begierde. Dornier ist schon wieder pleite. Warum verbrennen sich Investoren immer wieder ihre Finger an dem legendären Flugzeugbauer?', 2), ('Prognos-Studie. Kopfpauschale belastet Normalverdiener.', 2), ('Blut, Urin, Fitness. So checken die Dax-Konzerne ihre Bewerber durch.', 2), ('4,6 Milliarden Euro.', 2), ('Milliarden-Schaden durch Wirtschaftskriminalität.', 2), ('Krise in Zahlen.', 2), ('Schwellenländer.', 2), ('Dem Druck standhalten.', 2), ('Was die IT-Industrie ab kommender Woche auf der Cebit zeigt. Vernetzt im Wohnzimmer.', 2), ('Zum Tod Paul Samuelsons. Der erste Amerikaner mit Wirtschafts-Nobelpreis.', 2), ('10 Jahre, 10 Trends. Hartz IV erschüttert die Mittelschicht.', 2), ('Das neue Gesicht der westlichen Innenstadt. Nachfrage nach urbanen Standorten ermutigt Grundeigentümer zu Neubauten und Revitalisierungen.', 2), ('Einstieg in den Ausstieg.', 2), ('Servicestudie. Welche Restaurantketten sind top, welche Flop?', 2), ('Schwierige Aufgabe.', 2), ('Wettbewerbsnachteil Löhne.', 2), ('Konjunktur. Überraschend positive Prognose für Sozialkassen.', 2), ('Grüne.', 2), ('Elmos-Chef gestorben.', 2), ('Geldanlagen. „In zwei Jahren platzt die China-Blase\"', 2), ('Die Debatte.', 2), ('Gewagtes Spiel.', 2), ('Saab-Chef Augustsson verläßt den Konzern \"zum richtigen Zeitpunkt\".', 2), ('Wachstumsmarkt. Siemens sorgt für rotes Licht in Shanghai.', 2), ('Versorgung. In Frankreich drohen im Winter Stromausfälle.', 2), ('Lufthansa legt Tarifstreit mit Piloten bei.', 2), ('Sparen statt ausgeben.', 2), ('Immobilien. Wann Mieter die fristlose Kündigung riskieren.', 2), ('NKL lockt Ende März mit Rekord-Jackpot. 16 Millionen Euro im Topf - Lotterieanbieter wächst - Rentenjoker und Extrachance-Ziehung geplant.', 2), ('Lebensmittelpreise sollen kräftig steigen.', 2), ('Wichtiges Signal.', 2), ('Düstere Prognose. Crash-Propheten warnen vor dramatischer Inflation.', 2), ('Welche Probleme das EADS-Management lösen muss.', 2), ('Immobilien. Böse Fallen bei Untervermietung von Wohnungen.', 2), ('Fass ohne Boden.', 2), ('Siemens will Lösung für defizitären Dienstleister SBS verkünden.', 2), ('Turkmenistan. Die merkwürdigen Gasgeschäfte mit Iran und China.', 2), ('Trendwende in der Gastronomiebranche - Optimismus vor der 79. Internorga.', 2), ('Siemens im Fokus.', 2), ('Erneuerbare Energien. Schwarz-Gelb erweist sich als ziemlich Grün.', 2), ('Schwierige Gratwanderung.', 2), ('Hartmut Mehdorn.', 2), ('Saab-Chef steigt aus.', 2), ('RWE Dea will in den nächsten zehn Jahren vier Milliarden Euro investieren.', 2), ('Die Schlagzeile vom 2. Januar 1963.', 2), ('Der Preis der Sicherheit.', 2), ('420 Millionen Euro.', 2), ('Commerzbank gefragt.', 2), ('Motivation in virtuellen Teams.', 2), ('Kaufen!', 2), ('Luxusmesse. Wenn aus Millionären Schaulustige werden.', 2), ('Derivatemarkt wächst.', 2), ('Trotz höherer Preise. Deutsche kaufen 2009 mehr Weihnachtsbäume.', 2), ('Krankenkassen. Kaum noch Neukunden bei privaten Versicherern.', 2), ('Norbert Walter. „Wir werden eine ungemütlichere Gesellschaft sein\"', 2), ('Arbeitsagentur baut an Autobahn.', 2), ('Im Mittelstand wächst die Kapitalbasis deutlich. Sparkassen registrieren Stimmungswechsel.', 2), ('Mario Monti.', 2), ('Anleger setzen auf fallenden Ölpreis.', 2), ('Schattenwirtschaft. Frankreich hetzt das Finanzamt auf Drogendealer.', 2), ('Chefkontrolleur. Aufsichtsratschef Jürgen Krumnow verlässt TUI.', 2), ('Beförderungspflicht. Auch Fahrgäste im Taxi haben Rechte.', 2), ('1,1 Milliarden Euro.', 2), ('Die \"Bush-Hausse\" fiel selbst an den amerikanischen Börsen m...', 2), ('Fünf-Jahres-Bilanz. Ex-Superminister Clement feiert Hartz-IV-Erfolg.', 2), ('Anleitung für Kleinanleger. So profitieren Sie von der Angst an der Börse.', 2), ('Konsequenter Rücktritt.', 2), ('Chaos bei GM. Regierung gewährt Opel keine Staatshilfe mehr.', 2), ('Käse.', 2), ('Coca-Cola kommt bei Neuordnung in Deutschland langsam voran.', 2), ('Gameloft. Cebit; Mobile Spiele.', 2), ('HDW stoppt U-Boot-Verträge mit Griechenland.', 2), ('Der Kommentar.', 2), ('Verluste festsetzen.', 2), ('Barack Obama.', 2), ('Praxistest. So schlampen die Banken beim Beratungsprotokoll.', 2), ('Nach Griechenland. Diese EU-Länder gelten als gefährliche Schuldner.', 2), ('Nebenkosten absetzen.', 2), ('Legenden der Börse. Großinvestor Henry Kravis kopiert Warren Buffett.', 2), ('Bullen geben auf.', 2), ('Finanzmarkt-Reform. USA nehmen Rating-Agenturen an die Kandarre.', 2), ('Rohstoffe im Fokus.', 2), ('Enders wird Präsident der Luftfahrtindustrie.', 2), ('Durch die Hintertür.', 2), ('Regulierung. Noch keine Lösung für taumelnde Banken in Sicht.', 2), ('Google & Co. Das sind die 50 attraktivsten Arbeitgeber weltweit.', 2), ('Preisvergabe. BASF zum deutschen Wachstumsmeister gekürt.', 2), ('Ein Fall für das Kartellamt.', 2), ('Eine Frage der Disziplin.', 2), ('Derivate. Wie Anleger auf einen steigenden Dollar wetten.', 2), ('Die Schlagzeile vom 27. Juli 1961.', 2), ('Die Telekom zahlt wieder eine Dividende. Der Konzern erwirtschaftet 2,2 Milliarden Euro Gewinn - Umstrukturierung soll trotzdem weitergehen.', 2), ('Mit der CSU macht sich die erste Regierungspartei das Konzept der Risikoabgabe. von Banken zu eigen. Ziel dieser Abgabe sei es, dass sich die Banken in der nächsten Krise selbst retten, so die CSU. Eine staatliche Beteiligung an einem solchen Rettungsfonds, wie ihn Josef Ackermann forderte, lehnt die Partei jedoch ab.; CSU plant Zwangsabgabe für Banken.', 2), ('Anleger bleiben optimistisch.', 2), ('Für alle Einkommen gleich. US-Ökonom für einheitliche Steuer in Deutschland.', 2), ('Dow Jones. US-Börsen schließen im Minus.', 2), ('Messe-Termin.', 2), ('Strafabgabe. Rumänien will Hamburger und Cola besteuern.', 2), ('Anleger stellen sich gegen den Markt.', 2), ('Boom mit Risiken.', 2), ('Renault glaubt an Erfolg des neuen Billigautos. \"Wir verdienen mit jedem verkauften Logan Geld\"', 2), ('Gläubigerversammlung. Karstadt bekommt noch eine letzte Chance.', 2), ('Kfz-Police. Hier bekommen Sie preiswerten Schutz fürs Auto.', 2), ('Nachvollziehbare Strategie.', 2), ('Pischetsrieder bekam 2,63 Millionen Euro.', 2), ('Gegen den Trend.', 2), ('Die Ökonomen.', 2), ('Anleger bleiben beim Dax zuversichtlich.', 2), ('Neue Schlichtungsstelle für Reisende.', 2), ('Zwickels Kalkül.', 2), ('Fusion nur für die Abfindung?', 2), ('Ölpreis im Fokus.', 2), ('Krankenkassen zögern trotz Überschuß mit Beitragssenkung.', 2), ('Ländervergleich. In Bayern steigen die Strompreise am stärksten.', 2), ('Grenzgänger. Von der Reichsbahn zur Deutschen Bahn AG.', 2), ('Aktie von Texas Instruments ist eine Wette auf Erholung der Branche. Analysten uneins über Trend bei Halbleitern.', 2), ('Konjunkturprognose. EU prophezeit Deutschland ein Job-Desaster.', 2), ('Gigantische Übernahme. US-Milliardär Buffett kauft sich eine Eisenbahn.', 2), ('Finanzagentur-Chef geht im Streit.', 2), ('Starke Nachfrage nach Rohstofftiteln.', 2), ('Risiken und Nebenwirkungen.', 2), ('Der Stachel sitzt noch immer tief. Auch fünf Jahre nach dem Höhepunkt der Börsenhausse bleibt die Aktien-Skepsis groß.', 2), ('Wichtiger Schritt.', 2), ('Der ganz private Schuldenberg. Zahl der Verbraucherinsolvenzen steigt - Urteil bringt geschiedene Väter in Bedrängnis.', 2), ('Gebrochene Versprechen.', 2), ('United Internet. Cebit; Internet.', 2), ('Verspielte Chance.', 2), ('Finanzwerte gefragt.', 2), ('Einstieg bei Daimler.', 2), ('Kündigung rechtens?', 2), ('Bankenfusion auf Eis gelegt. DZ Bankchef kritisiert potentiellen Partner von der WGZ-Bank - Kaum Chancen auf neue Verhandlungen.', 2), ('Position der Stärke.', 2), ('Die Messe.', 2), ('Erholung erwartet.', 2), ('Vertrags-Check. Überflüssige Versicherungen kündigen und sparen.', 2), ('Unterhaltsrecht. Wann hilft mir ein Ehevertrag bei der Scheidung?', 2), ('Zur Person: Ingo Kramer.', 2), ('Wall Street. US-Börsen bleiben fast unverändert.', 2), ('Kommentar. Die Verlagerung der C-Klasse ist erst der Anfang.', 2), ('Anleger setzen auf steigende Kurse.', 2), ('Alles aus einer Hand.', 2), ('Führungspositionen. Die Vorherrschaft der Männer steht vor dem Aus.', 2), ('Serie Bitman: Aufbruch in eine neue Ära.', 2), ('Währungen. Das Vertrauen in den Euro bröckelt.', 2), ('Telekom verspricht weiter steigende Gewinne. Konzern verdient 4,6 Milliarden Euro - Geschäft mit dem Mobilfunk besonders erfolgreich.', 2), ('Kein Grund zur Klage.', 2), ('Integration von Phoenix bei Conti-Tech beginnt.', 2), ('Hoffnung auf Einsicht.', 2), ('Stationäre Dienste. Erstmals Noten für Pflegeheime im Internet.', 2), ('Public Private Partnerships gewinnen an Fahrt. Investitionen von 120 Milliarden Euro möglich.', 2), ('Unter Zugzwang.', 2), ('Schneller Erfolg.', 2), ('Siemens verkauft Tochtergesellschaft Sinitec. Teillösung für Krisensparte SBS - Gesamtkonzept für IT-Servicegeschäft läßt weiter auf sich warten.', 2), ('Düstere Aussichten.', 2), ('Norbert Walter. Chefvolkswirt fordert Halbierung der Staatsschuld.', 2), ('Schwerpunkt: Absicherung für den Ruhestand.', 2), ('Nutzfahrzeuge. MAN-Chef räumt überraschend seinen Posten.', 2), ('Dieter Zetsche.', 2), ('Soziale Kälte. Zerfetzte Winterkleidung bringt H&M in Bedrängnis.', 2), ('Höheres Kursziel für Deutsche Börse.', 2), ('Zur Person: Sabine Lautenschläger.', 2), ('Sicher ist sicher.', 2), ('Europa AG.', 2), ('Spenden. Mit Stiftungen Gutes tun und Steuern senken.', 2), ('Zu viele Fragezeichen.', 2), ('Neuer Finanzvorstand bei Opel.', 2), ('Keine Investoren. Kaum jemand mag Heuschrecken noch Geld geben.', 2), ('Mode. Escada setzt nicht mehr auf Glanz und Glamour.', 2), ('Ausblick. Die besten Strategien für das Börsenjahr 2010.', 2), ('Jobs ohne Perspektive. Mehrheit der Deutschen schreibt Karriere ab.', 2), ('Hype um Pokemon Go. Nintendo bringt das Spiel aufs Smartphone und befördert die Monster in die reale Welt.', 2), ('Wenn der Streit vor Gericht endet.', 2), ('Rossmann übernimmt am 1. Mai alle Drogeriemärkte von KD. Geschäft war bisher erst für Ende 2006 geplant.', 2), ('Führungswechsel. Sal. Oppenheim verliert den Namenspatron.', 2), ('Zur Person: Alexander Nowak.', 2), ('Medienunternehmer Kölmel schmiedet Expansionspläne.', 2), ('Zur Person: Martin Kannegiesser.', 2), ('Klares Bekenntnis.', 2), ('Eine Milliarde Euro mehr. Bahnprojekt Stuttgart 21 wird teurer als geplant.', 2), ('Gefühlte Inflation.', 2), ('Zu früh gejubelt.', 2), ('Übernahmespekulationen bringen kräftiges Kursplus. Elmos Semiconductor.', 2), ('Wohneigentum ist eine sinnvolle Altersvorsorge.', 2), ('Opel-Verhandlungen sind abgeschlossen. Bestand der deutschen Werke gesichert - Abstriche bei Tariflöhnen.', 2), ('Mobbing ist nichts für das Gericht.', 2), ('Rücktritt. GM-Chef Henderson verliert den Machtkampf.', 2), ('Neuer Sony-Chef kommt nicht aus Japan.', 2), ('Direktvertrieb. Tupperware und Vorwerk gehen die Verkäufer aus.', 2), ('Börsianer warten auf Greenspan.', 2), ('Weltwirtschaft. Goodbye, Rezession! Hello, Aufschwung!', 2), ('Geldanlage. Das sind die Vorzeichen für die Börse 2010.', 2), ('Russische Regierung erlaubt Fusion von Gazprom und Rosneft.', 2), ('General Motors. Mehr Selbstständigkeit für Opel, Reilly neuer Chef.', 2), ('Panne an Geldautomaten. 23 Millionen Sparkassen-Karten sind defekt.', 2), ('Ab in die Wüste.', 2), ('Der Druck steigt weiter.', 2), ('Schmidts Agenda.', 2), ('IWF traut Deutschland mehr Wachstum zu.', 2), ('Pure Nostalgie. Im Münsterland sitzt das einzige deutsche Unternehmen, das noch besinnliche Glanzbilder herstellt.', 2), ('Geplante Verordnung. EU zwingt Staaten zum Bau von Atomendlagern.', 2), ('Halbe Wahrheiten.', 2), ('Pensionsfonds.', 2), ('Autobauer. Doch keine Entscheidung über neuen Opel-Chef.', 2), ('Kursrutsch bei Vietnam-Papieren.', 2), ('Geschäftsbedingungen. Was die neuen Bankregeln für Kunden bedeuten.', 2), ('Prada zwingt Jil Sander zum Umzug nach Italien.', 2), ('\"Deutschland braucht eine langfristige Vision\". Podiumsdiskussion bei der Preisverleihung an die Unternehmer des Jahres - Diskriminierungsgesetz kommt auf den Prüfstand.', 2), ('Zur Person: El bieta Bie kowska.', 2), ('Kapitalisierung. Asien stürmt bei Börsengängen an die Weltspitze.', 2), ('China kommt.', 2), ('Deutsche Bahn. Fast jeder fünfte Fernzug kommt zu spät.', 2), ('Ritter Bill Gates.', 2), ('Folgekosten ausgeblendet.', 2), ('23 Milliarden Dollar. Die reichsten Männer der Welt.', 2), ('Oracle-Chef wirft Konkurrent SAP den Fehdehandschuh hin.', 2), ('Philips und Interbrew machen ein Faß auf. Unternehmen präsentieren neue Bier-Zapfanlage für zu Hause - Kaffeemaschinen als Vorbild.', 2), ('Haftpflicht. Wenn ein Schaden in den finanziellen Ruin führt.', 2), ('Einmischung erwünscht.', 2), ('Schwierige Mission.', 2), ('Die fünf Wege zur betrieblichen Altersvorsorge.', 2), ('Steigender Druck.', 2), ('Übertriebener Optimismus.', 2), ('Zahlen 2005.', 2), ('Eckhard Cordes.', 2), ('Holsten kopiert mit mildem Szene-Bier bereits am Markt erfolgreiche Produkte.', 2), ('Vergleich. Welche Fondsanbieter am besten abschneiden.', 2), ('Runde Smartwatch.', 2), ('Deutschland sündigt das vierte Mal. Maastricht-Grenze kaum einzuhalten - Defizitquote von 3,6 Prozent erwartet.', 2), ('Fehlende Kontrolle.', 2), ('Großaufträge aus dem Ausland stützen das Wachstum.', 2), ('Willkommen in der Realität.', 2), ('Richtig Vorsorgen. Betriebsrente vom Chef kann sich rechnen.', 2), ('Privatbanken. Bank-Chef von Sal. Oppenheim steht vor Rücktritt.', 2), ('Die Firma und der Manager.', 2), ('Servicestudie. Welche Restaurantketten sind top, welche flop?', 2), ('Technologiewerte unter Druck.', 2), ('Neue Tricks. Immobilienbetrüger nutzen die Ängste der Anleger.', 2), ('Eklat im Aufsichtsrat. Bahn entlässt Vorstand nach Stuttgart-21-Debakel.', 2), ('Die Aktie - ein Hoffnungswert.', 2), ('Notwendige Radikalkur für den Airbus-Konkurrenten.', 2), ('Milliarden-Übernahmekampf um den Bergbaukonzern WMC.', 2), ('Subvention als Exportbremse.', 2), ('Prozess. Der Ex-Infineon-Chef und die Champagner-Sause.', 2), ('1 (1) Simplify your life - Werner Küstenmacher / Lothar Seiw...', 2), ('Festnetz und Mobilfunk gehen zusammen.', 2), ('Konsumforscher.', 2), ('Die Technik.', 2), ('Traditionsunternehmen. 2009 war das Jahr der spektakulären Pleiten.', 2), ('Wertedebatte. Was kommt nach der Dekade der Finanzexzesse?', 2), ('Vor dem Dammbruch.', 2), ('Bessere Aussichten.', 2), ('Total versteuert.', 2), ('Sicherheitsmerkmale. Geldinstitute knausern bei Kreditkarten-Aufrüstung.', 2), (\"Schliessung. Island und der letzte Ansturm auf McDonald's.\", 2), ('Hapag-Lloyd-Grossaktionär. Kühne sieht den Hamburger Hafen im Abwärtssog.', 2), ('Zur Person: Ulrich Grillo.', 2), ('Verpaßte Chance.', 2), ('Hartz IV.', 2), ('Checkliste.', 2), ('Auf Calls gesetzt.', 2), ('Comeback. Das Sparbuch gilt als hip - aber völlig zu Unrecht.', 2), ('Erste Erfolge.', 2), ('Die Organisation für wirtschaftliche Zusammenarbeit und Entw...', 2), ('Die Männer im Übernahmepoker.', 2), ('Banken. Verkauf der Oppenheim-Investmentbank geplatzt.', 2), ('Pfund im Fokus.', 2), ('Eine Frage der Zeit.', 2), ('Deutscher Aktienhandel ohne Impulse. Infineon leidet unter enttäuschenden Branchenzahlen - Finanzwerte rücken in den Blick der Investoren.', 2), ('\"Welt\"-Konferenz über gute Führung.', 2), ('Freistellungsaufträge. Wie verteile ich den Sparer-Freibetrag richtig?', 2), ('Bank-Experten raten. Wie Sie Geld sicher und mit guter Rendite anlegen.', 2), ('Krankenkassen mit Milliarden-Überschuss.', 2), ('Noch nicht das letzte Wort.', 2), ('Protest gegen Arbeitsplatzabbau bei Vossloh in Kiel.', 2), ('Steuerzahler sollten auch den Fiskus kontrollieren.', 2), ('Das Gesetz.', 2), ('Goldener Handschlag. Die dicken Abfindungen deutscher Top-Manager.', 2), ('Standort-Studie. Made in Germany schlägt billigeres Ausland.', 2), ('Potenziell 100 Milliarden Euro.', 2), ('Volkswagen.', 2), ('Geschichte einer Innovation.', 2), ('Banken gefragt.', 2), ('Bittere Wahrheit.', 2), ('Unternehmen müssen sich auf ältere Beschäftigte einstellen. Studie prognostiziert nach Ende der Frühverrentung erhebliche Beschäftigungsprobleme - Tarifsystem soll geändert werden.', 2), ('Positiver Ausblick für Commerzbank-Aktie.', 2), ('Bankier in Genf ermordet.', 2), ('Winterurlaub. Das sind die besten Reisekrankenversicherungen.', 2), ('Ein Preis für exzellente Produktion.', 2), ('1,5 Milliarden Euro.', 2), ('Im DAX 100 verzeichneten gestern folgende Titel die größten Kursausschläge. Basis: 13.00 Uhr gegen Schlusskurs.', 2), ('Alle Preisträger.', 2), ('Koalitionsbeschlüsse. Wie die Koalition das Mietrecht reformieren will.', 2), ('RTL sieht sich für neue Expansion gerüstet.', 2), ('Der Osten wird immer älter. Junge Leute zieht es in den Westen - Leere Landschaften kosten Millionen.', 2), ('Ein Stück Normalität.', 2), ('Finanzdienstleistungen. Die besten Krankenhaus-Zusatzversicherungen.', 2), ('Richtigstellung.', 2), ('Anspruch auf Weihnachtsgeld?', 2), ('Größte Möbelmesse der Welt.', 2), ('Lebensmittelindustrie. EU will niedrigere Verbraucherpreise erzwingen.', 2), ('Geldmangel. Militär-Airbus A400M droht das vorzeitige Ende.', 2), ('Logistik: Nachfrage bricht ein.', 2), ('Neuer Trend. Counterurbanisierung - Man zieht wieder aufs Land.', 2), ('Unmöglicher Spagat.', 2), ('Holtrop und Obermann drin, Hufnagl draußen. Gewinner und Verlierer beim großen Stühlerücken im Telekom-Vorstand.', 2), ('Tipps und Infos.', 2), ('Premiere bringt IPO-Markt wieder in Schwung. Emission bereits vierfach überzeichnet - Privatanlegeranteil soll 25 bis 35 Prozent sein - Kritiker warnen vor Risiken.', 2), ('Schwieriger Übergang.', 2), ('\"Anleger brauchen eine gesunde Portion Skepsis\". Sprecherin des Berufsverbandes CFA sieht eine Tendenz zur Beschönigung bei den Ergebnismeldungen der Unternehmen.', 2), ('Das Rennen ist eröffnet.', 2), ('Europas Börsen auf Konsolidierungskurs.', 2), ('Niedrigerer Höchstzuschuß des Arbeitgebers.', 2), ('Middelhoff wird nicht als Berater für das Weltwirtschaftsforum arbeiten.', 2), ('Jobkiller Mindestlohn.', 2), ('Experten aus 28 Ländern bei Titan-Weltkonferenz im Congress Centrum.', 2), ('\"Ich bin sehr optimistisch\". T-Systems-Chef Konrad Reiss über die Exportchancen des deutschen Mautsystems: Es gibt schon Anfragen.', 2), ('Geothermie. So heizen Sie preiswert mit der Wärme der Erde.', 2), ('Lizenz zum Gelddrucken.', 2), ('1,4 Millionen folgen Jetblue auf Twitter.', 2), ('Contra. Zentralbank im Dilemma.', 2), ('Hitzefrei im Büro?', 2), ('Weihnachtsgeschäft. Handelskonzerne leiden unter Preiskampf.', 2), ('Messe-Termine. Messewesen.', 2), ('Miese Testergebnisse. BaFin fühlt schlechten Bankberatern auf den Zahn.', 2), ('Energie: Fahrt ins Ungewisse.', 2), ('Nicht jeder muss mit dem Finanzamt abrechnen.', 2), ('Boni-Debatte. Millionen scheffeln mit himmlischem Beistand.', 2), ('Recht. So enterben Sie ungeliebte Verwandte.', 2), ('Blamable Vorstellung.', 2), ('Europas Börsen machen Verschnaufpause.', 2), ('\"Eine industriepolitisch richtige Lösung\". Bayerns Wirtschaftsminister Wiesheu glaubt an die Realisierung der Schwebebahn-Strecke in München.', 2), ('Genossen im Streit.', 2), ('Insolvenz. Für die Arcandor-Gläubiger bleibt nichts übrig.', 2), ('Weihnachten. Deutsche wollen nicht an den Geschenken sparen.', 2), ('Ölpreishausse lockt Short-Spekulanten.', 2), ('Boeing beginnt die Aufholjagd. Interessenten für neue Jumbo-Jet-Version - Produktivität soll jährlich um mindestens vier Prozent steigen.', 2), ('Dax-Puts gefragt.', 2), ('FINANZEN.', 2), ('Nordex-Belegschaft stimmt der Kürzung von Löhnen zu.', 2), ('Die besten deutschen Fonds als Zertifikat.', 2), ('Inkassogebühren.', 2), ('Ungewisse Zukunft.', 2), ('Wirtschafts- Termine.', 2), ('Edelmetalle gefragt.', 2), ('Geldanlagen. Goldminen-Papiere steigen noch stärker als Gold.', 2), ('Langfristige Käufe.', 2), ('Kreditwürdigkeit. Griechenland ist dem Staatsbankrott näher.', 2), ('Top-Termine diese Woche.', 2), ('Wealth Management. Deutsche Bank kürzt Betreuung reicher Kunden.', 2), ('Pro. Zentralbank im Dilemma.', 2), ('Finanzminister macht Kasse.', 2), ('Drohende Pleite. Dubai strauchelt - doch Arabien gehört die Zukunft.', 2), ('Energieversorgung. E.on rechnet mit sinkenden Gaspreisen.', 2), ('Studie. Greenpeace kritisiert Fischverkauf bei Aldi Nord.', 2), ('Militärairbus. Die „dicke Ente\" hebt endlich ab.', 2), ('Quelle-Läden endgültig geschlossen.', 2)]\n"
     ]
    }
   ],
   "source": [
    "import collections\n",
    "counter=collections.Counter(data['titles'])\n",
    "print(counter.most_common(1000))"
   ]
  },
  {
   "cell_type": "markdown",
   "metadata": {},
   "source": [
    "## Texts"
   ]
  },
  {
   "cell_type": "code",
   "execution_count": 18,
   "metadata": {},
   "outputs": [],
   "source": [
    "# remove articles that contain the following string: \"HIGHLIGHT: Die Titel mit den größten Kursausschlägen.\"\n",
    "# and have the title 'Gewinner und Verlierer.' (stock prices, no additional info)\n",
    "data = data.loc[~((data['texts'].str.contains('HIGHLIGHT: Die Titel mit den größten Kursausschlägen.')) & (data['titles']=='Gewinner und Verlierer.'))]"
   ]
  },
  {
   "cell_type": "code",
   "execution_count": 19,
   "metadata": {},
   "outputs": [],
   "source": [
    "# Stock prices, no additional info\n",
    "data = data.loc[~((data['texts'].str.contains('Gewinner - Verlierer. Verlierer. 1.')) | (data['texts'].str.contains('Gewinner - Verlierer. Gewinner. 1.')))]"
   ]
  },
  {
   "cell_type": "code",
   "execution_count": 20,
   "metadata": {},
   "outputs": [],
   "source": [
    "data = data.reset_index() # reset the index of the DataFrame\n",
    "del data['index'] # delete a column with an old index"
   ]
  },
  {
   "cell_type": "code",
   "execution_count": 22,
   "metadata": {},
   "outputs": [],
   "source": [
    "data['w_count'] = data['texts'].str.split(' ').str.len()"
   ]
  },
  {
   "cell_type": "code",
   "execution_count": 23,
   "metadata": {},
   "outputs": [],
   "source": [
    "# remove articles with the number of words<50\n",
    "data = data[data['w_count']>50]"
   ]
  },
  {
   "cell_type": "code",
   "execution_count": 25,
   "metadata": {},
   "outputs": [],
   "source": [
    "data = data.reset_index() # reset the index of the DataFrame\n",
    "del data['index'] # delete a column with an old index"
   ]
  },
  {
   "cell_type": "code",
   "execution_count": null,
   "metadata": {},
   "outputs": [],
   "source": [
    "# save the final version\n",
    "data.to_csv('cleaned_welt.csv', encoding='utf-8-sig', sep = ';')"
   ]
  },
  {
   "cell_type": "markdown",
   "metadata": {},
   "source": [
    "# In case you want to use pickle to save the Dataframe"
   ]
  },
  {
   "cell_type": "code",
   "execution_count": 12,
   "metadata": {
    "collapsed": true
   },
   "outputs": [],
   "source": [
    "import pickle\n",
    "\n",
    "with open('welt_data.pickle', 'wb') as f:\n",
    "    pickle.dump(data, f, protocol=2)"
   ]
  },
  {
   "cell_type": "code",
   "execution_count": 13,
   "metadata": {
    "collapsed": true
   },
   "outputs": [],
   "source": [
    "with open('welt_data.pickle', 'rb') as f:\n",
    "    data = pickle.load(f)"
   ]
  }
 ],
 "metadata": {
  "kernelspec": {
   "display_name": "Python 3",
   "language": "python",
   "name": "python3"
  },
  "language_info": {
   "codemirror_mode": {
    "name": "ipython",
    "version": 3
   },
   "file_extension": ".py",
   "mimetype": "text/x-python",
   "name": "python",
   "nbconvert_exporter": "python",
   "pygments_lexer": "ipython3",
   "version": "3.5.6"
  }
 },
 "nbformat": 4,
 "nbformat_minor": 2
}
