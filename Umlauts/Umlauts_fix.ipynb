{
 "cells": [
  {
   "cell_type": "markdown",
   "metadata": {},
   "source": [
    "Before starting our work with the data, we needed to take an additional pre-processing step.\n",
    "\n",
    "In the news articles from the 90s and early 2000s (up to and including 2001), the German umlauts (ö, ä, ü, ß, Ö, Ä, Ü) were often replaced with corresponding characters: 'oe', 'ae', 'ue', 'ss', 'OE', 'AE', and 'UE'. As a result, a word like 'Nürnberg' could be stored in the corpus as either 'Nuernberg' or 'N\\xfcrnberg', depending on the publication date. To ensure that all (or nearly all) words have a consistent representation, we employ the `PyHunSpell` spellchecker."
   ]
  },
  {
   "cell_type": "code",
   "execution_count": 1,
   "metadata": {},
   "outputs": [
    {
     "name": "stderr",
     "output_type": "stream",
     "text": [
      "C:\\ProgramData\\Anaconda3\\envs\\py27\\lib\\site-packages\\sacremoses\\truecase.py:26: UserWarning: You should really be using Python3!!! Tick tock, tick tock, https://pythonclock.org/\n",
      "  \"You should really be using Python3!!! \"\n"
     ]
    }
   ],
   "source": [
    "# Import PyHunSpell\n",
    "import hunspell\n",
    "\n",
    "import pandas as pd \n",
    "import nltk\n",
    "import re\n",
    "import umlautf\n",
    "import worker_umlaut\n",
    "import multiprocessing as mp\n",
    "import os\n",
    "\n",
    "from datetime import datetime\n",
    "from sacremoses import MosesDetokenizer # Detokenizing package\n",
    "md = MosesDetokenizer() \n",
    "\n",
    "NUM_CORE = mp.cpu_count() # Set to the number of cores you want to use"
   ]
  },
  {
   "cell_type": "code",
   "execution_count": 2,
   "metadata": {},
   "outputs": [
    {
     "name": "stderr",
     "output_type": "stream",
     "text": [
      "[nltk_data] Downloading package punkt to\n",
      "[nltk_data]     C:\\Users\\mokuneva\\AppData\\Roaming\\nltk_data...\n",
      "[nltk_data]   Package punkt is already up-to-date!\n"
     ]
    },
    {
     "data": {
      "text/plain": [
       "True"
      ]
     },
     "execution_count": 2,
     "metadata": {},
     "output_type": "execute_result"
    }
   ],
   "source": [
    "# Make sure that you have downloaded nltk_data\n",
    "nltk.download('punkt')"
   ]
  },
  {
   "cell_type": "markdown",
   "metadata": {},
   "source": [
    "# Correcting umlauts in Handelsblatt dataset"
   ]
  },
  {
   "cell_type": "code",
   "execution_count": 2,
   "metadata": {},
   "outputs": [
    {
     "name": "stderr",
     "output_type": "stream",
     "text": [
      "C:\\ProgramData\\Anaconda3\\envs\\py27\\lib\\site-packages\\IPython\\core\\interactiveshell.py:2714: DtypeWarning: Columns (2) have mixed types. Specify dtype option on import or set low_memory=False.\n",
      "  interactivity=interactivity, compiler=compiler, result=result)\n"
     ]
    }
   ],
   "source": [
    "# Load the data\n",
    "data_umlaut = pd.read_csv(os.path.join(os.getcwd().replace('Umlauts', 'Handelsblatt'), 'hb_umlauts_fix.csv'), encoding = 'utf-8', sep=';')"
   ]
  },
  {
   "cell_type": "code",
   "execution_count": 3,
   "metadata": {},
   "outputs": [
    {
     "name": "stderr",
     "output_type": "stream",
     "text": [
      "C:\\ProgramData\\Anaconda3\\envs\\py27\\lib\\site-packages\\sacremoses\\truecase.py:26: UserWarning: You should really be using Python3!!! Tick tock, tick tock, https://pythonclock.org/\n",
      "  \"You should really be using Python3!!! \"\n"
     ]
    }
   ],
   "source": [
    "# Correct text 57565: some words and numbers are merged into a single token\n",
    "tokens = nltk.word_tokenize(data_umlaut['texts'][57565])\n",
    "tokens_new = []\n",
    "# Split tokens containing text and numbers into two parts\n",
    "# E.g., \"OEsterreich1624,70\" should be split into \"OEsterreich\" and \"1624,70\"\n",
    "for t in tokens:\n",
    "    match = re.match(r\"([a-z]+)([0-9,]+)\", t, re.I)\n",
    "    if match:\n",
    "        items = match.groups()\n",
    "        tokens_new.append(items[0] + ' ' + items[1])\n",
    "    else:\n",
    "        tokens_new.append(t)\n",
    "data_umlaut.loc[57565,'texts'] = md.detokenize(tokens_new)"
   ]
  },
  {
   "cell_type": "code",
   "execution_count": 5,
   "metadata": {},
   "outputs": [
    {
     "name": "stdout",
     "output_type": "stream",
     "text": [
      "1:00:41.123000\n"
     ]
    }
   ],
   "source": [
    "# Use a spellchecker (umlautf.py function) to make umlaut replacements where necessary\n",
    "startTime = datetime.now()\n",
    "\n",
    "if __name__ == \"__main__\":\n",
    "    list_of_texts = data_umlaut.texts\n",
    "    list_of_objects = [umlautf.spell(i) for i in list_of_texts]\n",
    "    \n",
    "    pool = mp.Pool(NUM_CORE)\n",
    "    corrected_umlauts = pool.map(worker_umlaut.worker_umlaut, ((obj) for obj in list_of_objects))\n",
    "    pool.close()\n",
    "    pool.join()\n",
    "        \n",
    "print datetime.now() - startTime"
   ]
  },
  {
   "cell_type": "code",
   "execution_count": 6,
   "metadata": {},
   "outputs": [],
   "source": [
    "data_umlaut['texts'] = corrected_umlauts "
   ]
  },
  {
   "cell_type": "code",
   "execution_count": 7,
   "metadata": {},
   "outputs": [],
   "source": [
    "data_umlaut.to_csv(os.path.join(os.getcwd().replace('Umlauts', 'Handelsblatt'), 'hb_umlauts_fixed.csv'), encoding='utf-8-sig', sep = ';')"
   ]
  },
  {
   "cell_type": "markdown",
   "metadata": {},
   "source": [
    "# Correcting umlauts in dpa dataset"
   ]
  },
  {
   "cell_type": "code",
   "execution_count": 3,
   "metadata": {},
   "outputs": [],
   "source": [
    "# Load the data\n",
    "data_umlaut = pd.read_csv(os.path.join(os.getcwd().replace('Umlauts', 'dpa code'), 'dpa_umlauts_fix.csv'), encoding = 'utf-8', sep=';')"
   ]
  },
  {
   "cell_type": "code",
   "execution_count": 4,
   "metadata": {},
   "outputs": [
    {
     "name": "stdout",
     "output_type": "stream",
     "text": [
      "0:08:29.532000\n"
     ]
    }
   ],
   "source": [
    "# Use a spellchecker (umlautf.py function) to make umlaut replacements where necessary\n",
    "startTime = datetime.now()\n",
    "\n",
    "if __name__ == \"__main__\":\n",
    "    list_of_texts = data_umlaut.texts\n",
    "    list_of_objects = [umlautf.spell(i) for i in list_of_texts]\n",
    "    \n",
    "    pool = mp.Pool(NUM_CORE)\n",
    "    corrected_umlauts = pool.map(worker_umlaut.worker_umlaut, ((obj) for obj in list_of_objects))\n",
    "    pool.close()\n",
    "    pool.join()\n",
    "        \n",
    "print datetime.now() - startTime"
   ]
  },
  {
   "cell_type": "code",
   "execution_count": 5,
   "metadata": {},
   "outputs": [
    {
     "name": "stdout",
     "output_type": "stream",
     "text": [
      "« Die Welt » (Bonn) zu golfkrise. In der Silvesternacht haben sich gute Freunde verabschiedet. Amerikaner. Ihr Kommando führt sie an den Golf. Sie gehen schweren Herzens. Gleichzeitig fiel in den ersten Minuten des neuen Jahres, in denen wir uns die Hände reichten und uns alles Gute wünschten, oft die Bemerkung: « bloß keinen Krieg. » der 15. Januar, an dem das Ultimatum endet, hat sich als Fixpunkt in unseren Köpfen verankert. Hoffnungen gelten jetzt den letzten diplomatischen Bemühungen, von denen man allerdings nicht weiß, ob sie nicht nur der Optik dienen. « bloß keinen Krieg » - das entspricht der Stimmungslage. Im Grunde genommen wünschen sich viele erneut einen Chamberlain, der, diesmal nicht aus München, sondern aus Bagdad kommend, ein Papier hochhält und « Frieden in unserer Zeit » verheißt. Wie lange hat dieser Frieden von 1938 gehalten? Saddam Hussein spricht heute davon, dass « Gott » auf seiner Seite sei. In den schrecklichen Zeiten, die nach München folgten, war von « Vorsehung » die Rede.... die Amerikaner können nicht zurückweichen. Eine solche militärische Kraftanstrengung ist nicht wiederholbar. Jetzt einzulenken würde das Ende der Weltmacht USA bedeuten. Außerdem hat diese Weltmacht das Völkerrecht auf ihrer Seite und für diese Aktion die Unterstützung der UN gefunden....\n"
     ]
    }
   ],
   "source": [
    "print(corrected_umlauts[0])"
   ]
  },
  {
   "cell_type": "code",
   "execution_count": 6,
   "metadata": {},
   "outputs": [
    {
     "data": {
      "text/plain": [
       "u'\\xab Die Welt \\xbb (Bonn) zu golfkrise. In der Silvesternacht haben sich gute Freunde verabschiedet. Amerikaner. Ihr Kommando fuehrt sie an den Golf. Sie gehen schweren Herzens. Gleichzeitig fiel in den ersten Minuten des neuen Jahres, in denen wir uns die Haende reichten und uns alles Gute wuenschten, oft die Bemerkung: \\xab bloss keinen Krieg. \\xbb der 15. Januar, an dem das Ultimatum endet, hat sich als Fixpunkt in unseren Koepfen verankert. Hoffnungen gelten jetzt den letzten diplomatischen Bemuehungen, von denen man allerdings nicht weiss, ob sie nicht nur der Optik dienen. \\xab bloss keinen Krieg \\xbb - das entspricht der Stimmungslage. Im Grunde genommen wuenschen sich viele erneut einen Chamberlain, der, diesmal nicht aus Muenchen, sondern aus Bagdad kommend, ein Papier hochhaelt und \\xab Frieden in unserer Zeit \\xbb verheisst. Wie lange hat dieser Frieden von 1938 gehalten? Saddam Hussein spricht heute davon, dass \\xab Gott \\xbb auf seiner Seite sei. In den schrecklichen Zeiten, die nach Muenchen folgten, war von \\xab Vorsehung \\xbb die Rede.... die Amerikaner koennen nicht zurueckweichen. Eine solche militaerische Kraftanstrengung ist nicht wiederholbar. Jetzt einzulenken wuerde das Ende der Weltmacht USA bedeuten. Ausserdem hat diese Weltmacht das Voelkerrecht auf ihrer Seite und fuer diese Aktion die Unterstuetzung der UN gefunden....'"
      ]
     },
     "execution_count": 6,
     "metadata": {},
     "output_type": "execute_result"
    }
   ],
   "source": [
    "data_umlaut['texts'].iloc[0]"
   ]
  },
  {
   "cell_type": "code",
   "execution_count": 7,
   "metadata": {},
   "outputs": [],
   "source": [
    "data_umlaut['texts'] = corrected_umlauts "
   ]
  },
  {
   "cell_type": "code",
   "execution_count": 8,
   "metadata": {},
   "outputs": [],
   "source": [
    "data_umlaut.to_csv(os.path.join(os.getcwd().replace('Umlauts', 'dpa code'), 'dpa_umlauts_fixed.csv'), encoding='utf-8-sig', sep = ';')"
   ]
  }
 ],
 "metadata": {
  "kernelspec": {
   "display_name": "Python 2",
   "language": "python",
   "name": "python2"
  },
  "language_info": {
   "codemirror_mode": {
    "name": "ipython",
    "version": 2
   },
   "file_extension": ".py",
   "mimetype": "text/x-python",
   "name": "python",
   "nbconvert_exporter": "python",
   "pygments_lexer": "ipython2",
   "version": "2.7.15"
  }
 },
 "nbformat": 4,
 "nbformat_minor": 1
}
