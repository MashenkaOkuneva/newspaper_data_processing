{
 "cells": [
  {
   "cell_type": "code",
   "execution_count": 1,
   "id": "e7bf2bca",
   "metadata": {},
   "outputs": [],
   "source": [
    "import cPickle\n",
    "import os\n",
    "import numpy as np\n",
    "import nltk\n",
    "import nltk.corpus\n",
    "import pandas as pd\n",
    "import sys\n",
    "import multiprocessing as mp\n",
    "import text_tok\n",
    "import random\n",
    "import re\n",
    "\n",
    "from nltk import sent_tokenize\n",
    "from ast import literal_eval\n",
    "from datetime import datetime\n",
    "\n",
    "# Set the number of cores to use\n",
    "NUM_CORE = mp.cpu_count()-4"
   ]
  },
  {
   "cell_type": "markdown",
   "id": "90e5072e",
   "metadata": {},
   "source": [
    "# Truecasing"
   ]
  },
  {
   "cell_type": "markdown",
   "id": "e9cd8bfe",
   "metadata": {},
   "source": [
    "A small fraction of the dpa articles were missing all uppercase letters. To fix this, we used a truecasing model by Nils Reimers\n",
    "(https://github.com/nreimers/truecaser), which is based on the work of Lucian Vlad Lita et al. (2003)."
   ]
  },
  {
   "cell_type": "code",
   "execution_count": 2,
   "id": "9c478784",
   "metadata": {},
   "outputs": [],
   "source": [
    "# Set the path to the truecasing model\n",
    "path = os.path.join(os.getcwd(), 'truecaser-master')\n",
    "os.chdir(path)\n",
    "sys.path.insert(1, os.getcwd().replace('\\\\truecaser-master', ''))"
   ]
  },
  {
   "cell_type": "code",
   "execution_count": 3,
   "id": "6d03bbf8",
   "metadata": {},
   "outputs": [],
   "source": [
    "from TrainFunctions import *\n",
    "from EvaluateTruecaser import evaluateTrueCaser"
   ]
  },
  {
   "cell_type": "code",
   "execution_count": 4,
   "id": "eee9c58a",
   "metadata": {},
   "outputs": [],
   "source": [
    "# Initialize frequency distributions for bigrams and trigrams\n",
    "uniDist = nltk.FreqDist()\n",
    "backwardBiDist = nltk.FreqDist() \n",
    "forwardBiDist = nltk.FreqDist() \n",
    "trigramDist = nltk.FreqDist() \n",
    "wordCasingLookup = {}"
   ]
  },
  {
   "cell_type": "code",
   "execution_count": 5,
   "id": "63659a2c",
   "metadata": {},
   "outputs": [],
   "source": [
    "# Load training data\n",
    "data = pd.read_csv(os.path.join(os.getcwd().replace('truecaser-master', ''), 'dpa_prepro_step11.csv'), encoding = 'utf-8', index_col = 0,  keep_default_na=False,\n",
    "                   dtype = {'rubrics': 'str', \n",
    "                            'source': 'str',\n",
    "                            'keywords': 'str',\n",
    "                            'title': 'str',\n",
    "                            'city': 'str',\n",
    "                            'genre': 'str',\n",
    "                            'wordcount': 'str'},\n",
    "                  converters = {'paragraphs': literal_eval})"
   ]
  },
  {
   "cell_type": "code",
   "execution_count": 6,
   "id": "b3df04a7",
   "metadata": {},
   "outputs": [],
   "source": [
    "# Select the subset of data (1,000,000 articles) for training the truecasing model\n",
    "data_sample = data['texts'][1000000:2000000]"
   ]
  },
  {
   "cell_type": "markdown",
   "id": "043dd0bc",
   "metadata": {},
   "source": [
    "During the preprocessing of the training set, texts are tokenized and umlauts are replaced with their respective non-umlaut equivalents using the function `text_tok`. This step is necessary as the dataset to which the model will be applied has umlauts already replaced."
   ]
  },
  {
   "cell_type": "code",
   "execution_count": 7,
   "id": "f3e3f8f8",
   "metadata": {},
   "outputs": [
    {
     "name": "stdout",
     "output_type": "stream",
     "text": [
      "0:03:05.189000\n"
     ]
    }
   ],
   "source": [
    "startTime = datetime.now()\n",
    "\n",
    "if __name__ == \"__main__\":\n",
    "    pool = mp.Pool(NUM_CORE)\n",
    "    tokens = pool.map(text_tok.text_tok, [text for text in data_sample]) \n",
    "    pool.close()\n",
    "    pool.join()\n",
    "    \n",
    "print(datetime.now()-startTime)"
   ]
  },
  {
   "cell_type": "code",
   "execution_count": 8,
   "id": "adaf62af",
   "metadata": {},
   "outputs": [
    {
     "name": "stdout",
     "output_type": "stream",
     "text": [
      "1:23:22.734000\n"
     ]
    }
   ],
   "source": [
    "startTime = datetime.now()\n",
    "\n",
    "# Train the truecasing model using 1,000,000 articles from the dpa corpus, where the capitalization is correct\n",
    "updateDistributionsFromSentences(tokens, wordCasingLookup, uniDist, backwardBiDist, forwardBiDist, trigramDist)\n",
    "\n",
    "# Save the frequency distributions\n",
    "f = open('distributions.obj', 'wb')\n",
    "cPickle.dump(uniDist, f, -1)\n",
    "cPickle.dump(backwardBiDist, f, -1)\n",
    "cPickle.dump(forwardBiDist, f, -1)\n",
    "cPickle.dump(trigramDist, f, -1)\n",
    "cPickle.dump(wordCasingLookup, f, -1)\n",
    "f.close()\n",
    "\n",
    "\n",
    "print(datetime.now()-startTime)"
   ]
  },
  {
   "cell_type": "markdown",
   "id": "b8259292",
   "metadata": {},
   "source": [
    "Evaluate the truecasing model using 10 manually chosen sentences."
   ]
  },
  {
   "cell_type": "code",
   "execution_count": 9,
   "id": "93ebaf13",
   "metadata": {},
   "outputs": [],
   "source": [
    "testSentences = [u\"Obwohl der Erwerb von Wohnungen seit 1974 f\\xfcr Ausl\\xe4nder weitgehend verboten ist, h\\xe4tten diese in zahlreichen F\\xe4llen \\xfcber \\xf6sterreichische Strohm\\xe4nner Wohnungen gekauft.\"\n",
    "                ,u\"So seien \\xabMenschen im \\xf6sterreichischen Altersheim\\xbb als K\\xe4ufer aufgetreten, die ihr \\xabEigentum\\xbb dem deutschen Anleger \\xabvererbt\\xbb h\\xe4tten.\"\n",
    "                ,u\"Die Zusammensetzung der k\\xfcnftigen SPD-Fraktionsspitze um den neuen Vorsitzenden Hans-Ulrich Klose nimmt allm\\xe4hlich Konturen an.\"\n",
    "                ,u\"Die bei der Wahl des Vorsitzenden unterlegenen Mitbewerber Herta D\\xe4ubler-Gmelin und Rudolf Dre\\xdfler sollen dem Vernehmen nach zum k\\xfcnftigen Team um Klose geh\\xf6ren.\"\n",
    "                ,u\"Dieser will seine Pl\\xe4ne f\\xfcr eine gestraffte Fraktionsf\\xfchrung am 10. Dezember den sozialdemokratischen Abgeordneten zur Abstimmung vorlegen.\"\n",
    "                ,u\"Sie sollen nicht mehr wie bisher gleichzeitig als Arbeitskreisleiter f\\xfcr bestimmte Fachgebiete zust\\xe4ndig sein, sondern zu allen Themen \\xabvom Paragraphen 218 bis zur Abschaffung der Gewerbekapitalsteuer\\xbb kompetent Stellung nehmen k\\xf6nnen.\"\n",
    "                ,u\"Es sei denkbar, da\\xdf es auch Gegenkandidaten zu den Vorschl\\xe4gen Kloses geben wird.\"\n",
    "                ,u\"D\\xe4ubler-Gmelin und Dre\\xdfler w\\xfcrden \\xabmit Sicherheit eine herausgehobene Rolle haben, wenn sie es wollen\\xbb, sagte Struck.\"\n",
    "                ,u\"Parteichef Bj\\xf6rn Engholm sagte vor dem Parteirat zu den Verlierern der Wahl vor zehn Tagen: \\xabIch w\\xfcnsche mir, da\\xdf Ihr beide und Hans-Ulrich Klose ein enges Team bildet, um zu zeigen: Sieger und Unterlegene ziehen an einem Strang.\"\n",
    "                ,u\"Bei der Leitung der Arbeitskreise, deren Zahl ebenfalls deutlich verringert werden soll, k\\xf6nnten \\xabneue K\\xf6pfe\\xbb in die F\\xfchrung kommen. Zur Disposition st\\xfcnden grunds\\xe4tzlich folgende Politiker und Arbeitsgebiete: D\\xe4ubler-Gmelin (Recht), Dre\\xdfler (Soziales), Matth\\xe4us-Maier (Finanzen), Norbert Gansel (Ausw\\xe4rtiges), Willfried Penner (Inneres) Ingrid Becker-Inglau (Frauen), Harald Sch\\xe4fer (Umwelt), Wolfgang Roth (Wirtschaft) und Thierse (ohne Arbeitskreis).\"\n",
    "                ]"
   ]
  },
  {
   "cell_type": "code",
   "execution_count": 10,
   "id": "cd107455",
   "metadata": {},
   "outputs": [],
   "source": [
    "def replace_umlauts(text):\n",
    "        \"\"\"This function replaces German umlauts with their respective substitutes.\"\"\"\n",
    "        replacements = {\n",
    "            u'ä': u'ae',\n",
    "            u'ö': u'oe',\n",
    "            u'ü': u'ue',\n",
    "            u'Ä': u'AE',\n",
    "            u'Ö': u'OE',\n",
    "            u'Ü': u'UE',\n",
    "            u'ß': u'ss'\n",
    "        }\n",
    "        for umlaut, substitute in replacements.items():\n",
    "            text = text.replace(umlaut, substitute)\n",
    "        return text"
   ]
  },
  {
   "cell_type": "code",
   "execution_count": 11,
   "id": "bebc7b3b",
   "metadata": {},
   "outputs": [],
   "source": [
    "# Apply the replace_umlauts function to the test sentences\n",
    "testSentences = [replace_umlauts(sent) for sent in testSentences]"
   ]
  },
  {
   "cell_type": "code",
   "execution_count": 12,
   "id": "2f1884cd",
   "metadata": {},
   "outputs": [
    {
     "name": "stdout",
     "output_type": "stream",
     "text": [
      "[u'Parteichef', u'Bjoern', u'Engholm', u'sagte', u'vor', u'dem', u'Parteirat', u'zu', u'den', u'Verlierern', u'der', u'Wahl', u'vor', u'zehn', u'Tagen', u':', u'\\xab', u'Ich', u'wuensche', u'mir', u',', u'dass', u'Ihr', u'beide', u'und', u'Hans-Ulrich', u'Klose', u'ein', u'enges', u'Team', u'bildet', u',', u'um', u'zu', u'zeigen', u':', u'Sieger', u'und', u'Unterlegene', u'ziehen', u'an', u'einem', u'Strang', u'.']\n",
      "[u'Parteichef', u'Bjoern', u'Engholm', u'sagte', u'vor', u'dem', u'Parteirat', u'zu', u'den', u'Verlierern', u'der', u'Wahl', u'vor', u'zehn', u'Tagen', u':', u'\\xab', u'Ich', u'wuensche', u'mir', u',', u'dass', u'ihr', u'beide', u'und', u'Hans-Ulrich', u'Klose', u'ein', u'enges', u'Team', u'bildet', u',', u'um', u'zu', u'zeigen', u':', u'Sieger', u'und', u'unterlegene', u'ziehen', u'an', u'einem', u'Strang', u'.']\n",
      "-------------------\n",
      "Accuracy: 99.34%\n"
     ]
    }
   ],
   "source": [
    "evaluateTrueCaser(testSentences, wordCasingLookup, uniDist, backwardBiDist, forwardBiDist, trigramDist)"
   ]
  },
  {
   "cell_type": "markdown",
   "id": "f4d71605",
   "metadata": {},
   "source": [
    "Evaluate the truecasing model using 100 randomly chosen sentences from 1000 articles that were not utilized in the model training process."
   ]
  },
  {
   "cell_type": "code",
   "execution_count": 13,
   "id": "fc64f4d8",
   "metadata": {},
   "outputs": [],
   "source": [
    "data_test = data['texts'][2000000:2001000]\n",
    "\n",
    "data_test = data_test.tolist()\n",
    "sentences = []\n",
    "\n",
    "# Split the texts into sentences\n",
    "for text in data_test:\n",
    "    sentences.extend(sent_tokenize(text))\n",
    "    \n",
    "# Pick 100 random sentences\n",
    "random_sentences = random.sample(sentences, 100)"
   ]
  },
  {
   "cell_type": "code",
   "execution_count": 14,
   "id": "e67d8b83",
   "metadata": {},
   "outputs": [],
   "source": [
    "# Apply the replace_umlauts function to the test sentences\n",
    "random_sentences = [replace_umlauts(sent) for sent in random_sentences]"
   ]
  },
  {
   "cell_type": "code",
   "execution_count": 15,
   "id": "f5e43caf",
   "metadata": {},
   "outputs": [
    {
     "name": "stdout",
     "output_type": "stream",
     "text": [
      "[u'Rund', u'die', u'Haelfte', u'der', u'Stellen', u'faellt', u'weg', u'in', u'der', u'Flaeche', u',', u'wo', u'unter', u'anderem', u'die', u'Vertriebsstruktur', u'verschlankt', u'wird', u'und', u'auch', u'Fuehrungspositionen', u'gestrichen', u'werden', u'.']\n",
      "[u'Rund', u'die', u'Haelfte', u'der', u'Stellen', u'faellt', u'Weg', u'in', u'der', u'Flaeche', u',', u'wo', u'unter', u'anderem', u'die', u'Vertriebsstruktur', u'verschlankt', u'wird', u'und', u'auch', u'Fuehrungspositionen', u'gestrichen', u'werden', u'.']\n",
      "-------------------\n",
      "[u'Zudem', u'verbringen', u'sie', u'weniger', u'Zeit', u'zu', u'Hause', u',', u'weil', u'feste', u'Fernsehzeiten', u'und', u'der', u'heimische', u'PC', u'durch', u'Internet', u'und', u'Smartphone', u'keine', u'Rolle', u'mehr', u'spielen', u':', u'Fuer', u'die', u'\\xab', u'Out', u'of', u'home', u'\\xbb', u'-Werbung', u'sind', u'das', u'guenstige', u'Entwicklungen', u'.']\n",
      "[u'Zudem', u'verbringen', u'sie', u'weniger', u'Zeit', u'zu', u'Hause', u',', u'weil', u'feste', u'Fernsehzeiten', u'und', u'der', u'heimische', u'PC', u'durch', u'Internet', u'und', u'Smartphone', u'keine', u'Rolle', u'mehr', u'spielen', u':', u'fuer', u'die', u'\\xab', u'Out', u'of', u'Home', u'\\xbb', u'-Werbung', u'sind', u'das', u'guenstige', u'Entwicklungen', u'.']\n",
      "-------------------\n",
      "[u'Madrid', u'Gut', u'sechs', u'Wochen', u'nach', u'den', u'Parlamentswahlen', u'in', u'Spanien', u'hat', u'Koenig', u'Felipe', u'VI', u'.']\n",
      "[u'Madrid', u'gut', u'sechs', u'Wochen', u'nach', u'den', u'Parlamentswahlen', u'in', u'Spanien', u'hat', u'Koenig', u'Felipe', u'VI', u'.']\n",
      "-------------------\n",
      "[u'Die', u'abschreibungsfaehigen', u'Kosten', u'werden', u'jedoch', u'auf', u'3000', u'Euro', u'je', u'Quadratmeter', u'Wohnflaeche', u'begrenzt', u'.']\n",
      "[u'Die', u'Abschreibungsfaehigen', u'Kosten', u'werden', u'jedoch', u'auf', u'3000', u'Euro', u'je', u'Quadratmeter', u'Wohnflaeche', u'begrenzt', u'.']\n",
      "-------------------\n",
      "[u'In', u'Brandenburg', u'an', u'der', u'Havel', u'muss', u'man', u'Zweijaehrige', u',', u'die', u'nicht', u'in', u'einer', u'Tagesbetreuung', u'sind', u',', u'fast', u'mit', u'der', u'Lupe', u'suchen', u':', u'Die', u'Betreuungsquote', u'liegt', u'bei', u'98,8', u'Prozent', u'.']\n",
      "[u'In', u'Brandenburg', u'an', u'der', u'Havel', u'muss', u'man', u'zweijaehrige', u',', u'die', u'nicht', u'in', u'einer', u'Tagesbetreuung', u'sind', u',', u'fast', u'mit', u'der', u'Lupe', u'suchen', u':', u'Die', u'Betreuungsquote', u'liegt', u'bei', u'98,8', u'Prozent', u'.']\n",
      "-------------------\n",
      "[u'Januar', u'ueber', u'die', u'Absicht', u'informiert', u',', u'1,7', u'Millionen', u'weitere', u'Wagen', u'zurueckzurufen', u',', u'berichtete', u'das', u'Fachblatt', u'\\xab', u'Automotive', u'News', u'\\xbb', u'am', u'Mittwoch', u'unter', u'Berufung', u'auf', u'betroffene', u'Vertragshaendler', u'.']\n",
      "[u'Januar', u'ueber', u'die', u'Absicht', u'informiert', u',', u'1,7', u'Millionen', u'weitere', u'Wagen', u'zurueckzurufen', u',', u'berichtete', u'das', u'Fachblatt', u'\\xab', u'Automotive', u'News', u'\\xbb', u'am', u'Mittwoch', u'unter', u'Berufung', u'auf', u'Betroffene', u'Vertragshaendler', u'.']\n",
      "-------------------\n",
      "[u'\\xab', u'Nichts', u'davon', u'stimmt.', u'\\xbb', u'An', u'die', u'afghanische', u'Bevoelkerung', u'appellierte', u'er', u':', u'\\xab', u'Setzt', u'eure', u'Zukunft', u'in', u'dieses', u'Land', u'.']\n",
      "[u'\\xab', u'nichts', u'davon', u'stimmt.', u'\\xbb', u'an', u'die', u'afghanische', u'Bevoelkerung', u'appellierte', u'er', u':', u'\\xab', u'setzt', u'eure', u'Zukunft', u'in', u'dieses', u'Land', u'.']\n",
      "-------------------\n",
      "[u'Stuttgart', u'Vor', u'der', u'Landtagswahl', u'in', u'Baden-Wuerttemberg', u'hat', u'Gruenen-Parteichef', u'Cem', u'OEzdemir', u'die', u'Merkel-Anhaenger', u'in', u'der', u'CDU', u'aufgerufen', u',', u'sich', u'fuer', u'Ministerpraesident', u'Winfried', u'Kretschmann', u'von', u'den', u'Gruenen', u'zu', u'entscheiden', u'.']\n",
      "[u'Stuttgart', u'vor', u'der', u'Landtagswahl', u'in', u'Baden-Wuerttemberg', u'hat', u'Gruenen-Parteichef', u'Cem', u'OEzdemir', u'die', u'Merkel-Anhaenger', u'in', u'der', u'CDU', u'aufgerufen', u',', u'sich', u'fuer', u'Ministerpraesident', u'Winfried', u'Kretschmann', u'von', u'den', u'Gruenen', u'zu', u'entscheiden', u'.']\n",
      "-------------------\n",
      "[u'Doch', u'auch', u'wenn', u'er', u'vor', u'einiger', u'Zeit', u'seine', u'Parkinson-Erkrankung', u'oeffentlich', u'gemacht', u'hat', u',', u'auch', u'wenn', u'er', u'seit', u'Jahren', u'in', u'einer', u'Seniorenresidenz', u'in', u'Muenchen', u'lebt', u',', u'auch', u'wenn', u'er', u'sich', u'beim', u'Gehen', u'auf', u'einen', u'Stock', u'stuetzt', u'-', u'wenn', u'Vogel', u'das', u'Wort', u'ergreift', u',', u'sind', u'ihm', u'die', u'90', u'Jahre', u'kaum', u'anzumerken', u'.']\n",
      "[u'Doch', u'auch', u'wenn', u'er', u'vor', u'einiger', u'Zeit', u'seine', u'Parkinson-Erkrankung', u'oeffentlich', u'gemacht', u'hat', u',', u'auch', u'wenn', u'er', u'seit', u'Jahren', u'in', u'einer', u'Seniorenresidenz', u'in', u'Muenchen', u'lebt', u',', u'auch', u'wenn', u'er', u'sich', u'beim', u'gehen', u'auf', u'einen', u'Stock', u'stuetzt', u'-', u'wenn', u'Vogel', u'das', u'Wort', u'ergreift', u',', u'sind', u'ihm', u'die', u'90', u'Jahre', u'kaum', u'anzumerken', u'.']\n",
      "-------------------\n",
      "Accuracy: 99.32%\n"
     ]
    }
   ],
   "source": [
    "evaluateTrueCaser(random_sentences, wordCasingLookup, uniDist, backwardBiDist, forwardBiDist, trigramDist)"
   ]
  },
  {
   "cell_type": "code",
   "execution_count": 16,
   "id": "e7a28d6f",
   "metadata": {},
   "outputs": [
    {
     "name": "stderr",
     "output_type": "stream",
     "text": [
      "C:\\ProgramData\\Anaconda3\\envs\\py27\\lib\\site-packages\\sacremoses\\truecase.py:26: UserWarning: You should really be using Python3!!! Tick tock, tick tock, https://pythonclock.org/\n",
      "  \"You should really be using Python3!!! \"\n"
     ]
    }
   ],
   "source": [
    "from Truecaser import *\n",
    "import nltk\n",
    "import string\n",
    "import PredictTruecaser\n",
    "from nltk.tokenize.treebank import TreebankWordDetokenizer\n",
    "from sacremoses import MosesTokenizer, MosesDetokenizer # detokenizing package\n",
    "md = MosesDetokenizer() "
   ]
  },
  {
   "cell_type": "code",
   "execution_count": 17,
   "id": "25dda7cc",
   "metadata": {},
   "outputs": [],
   "source": [
    "# Define a test sentence for demonstration\n",
    "test_sentence = 'dieses wort ist falsch geschrieben. dieser satz ist ein test.'"
   ]
  },
  {
   "cell_type": "code",
   "execution_count": 18,
   "id": "6dda4419",
   "metadata": {},
   "outputs": [
    {
     "name": "stdout",
     "output_type": "stream",
     "text": [
      "Dieses Wort ist falsch geschrieben. Dieser Satz ist ein Test.\n"
     ]
    }
   ],
   "source": [
    "corr_sent = getTrueCase(nltk.word_tokenize(test_sentence), 'as-is', wordCasingLookup, uniDist, backwardBiDist, forwardBiDist, \n",
    "                       trigramDist)\n",
    "corr_sent = md.detokenize(corr_sent).replace(u\"``\", u' \" ').replace(u\"''\", u' \" ').replace(u\"'\", u\" \")\n",
    "print(corr_sent)"
   ]
  },
  {
   "cell_type": "code",
   "execution_count": 26,
   "id": "48096d6b",
   "metadata": {},
   "outputs": [],
   "source": [
    "# Load articles that we want to correct\n",
    "data_truecase = pd.read_csv(os.getcwd().replace('truecaser-master', '') + 'dpa_case_fix.csv', encoding = 'utf-8', sep=';', index_col = 0,  keep_default_na=False,\n",
    "                   dtype = {'rubrics': 'str', \n",
    "                            'source': 'str',\n",
    "                            'keywords': 'str',\n",
    "                            'title': 'str',\n",
    "                            'city': 'str',\n",
    "                            'genre': 'str',\n",
    "                            'wordcount': 'str'},\n",
    "                  converters = {'paragraphs': literal_eval})"
   ]
  },
  {
   "cell_type": "code",
   "execution_count": 27,
   "id": "d35f9422",
   "metadata": {},
   "outputs": [
    {
     "data": {
      "text/plain": [
       "u\"\\xabNeue Osnabr\\xfccker Zeitung\\xbb zu deutsch-sowjetische Beziehungen. es war ein gutes omen fuer die beiderseitigen beziehungen, dass helmut kohl erstmalig im moskauer fernsehen den voelkern der sowjetunion die neujahrsgruesse und -wuensche der deutschen uebermitteln konnte. solche gesten dienen dem verstaendnis untereinander und foerdern die vertrauensbildung. zugleich hat dieser auftritt des kanzlers besonderen symbolwert. er kennzeichnet den tiefgreifenden wandel, der sich im vergangenen jahr im verhaeltnis zur oestlichen grossmacht vollzogen hat. dass der regierungschef eines vereinten deutschland 1991 zu recht von einer ''neu begruendeten freundschaft'' sprechen konnte, waere selbst vor einem jahr kaum vorstellbar gewesen. ein indiz mehr, wie schnell sich das rad der geschichte gedreht hat. dennoch ist der ausblick auf die weitere entwicklung nicht frei von sorgen. der ruecktritt aussenminister schewardnadses, ..., bedeutet einen unsicherheitsfaktor in diesem fuer das verhaeltnis zwischen den beiden staaten bedeutsamen jahr. michail gorbatschow hat zwar kontinuitaet in der aussenpolitik zugesichert, aber auch seine formale machtfuelle garantiert noch keine sicheren mehrheiten ...\""
      ]
     },
     "execution_count": 27,
     "metadata": {},
     "output_type": "execute_result"
    }
   ],
   "source": [
    "# An example of an article with incorrect capitalization\n",
    "data_truecase['texts'].iloc[15]"
   ]
  },
  {
   "cell_type": "code",
   "execution_count": 28,
   "id": "482069f9",
   "metadata": {},
   "outputs": [],
   "source": [
    "# Use the trained truecasing model to correct articles\n",
    "truecase_art = []\n",
    "truecase_titles = []\n",
    "\n",
    "for i, text in data_truecase['texts'].iteritems():\n",
    "    title = data_truecase.loc[i, 'title']\n",
    "    \n",
    "    # Check if the title has at least one uppercase letter, or if it contains 'Ae', 'Ue', 'Oe', or '='\n",
    "    should_truecase_title = not any(c.isupper() for c in title) or any(substr in title for substr in ['Ae', 'Ue', 'Oe', '='])\n",
    "    \n",
    "    # Truecase title if it doesn't have uppercase letters or if it contains 'Ae', 'Ue', 'Oe', or '='\n",
    "    if should_truecase_title:\n",
    "        title_truecased = getTrueCase(nltk.word_tokenize(title.lower()), 'as-is', wordCasingLookup, uniDist, backwardBiDist, forwardBiDist, trigramDist)\n",
    "        title_truecased = md.detokenize(title_truecased).replace(u\"``\", u' \" ').replace(u\"''\", u' \" ').replace(u\"'\", u\" \")\n",
    "    else:\n",
    "        title_truecased = title\n",
    "    \n",
    "    # Remove the original title from the text\n",
    "    text_without_title = re.sub(re.escape(title), '', text, count=1)\n",
    "    \n",
    "    # Truecase the text without the title\n",
    "    truecased_text = getTrueCase(nltk.word_tokenize(text_without_title.lower()), 'as-is', wordCasingLookup, uniDist, backwardBiDist, forwardBiDist, trigramDist)\n",
    "    truecased_text = md.detokenize(truecased_text).replace(u\"``\", u' \" ').replace(u\"''\", u' \" ').replace(u\"'\", u\" \")\n",
    "    \n",
    "    # Merge the truecased title with the truecased text\n",
    "    truecased_article = title_truecased + ' ' + truecased_text\n",
    "    \n",
    "    truecase_art.append(truecased_article)\n",
    "    truecase_titles.append(title_truecased)"
   ]
  },
  {
   "cell_type": "code",
   "execution_count": 29,
   "id": "0cc49906",
   "metadata": {},
   "outputs": [
    {
     "data": {
      "text/plain": [
       "u'\\xabNeue Osnabr\\xfccker Zeitung\\xbb zu deutsch-sowjetische Beziehungen. Es war ein gutes Omen fuer die beiderseitigen Beziehungen, dass Helmut Kohl erstmalig im Moskauer Fernsehen den Voelkern der Sowjetunion die Neujahrsgruesse und -wuensche der Deutschen uebermitteln konnte. Solche Gesten dienen dem Verstaendnis untereinander und foerdern die Vertrauensbildung. Zugleich hat dieser Auftritt des Kanzlers besonderen Symbolwert. Er kennzeichnet den tiefgreifenden Wandel, der sich im vergangenen Jahr im Verhaeltnis zur oestlichen Grossmacht vollzogen hat. Dass der Regierungschef eines vereinten Deutschland 1991 zu Recht von einer  \" neu begruendeten Freundschaft  \" sprechen konnte, waere selbst vor einem Jahr kaum vorstellbar gewesen. Ein Indiz mehr, wie schnell sich das Rad der Geschichte gedreht hat. Dennoch ist der Ausblick auf die weitere Entwicklung nicht frei von Sorgen. Der Ruecktritt Aussenminister Schewardnadses,..., bedeutet einen Unsicherheitsfaktor in diesem fuer das Verhaeltnis zwischen den beiden Staaten bedeutsamen Jahr. Michail Gorbatschow hat zwar Kontinuitaet in der Aussenpolitik zugesichert, aber auch seine formale Machtfuelle garantiert noch keine sicheren Mehrheiten...'"
      ]
     },
     "execution_count": 29,
     "metadata": {},
     "output_type": "execute_result"
    }
   ],
   "source": [
    "truecase_art[15]"
   ]
  },
  {
   "cell_type": "code",
   "execution_count": 30,
   "id": "db7fed10",
   "metadata": {},
   "outputs": [],
   "source": [
    "data_truecase['texts'] = truecase_art\n",
    "data_truecase['title'] = truecase_titles"
   ]
  },
  {
   "cell_type": "code",
   "execution_count": 31,
   "id": "4c79d43c",
   "metadata": {},
   "outputs": [
    {
     "data": {
      "text/plain": [
       "u'\\xabNeue Osnabr\\xfccker Zeitung\\xbb zu deutsch-sowjetische Beziehungen. Es war ein gutes Omen fuer die beiderseitigen Beziehungen, dass Helmut Kohl erstmalig im Moskauer Fernsehen den Voelkern der Sowjetunion die Neujahrsgruesse und -wuensche der Deutschen uebermitteln konnte. Solche Gesten dienen dem Verstaendnis untereinander und foerdern die Vertrauensbildung. Zugleich hat dieser Auftritt des Kanzlers besonderen Symbolwert. Er kennzeichnet den tiefgreifenden Wandel, der sich im vergangenen Jahr im Verhaeltnis zur oestlichen Grossmacht vollzogen hat. Dass der Regierungschef eines vereinten Deutschland 1991 zu Recht von einer  \" neu begruendeten Freundschaft  \" sprechen konnte, waere selbst vor einem Jahr kaum vorstellbar gewesen. Ein Indiz mehr, wie schnell sich das Rad der Geschichte gedreht hat. Dennoch ist der Ausblick auf die weitere Entwicklung nicht frei von Sorgen. Der Ruecktritt Aussenminister Schewardnadses,..., bedeutet einen Unsicherheitsfaktor in diesem fuer das Verhaeltnis zwischen den beiden Staaten bedeutsamen Jahr. Michail Gorbatschow hat zwar Kontinuitaet in der Aussenpolitik zugesichert, aber auch seine formale Machtfuelle garantiert noch keine sicheren Mehrheiten...'"
      ]
     },
     "execution_count": 31,
     "metadata": {},
     "output_type": "execute_result"
    }
   ],
   "source": [
    "data_truecase['texts'].iloc[15]"
   ]
  },
  {
   "cell_type": "code",
   "execution_count": 32,
   "id": "fb1b35f8",
   "metadata": {},
   "outputs": [],
   "source": [
    "data_truecase.to_csv(os.path.join(os.getcwd().replace('truecaser-master', ''), 'dpa_cases_fixed.csv'), encoding='utf-8-sig', sep = ';')"
   ]
  }
 ],
 "metadata": {
  "kernelspec": {
   "display_name": "Python 2",
   "language": "python",
   "name": "python2"
  },
  "language_info": {
   "codemirror_mode": {
    "name": "ipython",
    "version": 2
   },
   "file_extension": ".py",
   "mimetype": "text/x-python",
   "name": "python",
   "nbconvert_exporter": "python",
   "pygments_lexer": "ipython2",
   "version": "2.7.15"
  }
 },
 "nbformat": 4,
 "nbformat_minor": 5
}
