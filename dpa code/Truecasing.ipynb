{
 "cells": [
  {
   "cell_type": "code",
   "execution_count": 1,
   "id": "e7bf2bca",
   "metadata": {},
   "outputs": [],
   "source": [
    "import _pickle as cPickle\n",
    "import os\n",
    "import numpy as np\n",
    "import nltk\n",
    "import nltk.corpus\n",
    "import pandas as pd"
   ]
  },
  {
   "cell_type": "markdown",
   "id": "90e5072e",
   "metadata": {},
   "source": [
    "# Truecasing"
   ]
  },
  {
   "cell_type": "markdown",
   "id": "e9cd8bfe",
   "metadata": {},
   "source": [
    "A small fraction of the dpa articles were missing all uppercases. To fix this, we used a model for truecasing by Nils Reimers\n",
    "(https://github.com/nreimers) which is based on Lucian Vlad Lita et al. (2003)."
   ]
  },
  {
   "cell_type": "markdown",
   "id": "5cdff556",
   "metadata": {},
   "source": [
    "### NOTE: The following model was taken from https://github.com/nreimers/truecaser. "
   ]
  },
  {
   "cell_type": "code",
   "execution_count": 2,
   "id": "9c478784",
   "metadata": {},
   "outputs": [],
   "source": [
    "# Select path to model\n",
    "path = 'D:\\\\Studium\\\\PhD\\\\Media Tenor\\\\Preprocessing\\\\Truecasing\\\\truecaser-master'\n",
    "os.chdir(path)"
   ]
  },
  {
   "cell_type": "code",
   "execution_count": 3,
   "id": "6d03bbf8",
   "metadata": {},
   "outputs": [],
   "source": [
    "from TrainFunctions import *\n",
    "from EvaluateTruecaser import defaultTruecaserEvaluation"
   ]
  },
  {
   "cell_type": "code",
   "execution_count": 4,
   "id": "eee9c58a",
   "metadata": {},
   "outputs": [],
   "source": [
    "# Initialize frequency distributions for bigrams\n",
    "uniDist = nltk.FreqDist()\n",
    "backwardBiDist = nltk.FreqDist() \n",
    "forwardBiDist = nltk.FreqDist() \n",
    "trigramDist = nltk.FreqDist() \n",
    "wordCasingLookup = {}"
   ]
  },
  {
   "cell_type": "code",
   "execution_count": 5,
   "id": "e29f01a6",
   "metadata": {},
   "outputs": [],
   "source": [
    "# load trainings data\n",
    "data = pd.read_csv(r'D:\\\\Studium\\\\PhD\\\\Media Tenor\\\\Results\\\\dpa_prepro_step6.csv', dtype = {'source': 'string', 'genre': 'string'})#, encoding = 'utf-8', sep=';')\n",
    "data.dropna(subset = ['texts'], inplace = True)"
   ]
  },
  {
   "cell_type": "code",
   "execution_count": 6,
   "id": "71d47179",
   "metadata": {},
   "outputs": [],
   "source": [
    "# Select data for training truecasing model and tokenize text\n",
    "data_sample = [nltk.word_tokenize(sentence) for sentence in data['texts'][1900000:1910000]]"
   ]
  },
  {
   "cell_type": "code",
   "execution_count": 7,
   "id": "adaf62af",
   "metadata": {},
   "outputs": [],
   "source": [
    "# train truecaser model\n",
    "updateDistributionsFromSentences(data_sample, wordCasingLookup, uniDist, backwardBiDist, forwardBiDist, trigramDist)\n",
    "\n",
    "# Save distributions\n",
    "f = open('distributions.obj', 'wb')\n",
    "cPickle.dump(uniDist, f, -1)\n",
    "cPickle.dump(backwardBiDist, f, -1)\n",
    "cPickle.dump(forwardBiDist, f, -1)\n",
    "cPickle.dump(trigramDist, f, -1)\n",
    "cPickle.dump(wordCasingLookup, f, -1)\n",
    "f.close()"
   ]
  },
  {
   "cell_type": "code",
   "execution_count": 8,
   "id": "3d31c6bd",
   "metadata": {},
   "outputs": [
    {
     "name": "stdout",
     "output_type": "stream",
     "text": [
      "['Obwohl', 'der', 'Erwerb', 'von', 'Wohnungen', 'seit', '1974', 'fuer', 'Auslaender', 'weitgehend', 'verboten', 'sei', ',', 'haetten', 'diese', 'in', 'zahlreichen', 'Faellen', 'ueber', 'oesterreichische', 'Strohmaenner', 'Wohnungen', 'gekauft', '.']\n",
      "['Obwohl', 'der', 'Erwerb', 'von', 'Wohnungen', 'seit', '1974', 'Fuer', 'Auslaender', 'weitgehend', 'verboten', 'sei', ',', 'Haetten', 'diese', 'in', 'zahlreichen', 'Faellen', 'Ueber', 'Oesterreichische', 'Strohmaenner', 'Wohnungen', 'gekauft', '.']\n",
      "-------------------\n",
      "['So', 'seien', 'Menschen', 'im', 'oesterreichischen', 'Altersheim', 'als', 'Kaeufer', 'aufgetreten', ',', 'die', 'ihr', 'Eigentum', 'dem', 'deutschen', 'Anleger', 'vererbt', 'haetten', '.']\n",
      "['So', 'seien', 'Menschen', 'im', 'oesterreichischen', 'Altersheim', 'als', 'Kaeufer', 'aufgetreten', ',', 'die', 'ihr', 'Eigentum', 'dem', 'deutschen', 'Anleger', 'vererbt', 'Haetten', '.']\n",
      "-------------------\n",
      "['Bonn', '(', 'dpa', ')', '-', 'Die', 'Zusammensetzung', 'der', 'künftigen', 'SPD-Fraktionsspitze', 'um', 'den', 'neuen', 'Vorsitzenden', 'Hans-Ulrich', 'Klose', 'nimmt', 'allmählich', 'Konturen', 'an', '.']\n",
      "['Bonn', '(', 'dpa', ')', '-', 'Die', 'Zusammensetzung', 'der', 'künftigen', 'Spd-Fraktionsspitze', 'um', 'den', 'neuen', 'Vorsitzenden', 'Hans-Ulrich', 'Klose', 'nimmt', 'allmählich', 'Konturen', 'an', '.']\n",
      "-------------------\n",
      "['Die', 'bei', 'der', 'Wahl', 'des', 'Vorsitzenden', 'unterlegenen', 'Mitbewerber', 'Herta', 'Däubler-Gmelin', 'und', 'Rudolf', 'Dreßler', 'sollen', 'dem', 'Vernehmen', 'nach', 'zum', 'künftigen', 'Team', 'um', 'Klose', 'gehören', '.']\n",
      "['Die', 'bei', 'der', 'Wahl', 'des', 'Vorsitzenden', 'UNTERLEGENEN', 'Mitbewerber', 'Herta', 'Däubler-Gmelin', 'und', 'Rudolf', 'Dreßler', 'sollen', 'dem', 'Vernehmen', 'nach', 'zum', 'künftigen', 'Team', 'um', 'Klose', 'gehören', '.']\n",
      "-------------------\n",
      "['Dieser', 'will', 'seine', 'Pläne', 'für', 'eine', 'gestraffte', 'Fraktionsführung', 'am', '10', '.', 'Dezember', 'den', 'sozialdemokratischen', 'Abgeordneten', 'zur', 'Abstimmung', 'vorlegen', '.']\n",
      "['Dieser', 'will', 'seine', 'Pläne', 'für', 'eine', 'Gestraffte', 'Fraktionsführung', 'am', '10', '.', 'Dezember', 'den', 'Sozialdemokratischen', 'Abgeordneten', 'zur', 'Abstimmung', 'vorlegen', '.']\n",
      "-------------------\n",
      "['Sie', 'sollen', 'nicht', 'mehr', 'wie', 'bisher', 'gleichzeitig', 'als', 'Arbeitskreisleiter', 'für', 'bestimmte', 'Fachgebiete', 'zuständig', 'sein', ',', 'sondern', 'zu', 'allen', 'Themen', 'vom', 'Paragraphen', '218', 'bis', 'zur', 'Abschaffung', 'der', 'Gewerbekapitalsteuer', 'kompetent', 'Stellung', 'nehmen', 'können', '.']\n",
      "['Sie', 'sollen', 'nicht', 'mehr', 'wie', 'bisher', 'Gleichzeitig', 'als', 'Arbeitskreisleiter', 'für', 'bestimmte', 'Fachgebiete', 'zuständig', 'sein', ',', 'sondern', 'zu', 'allen', 'Themen', 'vom', 'Paragraphen', '218', 'bis', 'zur', 'Abschaffung', 'der', 'Gewerbekapitalsteuer', 'kompetent', 'Stellung', 'nehmen', 'können', '.']\n",
      "-------------------\n",
      "['Es', 'sei', 'denkbar', ',', 'daß', 'es', 'auch', 'Gegenkandidaten', 'zu', 'den', 'Vorschlägen', 'Kloses', 'geben', 'wird', '.']\n",
      "['Es', 'sei', 'denkbar', ',', 'Daß', 'es', 'auch', 'Gegenkandidaten', 'zu', 'den', 'Vorschlägen', 'Kloses', 'geben', 'wird', '.']\n",
      "-------------------\n",
      "['Däubler-Gmelin', 'und', 'Dreßler', 'würden', 'mit', 'Sicherheit', 'eine', 'herausgehobene', 'Rolle', 'haben', ',', 'wenn', 'sie', 'es', 'wollen', ',', 'sagte', 'Struck', '.']\n",
      "['Däubler-Gmelin', 'und', 'Dreßler', 'würden', 'mit', 'Sicherheit', 'eine', 'Herausgehobene', 'Rolle', 'haben', ',', 'wenn', 'sie', 'es', 'wollen', ',', 'sagte', 'Struck', '.']\n",
      "-------------------\n",
      "['Parteichef', 'Björn', 'Engholm', 'sagte', 'vor', 'dem', 'Parteirat', 'zu', 'den', 'Verlierern', 'der', 'Wahl', 'vor', 'zehn', 'Tagen', ':', 'Ich', 'wünsche', 'mir', ',', 'daß', 'Ihr', 'beide', 'und', 'Hans-Ulrich', 'Klose', 'ein', 'enges', 'Team', 'bildet', ',', 'um', 'zu', 'zeigen', ':', 'Sieger', 'und', 'Unterlegene', 'ziehen', 'an', 'einem', 'Strang', '.']\n",
      "['Parteichef', 'Björn', 'Engholm', 'sagte', 'vor', 'dem', 'Parteirat', 'zu', 'den', 'Verlierern', 'der', 'Wahl', 'vor', 'zehn', 'Tagen', ':', 'Ich', 'Wünsche', 'mir', ',', 'Daß', 'ihr', 'beide', 'und', 'Hans-Ulrich', 'Klose', 'ein', 'Enges', 'Team', 'bildet', ',', 'um', 'zu', 'zeigen', ':', 'Sieger', 'und', 'unterlegene', 'ziehen', 'an', 'einem', 'Strang', '.']\n",
      "-------------------\n",
      "['Bei', 'der', 'Leitung', 'der', 'Arbeitskreise', ',', 'deren', 'Zahl', 'ebenfalls', 'deutlich', 'verringert', 'werden', 'soll', ',', 'könnten', 'neue', 'Köpfe', 'in', 'die', 'Führung', 'kommen', '.', 'Zur', 'Disposition', 'stünden', 'grundsätzlich', 'folgende', 'Politiker', 'und', 'Arbeitsgebiete', ':', 'Däubler-Gmelin', '(', 'Recht', ')', ',', 'Dreßler', '(', 'Soziales', ')', ',', 'Matthäus-Maier', '(', 'Finanzen', ')', ',', 'Norbert', 'Gansel', '(', 'Auswärtiges', ')', ',', 'Willfried', 'Penner', '(', 'Inneres', ')', 'Ingrid', 'Becker-Inglau', '(', 'Frauen', ')', ',', 'Harald', 'Schäfer', '(', 'Umwelt', ')', ',', 'Wolfgang', 'Roth', '(', 'Wirtschaft', ')', 'und', 'Thierse', '(', 'ohne', 'Arbeitskreis', ')', '.']\n",
      "['Bei', 'der', 'Leitung', 'der', 'Arbeitskreise', ',', 'deren', 'Zahl', 'ebenfalls', 'deutlich', 'verringert', 'werden', 'soll', ',', 'könnten', 'neue', 'Köpfe', 'in', 'die', 'Führung', 'kommen', '.', 'zur', 'Disposition', 'stünden', 'grundsätzlich', 'folgende', 'Politiker', 'und', 'Arbeitsgebiete', ':', 'Däubler-Gmelin', '(', 'Recht', ')', ',', 'Dreßler', '(', 'Soziales', ')', ',', 'Matthäus-Maier', '(', 'Finanzen', ')', ',', 'Norbert', 'Gansel', '(', 'Auswärtiges', ')', ',', 'Willfried', 'Penner', '(', 'Inneres', ')', 'Ingrid', 'Becker-Inglau', '(', 'Frauen', ')', ',', 'Harald', 'Schäfer', '(', 'Umwelt', ')', ',', 'Wolfgang', 'Roth', '(', 'Wirtschaft', ')', 'und', 'Thierse', '(', 'ohne', 'Arbeitskreis', ')', '.']\n",
      "-------------------\n",
      "Accuracy: 96.39%\n"
     ]
    }
   ],
   "source": [
    "# Evaluate truecaser model\n",
    "defaultTruecaserEvaluation(wordCasingLookup, uniDist, backwardBiDist, forwardBiDist, trigramDist)"
   ]
  },
  {
   "cell_type": "code",
   "execution_count": 9,
   "id": "e7a28d6f",
   "metadata": {},
   "outputs": [],
   "source": [
    "from Truecaser import *\n",
    "import nltk\n",
    "import string\n",
    "import PredictTruecaser\n",
    "from nltk.tokenize.treebank import TreebankWordDetokenizer"
   ]
  },
  {
   "cell_type": "code",
   "execution_count": 10,
   "id": "25dda7cc",
   "metadata": {},
   "outputs": [],
   "source": [
    "# Define a test sentence for demonstration\n",
    "test_sentence = 'dieses wort ist falsch geschrieben. dieser satz ist ein test.'"
   ]
  },
  {
   "cell_type": "code",
   "execution_count": 11,
   "id": "a3e3d0b8",
   "metadata": {},
   "outputs": [
    {
     "name": "stdout",
     "output_type": "stream",
     "text": [
      "Dieses Wort ist falsch geschrieben. Dieser Satz ist ein Test.\n"
     ]
    }
   ],
   "source": [
    "corr_sent = getTrueCase(nltk.word_tokenize(test_sentence), 'title', wordCasingLookup, uniDist, backwardBiDist, forwardBiDist, \n",
    "                       trigramDist)\n",
    "\n",
    "corr_sent = \"\".join([\" \"+i if not i.startswith(\"'\") and i not in string.punctuation else i for i in corr_sent]).strip()\n",
    "#corr_sent = TreebankWordDetokenizer().detokenize(corr_sent)\n",
    "print(corr_sent)"
   ]
  },
  {
   "cell_type": "code",
   "execution_count": 12,
   "id": "001e4efc",
   "metadata": {},
   "outputs": [],
   "source": [
    "# Load articles which we want to correct\n",
    "data_truecase = pd.read_csv(r'D:\\\\Studium\\\\PhD\\\\Media Tenor\\\\Results\\\\dpa_case_fix.csv', dtype = {'source': 'string', 'genre': 'string'}, encoding = 'utf-8', sep=';')\n",
    "data_truecase.dropna(subset = ['texts'], inplace = True)"
   ]
  },
  {
   "cell_type": "code",
   "execution_count": 13,
   "id": "db4a6464",
   "metadata": {},
   "outputs": [
    {
     "data": {
      "text/plain": [
       "\"new york (vwd) - die aktienboerse in new york konnte am donnerstag ihre im sitzungsverlauf gesehenen kursgewinne nahezu behaupten. der dow-jones-index fuer 30 industriewerte schloss mit 2.643,07 um 24,01 punkte bzw 0,92 prozent ueber vortagesschluss. auch die breiter gefassten marktbarometer sowie die branchenindizes lagen im plusterritorium. umgesetzt wurden 223,15 (169,44) millionen aktien, wobei die kursgewinner gegenueber den -verlierern eine fuehrung von rund drei zu eins behaupteten. haendler fuehrten die aufschlaege auf hoffnungen am markt zurueck, wonach das federal reserve board in kuerze weitere zinssenkungen vornehmen werde, um die us-konjunktur anzukurbeln. die hoffnungen waren am mittwoch durch aeusserungen von fed-chairman alan greenspan genaehrt worden, der angesichts des 'credit crunch' der banken in den usa eine senkung der us-tagesgeldsaetze befuerwortet hatte. ausserdem, so die boersianer, habe der markt eine stuetze durch die wieder nachgebenden oelpreise erhalten. positiv auf das geschaeft habe sich zudem die rede von us-praesident bush am mittwoch abend vor reservisten ausgewirkt, in der bush erklaerte, die alliierten streitkraefte haetten im krieg am persischen golf die lufthoheit errungen. darueber hinaus wurden im sitzungsverlauf charttechnische marken nach oben durchstossen, worauf haendler mit verstaerkten anschaffungen reagierten.\""
      ]
     },
     "execution_count": 13,
     "metadata": {},
     "output_type": "execute_result"
    }
   ],
   "source": [
    "data_truecase['texts'].iloc[15]"
   ]
  },
  {
   "cell_type": "code",
   "execution_count": 14,
   "id": "6a7d007f",
   "metadata": {},
   "outputs": [],
   "source": [
    "# Use trained truecaser model to correct articles\n",
    "truecase_art = []\n",
    "\n",
    "for text in data_truecase['texts']:\n",
    "    truecase_art.append(getTrueCase(nltk.word_tokenize(text), 'title', wordCasingLookup, uniDist, backwardBiDist, forwardBiDist, trigramDist))"
   ]
  },
  {
   "cell_type": "code",
   "execution_count": 15,
   "id": "c5c49525",
   "metadata": {},
   "outputs": [],
   "source": [
    "truecase_art = [\"\".join([\" \"+i if not i.startswith(\"'\") and i not in string.punctuation else i for i in article]).strip() for article in truecase_art]"
   ]
  },
  {
   "cell_type": "code",
   "execution_count": 16,
   "id": "db7fed10",
   "metadata": {},
   "outputs": [],
   "source": [
    "data_truecase['texts'] = truecase_art"
   ]
  },
  {
   "cell_type": "code",
   "execution_count": 17,
   "id": "4c79d43c",
   "metadata": {},
   "outputs": [
    {
     "data": {
      "text/plain": [
       "\"New York( Vwd)- Die Aktienboerse in New York konnte am Donnerstag ihre im Sitzungsverlauf Gesehenen Kursgewinne nahezu behaupten. Der Dow-Jones-Index Fuer 30 Industriewerte schloss mit 2.643,07 um 24,01 Punkte bzw 0,92 Prozent Ueber Vortagesschluss. Auch die breiter gefassten Marktbarometer sowie die Branchenindizes lagen im Plusterritorium. umgesetzt wurden 223,15( 169,44) Millionen Aktien, wobei die Kursgewinner Gegenueber den -Verlierern eine Fuehrung von rund drei zu eins behaupteten. Haendler Fuehrten die Aufschlaege auf Hoffnungen am Markt Zurueck, wonach das Federal Reserve Board in Kuerze weitere Zinssenkungen vornehmen werde, um die US-Konjunktur anzukurbeln. Die Hoffnungen waren am Mittwoch durch Aeusserungen von Fed-Chairman Alan Greenspan Genaehrt worden, der angesichts des'Credit Crunch' der Banken in den USA eine Senkung der Us-Tagesgeldsaetze Befuerwortet hatte. Ausserdem, so die Boersianer, habe der Markt eine Stuetze durch die wieder nachgebenden Oelpreise erhalten. positiv auf das Geschaeft habe sich zudem die Rede von Us-Praesident Bush am Mittwoch Abend vor Reservisten ausgewirkt, in der Bush Erklaerte, die Alliierten Streitkraefte Haetten im Krieg am Persischen Golf die Lufthoheit errungen. Darueber hinaus wurden im Sitzungsverlauf charttechnische Marken nach oben Durchstossen, worauf Haendler mit Verstaerkten Anschaffungen reagierten.\""
      ]
     },
     "execution_count": 17,
     "metadata": {},
     "output_type": "execute_result"
    }
   ],
   "source": [
    "data_truecase['texts'].iloc[15]"
   ]
  },
  {
   "cell_type": "code",
   "execution_count": 18,
   "id": "fb1b35f8",
   "metadata": {},
   "outputs": [],
   "source": [
    "data_truecase.to_csv('D:\\\\Studium\\\\PhD\\\\Media Tenor\\\\Results\\\\dpa_cases_fixed.csv', encoding='utf-8-sig', sep = ';')"
   ]
  },
  {
   "cell_type": "code",
   "execution_count": null,
   "id": "eb7cc3de",
   "metadata": {},
   "outputs": [],
   "source": []
  }
 ],
 "metadata": {
  "kernelspec": {
   "display_name": "Python 3 (ipykernel)",
   "language": "python",
   "name": "python3"
  },
  "language_info": {
   "codemirror_mode": {
    "name": "ipython",
    "version": 3
   },
   "file_extension": ".py",
   "mimetype": "text/x-python",
   "name": "python",
   "nbconvert_exporter": "python",
   "pygments_lexer": "ipython3",
   "version": "3.8.8"
  }
 },
 "nbformat": 4,
 "nbformat_minor": 5
}
