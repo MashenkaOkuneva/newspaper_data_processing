{
 "cells": [
  {
   "cell_type": "code",
   "execution_count": 1,
   "id": "e7bf2bca",
   "metadata": {},
   "outputs": [],
   "source": [
    "import cPickle\n",
    "import os\n",
    "import numpy as np\n",
    "import nltk\n",
    "import nltk.corpus\n",
    "import pandas as pd\n",
    "import sys\n",
    "import multiprocessing as mp\n",
    "import text_tok\n",
    "import random\n",
    "\n",
    "from nltk import sent_tokenize\n",
    "from ast import literal_eval\n",
    "from datetime import datetime\n",
    "\n",
    "# Set the number of cores to use\n",
    "NUM_CORE = mp.cpu_count()-4"
   ]
  },
  {
   "cell_type": "markdown",
   "id": "90e5072e",
   "metadata": {},
   "source": [
    "# Truecasing"
   ]
  },
  {
   "cell_type": "markdown",
   "id": "e9cd8bfe",
   "metadata": {},
   "source": [
    "A small fraction of the dpa articles were missing all uppercase letters. To fix this, we used a truecasing model by Nils Reimers\n",
    "(https://github.com/nreimers/truecaser), which is based on the work of Lucian Vlad Lita et al. (2003)."
   ]
  },
  {
   "cell_type": "code",
   "execution_count": 2,
   "id": "9c478784",
   "metadata": {},
   "outputs": [],
   "source": [
    "# Set the path to the truecasing model\n",
    "path = os.path.join(os.getcwd(), 'truecaser-master')\n",
    "os.chdir(path)\n",
    "sys.path.insert(1, os.getcwd().replace('\\\\truecaser-master', ''))"
   ]
  },
  {
   "cell_type": "code",
   "execution_count": 3,
   "id": "6d03bbf8",
   "metadata": {},
   "outputs": [],
   "source": [
    "from TrainFunctions import *\n",
    "from EvaluateTruecaser import evaluateTrueCaser"
   ]
  },
  {
   "cell_type": "code",
   "execution_count": 4,
   "id": "eee9c58a",
   "metadata": {},
   "outputs": [],
   "source": [
    "# Initialize frequency distributions for bigrams and trigrams\n",
    "uniDist = nltk.FreqDist()\n",
    "backwardBiDist = nltk.FreqDist() \n",
    "forwardBiDist = nltk.FreqDist() \n",
    "trigramDist = nltk.FreqDist() \n",
    "wordCasingLookup = {}"
   ]
  },
  {
   "cell_type": "code",
   "execution_count": 5,
   "id": "63659a2c",
   "metadata": {},
   "outputs": [],
   "source": [
    "# Load training data\n",
    "data = pd.read_csv(os.path.join(os.getcwd().replace('truecaser-master', ''), 'dpa_prepro_step11.csv'), encoding = 'utf-8', index_col = 0,  keep_default_na=False,\n",
    "                   dtype = {'rubrics': 'str', \n",
    "                            'source': 'str',\n",
    "                            'keywords': 'str',\n",
    "                            'title': 'str',\n",
    "                            'city': 'str',\n",
    "                            'genre': 'str',\n",
    "                            'wordcount': 'str'},\n",
    "                  converters = {'paragraphs': literal_eval})"
   ]
  },
  {
   "cell_type": "code",
   "execution_count": 6,
   "id": "b3df04a7",
   "metadata": {},
   "outputs": [],
   "source": [
    "# Select the subset of data (1,000,000 articles) for training the truecasing model\n",
    "data_sample = data['texts'][1000000:2000000]"
   ]
  },
  {
   "cell_type": "markdown",
   "id": "043dd0bc",
   "metadata": {},
   "source": [
    "During the preprocessing of the training set, texts are tokenized and umlauts are replaced with their respective non-umlaut equivalents using the function `text_tok`. This step is necessary as the dataset to which the model will be applied has umlauts already replaced."
   ]
  },
  {
   "cell_type": "code",
   "execution_count": 7,
   "id": "f3e3f8f8",
   "metadata": {},
   "outputs": [
    {
     "name": "stdout",
     "output_type": "stream",
     "text": [
      "0:03:10.148000\n"
     ]
    }
   ],
   "source": [
    "startTime = datetime.now()\n",
    "\n",
    "if __name__ == \"__main__\":\n",
    "    pool = mp.Pool(NUM_CORE)\n",
    "    tokens = pool.map(text_tok.text_tok, [text for text in data_sample]) \n",
    "    pool.close()\n",
    "    pool.join()\n",
    "    \n",
    "print(datetime.now()-startTime)"
   ]
  },
  {
   "cell_type": "code",
   "execution_count": 8,
   "id": "adaf62af",
   "metadata": {},
   "outputs": [
    {
     "name": "stdout",
     "output_type": "stream",
     "text": [
      "1:23:19.083000\n"
     ]
    }
   ],
   "source": [
    "startTime = datetime.now()\n",
    "\n",
    "# Train the truecasing model using 1,000,000 articles from the dpa corpus, where the capitalization is correct\n",
    "updateDistributionsFromSentences(tokens, wordCasingLookup, uniDist, backwardBiDist, forwardBiDist, trigramDist)\n",
    "\n",
    "# Save the frequency distributions\n",
    "f = open('distributions.obj', 'wb')\n",
    "cPickle.dump(uniDist, f, -1)\n",
    "cPickle.dump(backwardBiDist, f, -1)\n",
    "cPickle.dump(forwardBiDist, f, -1)\n",
    "cPickle.dump(trigramDist, f, -1)\n",
    "cPickle.dump(wordCasingLookup, f, -1)\n",
    "f.close()\n",
    "\n",
    "\n",
    "print(datetime.now()-startTime)"
   ]
  },
  {
   "cell_type": "markdown",
   "id": "b8259292",
   "metadata": {},
   "source": [
    "Evaluate the truecasing model using 10 manually chosen sentences."
   ]
  },
  {
   "cell_type": "code",
   "execution_count": 9,
   "id": "93ebaf13",
   "metadata": {},
   "outputs": [],
   "source": [
    "testSentences = [u\"Obwohl der Erwerb von Wohnungen seit 1974 f\\xfcr Ausl\\xe4nder weitgehend verboten ist, h\\xe4tten diese in zahlreichen F\\xe4llen \\xfcber \\xf6sterreichische Strohm\\xe4nner Wohnungen gekauft.\"\n",
    "                ,u\"So seien \\xabMenschen im \\xf6sterreichischen Altersheim\\xbb als K\\xe4ufer aufgetreten, die ihr \\xabEigentum\\xbb dem deutschen Anleger \\xabvererbt\\xbb h\\xe4tten.\"\n",
    "                ,u\"Die Zusammensetzung der k\\xfcnftigen SPD-Fraktionsspitze um den neuen Vorsitzenden Hans-Ulrich Klose nimmt allm\\xe4hlich Konturen an.\"\n",
    "                ,u\"Die bei der Wahl des Vorsitzenden unterlegenen Mitbewerber Herta D\\xe4ubler-Gmelin und Rudolf Dre\\xdfler sollen dem Vernehmen nach zum k\\xfcnftigen Team um Klose geh\\xf6ren.\"\n",
    "                ,u\"Dieser will seine Pl\\xe4ne f\\xfcr eine gestraffte Fraktionsf\\xfchrung am 10. Dezember den sozialdemokratischen Abgeordneten zur Abstimmung vorlegen.\"\n",
    "                ,u\"Sie sollen nicht mehr wie bisher gleichzeitig als Arbeitskreisleiter f\\xfcr bestimmte Fachgebiete zust\\xe4ndig sein, sondern zu allen Themen \\xabvom Paragraphen 218 bis zur Abschaffung der Gewerbekapitalsteuer\\xbb kompetent Stellung nehmen k\\xf6nnen.\"\n",
    "                ,u\"Es sei denkbar, da\\xdf es auch Gegenkandidaten zu den Vorschl\\xe4gen Kloses geben wird.\"\n",
    "                ,u\"D\\xe4ubler-Gmelin und Dre\\xdfler w\\xfcrden \\xabmit Sicherheit eine herausgehobene Rolle haben, wenn sie es wollen\\xbb, sagte Struck.\"\n",
    "                ,u\"Parteichef Bj\\xf6rn Engholm sagte vor dem Parteirat zu den Verlierern der Wahl vor zehn Tagen: \\xabIch w\\xfcnsche mir, da\\xdf Ihr beide und Hans-Ulrich Klose ein enges Team bildet, um zu zeigen: Sieger und Unterlegene ziehen an einem Strang.\"\n",
    "                ,u\"Bei der Leitung der Arbeitskreise, deren Zahl ebenfalls deutlich verringert werden soll, k\\xf6nnten \\xabneue K\\xf6pfe\\xbb in die F\\xfchrung kommen. Zur Disposition st\\xfcnden grunds\\xe4tzlich folgende Politiker und Arbeitsgebiete: D\\xe4ubler-Gmelin (Recht), Dre\\xdfler (Soziales), Matth\\xe4us-Maier (Finanzen), Norbert Gansel (Ausw\\xe4rtiges), Willfried Penner (Inneres) Ingrid Becker-Inglau (Frauen), Harald Sch\\xe4fer (Umwelt), Wolfgang Roth (Wirtschaft) und Thierse (ohne Arbeitskreis).\"\n",
    "                ]"
   ]
  },
  {
   "cell_type": "code",
   "execution_count": 10,
   "id": "cd107455",
   "metadata": {},
   "outputs": [],
   "source": [
    "def replace_umlauts(text):\n",
    "        \"\"\"This function replaces German umlauts with their respective substitutes.\"\"\"\n",
    "        replacements = {\n",
    "            u'ä': u'ae',\n",
    "            u'ö': u'oe',\n",
    "            u'ü': u'ue',\n",
    "            u'Ä': u'AE',\n",
    "            u'Ö': u'OE',\n",
    "            u'Ü': u'UE',\n",
    "            u'ß': u'ss'\n",
    "        }\n",
    "        for umlaut, substitute in replacements.items():\n",
    "            text = text.replace(umlaut, substitute)\n",
    "        return text"
   ]
  },
  {
   "cell_type": "code",
   "execution_count": 11,
   "id": "bebc7b3b",
   "metadata": {},
   "outputs": [],
   "source": [
    "# Apply the replace_umlauts function to the test sentences\n",
    "testSentences = [replace_umlauts(sent) for sent in testSentences]"
   ]
  },
  {
   "cell_type": "code",
   "execution_count": 12,
   "id": "2f1884cd",
   "metadata": {},
   "outputs": [
    {
     "name": "stdout",
     "output_type": "stream",
     "text": [
      "[u'Parteichef', u'Bjoern', u'Engholm', u'sagte', u'vor', u'dem', u'Parteirat', u'zu', u'den', u'Verlierern', u'der', u'Wahl', u'vor', u'zehn', u'Tagen', u':', u'\\xab', u'Ich', u'wuensche', u'mir', u',', u'dass', u'Ihr', u'beide', u'und', u'Hans-Ulrich', u'Klose', u'ein', u'enges', u'Team', u'bildet', u',', u'um', u'zu', u'zeigen', u':', u'Sieger', u'und', u'Unterlegene', u'ziehen', u'an', u'einem', u'Strang', u'.']\n",
      "[u'Parteichef', u'Bjoern', u'Engholm', u'sagte', u'vor', u'dem', u'Parteirat', u'zu', u'den', u'Verlierern', u'der', u'Wahl', u'vor', u'zehn', u'Tagen', u':', u'\\xab', u'Ich', u'wuensche', u'mir', u',', u'dass', u'ihr', u'beide', u'und', u'Hans-Ulrich', u'Klose', u'ein', u'enges', u'Team', u'bildet', u',', u'um', u'zu', u'zeigen', u':', u'Sieger', u'und', u'unterlegene', u'ziehen', u'an', u'einem', u'Strang', u'.']\n",
      "-------------------\n",
      "Accuracy: 99.34%\n"
     ]
    }
   ],
   "source": [
    "evaluateTrueCaser(testSentences, wordCasingLookup, uniDist, backwardBiDist, forwardBiDist, trigramDist)"
   ]
  },
  {
   "cell_type": "markdown",
   "id": "f4d71605",
   "metadata": {},
   "source": [
    "Evaluate the truecasing model using 100 randomly chosen sentences from 1000 articles that were not utilized in the model training process."
   ]
  },
  {
   "cell_type": "code",
   "execution_count": 13,
   "id": "fc64f4d8",
   "metadata": {},
   "outputs": [],
   "source": [
    "data_test = data['texts'][2000000:2001000]\n",
    "\n",
    "data_test = data_test.tolist()\n",
    "sentences = []\n",
    "\n",
    "# Split the texts into sentences\n",
    "for text in data_test:\n",
    "    sentences.extend(sent_tokenize(text))\n",
    "    \n",
    "# Pick 100 random sentences\n",
    "random_sentences = random.sample(sentences, 100)"
   ]
  },
  {
   "cell_type": "code",
   "execution_count": 14,
   "id": "e67d8b83",
   "metadata": {},
   "outputs": [],
   "source": [
    "# Apply the replace_umlauts function to the test sentences\n",
    "random_sentences = [replace_umlauts(sent) for sent in random_sentences]"
   ]
  },
  {
   "cell_type": "code",
   "execution_count": 15,
   "id": "f5e43caf",
   "metadata": {},
   "outputs": [
    {
     "name": "stdout",
     "output_type": "stream",
     "text": [
      "[u'\\xab', u'Wer', u'einen', u'Neustart', u'in', u'Deutschland', u'will', u',', u'der', u'muss', u'sein', u'ganzes', u'Koennen', u',', u'seine', u'Arbeitskraft', u'und', u'sein', u'eigenes', u'Vermoegen', u'einbringen', u'\\xbb', u',', u'sagte', u'Nahles', u'am', u'Montag', u'in', u'Berlin', u'.']\n",
      "[u'\\xab', u'Wer', u'einen', u'Neustart', u'in', u'Deutschland', u'will', u',', u'der', u'muss', u'sein', u'ganzes', u'koennen', u',', u'seine', u'Arbeitskraft', u'und', u'sein', u'eigenes', u'Vermoegen', u'einbringen', u'\\xbb', u',', u'sagte', u'Nahles', u'am', u'Montag', u'in', u'Berlin', u'.']\n",
      "-------------------\n",
      "[u'US-Staatsanleihen', u'mit', u'einer', u'zehnjaehrigen', u'Laufzeit', u'legten', u'angesichts', u'der', u'schwachen', u'Konjunkturdaten', u'um', u'10/32', u'Punkte', u'auf', u'103', u'17/32', u'Punkte', u'zu', u'und', u'rentierten', u'mit', u'1,852', u'Prozent', u'.']\n",
      "[u'Us-Staatsanleihen', u'mit', u'einer', u'zehnjaehrigen', u'Laufzeit', u'legten', u'angesichts', u'der', u'schwachen', u'Konjunkturdaten', u'um', u'10/32', u'Punkte', u'auf', u'103', u'17/32', u'Punkte', u'zu', u'und', u'rentierten', u'mit', u'1,852', u'Prozent', u'.']\n",
      "-------------------\n",
      "[u'OElpreisverfall', u'laesst', u'Exxon-Gewinn', u'um', u'fast', u'60', u'Prozent', u'einbrechen', u'Irving', u'Die', u'niedrigen', u'OElpreise', u'haben', u'dem', u'US-Branchenprimus', u'ExxonMobil', u'erneut', u'einen', u'heftigen', u'Gewinneinbruch', u'eingebrockt', u'.']\n",
      "[u'Oelpreisverfall', u'laesst', u'Exxon-Gewinn', u'um', u'fast', u'60', u'Prozent', u'einbrechen', u'Irving', u'die', u'niedrigen', u'OElpreise', u'haben', u'dem', u'US-Branchenprimus', u'ExxonMobil', u'erneut', u'einen', u'heftigen', u'Gewinneinbruch', u'eingebrockt', u'.']\n",
      "-------------------\n",
      "[u'Hamm/Attendorn', u'Der', u'in', u'einer', u'Fluechtlingsnotunterkunft', u'im', u'Sauerland', u'verhaftete', u'mutmassliche', u'Islamist', u'soll', u'im', u'Laufe', u'des', u'Freitags', u'einem', u'Haftrichter', u'vorgefuehrt', u'werden', u'.']\n",
      "[u'Hamm/Attendorn', u'der', u'in', u'einer', u'Fluechtlingsnotunterkunft', u'im', u'Sauerland', u'verhaftete', u'mutmassliche', u'Islamist', u'soll', u'im', u'Laufe', u'des', u'Freitags', u'einem', u'Haftrichter', u'vorgefuehrt', u'werden', u'.']\n",
      "-------------------\n",
      "[u'Dabei', u'helfen', u'soll', u'ein', u'betriebliches', u'\\xab', u'Integrationsjahr', u'\\xbb', u',', u'mit', u'dem', u'anerkannten', u'Gefluechteten', u',', u'aber', u'auch', u'Langzeiterwerbslosen', u'eine', u'Bruecke', u'in', u'Qualifizierung', u'und', u'Job', u'gebaut', u'werden', u'soll', u'.']\n",
      "[u'Dabei', u'helfen', u'soll', u'ein', u'betriebliches', u'\\xab', u'Integrationsjahr', u'\\xbb', u',', u'mit', u'dem', u'anerkannten', u'gefluechteten', u',', u'aber', u'auch', u'Langzeiterwerbslosen', u'eine', u'Bruecke', u'in', u'Qualifizierung', u'und', u'Job', u'gebaut', u'werden', u'soll', u'.']\n",
      "-------------------\n",
      "[u'Rom', u'Zu', u'den', u'ausgesetzten', u'Syriengespraechen', u'in', u'Genf', u'schreibt', u'die', u'Mailaender', u'Zeitung', u'\\xab', u'Corriere', u'della', u'Sera', u'\\xbb', u'am', u'Freitag', u':', u'\\xab', u'Die', u'Syrien-Friedensverhandlungen', u',', u'die', u'formal', u'am', u'Mittwochabend', u'in', u'Genf', u'nur', u'``', u'unterbrochen', u\"''\", u'wurden', u',', u'sind', u'wie', u'ein', u'getreuer', u'Spiegel', u'einer', u'strategischen', u'und', u'humanitaeren', u'Katastrophe', u',', u'die', u'die', u'Millionengelder', u',', u'die', u'gestern', u'in', u'London', u'versprochen', u'wurden', u',', u'leider', u'nicht', u'aendern', u'wird', u'.']\n",
      "[u'Rom', u'zu', u'den', u'ausgesetzten', u'Syriengespraechen', u'in', u'Genf', u'schreibt', u'die', u'Mailaender', u'Zeitung', u'\\xab', u'Corriere', u'della', u'Sera', u'\\xbb', u'am', u'Freitag', u':', u'\\xab', u'Die', u'Syrien-Friedensverhandlungen', u',', u'die', u'formal', u'am', u'Mittwochabend', u'in', u'Genf', u'nur', u'``', u'unterbrochen', u\"''\", u'wurden', u',', u'sind', u'wie', u'ein', u'Getreuer', u'Spiegel', u'einer', u'strategischen', u'und', u'humanitaeren', u'Katastrophe', u',', u'die', u'die', u'Millionengelder', u',', u'die', u'gestern', u'in', u'London', u'versprochen', u'wurden', u',', u'leider', u'nicht', u'aendern', u'wird', u'.']\n",
      "-------------------\n",
      "[u'\\xab', u'Wie', u'dumm', u'sind', u'die', u'Leute', u'von', u'Iowa', u'eigentlich', u'?', u'\\xbb', u',', u'wollte', u'der', u'zu', u'einer', u'Zeit', u'wissen', u',', u'als', u'er', u'in', u'den', u'Umfragen', u'hinter', u'Ted', u'Cruz', u'lag', u'.']\n",
      "[u'\\xab', u'wie', u'dumm', u'sind', u'die', u'Leute', u'von', u'Iowa', u'eigentlich', u'?', u'\\xbb', u',', u'wollte', u'der', u'zu', u'einer', u'Zeit', u'wissen', u',', u'als', u'er', u'in', u'den', u'Umfragen', u'hinter', u'Ted', u'Cruz', u'lag', u'.']\n",
      "-------------------\n",
      "[u'Das', u'fuehrt', u'dazu', u',', u'dass', u'mehr', u'AEltere', u'als', u'heute', u'von', u'ihrer', u'Rente', u'nicht', u'mehr', u'werden', u'leben', u'koennen', u'.']\n",
      "[u'Das', u'fuehrt', u'dazu', u',', u'dass', u'mehr', u'aeltere', u'als', u'heute', u'von', u'ihrer', u'Rente', u'nicht', u'mehr', u'werden', u'leben', u'koennen', u'.']\n",
      "-------------------\n",
      "[u'Auch', u'die', u'Demokraten', u'sehnen', u'sich', u'nach', u'klarer', u'Kante', u',', u'sie', u'straeuben', u'sich', u'gegen', u'die', u'Pragmatikerin', u'Hillary', u'Clinton', u',', u'berauschen', u'sich', u'stattdessen', u'an', u'Bernie', u'Sanders', u'und', u'dessen', u'heiligem', u'Zorn', u'auf', u'die', u'\\xab', u'Milliardaerskaste', u'\\xbb', u'.']\n",
      "[u'Auch', u'die', u'Demokraten', u'sehnen', u'sich', u'nach', u'klarer', u'Kante', u',', u'sie', u'straeuben', u'sich', u'gegen', u'die', u'Pragmatikerin', u'Hillary', u'Clinton', u',', u'berauschen', u'sich', u'stattdessen', u'an', u'Bernie', u'Sanders', u'und', u'dessen', u'Heiligem', u'Zorn', u'auf', u'die', u'\\xab', u'Milliardaerskaste', u'\\xbb', u'.']\n",
      "-------------------\n",
      "[u'Die', u'saehen', u'vielmehr', u'aus', u'wie', u'Feste', u'zu', u'Ehren', u'des', u'Weingottes', u'Dionysos', u'und', u'nicht', u'wie', u'Proteste', u',', u'sagte', u'er', u'in', u'Anspielung', u'auf', u'Grillpartys', u'mit', u'Sirtaki-Taenzen', u'der', u'protestierenden', u'Bauern', u'.']\n",
      "[u'Die', u'saehen', u'vielmehr', u'aus', u'wie', u'feste', u'zu', u'Ehren', u'des', u'Weingottes', u'Dionysos', u'und', u'nicht', u'wie', u'Proteste', u',', u'sagte', u'er', u'in', u'Anspielung', u'auf', u'Grillpartys', u'mit', u'Sirtaki-Taenzen', u'der', u'protestierenden', u'Bauern', u'.']\n",
      "-------------------\n",
      "[u'Aussenpolitisch', u'gibt', u'sich', u'Cruz', u'extrem', u'markig', u':', u'Man', u'wolle', u'doch', u'mal', u'sehen', u',', u'wie', u'man', u'im', u'Kampf', u'gegen', u'den', u'Islamischen', u'Staat', u'den', u'Wuestensand', u'im', u'Dunkeln', u'zum', u'Gluehen', u'bringe', u'-', u'ein', u'Bombenteppich', u'soll', u'dabei', u'helfen', u'.']\n",
      "[u'Aussenpolitisch', u'gibt', u'sich', u'Cruz', u'extrem', u'markig', u':', u'Man', u'wolle', u'doch', u'mal', u'sehen', u',', u'wie', u'man', u'im', u'Kampf', u'gegen', u'den', u'Islamischen', u'Staat', u'den', u'Wuestensand', u'im', u'Dunkeln', u'zum', u'gluehen', u'bringe', u'-', u'ein', u'Bombenteppich', u'soll', u'dabei', u'helfen', u'.']\n",
      "-------------------\n",
      "[u'\\xab', u'In', u'der', u'guten', u'Wirtschaftslage', u'verdienen', u'die', u'Beschaeftigten', u'mehr', u',', u'ihr', u'Stundenlohn', u'steigt', u'oder', u'sie', u'koennen', u'bezahlte', u'UEberstunden', u'machen', u'\\xbb', u',', u'sagt', u'Autor', u'Friedrich', u'Schneider', u'.']\n",
      "[u'\\xab', u'in', u'der', u'guten', u'Wirtschaftslage', u'verdienen', u'die', u'Beschaeftigten', u'mehr', u',', u'ihr', u'Stundenlohn', u'steigt', u'oder', u'sie', u'koennen', u'bezahlte', u'UEberstunden', u'machen', u'\\xbb', u',', u'sagt', u'Autor', u'Friedrich', u'Schneider', u'.']\n",
      "-------------------\n",
      "[u'Die', u'Geldpolitik', u'alleine', u'reicht', u'nicht', u',', u'um', u'der', u'Wirtschaft', u'auf', u'die', u'Spruenge', u'zu', u'helfen', u',', u'erforderlich', u'seien', u'auch', u'Strukturreformen', u'der', u'Mitgliedsregierungen', u'und', u'eine', u'gesunde', u'Haushaltspolitik', u',', u'sagte', u'Cora', u'van', u'Nieuwenhuizen', u'im', u'Namen', u'ihrer', u'Fraktion', u'.']\n",
      "[u'Die', u'Geldpolitik', u'alleine', u'reicht', u'nicht', u',', u'um', u'der', u'Wirtschaft', u'auf', u'die', u'Spruenge', u'zu', u'helfen', u',', u'erforderlich', u'seien', u'auch', u'Strukturreformen', u'der', u'Mitgliedsregierungen', u'und', u'eine', u'gesunde', u'Haushaltspolitik', u',', u'sagte', u'Cora', u'Van', u'Nieuwenhuizen', u'im', u'Namen', u'ihrer', u'Fraktion', u'.']\n",
      "-------------------\n",
      "[u'\\xab', u'Ein', u'Ende', u'des', u'Krieges', u'in', u'Syrien', u'ist', u'nicht', u'in', u'Sicht', u',', u'und', u'das', u'bedeutet', u',', u'keiner', u'weiss', u',', u'wann', u'der', u'Fluechtlingstrom', u'abbricht.', u'\\xbb', u'Nach', u'Schaetzungen', u'der', u'Einwanderungsbehoerde', u'vom', u'Donnerstag', u'kommen', u'in', u'diesem', u'Jahr', u'bis', u'zu', u'140', u'000', u'weitere', u'Asylbewerber', u'ins', u'Land', u'.']\n",
      "[u'\\xab', u'ein', u'Ende', u'des', u'Krieges', u'in', u'Syrien', u'ist', u'nicht', u'in', u'Sicht', u',', u'und', u'das', u'bedeutet', u',', u'keiner', u'weiss', u',', u'wann', u'der', u'Fluechtlingstrom', u'abbricht.', u'\\xbb', u'Nach', u'Schaetzungen', u'der', u'Einwanderungsbehoerde', u'vom', u'Donnerstag', u'kommen', u'in', u'diesem', u'Jahr', u'bis', u'zu', u'140', u'000', u'weitere', u'Asylbewerber', u'ins', u'Land', u'.']\n",
      "-------------------\n",
      "Accuracy: 99.15%\n"
     ]
    }
   ],
   "source": [
    "evaluateTrueCaser(random_sentences, wordCasingLookup, uniDist, backwardBiDist, forwardBiDist, trigramDist)"
   ]
  },
  {
   "cell_type": "code",
   "execution_count": 16,
   "id": "e7a28d6f",
   "metadata": {},
   "outputs": [
    {
     "name": "stderr",
     "output_type": "stream",
     "text": [
      "C:\\ProgramData\\Anaconda3\\envs\\py27\\lib\\site-packages\\sacremoses\\truecase.py:26: UserWarning: You should really be using Python3!!! Tick tock, tick tock, https://pythonclock.org/\n",
      "  \"You should really be using Python3!!! \"\n"
     ]
    }
   ],
   "source": [
    "from Truecaser import *\n",
    "import nltk\n",
    "import string\n",
    "import PredictTruecaser\n",
    "from nltk.tokenize.treebank import TreebankWordDetokenizer\n",
    "from sacremoses import MosesTokenizer, MosesDetokenizer # detokenizing package\n",
    "md = MosesDetokenizer() "
   ]
  },
  {
   "cell_type": "code",
   "execution_count": 17,
   "id": "25dda7cc",
   "metadata": {},
   "outputs": [],
   "source": [
    "# Define a test sentence for demonstration\n",
    "test_sentence = 'dieses wort ist falsch geschrieben. dieser satz ist ein test.'"
   ]
  },
  {
   "cell_type": "code",
   "execution_count": 18,
   "id": "6dda4419",
   "metadata": {},
   "outputs": [
    {
     "name": "stdout",
     "output_type": "stream",
     "text": [
      "Dieses Wort ist falsch geschrieben. Dieser Satz ist ein Test.\n"
     ]
    }
   ],
   "source": [
    "corr_sent = getTrueCase(nltk.word_tokenize(test_sentence), 'as-is', wordCasingLookup, uniDist, backwardBiDist, forwardBiDist, \n",
    "                       trigramDist)\n",
    "corr_sent = md.detokenize(corr_sent).replace(u\"``\", u' \" ').replace(u\"''\", u' \" ').replace(u\"'\", u\" \")\n",
    "print(corr_sent)"
   ]
  },
  {
   "cell_type": "code",
   "execution_count": 28,
   "id": "48096d6b",
   "metadata": {},
   "outputs": [],
   "source": [
    "# Load articles that we want to correct\n",
    "data_truecase = pd.read_csv(os.getcwd().replace('truecaser-master', '') + 'dpa_case_fix.csv', encoding = 'utf-8', sep=';', index_col = 0,  keep_default_na=False,\n",
    "                   dtype = {'rubrics': 'str', \n",
    "                            'source': 'str',\n",
    "                            'keywords': 'str',\n",
    "                            'title': 'str',\n",
    "                            'city': 'str',\n",
    "                            'genre': 'str',\n",
    "                            'wordcount': 'str'},\n",
    "                  converters = {'paragraphs': literal_eval})"
   ]
  },
  {
   "cell_type": "code",
   "execution_count": 29,
   "id": "d35f9422",
   "metadata": {},
   "outputs": [
    {
     "data": {
      "text/plain": [
       "u\"\\xabNeue Osnabr\\xfccker Zeitung\\xbb zu deutsch-sowjetische Beziehungen. es war ein gutes omen fuer die beiderseitigen beziehungen, dass helmut kohl erstmalig im moskauer fernsehen den voelkern der sowjetunion die neujahrsgruesse und -wuensche der deutschen uebermitteln konnte. solche gesten dienen dem verstaendnis untereinander und foerdern die vertrauensbildung. zugleich hat dieser auftritt des kanzlers besonderen symbolwert. er kennzeichnet den tiefgreifenden wandel, der sich im vergangenen jahr im verhaeltnis zur oestlichen grossmacht vollzogen hat. dass der regierungschef eines vereinten deutschland 1991 zu recht von einer ''neu begruendeten freundschaft'' sprechen konnte, waere selbst vor einem jahr kaum vorstellbar gewesen. ein indiz mehr, wie schnell sich das rad der geschichte gedreht hat. dennoch ist der ausblick auf die weitere entwicklung nicht frei von sorgen. der ruecktritt aussenminister schewardnadses, ..., bedeutet einen unsicherheitsfaktor in diesem fuer das verhaeltnis zwischen den beiden staaten bedeutsamen jahr. michail gorbatschow hat zwar kontinuitaet in der aussenpolitik zugesichert, aber auch seine formale machtfuelle garantiert noch keine sicheren mehrheiten ...\""
      ]
     },
     "execution_count": 29,
     "metadata": {},
     "output_type": "execute_result"
    }
   ],
   "source": [
    "# An example of an article with incorrect capitalization\n",
    "data_truecase['texts'].iloc[15]"
   ]
  },
  {
   "cell_type": "code",
   "execution_count": 30,
   "id": "6a7d007f",
   "metadata": {},
   "outputs": [],
   "source": [
    "# Use the trained truecasing model to correct articles\n",
    "truecase_art = []\n",
    "\n",
    "for text in data_truecase['texts']:\n",
    "    truecase_art.append(getTrueCase(nltk.word_tokenize(text.lower()), 'as-is', wordCasingLookup, uniDist, backwardBiDist, forwardBiDist, trigramDist))"
   ]
  },
  {
   "cell_type": "code",
   "execution_count": 31,
   "id": "ac719e90",
   "metadata": {},
   "outputs": [],
   "source": [
    "# Detokenize the articles\n",
    "truecase_art = [md.detokenize(article).replace(u\"``\", u' \" ').replace(u\"''\", u' \" ').replace(u\"'\", u\" \") for article in truecase_art]"
   ]
  },
  {
   "cell_type": "code",
   "execution_count": 32,
   "id": "0cc49906",
   "metadata": {},
   "outputs": [
    {
     "data": {
      "text/plain": [
       "u'\\xab neue osnabr\\xfccker Zeitung \\xbb zu deutsch-sowjetische Beziehungen. Es war ein gutes Omen fuer die beiderseitigen Beziehungen, dass Helmut Kohl erstmalig im Moskauer Fernsehen den Voelkern der Sowjetunion die Neujahrsgruesse und -wuensche der Deutschen uebermitteln konnte. Solche Gesten dienen dem Verstaendnis untereinander und foerdern die Vertrauensbildung. Zugleich hat dieser Auftritt des Kanzlers besonderen Symbolwert. Er kennzeichnet den tiefgreifenden Wandel, der sich im vergangenen Jahr im Verhaeltnis zur oestlichen Grossmacht vollzogen hat. Dass der Regierungschef eines vereinten Deutschland 1991 zu Recht von einer  \" neu begruendeten Freundschaft  \" sprechen konnte, waere selbst vor einem Jahr kaum vorstellbar gewesen. Ein Indiz mehr, wie schnell sich das Rad der Geschichte gedreht hat. Dennoch ist der Ausblick auf die weitere Entwicklung nicht frei von Sorgen. Der Ruecktritt Aussenminister Schewardnadses,..., bedeutet einen Unsicherheitsfaktor in diesem fuer das Verhaeltnis zwischen den beiden Staaten bedeutsamen Jahr. Michail Gorbatschow hat zwar Kontinuitaet in der Aussenpolitik zugesichert, aber auch seine formale Machtfuelle garantiert noch keine sicheren Mehrheiten...'"
      ]
     },
     "execution_count": 32,
     "metadata": {},
     "output_type": "execute_result"
    }
   ],
   "source": [
    "truecase_art[15]"
   ]
  },
  {
   "cell_type": "code",
   "execution_count": 33,
   "id": "db7fed10",
   "metadata": {},
   "outputs": [],
   "source": [
    "data_truecase['texts'] = truecase_art"
   ]
  },
  {
   "cell_type": "code",
   "execution_count": 34,
   "id": "4c79d43c",
   "metadata": {},
   "outputs": [
    {
     "data": {
      "text/plain": [
       "u'\\xab neue osnabr\\xfccker Zeitung \\xbb zu deutsch-sowjetische Beziehungen. Es war ein gutes Omen fuer die beiderseitigen Beziehungen, dass Helmut Kohl erstmalig im Moskauer Fernsehen den Voelkern der Sowjetunion die Neujahrsgruesse und -wuensche der Deutschen uebermitteln konnte. Solche Gesten dienen dem Verstaendnis untereinander und foerdern die Vertrauensbildung. Zugleich hat dieser Auftritt des Kanzlers besonderen Symbolwert. Er kennzeichnet den tiefgreifenden Wandel, der sich im vergangenen Jahr im Verhaeltnis zur oestlichen Grossmacht vollzogen hat. Dass der Regierungschef eines vereinten Deutschland 1991 zu Recht von einer  \" neu begruendeten Freundschaft  \" sprechen konnte, waere selbst vor einem Jahr kaum vorstellbar gewesen. Ein Indiz mehr, wie schnell sich das Rad der Geschichte gedreht hat. Dennoch ist der Ausblick auf die weitere Entwicklung nicht frei von Sorgen. Der Ruecktritt Aussenminister Schewardnadses,..., bedeutet einen Unsicherheitsfaktor in diesem fuer das Verhaeltnis zwischen den beiden Staaten bedeutsamen Jahr. Michail Gorbatschow hat zwar Kontinuitaet in der Aussenpolitik zugesichert, aber auch seine formale Machtfuelle garantiert noch keine sicheren Mehrheiten...'"
      ]
     },
     "execution_count": 34,
     "metadata": {},
     "output_type": "execute_result"
    }
   ],
   "source": [
    "data_truecase['texts'].iloc[15]"
   ]
  },
  {
   "cell_type": "code",
   "execution_count": 35,
   "id": "fb1b35f8",
   "metadata": {},
   "outputs": [],
   "source": [
    "data_truecase.to_csv(os.path.join(os.getcwd().replace('truecaser-master', ''), 'dpa_cases_fixed.csv'), encoding='utf-8-sig', sep = ';')"
   ]
  }
 ],
 "metadata": {
  "kernelspec": {
   "display_name": "Python 2",
   "language": "python",
   "name": "python2"
  },
  "language_info": {
   "codemirror_mode": {
    "name": "ipython",
    "version": 2
   },
   "file_extension": ".py",
   "mimetype": "text/x-python",
   "name": "python",
   "nbconvert_exporter": "python",
   "pygments_lexer": "ipython2",
   "version": "2.7.15"
  }
 },
 "nbformat": 4,
 "nbformat_minor": 5
}
