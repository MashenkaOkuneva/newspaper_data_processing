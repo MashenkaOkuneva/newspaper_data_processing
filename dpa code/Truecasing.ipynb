{
 "cells": [
  {
   "cell_type": "code",
   "execution_count": 1,
   "id": "e7bf2bca",
   "metadata": {},
   "outputs": [],
   "source": [
    "import cPickle\n",
    "import os\n",
    "import numpy as np\n",
    "import nltk\n",
    "import nltk.corpus\n",
    "import pandas as pd\n",
    "import sys\n",
    "import multiprocessing as mp\n",
    "import text_tok\n",
    "import random\n",
    "\n",
    "from nltk import sent_tokenize\n",
    "from ast import literal_eval\n",
    "from datetime import datetime\n",
    "\n",
    "# Set the number of cores to use\n",
    "NUM_CORE = mp.cpu_count()-4"
   ]
  },
  {
   "cell_type": "markdown",
   "id": "90e5072e",
   "metadata": {},
   "source": [
    "# Truecasing"
   ]
  },
  {
   "cell_type": "markdown",
   "id": "e9cd8bfe",
   "metadata": {},
   "source": [
    "A small fraction of the dpa articles were missing all uppercase letters. To fix this, we used a truecasing model by Nils Reimers\n",
    "(https://github.com/nreimers/truecaser), which is based on the work of Lucian Vlad Lita et al. (2003)."
   ]
  },
  {
   "cell_type": "code",
   "execution_count": 2,
   "id": "9c478784",
   "metadata": {},
   "outputs": [],
   "source": [
    "# Set the path to the truecasing model\n",
    "path = os.path.join(os.getcwd(), 'truecaser-master')\n",
    "os.chdir(path)\n",
    "sys.path.insert(1, os.getcwd().replace('\\\\truecaser-master', ''))"
   ]
  },
  {
   "cell_type": "code",
   "execution_count": 3,
   "id": "6d03bbf8",
   "metadata": {},
   "outputs": [],
   "source": [
    "from TrainFunctions import *\n",
    "from EvaluateTruecaser import evaluateTrueCaser"
   ]
  },
  {
   "cell_type": "code",
   "execution_count": 4,
   "id": "eee9c58a",
   "metadata": {},
   "outputs": [],
   "source": [
    "# Initialize frequency distributions for bigrams and trigrams\n",
    "uniDist = nltk.FreqDist()\n",
    "backwardBiDist = nltk.FreqDist() \n",
    "forwardBiDist = nltk.FreqDist() \n",
    "trigramDist = nltk.FreqDist() \n",
    "wordCasingLookup = {}"
   ]
  },
  {
   "cell_type": "code",
   "execution_count": 5,
   "id": "63659a2c",
   "metadata": {},
   "outputs": [],
   "source": [
    "# Load training data\n",
    "data = pd.read_csv(os.path.join(os.getcwd().replace('truecaser-master', ''), 'dpa_prepro_step11.csv'), encoding = 'utf-8', index_col = 0,  keep_default_na=False,\n",
    "                   dtype = {'rubrics': 'str', \n",
    "                            'source': 'str',\n",
    "                            'keywords': 'str',\n",
    "                            'title': 'str',\n",
    "                            'city': 'str',\n",
    "                            'genre': 'str',\n",
    "                            'wordcount': 'str'},\n",
    "                  converters = {'paragraphs': literal_eval})"
   ]
  },
  {
   "cell_type": "code",
   "execution_count": 6,
   "id": "b3df04a7",
   "metadata": {},
   "outputs": [],
   "source": [
    "# Select the subset of data (500,000 articles) for training the truecasing model\n",
    "data_sample = data['texts'][1500000:2000000]"
   ]
  },
  {
   "cell_type": "markdown",
   "id": "043dd0bc",
   "metadata": {},
   "source": [
    "During the preprocessing of the training set, texts are tokenized and umlauts are replaced with their respective non-umlaut equivalents using the function `text_tok`. This step is necessary as the dataset to which the model will be applied has umlauts already replaced."
   ]
  },
  {
   "cell_type": "code",
   "execution_count": 7,
   "id": "f3e3f8f8",
   "metadata": {},
   "outputs": [
    {
     "name": "stdout",
     "output_type": "stream",
     "text": [
      "0:02:02.166000\n"
     ]
    }
   ],
   "source": [
    "startTime = datetime.now()\n",
    "\n",
    "if __name__ == \"__main__\":\n",
    "    pool = mp.Pool(NUM_CORE)\n",
    "    tokens = pool.map(text_tok.text_tok, [text for text in data_sample]) \n",
    "    pool.close()\n",
    "    pool.join()\n",
    "    \n",
    "print(datetime.now()-startTime)"
   ]
  },
  {
   "cell_type": "code",
   "execution_count": 8,
   "id": "adaf62af",
   "metadata": {},
   "outputs": [
    {
     "name": "stdout",
     "output_type": "stream",
     "text": [
      "0:42:29.351000\n"
     ]
    }
   ],
   "source": [
    "startTime = datetime.now()\n",
    "\n",
    "# Train the truecasing model using 500,000 articles from the dpa corpus, where the capitalization is correct\n",
    "updateDistributionsFromSentences(tokens, wordCasingLookup, uniDist, backwardBiDist, forwardBiDist, trigramDist)\n",
    "\n",
    "# Save the frequency distributions\n",
    "f = open('distributions.obj', 'wb')\n",
    "cPickle.dump(uniDist, f, -1)\n",
    "cPickle.dump(backwardBiDist, f, -1)\n",
    "cPickle.dump(forwardBiDist, f, -1)\n",
    "cPickle.dump(trigramDist, f, -1)\n",
    "cPickle.dump(wordCasingLookup, f, -1)\n",
    "f.close()\n",
    "\n",
    "\n",
    "print(datetime.now()-startTime)"
   ]
  },
  {
   "cell_type": "markdown",
   "id": "b8259292",
   "metadata": {},
   "source": [
    "Evaluate the truecasing model using 10 manually chosen sentences."
   ]
  },
  {
   "cell_type": "code",
   "execution_count": 9,
   "id": "ba8507f5",
   "metadata": {},
   "outputs": [],
   "source": [
    "testSentences = [u\"Obwohl der Erwerb von Wohnungen seit 1974 f\\xfcr Ausl\\xe4nder weitgehend verboten ist, h\\xe4tten diese in zahlreichen F\\xe4llen \\xfcber \\xf6sterreichische Strohm\\xe4nner Wohnungen gekauft.\"\n",
    "                ,u\"So seien \\xabMenschen im \\xf6sterreichischen Altersheim\\xbb als K\\xe4ufer aufgetreten, die ihr \\xabEigentum\\xbb dem deutschen Anleger \\xabvererbt\\xbb h\\xe4tten.\"\n",
    "                ,u\"Die Zusammensetzung der k\\xfcnftigen SPD-Fraktionsspitze um den neuen Vorsitzenden Hans-Ulrich Klose nimmt allm\\xe4hlich Konturen an.\"\n",
    "                ,u\"Die bei der Wahl des Vorsitzenden unterlegenen Mitbewerber Herta D\\xe4ubler-Gmelin und Rudolf Dre\\xdfler sollen dem Vernehmen nach zum k\\xfcnftigen Team um Klose geh\\xf6ren.\"\n",
    "                ,u\"Dieser will seine Pl\\xe4ne f\\xfcr eine gestraffte Fraktionsf\\xfchrung am 10. Dezember den sozialdemokratischen Abgeordneten zur Abstimmung vorlegen.\"\n",
    "                ,u\"Sie sollen nicht mehr wie bisher gleichzeitig als Arbeitskreisleiter f\\xfcr bestimmte Fachgebiete zust\\xe4ndig sein, sondern zu allen Themen \\xabvom Paragraphen 218 bis zur Abschaffung der Gewerbekapitalsteuer\\xbb kompetent Stellung nehmen k\\xf6nnen.\"\n",
    "                ,u\"Es sei denkbar, da\\xdf es auch Gegenkandidaten zu den Vorschl\\xe4gen Kloses geben wird.\"\n",
    "                ,u\"D\\xe4ubler-Gmelin und Dre\\xdfler w\\xfcrden \\xabmit Sicherheit eine herausgehobene Rolle haben, wenn sie es wollen\\xbb, sagte Struck.\"\n",
    "                ,u\"Parteichef Bj\\xf6rn Engholm sagte vor dem Parteirat zu den Verlierern der Wahl vor zehn Tagen: \\xabIch w\\xfcnsche mir, da\\xdf Ihr beide und Hans-Ulrich Klose ein enges Team bildet, um zu zeigen: Sieger und Unterlegene ziehen an einem Strang.\"\n",
    "                ,u\"Bei der Leitung der Arbeitskreise, deren Zahl ebenfalls deutlich verringert werden soll, k\\xf6nnten \\xabneue K\\xf6pfe\\xbb in die F\\xfchrung kommen. Zur Disposition st\\xfcnden grunds\\xe4tzlich folgende Politiker und Arbeitsgebiete: D\\xe4ubler-Gmelin (Recht), Dre\\xdfler (Soziales), Matth\\xe4us-Maier (Finanzen), Norbert Gansel (Ausw\\xe4rtiges), Willfried Penner (Inneres) Ingrid Becker-Inglau (Frauen), Harald Sch\\xe4fer (Umwelt), Wolfgang Roth (Wirtschaft) und Thierse (ohne Arbeitskreis).\"\n",
    "                ]"
   ]
  },
  {
   "cell_type": "code",
   "execution_count": 10,
   "id": "2f1884cd",
   "metadata": {},
   "outputs": [
    {
     "name": "stdout",
     "output_type": "stream",
     "text": [
      "[u'Obwohl', u'der', u'Erwerb', u'von', u'Wohnungen', u'seit', u'1974', u'f\\xfcr', u'Ausl\\xe4nder', u'weitgehend', u'verboten', u'ist', u',', u'h\\xe4tten', u'diese', u'in', u'zahlreichen', u'F\\xe4llen', u'\\xfcber', u'\\xf6sterreichische', u'Strohm\\xe4nner', u'Wohnungen', u'gekauft', u'.']\n",
      "[u'Obwohl', u'der', u'Erwerb', u'von', u'Wohnungen', u'seit', u'1974', u'F\\xfcr', u'Ausl\\xe4nder', u'weitgehend', u'verboten', u'ist', u',', u'H\\xe4tten', u'diese', u'in', u'zahlreichen', u'F\\xe4llen', u'\\xdcber', u'\\xd6sterreichische', u'Strohm\\xe4nner', u'Wohnungen', u'gekauft', u'.']\n",
      "-------------------\n",
      "[u'So', u'seien', u'\\xab', u'Menschen', u'im', u'\\xf6sterreichischen', u'Altersheim', u'\\xbb', u'als', u'K\\xe4ufer', u'aufgetreten', u',', u'die', u'ihr', u'\\xab', u'Eigentum', u'\\xbb', u'dem', u'deutschen', u'Anleger', u'\\xab', u'vererbt', u'\\xbb', u'h\\xe4tten', u'.']\n",
      "[u'So', u'seien', u'\\xab', u'Menschen', u'im', u'\\xd6sterreichischen', u'Altersheim', u'\\xbb', u'als', u'K\\xe4ufer', u'aufgetreten', u',', u'die', u'ihr', u'\\xab', u'Eigentum', u'\\xbb', u'dem', u'deutschen', u'Anleger', u'\\xab', u'vererbt', u'\\xbb', u'H\\xe4tten', u'.']\n",
      "-------------------\n",
      "[u'Die', u'Zusammensetzung', u'der', u'k\\xfcnftigen', u'SPD-Fraktionsspitze', u'um', u'den', u'neuen', u'Vorsitzenden', u'Hans-Ulrich', u'Klose', u'nimmt', u'allm\\xe4hlich', u'Konturen', u'an', u'.']\n",
      "[u'Die', u'Zusammensetzung', u'der', u'K\\xfcnftigen', u'SPD-Fraktionsspitze', u'um', u'den', u'neuen', u'Vorsitzenden', u'Hans-Ulrich', u'Klose', u'nimmt', u'Allm\\xe4hlich', u'Konturen', u'an', u'.']\n",
      "-------------------\n",
      "[u'Die', u'bei', u'der', u'Wahl', u'des', u'Vorsitzenden', u'unterlegenen', u'Mitbewerber', u'Herta', u'D\\xe4ubler-Gmelin', u'und', u'Rudolf', u'Dre\\xdfler', u'sollen', u'dem', u'Vernehmen', u'nach', u'zum', u'k\\xfcnftigen', u'Team', u'um', u'Klose', u'geh\\xf6ren', u'.']\n",
      "[u'Die', u'bei', u'der', u'Wahl', u'des', u'Vorsitzenden', u'unterlegenen', u'Mitbewerber', u'Herta', u'D\\xe4ubler-Gmelin', u'und', u'Rudolf', u'Dre\\xdfler', u'sollen', u'dem', u'Vernehmen', u'nach', u'zum', u'K\\xfcnftigen', u'Team', u'um', u'Klose', u'Geh\\xf6ren', u'.']\n",
      "-------------------\n",
      "[u'Dieser', u'will', u'seine', u'Pl\\xe4ne', u'f\\xfcr', u'eine', u'gestraffte', u'Fraktionsf\\xfchrung', u'am', u'10', u'.', u'Dezember', u'den', u'sozialdemokratischen', u'Abgeordneten', u'zur', u'Abstimmung', u'vorlegen', u'.']\n",
      "[u'Dieser', u'will', u'seine', u'Pl\\xe4ne', u'F\\xfcr', u'eine', u'gestraffte', u'Fraktionsf\\xfchrung', u'am', u'10', u'.', u'Dezember', u'den', u'sozialdemokratischen', u'Abgeordneten', u'zur', u'Abstimmung', u'vorlegen', u'.']\n",
      "-------------------\n",
      "[u'Sie', u'sollen', u'nicht', u'mehr', u'wie', u'bisher', u'gleichzeitig', u'als', u'Arbeitskreisleiter', u'f\\xfcr', u'bestimmte', u'Fachgebiete', u'zust\\xe4ndig', u'sein', u',', u'sondern', u'zu', u'allen', u'Themen', u'\\xab', u'vom', u'Paragraphen', u'218', u'bis', u'zur', u'Abschaffung', u'der', u'Gewerbekapitalsteuer', u'\\xbb', u'kompetent', u'Stellung', u'nehmen', u'k\\xf6nnen', u'.']\n",
      "[u'Sie', u'sollen', u'nicht', u'mehr', u'wie', u'bisher', u'gleichzeitig', u'als', u'Arbeitskreisleiter', u'F\\xfcr', u'bestimmte', u'Fachgebiete', u'Zust\\xe4ndig', u'sein', u',', u'sondern', u'zu', u'allen', u'Themen', u'\\xab', u'vom', u'Paragraphen', u'218', u'bis', u'zur', u'Abschaffung', u'der', u'Gewerbekapitalsteuer', u'\\xbb', u'kompetent', u'Stellung', u'nehmen', u'K\\xf6nnen', u'.']\n",
      "-------------------\n",
      "[u'Es', u'sei', u'denkbar', u',', u'da\\xdf', u'es', u'auch', u'Gegenkandidaten', u'zu', u'den', u'Vorschl\\xe4gen', u'Kloses', u'geben', u'wird', u'.']\n",
      "[u'Es', u'sei', u'denkbar', u',', u'Da\\xdf', u'es', u'auch', u'Gegenkandidaten', u'zu', u'den', u'Vorschl\\xe4gen', u'Kloses', u'geben', u'wird', u'.']\n",
      "-------------------\n",
      "[u'D\\xe4ubler-Gmelin', u'und', u'Dre\\xdfler', u'w\\xfcrden', u'\\xab', u'mit', u'Sicherheit', u'eine', u'herausgehobene', u'Rolle', u'haben', u',', u'wenn', u'sie', u'es', u'wollen', u'\\xbb', u',', u'sagte', u'Struck', u'.']\n",
      "[u'D\\xe4ubler-Gmelin', u'und', u'Dre\\xdfler', u'W\\xfcrden', u'\\xab', u'mit', u'Sicherheit', u'eine', u'herausgehobene', u'Rolle', u'haben', u',', u'wenn', u'sie', u'es', u'wollen', u'\\xbb', u',', u'sagte', u'Struck', u'.']\n",
      "-------------------\n",
      "[u'Parteichef', u'Bj\\xf6rn', u'Engholm', u'sagte', u'vor', u'dem', u'Parteirat', u'zu', u'den', u'Verlierern', u'der', u'Wahl', u'vor', u'zehn', u'Tagen', u':', u'\\xab', u'Ich', u'w\\xfcnsche', u'mir', u',', u'da\\xdf', u'Ihr', u'beide', u'und', u'Hans-Ulrich', u'Klose', u'ein', u'enges', u'Team', u'bildet', u',', u'um', u'zu', u'zeigen', u':', u'Sieger', u'und', u'Unterlegene', u'ziehen', u'an', u'einem', u'Strang', u'.']\n",
      "[u'Parteichef', u'Bj\\xf6rn', u'Engholm', u'sagte', u'vor', u'dem', u'Parteirat', u'zu', u'den', u'Verlierern', u'der', u'Wahl', u'vor', u'zehn', u'Tagen', u':', u'\\xab', u'Ich', u'W\\xfcnsche', u'mir', u',', u'Da\\xdf', u'ihr', u'beide', u'und', u'Hans-Ulrich', u'Klose', u'ein', u'enges', u'Team', u'bildet', u',', u'um', u'zu', u'zeigen', u':', u'Sieger', u'und', u'unterlegene', u'ziehen', u'an', u'einem', u'Strang', u'.']\n",
      "-------------------\n",
      "[u'Bei', u'der', u'Leitung', u'der', u'Arbeitskreise', u',', u'deren', u'Zahl', u'ebenfalls', u'deutlich', u'verringert', u'werden', u'soll', u',', u'k\\xf6nnten', u'\\xab', u'neue', u'K\\xf6pfe', u'\\xbb', u'in', u'die', u'F\\xfchrung', u'kommen', u'.', u'Zur', u'Disposition', u'st\\xfcnden', u'grunds\\xe4tzlich', u'folgende', u'Politiker', u'und', u'Arbeitsgebiete', u':', u'D\\xe4ubler-Gmelin', u'(', u'Recht', u')', u',', u'Dre\\xdfler', u'(', u'Soziales', u')', u',', u'Matth\\xe4us-Maier', u'(', u'Finanzen', u')', u',', u'Norbert', u'Gansel', u'(', u'Ausw\\xe4rtiges', u')', u',', u'Willfried', u'Penner', u'(', u'Inneres', u')', u'Ingrid', u'Becker-Inglau', u'(', u'Frauen', u')', u',', u'Harald', u'Sch\\xe4fer', u'(', u'Umwelt', u')', u',', u'Wolfgang', u'Roth', u'(', u'Wirtschaft', u')', u'und', u'Thierse', u'(', u'ohne', u'Arbeitskreis', u')', u'.']\n",
      "[u'Bei', u'der', u'Leitung', u'der', u'Arbeitskreise', u',', u'deren', u'Zahl', u'ebenfalls', u'deutlich', u'verringert', u'werden', u'soll', u',', u'K\\xf6nnten', u'\\xab', u'neue', u'K\\xf6pfe', u'\\xbb', u'in', u'die', u'F\\xfchrung', u'kommen', u'.', u'zur', u'Disposition', u'St\\xfcnden', u'Grunds\\xe4tzlich', u'folgende', u'Politiker', u'und', u'Arbeitsgebiete', u':', u'D\\xe4ubler-Gmelin', u'(', u'Recht', u')', u',', u'Dre\\xdfler', u'(', u'Soziales', u')', u',', u'Matth\\xe4us-Maier', u'(', u'Finanzen', u')', u',', u'Norbert', u'Gansel', u'(', u'Ausw\\xe4rtiges', u')', u',', u'Willfried', u'Penner', u'(', u'Inneres', u')', u'Ingrid', u'Becker-Inglau', u'(', u'Frauen', u')', u',', u'Harald', u'Sch\\xe4fer', u'(', u'Umwelt', u')', u',', u'Wolfgang', u'Roth', u'(', u'Wirtschaft', u')', u'und', u'Thierse', u'(', u'ohne', u'Arbeitskreis', u')', u'.']\n",
      "-------------------\n",
      "Accuracy: 92.13%\n"
     ]
    }
   ],
   "source": [
    "evaluateTrueCaser(testSentences, wordCasingLookup, uniDist, backwardBiDist, forwardBiDist, trigramDist)"
   ]
  },
  {
   "cell_type": "markdown",
   "id": "f4d71605",
   "metadata": {},
   "source": [
    "Evaluate the truecasing model using 100 randomly chosen sentences from 1000 articles that were not utilized in the model training process."
   ]
  },
  {
   "cell_type": "code",
   "execution_count": 11,
   "id": "fc64f4d8",
   "metadata": {},
   "outputs": [],
   "source": [
    "data_test = data['texts'][2000000:2001000]\n",
    "\n",
    "data_test = data_test.tolist()\n",
    "sentences = []\n",
    "\n",
    "# Split the texts into sentences\n",
    "for text in data_test:\n",
    "    sentences.extend(sent_tokenize(text))\n",
    "    \n",
    "# Pick 100 random sentences\n",
    "random_sentences = random.sample(sentences, 100)"
   ]
  },
  {
   "cell_type": "code",
   "execution_count": 12,
   "id": "f5e43caf",
   "metadata": {},
   "outputs": [
    {
     "name": "stdout",
     "output_type": "stream",
     "text": [
      "[u'Trotzdem', u'unterst\\xfctzen', u'rund', u'sieben', u'Prozent', u'der', u'befragten', u'Muslime', u'den', u'umstrittenen', u'Kandidaten', u'.']\n",
      "[u'Trotzdem', u'Unterst\\xfctzen', u'rund', u'sieben', u'Prozent', u'der', u'Befragten', u'Muslime', u'den', u'umstrittenen', u'Kandidaten', u'.']\n",
      "-------------------\n",
      "[u'Die', u'europ\\xe4ische', u'und', u'deutsche', u'Gesetzgebung', u'verpflichtet', u'b\\xf6rsennotierte', u'Unternehmen', u',', u'ihre', u'Anleger', u'umgehend', u'\\xfcber', u'Entwicklungen', u'zu', u'informieren', u',', u'welche', u'die', u'Aktienkurse', u'wahrscheinlich', u'beeinflussen', u'werden', u'.']\n",
      "[u'Die', u'Europ\\xe4ische', u'und', u'deutsche', u'Gesetzgebung', u'verpflichtet', u'B\\xf6rsennotierte', u'Unternehmen', u',', u'ihre', u'Anleger', u'umgehend', u'\\xdcber', u'Entwicklungen', u'zu', u'informieren', u',', u'welche', u'die', u'Aktienkurse', u'wahrscheinlich', u'beeinflussen', u'werden', u'.']\n",
      "-------------------\n",
      "[u'\\xab', u'Das', u'Krankenhaus', u'war', u'gepl\\xfcndert', u',', u'genauso', u'die', u'Schule', u'.']\n",
      "[u'\\xab', u'Das', u'Krankenhaus', u'war', u'Gepl\\xfcndert', u',', u'genauso', u'die', u'Schule', u'.']\n",
      "-------------------\n",
      "[u'90', u'Prozent', u'des', u'versprochenen', u'Geldes', u'seien', u'schlie\\xdflich', u'\\xfcberwiesen', u'worden', u'.']\n",
      "[u'90', u'Prozent', u'des', u'versprochenen', u'Geldes', u'seien', u'Schlie\\xdflich', u'\\xdcberwiesen', u'worden', u'.']\n",
      "-------------------\n",
      "[u'Am', u'Dienstag', u'treffen', u'sich', u'in', u'Br\\xfcssel', u'zudem', u'Vertreter', u'europ\\xe4ischer', u'Datenschutz-Beh\\xf6rden', u'.']\n",
      "[u'Am', u'Dienstag', u'treffen', u'sich', u'in', u'Br\\xfcssel', u'zudem', u'Vertreter', u'Europ\\xe4ischer', u'Datenschutz-Beh\\xf6rden', u'.']\n",
      "-------------------\n",
      "[u'Putin', u'wird', u'ja', u'auch', u'gebraucht', u'f\\xfcr', u'die', u'Syrien-', u'Friedensverhandlungen', u'oder', u'den', u'internationalen', u'Anti-Terrorkampf', u'.']\n",
      "[u'Putin', u'wird', u'ja', u'auch', u'gebraucht', u'F\\xfcr', u'die', u'Syrien-', u'Friedensverhandlungen', u'oder', u'den', u'internationalen', u'Anti-Terrorkampf', u'.']\n",
      "-------------------\n",
      "[u'Die', u'Gesamtsumme', u'von', u'2,3', u'Milliarden', u'Euro', u'will', u'Deutschland', u'bis', u'2018', u'zahlen', u'.']\n",
      "[u'Die', u'Gesamtsumme', u'von', u'2,3', u'Milliarden', u'Euro', u'will', u'Deutschland', u'bis', u'2018', u'Zahlen', u'.']\n",
      "-------------------\n",
      "[u'Die', u'vermeintlichen', u'Investoren', u'\\xe4u\\xdferten', u'sich', u'zun\\xe4chst', u'nicht', u'zu', u'den', u'Ger\\xfcchten', u'.']\n",
      "[u'Die', u'vermeintlichen', u'Investoren', u'\\xc4u\\xdferten', u'sich', u'Zun\\xe4chst', u'nicht', u'zu', u'den', u'Ger\\xfcchten', u'.']\n",
      "-------------------\n",
      "[u'Zwar', u'ver\\xf6ffentlicht', u'der', u'Konzern', u'zur', u'Video-Plattform', u'noch', u'immer', u'keine', u'konkreten', u'Zahlen', u',', u'doch', u'Finanzchefin', u'Ruth', u'Porat', u'machte', u'in', u'einer', u'Telefonkonferenz', u'nach', u'Vorlage', u'der', u'Quartalszahlen', u'deutlich', u',', u'dass', u'die', u'Gesch\\xe4ftssparte', u'eine', u'wichtige', u'S\\xe4ule', u'des', u'j\\xfcngsten', u'Erfolgs', u'sei', u'.']\n",
      "[u'Zwar', u'Ver\\xf6ffentlicht', u'der', u'Konzern', u'zur', u'Video-Plattform', u'noch', u'immer', u'keine', u'konkreten', u'Zahlen', u',', u'doch', u'Finanzchefin', u'Ruth', u'Porat', u'machte', u'in', u'einer', u'Telefonkonferenz', u'nach', u'Vorlage', u'der', u'Quartalszahlen', u'deutlich', u',', u'dass', u'die', u'Gesch\\xe4ftssparte', u'eine', u'wichtige', u'S\\xe4ule', u'des', u'J\\xfcngsten', u'Erfolgs', u'sei', u'.']\n",
      "-------------------\n",
      "[u'\\xab', u'Bei', u'den', u'hohen', u'Neuwagenpreisen', u'f\\xfcr', u'Elektroautos', u'w\\xfcrde', u'die', u'jetzt', u'diskutierte', u'Pr\\xe4mie', u'verpuffen', u'oder', u'einen', u'reinen', u'Mitnahmeeffekt', u'ausl\\xf6sen', u'\\xbb', u',', u'sagte', u'der', u'Chef', u'des', u'Verbraucherzentrale', u'Bundesverbands', u',', u'Klaus', u'M\\xfcller', u'.']\n",
      "[u'\\xab', u'Bei', u'den', u'hohen', u'Neuwagenpreisen', u'F\\xfcr', u'Elektroautos', u'W\\xfcrde', u'die', u'jetzt', u'diskutierte', u'Pr\\xe4mie', u'verpuffen', u'oder', u'einen', u'reinen', u'Mitnahmeeffekt', u'Ausl\\xf6sen', u'\\xbb', u',', u'sagte', u'der', u'Chef', u'des', u'Verbraucherzentrale', u'Bundesverbands', u',', u'Klaus', u'M\\xfcller', u'.']\n",
      "-------------------\n",
      "[u'Die', u'EZB', u'werde', u'ihren', u'Anti-Krisen-Kurs', u'bei', u'der', u'n\\xe4chsten', u'Sitzung', u'am', u'10', u'.']\n",
      "[u'Die', u'EZB', u'werde', u'ihren', u'Anti-Krisen-Kurs', u'bei', u'der', u'N\\xe4chsten', u'Sitzung', u'am', u'10', u'.']\n",
      "-------------------\n",
      "[u'Frage', u':', u'Am', u'6', u'.']\n",
      "[u'Frage', u':', u'am', u'6', u'.']\n",
      "-------------------\n",
      "[u'Die', u'zweitgr\\xf6\\xdfte', u'Volkswirtschaft', u'der', u'Erde', u'hat', u'nach', u'Einsch\\xe4tzung', u'von', u'Experten', u'ein', u'schwieriges', u'Jahr', u'vor', u'sich', u'.']\n",
      "[u'Die', u'Zweitgr\\xf6\\xdfte', u'Volkswirtschaft', u'der', u'Erde', u'hat', u'nach', u'Einsch\\xe4tzung', u'von', u'Experten', u'ein', u'schwieriges', u'Jahr', u'vor', u'sich', u'.']\n",
      "-------------------\n",
      "[u'Des', u'Moines', u'Mit', u'den', u'Vorwahlen', u'in', u'Iowa', u'hat', u'am', u'Montag', u'in', u'den', u'USA', u'das', u'Wahljahr', u'begonnen', u'.']\n",
      "[u'Des', u'Moines', u'mit', u'den', u'Vorwahlen', u'in', u'Iowa', u'hat', u'am', u'Montag', u'in', u'den', u'USA', u'das', u'Wahljahr', u'begonnen', u'.']\n",
      "-------------------\n",
      "[u'Des', u'Moines', u'Kurz', u'vor', u'der', u'mit', u'Spannung', u'erwarteten', u'ersten', u'Vorwahl', u'im', u'Pr\\xe4sidentschaftsrennen', u'der', u'USA', u'haben', u'die', u'Bewerber', u'auf', u'den', u'letzten', u'Metern', u'noch', u'einmal', u'um', u'Stimmen', u'geworben', u'.']\n",
      "[u'Des', u'Moines', u'kurz', u'vor', u'der', u'mit', u'Spannung', u'erwarteten', u'ersten', u'Vorwahl', u'im', u'Pr\\xe4sidentschaftsrennen', u'der', u'USA', u'haben', u'die', u'Bewerber', u'auf', u'den', u'letzten', u'Metern', u'noch', u'einmal', u'um', u'Stimmen', u'geworben', u'.']\n",
      "-------------------\n",
      "[u'Im', u'Zweifel', u'haben', u'derzeit', u'die', u'VW-Juristen', u'das', u'Sagen', u'-', u'auch', u'wenn', u'das', u'dazu', u'f\\xfchrt', u',', u'dass', u'lieber', u'keiner', u'etwas', u'sagt', u'oder', u'zu', u'sp\\xe4t', u'.']\n",
      "[u'Im', u'Zweifel', u'haben', u'derzeit', u'die', u'Vw-Juristen', u'das', u'sagen', u'-', u'auch', u'wenn', u'das', u'dazu', u'F\\xfchrt', u',', u'dass', u'lieber', u'keiner', u'etwas', u'sagt', u'oder', u'zu', u'Sp\\xe4t', u'.']\n",
      "-------------------\n",
      "[u'Paul', u'(', u'52', u')', u'gilt', u'als', u'Querdenker', u'und', u'Au\\xdfenseiter', u',', u'der', u'mit', u'strikt', u'libert\\xe4ren', u'Ansichten', u'auch', u'viele', u'Tea-Party-Anh\\xe4nger', u'hinter', u'sich', u'hat', u'.']\n",
      "[u'Paul', u'(', u'52', u')', u'gilt', u'als', u'Querdenker', u'und', u'Au\\xdfenseiter', u',', u'der', u'mit', u'strikt', u'Libert\\xe4ren', u'Ansichten', u'auch', u'viele', u'Tea-Party-Anh\\xe4nger', u'hinter', u'sich', u'hat', u'.']\n",
      "-------------------\n",
      "[u'Clinton', u'hatte', u'als', u'Au\\xdfenministerin', u'einst', u'dienstliche', u'Mails', u'\\xfcber', u'ihr', u'privates', u'Email-Konto', u'laufen', u'lassen', u'.']\n",
      "[u'Clinton', u'hatte', u'als', u'Au\\xdfenministerin', u'einst', u'dienstliche', u'Mails', u'\\xdcber', u'ihr', u'privates', u'Email-Konto', u'laufen', u'lassen', u'.']\n",
      "-------------------\n",
      "[u'Goldener', u'Dezember', u'rettet', u'Maschinenbau', u'die', u'Jahresbilanz', u'Frankfurt/Main', u'Ein', u'kr\\xe4ftiger', u'Bestellschub', u'aus', u'dem', u'Ausland', u'hat', u'dem', u'deutschen', u'Maschinenbau', u'die', u'Bilanz', u'f\\xfcr', u'2015', u'gerettet', u'.']\n",
      "[u'Goldener', u'Dezember', u'rettet', u'Maschinenbau', u'die', u'Jahresbilanz', u'Frankfurt/Main', u'Ein', u'Kr\\xe4ftiger', u'Bestellschub', u'aus', u'dem', u'Ausland', u'hat', u'dem', u'deutschen', u'Maschinenbau', u'die', u'Bilanz', u'F\\xfcr', u'2015', u'gerettet', u'.']\n",
      "-------------------\n",
      "[u'Au\\xdferdem', u',', u'so', u'Obama', u',', u'solle', u'jede', u'Landmine', u'in', u'Kolumbien', u'binnen', u'f\\xfcnf', u'Jahren', u'entfernt', u'werden', u'.']\n",
      "[u'Au\\xdferdem', u',', u'so', u'Obama', u',', u'solle', u'jede', u'Landmine', u'in', u'Kolumbien', u'binnen', u'F\\xfcnf', u'Jahren', u'entfernt', u'werden', u'.']\n",
      "-------------------\n",
      "[u'...', u'Aber', u'es', u'ist', u'noch', u'viel', u'zu', u'fr\\xfch', u',', u'um', u'sagen', u'zu', u'k\\xf6nnen', u',', u'ob', u'Trumps', u'Vormarsch', u'aufgehalten', u'wurde', u',', u'selbst', u'wenn', u'er', u'bei', u'der', u'bevorstehenden', u'Vorwahl', u'in', u'New', u'Hampshire', u'weniger', u'gut', u'als', u'erwartet', u'abschneiden', u'sollte', u'.']\n",
      "[u'...', u'aber', u'es', u'ist', u'noch', u'viel', u'zu', u'Fr\\xfch', u',', u'um', u'sagen', u'zu', u'K\\xf6nnen', u',', u'ob', u'Trumps', u'Vormarsch', u'aufgehalten', u'wurde', u',', u'selbst', u'wenn', u'er', u'bei', u'der', u'bevorstehenden', u'Vorwahl', u'in', u'New', u'Hampshire', u'weniger', u'gut', u'als', u'erwartet', u'Abschneiden', u'sollte', u'.']\n",
      "-------------------\n",
      "[u'Im', u'Sommer', u'tauschten', u'die', u'Banken', u'ihre', u'Vorstandschefs', u'aus', u',', u'die', u'nun', u'hart', u'aufr\\xe4umen', u'.']\n",
      "[u'Im', u'Sommer', u'tauschten', u'die', u'Banken', u'ihre', u'Vorstandschefs', u'aus', u',', u'die', u'nun', u'hart', u'Aufr\\xe4umen', u'.']\n",
      "-------------------\n",
      "[u'Das', u'w\\xe4re', u'die', u'niedrigste', u'Forderung', u'in', u'der', u'Metall-', u'und', u'Elektroindustrie', u'seit', u'2006', u'.']\n",
      "[u'Das', u'W\\xe4re', u'die', u'niedrigste', u'Forderung', u'in', u'der', u'Metall-', u'und', u'Elektroindustrie', u'seit', u'2006', u'.']\n",
      "-------------------\n",
      "[u'Das', u'Festival', u'kann', u'man', u'sich', u'vorstellen', u'wie', u'eine', u'Expo', u',', u'eine', u'Weltausstellung', u'nur', u'f\\xfcr', u'Saudi-Arabien', u'.']\n",
      "[u'Das', u'Festival', u'kann', u'man', u'sich', u'vorstellen', u'wie', u'eine', u'Expo', u',', u'eine', u'Weltausstellung', u'nur', u'F\\xfcr', u'Saudi-Arabien', u'.']\n",
      "-------------------\n",
      "[u'Die', u'Zeit', u'l\\xe4uft', u'Mayer', u'davon', u'.']\n",
      "[u'Die', u'Zeit', u'L\\xe4uft', u'Mayer', u'davon', u'.']\n",
      "-------------------\n",
      "[u'Kanzlerin', u'Merkel', u'pocht', u'schon', u'lange', u'darauf', u',', u'zur', u'L\\xf6sung', u'der', u'Fl\\xfcchtlingskrise', u'auch', u'die', u'Fluchtursachen', u'zu', u'bek\\xe4mpfen', u'.']\n",
      "[u'Kanzlerin', u'Merkel', u'pocht', u'schon', u'lange', u'darauf', u',', u'zur', u'L\\xf6sung', u'der', u'Fl\\xfcchtlingskrise', u'auch', u'die', u'Fluchtursachen', u'zu', u'Bek\\xe4mpfen', u'.']\n",
      "-------------------\n",
      "[u'Die', u'russische', u'Botschaft', u'in', u'Riga', u'nannte', u'die', u'BBC-Sendung', u'eine', u'\\xab', u'gef\\xe4hrliche', u'Provokation', u'\\xbb', u',', u'die', u'politische', u'Ziele', u'verfolge', u'.']\n",
      "[u'Die', u'russische', u'Botschaft', u'in', u'Riga', u'nannte', u'die', u'BBC-Sendung', u'eine', u'\\xab', u'Gef\\xe4hrliche', u'Provokation', u'\\xbb', u',', u'die', u'politische', u'Ziele', u'verfolge', u'.']\n",
      "-------------------\n",
      "[u'F\\xfcr', u'den', u'Einsatz', u'des', u'Bootes', u'in', u'den', u'tropischen', u'Gew\\xe4ssern', u'w\\xe4re', u'eine', u'Anpassung', u'der', u'Klimatechnik', u'notwendig', u'gewesen', u'.']\n",
      "[u'F\\xfcr', u'den', u'Einsatz', u'des', u'Bootes', u'in', u'den', u'tropischen', u'Gew\\xe4ssern', u'W\\xe4re', u'eine', u'Anpassung', u'der', u'Klimatechnik', u'notwendig', u'gewesen', u'.']\n",
      "-------------------\n",
      "[u'Das', u'betreffe', u'eine', u'neue', u'\\xab', u'Notbremse', u'\\xbb', u',', u'die', u'das', u'K\\xfcrzen', u'von', u'Sozialleistungen', u'f\\xfcr', u'zugewanderte', u'EU-Ausl\\xe4nder', u'erlauben', u'soll', u'.']\n",
      "[u'Das', u'betreffe', u'eine', u'neue', u'\\xab', u'Notbremse', u'\\xbb', u',', u'die', u'das', u'K\\xfcrzen', u'von', u'Sozialleistungen', u'F\\xfcr', u'zugewanderte', u'Eu-Ausl\\xe4nder', u'erlauben', u'soll', u'.']\n",
      "-------------------\n",
      "[u'Au\\xdferdem', u'werde', u'\\xfcber', u'\\xab', u'strategische', u'Alternativen', u'\\xbb', u'nachgedacht', u'und', u'der', u'Verwaltungsrat', u'werde', u'\\xab', u'strategische', u'Vorschl\\xe4ge', u'\\xbb', u'pr\\xfcfen', u',', u'hie\\xdf', u'es', u'nach', u'US-B\\xf6rsenschluss', u'am', u'Dienstag', u'.']\n",
      "[u'Au\\xdferdem', u'werde', u'\\xdcber', u'\\xab', u'strategische', u'Alternativen', u'\\xbb', u'nachgedacht', u'und', u'der', u'Verwaltungsrat', u'werde', u'\\xab', u'strategische', u'Vorschl\\xe4ge', u'\\xbb', u'Pr\\xfcfen', u',', u'Hie\\xdf', u'es', u'nach', u'Us-B\\xf6rsenschluss', u'am', u'Dienstag', u'.']\n",
      "-------------------\n",
      "[u'\\xab', u'Dass', u'Griechenland', u'so', u'viel', u'Geld', u'zur', u'Rettung', u'seiner', u'Rentenkassen', u'ben\\xf6tigt', u',', u'ist', u'rein', u'rechnerisch', u'Fakt', u'\\xbb', u',', u'erkl\\xe4rt', u'Panagiotis', u'Petrakis', u',', u'Professor', u'f\\xfcr', u'Wirtschaft', u'an', u'der', u'Universit\\xe4t', u'Athen', u'.']\n",
      "[u'\\xab', u'dass', u'Griechenland', u'so', u'viel', u'Geld', u'zur', u'Rettung', u'seiner', u'Rentenkassen', u'Ben\\xf6tigt', u',', u'ist', u'rein', u'rechnerisch', u'Fakt', u'\\xbb', u',', u'Erkl\\xe4rt', u'Panagiotis', u'Petrakis', u',', u'Professor', u'F\\xfcr', u'Wirtschaft', u'an', u'der', u'Universit\\xe4t', u'Athen', u'.']\n",
      "-------------------\n",
      "[u'K\\xf6ln', u'Der', u'US-Autobauer', u'Ford', u'will', u'trotz', u'R\\xfcckkehr', u'in', u'die', u'Gewinnzone', u'in', u'Europa', u'hunderte', u'Jobs', u'streichen', u'.']\n",
      "[u'K\\xf6ln', u'der', u'US-Autobauer', u'Ford', u'will', u'trotz', u'R\\xfcckkehr', u'in', u'die', u'Gewinnzone', u'in', u'Europa', u'Hunderte', u'Jobs', u'streichen', u'.']\n",
      "-------------------\n",
      "[u'Ihr', u'Kollege', u'Robert', u'van', u'Wermeskerken', u'sei', u'65', u'und', u'gehe', u'bald', u'in', u'den', u'Ruhestand', u',', u'ihr', u'angestellter', u'Kollege', u'ebenfalls', u'.']\n",
      "[u'Ihr', u'Kollege', u'Robert', u'Van', u'Wermeskerken', u'sei', u'65', u'und', u'gehe', u'bald', u'in', u'den', u'Ruhestand', u',', u'ihr', u'Angestellter', u'Kollege', u'ebenfalls', u'.']\n",
      "-------------------\n",
      "[u'IS-K\\xe4mpfer', u'wird', u'das', u'nicht', u'erreichen', u'.']\n",
      "[u'Is-K\\xe4mpfer', u'wird', u'das', u'nicht', u'erreichen', u'.']\n",
      "-------------------\n",
      "[u'Nach', u'UN-Sch\\xe4tzung', u'muss', u'die', u'Weltgemeinschaft', u'am', u'Donnerstag', u'mehr', u'als', u'sieben', u'Milliarden', u'Euro', u'aufbringen', u'.']\n",
      "[u'Nach', u'Un-Sch\\xe4tzung', u'muss', u'die', u'Weltgemeinschaft', u'am', u'Donnerstag', u'mehr', u'als', u'sieben', u'Milliarden', u'Euro', u'aufbringen', u'.']\n",
      "-------------------\n",
      "[u'\\xab', u'Seit', u'2005', u'hat', u'es', u'damit', u'im', u'Verkehrsbereich', u'kaum', u'Fortschritte', u'bei', u'der', u'Klimabilanz', u'gegeben', u'\\xbb', u',', u'hie\\xdf', u'es', u'.']\n",
      "[u'\\xab', u'seit', u'2005', u'hat', u'es', u'damit', u'im', u'Verkehrsbereich', u'kaum', u'Fortschritte', u'bei', u'der', u'Klimabilanz', u'gegeben', u'\\xbb', u',', u'Hie\\xdf', u'es', u'.']\n",
      "-------------------\n",
      "[u'Das', u'f\\xfchrte', u'im', u'Land', u'zu', u'Protesten', u'.']\n",
      "[u'Das', u'F\\xfchrte', u'im', u'Land', u'zu', u'Protesten', u'.']\n",
      "-------------------\n",
      "[u'\\xab', u'Eine', u'Kaufpr\\xe4mie', u'einzuf\\xfchren', u',', u'ohne', u'aber', u'die', u'Mobilit\\xe4t', u'als', u'Ganzes', u'auf', u'Nachhaltigkeit', u'auszurichten', u',', u'ist', u'zu', u'kurzsichtig', u'\\xbb', u',', u'sagte', u'Kemfert', u'der', u'Deutschen', u'Presse-Agentur', u'in', u'Berlin', u'.']\n",
      "[u'\\xab', u'eine', u'Kaufpr\\xe4mie', u'Einzuf\\xfchren', u',', u'ohne', u'aber', u'die', u'Mobilit\\xe4t', u'als', u'Ganzes', u'auf', u'Nachhaltigkeit', u'auszurichten', u',', u'ist', u'zu', u'kurzsichtig', u'\\xbb', u',', u'sagte', u'Kemfert', u'der', u'Deutschen', u'Presse-Agentur', u'in', u'Berlin', u'.']\n",
      "-------------------\n",
      "[u'In', u'Berlin', u'festgenommen', u'wurde', u'ein', u'49-j\\xe4hriger', u'Algerier', u'-', u'auch', u'er', u'aber', u'nicht', u'wegen', u'der', u'mutma\\xdflichen', u'Anschlagsplanungen', u'.']\n",
      "[u'In', u'Berlin', u'festgenommen', u'wurde', u'ein', u'49-J\\xe4hriger', u'Algerier', u'-', u'auch', u'er', u'aber', u'nicht', u'wegen', u'der', u'Mutma\\xdflichen', u'Anschlagsplanungen', u'.']\n",
      "-------------------\n",
      "[u'Beide', u'Konzerne', u'leiden', u'schon', u'l\\xe4nger', u'unter', u'geringer', u'Nachfrage', u'und', u'versch\\xe4rfter', u'Konkurrenz', u'im', u'Spielzeugmarkt', u'.']\n",
      "[u'Beide', u'Konzerne', u'leiden', u'schon', u'L\\xe4nger', u'unter', u'geringer', u'Nachfrage', u'und', u'Versch\\xe4rfter', u'Konkurrenz', u'im', u'Spielzeugmarkt', u'.']\n",
      "-------------------\n",
      "[u'Da', u'der', u'Senat', u'die', u'Hotels', u'\\xfcber', u'mehrere', u'Jahre', u'mieten', u'wolle', u',', u'gehe', u'es', u'um', u'ein', u'Paket', u'von', u'mindestens', u'600', u'Millionen', u'Euro', u'.']\n",
      "[u'Da', u'der', u'Senat', u'die', u'Hotels', u'\\xdcber', u'mehrere', u'Jahre', u'Mieten', u'wolle', u',', u'gehe', u'es', u'um', u'ein', u'Paket', u'von', u'mindestens', u'600', u'Millionen', u'Euro', u'.']\n",
      "-------------------\n",
      "[u'Eine', u'erste', u'Debatte', u'\\xfcber', u'die', u'Vorschl\\xe4ge', u'ist', u'an', u'diesem', u'Freitag', u'geplant', u'-', u'mit', u'den', u'Chef-Unterh\\xe4ndlern', u'der', u'EU-Staaten', u'und', u'den', u'st\\xe4ndigen', u'EU-Botschaftern', u'.']\n",
      "[u'Eine', u'erste', u'Debatte', u'\\xdcber', u'die', u'Vorschl\\xe4ge', u'ist', u'an', u'diesem', u'Freitag', u'geplant', u'-', u'mit', u'den', u'Chef-Unterh\\xe4ndlern', u'der', u'EU-Staaten', u'und', u'den', u'St\\xe4ndigen', u'EU-Botschaftern', u'.']\n",
      "-------------------\n",
      "[u'(', u'Medien-Info', u')', u'AfD-Gr\\xfcnder', u'Lucke', u':', u'Umgang', u'der', u'AfD', u'mit', u'Fl\\xfcchtlingen', u'nicht', u'zu', u'ertragen', u'.']\n",
      "[u'(', u'Medien-Info', u')', u'Afd-Gr\\xfcnder', u'Lucke', u':', u'Umgang', u'der', u'AfD', u'mit', u'Fl\\xfcchtlingen', u'nicht', u'zu', u'ertragen', u'.']\n",
      "-------------------\n",
      "[u'Sie', u'sollen', u'f\\xfcr', u'den', u'K\\xfcstenschutz', u'und', u'zur', u'Abwehr', u'von', u'Piraterie', u'eingesetzt', u'werden', u'.']\n",
      "[u'Sie', u'sollen', u'F\\xfcr', u'den', u'K\\xfcstenschutz', u'und', u'zur', u'Abwehr', u'von', u'Piraterie', u'eingesetzt', u'werden', u'.']\n",
      "-------------------\n",
      "[u'Genf', u'Bei', u'den', u'bisherigen', u'Syrien-Friedensgespr\\xe4chen', u'handelt', u'es', u'sich', u'nach', u'Ansicht', u'des', u'Regimes', u'nur', u'um', u'eine', u'\\xab', u'Vorbereitungsphase', u'\\xbb', u'f\\xfcr', u'indirekte', u'Verhandlungen', u'.']\n",
      "[u'Genf', u'bei', u'den', u'bisherigen', u'Syrien-Friedensgespr\\xe4chen', u'handelt', u'es', u'sich', u'nach', u'Ansicht', u'des', u'Regimes', u'nur', u'um', u'eine', u'\\xab', u'Vorbereitungsphase', u'\\xbb', u'F\\xfcr', u'indirekte', u'Verhandlungen', u'.']\n",
      "-------------------\n",
      "[u'Madrid', u'In', u'einem', u'Prozess', u'um', u'versuchte', u'Mordanschl\\xe4ge', u'im', u'Jahr', u'2001', u'auf', u'den', u'damaligen', u'spanischen', u'Ministerpr\\xe4sidenten', u'Jos\\xe9', u'Mar\\xeda', u'Aznar', u'sind', u'die', u'vier', u'Angeklagten', u'freigesprochen', u'worden', u'.']\n",
      "[u'Madrid', u'in', u'einem', u'Prozess', u'um', u'versuchte', u'Mordanschl\\xe4ge', u'im', u'Jahr', u'2001', u'auf', u'den', u'damaligen', u'spanischen', u'Ministerpr\\xe4sidenten', u'Jos\\xe9', u'Mar\\xeda', u'Aznar', u'sind', u'die', u'vier', u'Angeklagten', u'freigesprochen', u'worden', u'.']\n",
      "-------------------\n",
      "[u'Er', u'sprach', u'von', u'einem', u'\\xab', u'wichtigen', u'Schritt', u'in', u'Richtung', u'auf', u'Regeln', u',', u'die', u'f\\xfcr', u'alle', u'diesseits', u'und', u'jenseits', u'des', u'Atlantiks', u'gelten', u'\\xbb', u'.']\n",
      "[u'Er', u'sprach', u'von', u'einem', u'\\xab', u'wichtigen', u'Schritt', u'in', u'Richtung', u'auf', u'Regeln', u',', u'die', u'F\\xfcr', u'alle', u'diesseits', u'und', u'jenseits', u'des', u'Atlantiks', u'gelten', u'\\xbb', u'.']\n",
      "-------------------\n",
      "[u'Trotz', u'des', u'Appells', u'aus', u'Washington', u'hat', u'die', u'britische', u'Beh\\xf6rde', u'zwei', u'Monate', u'sp\\xe4ter', u'Wissenschaftlern', u'gr\\xfcnes', u'Licht', u'gegeben', u',', u'mit', u'der', u'Technik', u'an', u'der', u'Genver\\xe4nderung', u'von', u'menschlichen', u'Embryos', u'zu', u'arbeiten', u'.', u'\\xbb']\n",
      "[u'Trotz', u'des', u'Appells', u'aus', u'Washington', u'hat', u'die', u'britische', u'Beh\\xf6rde', u'zwei', u'Monate', u'Sp\\xe4ter', u'Wissenschaftlern', u'Gr\\xfcnes', u'Licht', u'gegeben', u',', u'mit', u'der', u'Technik', u'an', u'der', u'Genver\\xe4nderung', u'von', u'menschlichen', u'Embryos', u'zu', u'arbeiten', u'.', u'\\xbb']\n",
      "-------------------\n",
      "[u'\\xab', u'Im', u'Film', u'wurde', u'Eins-zu-Eins', u'die', u'Situation', u'im', u'Osten', u'der', u'Ukraine', u'\\xfcbernommen', u'und', u'k\\xfcnstlich', u'auf', u'Latgale', u'(', u'Lettgalen', u')', u'\\xfcbertragen', u'\\xbb', u',', u'sagte', u'Rinkevics', u'der', u'Zeitung', u'\\xab', u'Latvijas', u'Avize', u'\\xbb', u'(', u'Freitag', u')', u'.']\n",
      "[u'\\xab', u'im', u'Film', u'wurde', u'eins-zu-eins', u'die', u'Situation', u'im', u'Osten', u'der', u'Ukraine', u'\\xdcbernommen', u'und', u'K\\xfcnstlich', u'auf', u'Latgale', u'(', u'Lettgalen', u')', u'\\xdcbertragen', u'\\xbb', u',', u'sagte', u'Rinkevics', u'der', u'Zeitung', u'\\xab', u'Latvijas', u'Avize', u'\\xbb', u'(', u'Freitag', u')', u'.']\n",
      "-------------------\n",
      "[u'Dann', u'aber', u'ruft', u'er', u'in', u'den', u'Saal', u':', u'\\xab', u'Was', u'die', u'Sozialdemokratie', u'f\\xfcr', u'Freiheit', u'und', u'Demokratie', u'und', u'Gerechtigkeit', u'in', u'150', u'Jahren', u'geleistet', u'hat', u'!']\n",
      "[u'Dann', u'aber', u'ruft', u'er', u'in', u'den', u'Saal', u':', u'\\xab', u'Was', u'die', u'Sozialdemokratie', u'F\\xfcr', u'Freiheit', u'und', u'Demokratie', u'und', u'Gerechtigkeit', u'in', u'150', u'Jahren', u'geleistet', u'hat', u'!']\n",
      "-------------------\n",
      "[u'Er', u'erw\\xe4hnte', u'explizit', u'die', u'\\xab', u'Notbremse', u'\\xbb', u'.']\n",
      "[u'Er', u'Erw\\xe4hnte', u'explizit', u'die', u'\\xab', u'Notbremse', u'\\xbb', u'.']\n",
      "-------------------\n",
      "[u'Steinmeier', u'h\\xe4tte', u'sie', u'aber', u'm\\xfcndlich', u'oder', u'schriftlich', u'\\xfcberbringen', u'k\\xf6nnen', u'.']\n",
      "[u'Steinmeier', u'H\\xe4tte', u'sie', u'aber', u'M\\xfcndlich', u'oder', u'schriftlich', u'\\xdcberbringen', u'K\\xf6nnen', u'.']\n",
      "-------------------\n",
      "[u'Und', u'eine', u'Regierung', u',', u'die', u'sei', u'nur', u'dazu', u'da', u',', u'Gottes', u'Gesetze', u'und', u'seinen', u'Willen', u'umzusetzen', u'und', u'zu', u'erm\\xf6glichen', u'.']\n",
      "[u'Und', u'eine', u'Regierung', u',', u'die', u'sei', u'nur', u'dazu', u'da', u',', u'Gottes', u'Gesetze', u'und', u'seinen', u'Willen', u'umzusetzen', u'und', u'zu', u'Erm\\xf6glichen', u'.']\n",
      "-------------------\n",
      "[u'Berlin', u'Au\\xdfenminister', u'Frank-Walter', u'Steinmeier', u'(', u'SPD', u')', u'will', u'sich', u'bei', u'einer', u'Reise', u'in', u'den', u'Iran', u'und', u'nach', u'Saudi-Arabien', u'um', u'eine', u'Wiederaufnahme', u'der', u'Beziehungen', u'zwischen', u'den', u'beiden', u'zerstrittenen', u'L\\xe4ndern', u'bem\\xfchen', u'.']\n",
      "[u'Berlin', u'Au\\xdfenminister', u'Frank-Walter', u'Steinmeier', u'(', u'SPD', u')', u'will', u'sich', u'bei', u'einer', u'Reise', u'in', u'den', u'Iran', u'und', u'nach', u'Saudi-Arabien', u'um', u'eine', u'Wiederaufnahme', u'der', u'Beziehungen', u'zwischen', u'den', u'beiden', u'zerstrittenen', u'L\\xe4ndern', u'Bem\\xfchen', u'.']\n",
      "-------------------\n",
      "[u'\\xab', u'Zu', u'glauben', u',', u'dass', u'der', u'internationale', u'Terrorismus', u'mit', u'6700', u'Euro', u'oder', u'mehr', u'in', u'der', u'Gegend', u'umherl\\xe4uft', u',', u'scheint', u'mir', u'eine', u'reichlich', u'naive', u'Vorstellung', u'zu', u'sein', u'\\xbb', u',', u'sagte', u'Sch\\xe4fer', u'zu', u'hr-info', u'.']\n",
      "[u'\\xab', u'zu', u'glauben', u',', u'dass', u'der', u'internationale', u'Terrorismus', u'mit', u'6700', u'Euro', u'oder', u'mehr', u'in', u'der', u'Gegend', u'Umherl\\xe4uft', u',', u'scheint', u'mir', u'eine', u'reichlich', u'naive', u'Vorstellung', u'zu', u'sein', u'\\xbb', u',', u'sagte', u'Sch\\xe4fer', u'zu', u'hr-Info', u'.']\n",
      "-------------------\n",
      "[u'Oktober', u'2014', u'in', u'Gro\\xdf', u'L\\xfcsewitz', u'zwei', u'Brands\\xe4tze', u'auf', u'das', u'Wohnhaus', u'geworfen', u'haben', u',', u'hei\\xdft', u'es', u'in', u'der', u'vor', u'Gericht', u'verlesenen', u'Anklageschrift', u'.']\n",
      "[u'Oktober', u'2014', u'in', u'Gro\\xdf', u'L\\xfcsewitz', u'zwei', u'Brands\\xe4tze', u'auf', u'das', u'Wohnhaus', u'geworfen', u'haben', u',', u'Hei\\xdft', u'es', u'in', u'der', u'vor', u'Gericht', u'verlesenen', u'Anklageschrift', u'.']\n",
      "-------------------\n",
      "[u'Anleger', u'und', u'B\\xf6rsenprofis', u'scheinen', u'jedoch', u'trotz', u'der', u'defizit\\xe4ren', u'Entwicklungsprojekte', u'voll', u'vom', u'Potenzial', u'des', u'Alphabet-Konzerns', u'\\xfcberzeugt', u'.']\n",
      "[u'Anleger', u'und', u'B\\xf6rsenprofis', u'scheinen', u'jedoch', u'trotz', u'der', u'Defizit\\xe4ren', u'Entwicklungsprojekte', u'voll', u'vom', u'Potenzial', u'des', u'Alphabet-Konzerns', u'\\xdcberzeugt', u'.']\n",
      "-------------------\n",
      "[u'Februar', u')', u'Pegida', u'will', u'\\xab', u'Festung', u'Europa', u'\\xbb', u'errichten', u'-', u'Internationaler', u'Aktionstag', u'Von', u'J\\xf6rg', u'Schurig', u',', u'dpa', u'(', u'Foto', u'-', u'Archiv', u')', u'.']\n",
      "[u'Februar', u')', u'Pegida', u'will', u'\\xab', u'Festung', u'Europa', u'\\xbb', u'errichten', u'-', u'internationaler', u'Aktionstag', u'von', u'J\\xf6rg', u'Schurig', u',', u'dpa', u'(', u'Foto', u'-', u'Archiv', u')', u'.']\n",
      "-------------------\n",
      "[u'Der', u'zweite', u'Kunde', u'will', u'von', u'den', u'Stadtwerken', u'Ahaus', u'etwa', u'750', u'Euro', u'samt', u'Zinsen', u'zur\\xfcck', u'.']\n",
      "[u'Der', u'zweite', u'Kunde', u'will', u'von', u'den', u'Stadtwerken', u'Ahaus', u'etwa', u'750', u'Euro', u'samt', u'Zinsen', u'Zur\\xfcck', u'.']\n",
      "-------------------\n",
      "[u'Doch', u'in', u'Notzeiten', u'auf', u'das', u'Extrem', u'zu', u'setzen', u',', u'hat', u'sich', u'noch', u'nie', u'ausgezahlt', u'.']\n",
      "[u'Doch', u'in', u'Notzeiten', u'auf', u'das', u'extrem', u'zu', u'setzen', u',', u'hat', u'sich', u'noch', u'nie', u'ausgezahlt', u'.']\n",
      "-------------------\n",
      "[u'Die', u'russische', u'Luftwaffe', u'unterst\\xfctzt', u'seit', u'Ende', u'September', u'eine', u'Offensive', u'der', u'syrischen', u'Regierungstruppen', u'mit', u'Raketen-', u'und', u'Bombenangriffen', u'.']\n",
      "[u'Die', u'russische', u'Luftwaffe', u'Unterst\\xfctzt', u'seit', u'Ende', u'September', u'eine', u'Offensive', u'der', u'syrischen', u'Regierungstruppen', u'mit', u'Raketen-', u'und', u'Bombenangriffen', u'.']\n",
      "-------------------\n",
      "[u'Er', u'sagte', u'aber', u'auch', u':', u'\\xab', u'Man', u'konnte', u'keine', u'Zweifel', u'haben', u',', u'wer', u'wo', u'steht.', u'\\xbb', u'Zu', u'Beginn', u'seines', u'Gespr\\xe4chs', u'mit', u'Putin', u'verwies', u'Seehofer', u'darauf', u',', u'dass', u'Bayern', u'von', u'allen', u'Dingen', u',', u'die', u'auf', u'der', u'Welt', u'passierten', u',', u'\\xab', u'total', u'betroffen', u'\\xbb', u'sei', u'.']\n",
      "[u'Er', u'sagte', u'aber', u'auch', u':', u'\\xab', u'Man', u'konnte', u'keine', u'Zweifel', u'haben', u',', u'wer', u'wo', u'steht.', u'\\xbb', u'zu', u'Beginn', u'seines', u'Gespr\\xe4chs', u'mit', u'Putin', u'verwies', u'Seehofer', u'darauf', u',', u'dass', u'Bayern', u'von', u'allen', u'Dingen', u',', u'die', u'auf', u'der', u'Welt', u'passierten', u',', u'\\xab', u'total', u'betroffen', u'\\xbb', u'sei', u'.']\n",
      "-------------------\n",
      "[u'In', u'einer', u'aktuellen', u'Umfrage', u'sprachen', u'sich', u'77', u'Prozent', u'f\\xfcr', u'eine', u'Abschiebung', u'abgelehnter', u'Asylbewerber', u'aus', u'.']\n",
      "[u'In', u'einer', u'aktuellen', u'Umfrage', u'sprachen', u'sich', u'77', u'Prozent', u'F\\xfcr', u'eine', u'Abschiebung', u'abgelehnter', u'Asylbewerber', u'aus', u'.']\n",
      "-------------------\n",
      "[u'Februar', u'vor', u'25', u'Jahren', u'legte', u'Opel', u'den', u'Grundstein', u'f\\xfcr', u'sein', u'Autowerk', u'in', u'Eisenach', u'.']\n",
      "[u'Februar', u'vor', u'25', u'Jahren', u'legte', u'Opel', u'den', u'Grundstein', u'F\\xfcr', u'sein', u'Autowerk', u'in', u'Eisenach', u'.']\n",
      "-------------------\n",
      "[u'Sie', u'waren', u'in', u'die', u'Halle', u'einer', u'Landwirtschaftsausstellung', u'gekommen', u',', u'um', u'ihr', u'Idol', u'reden', u'zu', u'h\\xf6ren', u'.']\n",
      "[u'Sie', u'waren', u'in', u'die', u'Halle', u'einer', u'Landwirtschaftsausstellung', u'gekommen', u',', u'um', u'ihr', u'Idol', u'reden', u'zu', u'H\\xf6ren', u'.']\n",
      "-------------------\n",
      "[u'\\xab', u'Ich', u'begr\\xfc\\xdfe', u'es', u'ausdr\\xfccklich', u',', u'dass', u'die', u'italienische', u'Regierung', u'sich', u'inzwischen', u'auch', u'zu', u'dieser', u'notwendigen', u'Solidarleistung', u'bekannt', u'hat', u'\\xbb', u',', u'sagte', u'der', u'Luxemburger', u'am', u'Mittwoch', u'im', u'Stra\\xdfburger', u'Europaparlament', u'.']\n",
      "[u'\\xab', u'Ich', u'Begr\\xfc\\xdfe', u'es', u'Ausdr\\xfccklich', u',', u'dass', u'die', u'italienische', u'Regierung', u'sich', u'inzwischen', u'auch', u'zu', u'dieser', u'notwendigen', u'Solidarleistung', u'bekannt', u'hat', u'\\xbb', u',', u'sagte', u'der', u'Luxemburger', u'am', u'Mittwoch', u'im', u'Stra\\xdfburger', u'Europaparlament', u'.']\n",
      "-------------------\n",
      "[u'IG', u'Metall', u'fordert', u'weniger', u'Zuwachs', u'als', u'im', u'Vorjahr', u'Frankfurt/Main', u'Die', u'IG', u'Metall', u'wird', u'in', u'der', u'anstehenden', u'Tarifrunde', u'f\\xfcr', u'die', u'deutsche', u'Metall-', u'und', u'Elektroindustrie', u'eine', u'geringere', u'Lohnsteigerung', u'fordern', u'als', u'im', u'Jahr', u'zuvor', u'.']\n",
      "[u'Ig', u'Metall', u'fordert', u'weniger', u'Zuwachs', u'als', u'im', u'Vorjahr', u'Frankfurt/Main', u'Die', u'IG', u'Metall', u'wird', u'in', u'der', u'anstehenden', u'Tarifrunde', u'F\\xfcr', u'die', u'deutsche', u'Metall-', u'und', u'Elektroindustrie', u'eine', u'geringere', u'Lohnsteigerung', u'fordern', u'als', u'im', u'Jahr', u'zuvor', u'.']\n",
      "-------------------\n",
      "[u'Die', u'Syrien-Krise', u'ist', u'ungel\\xf6st', u',', u'die', u'Fl\\xfcchtlingskrise', u'in', u'Europa', u'deshalb', u'ebenso', u'.']\n",
      "[u'Die', u'Syrien-Krise', u'ist', u'Ungel\\xf6st', u',', u'die', u'Fl\\xfcchtlingskrise', u'in', u'Europa', u'deshalb', u'ebenso', u'.']\n",
      "-------------------\n",
      "Accuracy: 93.53%\n"
     ]
    }
   ],
   "source": [
    "evaluateTrueCaser(random_sentences, wordCasingLookup, uniDist, backwardBiDist, forwardBiDist, trigramDist)"
   ]
  },
  {
   "cell_type": "code",
   "execution_count": 13,
   "id": "e7a28d6f",
   "metadata": {},
   "outputs": [
    {
     "name": "stderr",
     "output_type": "stream",
     "text": [
      "C:\\ProgramData\\Anaconda3\\envs\\py27\\lib\\site-packages\\sacremoses\\truecase.py:26: UserWarning: You should really be using Python3!!! Tick tock, tick tock, https://pythonclock.org/\n",
      "  \"You should really be using Python3!!! \"\n"
     ]
    }
   ],
   "source": [
    "from Truecaser import *\n",
    "import nltk\n",
    "import string\n",
    "import PredictTruecaser\n",
    "from nltk.tokenize.treebank import TreebankWordDetokenizer\n",
    "from sacremoses import MosesTokenizer, MosesDetokenizer # detokenizing package\n",
    "md = MosesDetokenizer() "
   ]
  },
  {
   "cell_type": "code",
   "execution_count": 14,
   "id": "25dda7cc",
   "metadata": {},
   "outputs": [],
   "source": [
    "# Define a test sentence for demonstration\n",
    "test_sentence = 'dieses wort ist falsch geschrieben. dieser satz ist ein test.'"
   ]
  },
  {
   "cell_type": "code",
   "execution_count": 15,
   "id": "6dda4419",
   "metadata": {},
   "outputs": [
    {
     "name": "stdout",
     "output_type": "stream",
     "text": [
      "Dieses Wort ist falsch geschrieben. Dieser Satz ist ein Test.\n"
     ]
    }
   ],
   "source": [
    "corr_sent = getTrueCase(nltk.word_tokenize(test_sentence), 'title', wordCasingLookup, uniDist, backwardBiDist, forwardBiDist, \n",
    "                       trigramDist)\n",
    "corr_sent = md.detokenize(corr_sent).replace(u\"``\", u' \" ').replace(u\"''\", u' \" ').replace(u\"'\", u\" \")\n",
    "print(corr_sent)"
   ]
  },
  {
   "cell_type": "code",
   "execution_count": 16,
   "id": "48096d6b",
   "metadata": {},
   "outputs": [],
   "source": [
    "# Load articles that we want to correct\n",
    "data_truecase = pd.read_csv(os.getcwd().replace('truecaser-master', '') + 'dpa_case_fix.csv', encoding = 'utf-8', sep=';', index_col = 0,  keep_default_na=False,\n",
    "                   dtype = {'rubrics': 'str', \n",
    "                            'source': 'str',\n",
    "                            'keywords': 'str',\n",
    "                            'title': 'str',\n",
    "                            'city': 'str',\n",
    "                            'genre': 'str',\n",
    "                            'wordcount': 'str'},\n",
    "                  converters = {'paragraphs': literal_eval})"
   ]
  },
  {
   "cell_type": "code",
   "execution_count": 17,
   "id": "d35f9422",
   "metadata": {},
   "outputs": [
    {
     "data": {
      "text/plain": [
       "u\"wall street schliesst fester. new york (vwd) - die aktienboerse in new york konnte am donnerstag ihre im sitzungsverlauf gesehenen kursgewinne nahezu behaupten. der dow-jones-index fuer 30 industriewerte schloss mit 2.643,07 um 24,01 punkte bzw 0,92 prozent ueber vortagesschluss. auch die breiter gefassten marktbarometer sowie die branchenindizes lagen im plusterritorium. umgesetzt wurden 223,15 (169,44) millionen aktien, wobei die kursgewinner gegenueber den -verlierern eine fuehrung von rund drei zu eins behaupteten. haendler fuehrten die aufschlaege auf hoffnungen am markt zurueck, wonach das federal reserve board in kuerze weitere zinssenkungen vornehmen werde, um die us-konjunktur anzukurbeln. die hoffnungen waren am mittwoch durch aeusserungen von fed-chairman alan greenspan genaehrt worden, der angesichts des 'credit crunch' der banken in den usa eine senkung der us-tagesgeldsaetze befuerwortet hatte. ausserdem, so die boersianer, habe der markt eine stuetze durch die wieder nachgebenden oelpreise erhalten. positiv auf das geschaeft habe sich zudem die rede von us-praesident bush am mittwoch abend vor reservisten ausgewirkt, in der bush erklaerte, die alliierten streitkraefte haetten im krieg am persischen golf die lufthoheit errungen. darueber hinaus wurden im sitzungsverlauf charttechnische marken nach oben durchstossen, worauf haendler mit verstaerkten anschaffungen reagierten.\""
      ]
     },
     "execution_count": 17,
     "metadata": {},
     "output_type": "execute_result"
    }
   ],
   "source": [
    "# An example of an article with incorrect capitalization\n",
    "data_truecase['texts'].iloc[15]"
   ]
  },
  {
   "cell_type": "code",
   "execution_count": 18,
   "id": "6a7d007f",
   "metadata": {},
   "outputs": [],
   "source": [
    "# Use the trained truecasing model to correct articles\n",
    "truecase_art = []\n",
    "\n",
    "for text in data_truecase['texts']:\n",
    "    truecase_art.append(getTrueCase(nltk.word_tokenize(text), 'title', wordCasingLookup, uniDist, backwardBiDist, forwardBiDist, trigramDist))"
   ]
  },
  {
   "cell_type": "code",
   "execution_count": 19,
   "id": "ac719e90",
   "metadata": {},
   "outputs": [],
   "source": [
    "# Detokenize the articles\n",
    "truecase_art = [md.detokenize(article).replace(u\"``\", u' \" ').replace(u\"''\", u' \" ').replace(u\"'\", u\" \") for article in truecase_art]"
   ]
  },
  {
   "cell_type": "code",
   "execution_count": 20,
   "id": "0cc49906",
   "metadata": {},
   "outputs": [
    {
     "data": {
      "text/plain": [
       "u'Wall Street schliesst fester. New York (Vwd) - Die Aktienboerse in New York konnte am Donnerstag ihre im Sitzungsverlauf gesehenen Kursgewinne nahezu behaupten. Der Dow-Jones-Index fuer 30 Industriewerte schloss mit 2.643,07 um 24,01 Punkte bzw 0,92 Prozent ueber Vortagesschluss. Auch die breiter gefassten Marktbarometer sowie die Branchenindizes lagen im Plusterritorium. umgesetzt wurden 223,15 (169,44) Millionen Aktien, wobei die Kursgewinner gegenueber den -verlierern eine Fuehrung von rund drei zu eins behaupteten. Haendler fuehrten die Aufschlaege auf Hoffnungen am Markt zurueck, wonach das Federal Reserve Board in Kuerze weitere Zinssenkungen vornehmen werde, um die US-Konjunktur anzukurbeln. Die Hoffnungen waren am Mittwoch durch AEusserungen von Fed-Chairman Alan Greenspan genaehrt worden, der angesichts des Credit Crunch  der Banken in den USA eine Senkung der Us-Tagesgeldsaetze befuerwortet hatte. Ausserdem, so die Boersianer, habe der Markt eine Stuetze durch die wieder nachgebenden OElpreise erhalten. positiv auf das Geschaeft habe sich zudem die Rede von US-Praesident Bush am Mittwoch Abend vor Reservisten ausgewirkt, in der Bush erklaerte, die Alliierten Streitkraefte haetten im Krieg am Persischen Golf die Lufthoheit errungen. Darueber hinaus wurden im Sitzungsverlauf charttechnische Marken nach oben durchstossen, worauf Haendler mit verstaerkten Anschaffungen reagierten.'"
      ]
     },
     "execution_count": 20,
     "metadata": {},
     "output_type": "execute_result"
    }
   ],
   "source": [
    "truecase_art[15]"
   ]
  },
  {
   "cell_type": "code",
   "execution_count": 21,
   "id": "db7fed10",
   "metadata": {},
   "outputs": [],
   "source": [
    "data_truecase['texts'] = truecase_art"
   ]
  },
  {
   "cell_type": "code",
   "execution_count": 22,
   "id": "4c79d43c",
   "metadata": {},
   "outputs": [
    {
     "data": {
      "text/plain": [
       "u'Wall Street schliesst fester. New York (Vwd) - Die Aktienboerse in New York konnte am Donnerstag ihre im Sitzungsverlauf gesehenen Kursgewinne nahezu behaupten. Der Dow-Jones-Index fuer 30 Industriewerte schloss mit 2.643,07 um 24,01 Punkte bzw 0,92 Prozent ueber Vortagesschluss. Auch die breiter gefassten Marktbarometer sowie die Branchenindizes lagen im Plusterritorium. umgesetzt wurden 223,15 (169,44) Millionen Aktien, wobei die Kursgewinner gegenueber den -verlierern eine Fuehrung von rund drei zu eins behaupteten. Haendler fuehrten die Aufschlaege auf Hoffnungen am Markt zurueck, wonach das Federal Reserve Board in Kuerze weitere Zinssenkungen vornehmen werde, um die US-Konjunktur anzukurbeln. Die Hoffnungen waren am Mittwoch durch AEusserungen von Fed-Chairman Alan Greenspan genaehrt worden, der angesichts des Credit Crunch  der Banken in den USA eine Senkung der Us-Tagesgeldsaetze befuerwortet hatte. Ausserdem, so die Boersianer, habe der Markt eine Stuetze durch die wieder nachgebenden OElpreise erhalten. positiv auf das Geschaeft habe sich zudem die Rede von US-Praesident Bush am Mittwoch Abend vor Reservisten ausgewirkt, in der Bush erklaerte, die Alliierten Streitkraefte haetten im Krieg am Persischen Golf die Lufthoheit errungen. Darueber hinaus wurden im Sitzungsverlauf charttechnische Marken nach oben durchstossen, worauf Haendler mit verstaerkten Anschaffungen reagierten.'"
      ]
     },
     "execution_count": 22,
     "metadata": {},
     "output_type": "execute_result"
    }
   ],
   "source": [
    "data_truecase['texts'].iloc[15]"
   ]
  },
  {
   "cell_type": "code",
   "execution_count": 23,
   "id": "fb1b35f8",
   "metadata": {},
   "outputs": [],
   "source": [
    "data_truecase.to_csv(os.path.join(os.getcwd().replace('truecaser-master', ''), 'dpa_cases_fixed.csv'), encoding='utf-8-sig', sep = ';')"
   ]
  }
 ],
 "metadata": {
  "kernelspec": {
   "display_name": "Python 2",
   "language": "python",
   "name": "python2"
  },
  "language_info": {
   "codemirror_mode": {
    "name": "ipython",
    "version": 2
   },
   "file_extension": ".py",
   "mimetype": "text/x-python",
   "name": "python",
   "nbconvert_exporter": "python",
   "pygments_lexer": "ipython2",
   "version": "2.7.15"
  }
 },
 "nbformat": 4,
 "nbformat_minor": 5
}
