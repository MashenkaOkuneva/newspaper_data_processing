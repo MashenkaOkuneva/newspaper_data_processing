{
 "cells": [
  {
   "cell_type": "code",
   "execution_count": 1,
   "id": "0f0a913c",
   "metadata": {},
   "outputs": [],
   "source": [
    "import pandas as pd\n",
    "from datetime import datetime"
   ]
  },
  {
   "cell_type": "code",
   "execution_count": 2,
   "id": "07851546",
   "metadata": {},
   "outputs": [
    {
     "name": "stderr",
     "output_type": "stream",
     "text": [
      "C:\\ProgramData\\Anaconda3\\lib\\site-packages\\IPython\\core\\interactiveshell.py:3165: DtypeWarning: Columns (10,14) have mixed types.Specify dtype option on import or set low_memory=False.\n",
      "  has_raised = await self.run_ast_nodes(code_ast.body, cell_name,\n"
     ]
    }
   ],
   "source": [
    "data = pd.read_csv(r'D:\\Studium\\PhD\\Media Tenor\\Results\\dpa_prepro_step2.csv')"
   ]
  },
  {
   "cell_type": "code",
   "execution_count": 6,
   "id": "dc066203",
   "metadata": {},
   "outputs": [],
   "source": [
    "# Extract full dates 'year', 'month' and 'day' columns\n",
    "dates = [str(year)+'-'+str(month)+'-'+str(day) for year, month, day in zip(list(data['year'].astype(int)),list(data['month'].astype(int)),list(data['day'].astype(int)))]\n",
    "\n",
    "# Identifiy weekends and working days as either '1' or '0' and save results in new column\n",
    "weekdays = [datetime.strptime(date, '%Y-%m-%d').date().weekday() for date in dates]\n",
    "weekends = [1 if weekday > 4 else 0 for weekday in weekdays]\n",
    "data['weekends'] = weekends\n",
    "data['dates'] = dates"
   ]
  },
  {
   "cell_type": "code",
   "execution_count": 7,
   "id": "ab8e7ef3",
   "metadata": {},
   "outputs": [],
   "source": [
    "# Split data into weekend and working days\n",
    "weekend_full_data = data[data['weekends'] == 1]\n",
    "working_day_full_data = data[data['weekends'] == 0]"
   ]
  },
  {
   "cell_type": "code",
   "execution_count": 8,
   "id": "445cd0f3",
   "metadata": {},
   "outputs": [],
   "source": [
    "# Get total number of working days and weekend days\n",
    "number_working_days = len(set(working_day_full_data['dates']))\n",
    "number_weekend_days = len(set(weekend_full_data['dates']))"
   ]
  },
  {
   "cell_type": "code",
   "execution_count": 9,
   "id": "42d68cd3",
   "metadata": {},
   "outputs": [
    {
     "name": "stdout",
     "output_type": "stream",
     "text": [
      "Average number of Articles published on working days (before filtering): 513\n",
      "Average number of Articles published on weekend days (before filtering): 189\n"
     ]
    }
   ],
   "source": [
    "print('Average number of Articles published on working days (before filtering): ' + str(round(1/number_working_days * len(working_day_full_data))))\n",
    "print('Average number of Articles published on weekend days (before filtering): ' + str(round(1/number_weekend_days * len(weekend_full_data))))"
   ]
  },
  {
   "cell_type": "code",
   "execution_count": 11,
   "id": "5bd4b9fe",
   "metadata": {},
   "outputs": [
    {
     "name": "stdout",
     "output_type": "stream",
     "text": [
      "Average length of article published on working days (before filtering): 278\n",
      "Average length of article published on weekend days (before filtering): 265\n"
     ]
    }
   ],
   "source": [
    "print('Average length of article published on working days (before filtering): ' + str(round(sum(working_day_full_data['word_count'])/len(working_day_full_data))))\n",
    "print('Average length of article published on weekend days (before filtering): ' + str(round(sum(weekend_full_data['word_count'])/len(weekend_full_data))))"
   ]
  },
  {
   "cell_type": "code",
   "execution_count": 12,
   "id": "389b6051",
   "metadata": {},
   "outputs": [
    {
     "name": "stderr",
     "output_type": "stream",
     "text": [
      "C:\\ProgramData\\Anaconda3\\lib\\site-packages\\IPython\\core\\interactiveshell.py:3165: DtypeWarning: Columns (12,16) have mixed types.Specify dtype option on import or set low_memory=False.\n",
      "  has_raised = await self.run_ast_nodes(code_ast.body, cell_name,\n"
     ]
    }
   ],
   "source": [
    "data = pd.read_csv(r'D:\\Studium\\PhD\\Media Tenor\\Results\\dpa_prepro_step9.csv')"
   ]
  },
  {
   "cell_type": "code",
   "execution_count": 13,
   "id": "1ef093f8",
   "metadata": {},
   "outputs": [],
   "source": [
    "# Extract full dates 'year', 'month' and 'day' columns\n",
    "dates = [str(year)+'-'+str(month)+'-'+str(day) for year, month, day in zip(list(data['year'].astype(int)),list(data['month'].astype(int)),list(data['day'].astype(int)))]\n",
    "\n",
    "# Identifiy weekends and working days as either '1' or '0' and save results in new column\n",
    "weekdays = [datetime.strptime(date, '%Y-%m-%d').date().weekday() for date in dates]\n",
    "\n",
    "weekends = [1 if weekday > 4 else 0 for weekday in weekdays]\n",
    "data['weekends'] = weekends\n",
    "data['dates'] = dates"
   ]
  },
  {
   "cell_type": "code",
   "execution_count": 14,
   "id": "d10a0859",
   "metadata": {},
   "outputs": [],
   "source": [
    "# Split data into weekend and working days\n",
    "weekend_filtered_data = data[data['weekends'] == 1]\n",
    "working_day_filtered_data = data[data['weekends'] == 0]"
   ]
  },
  {
   "cell_type": "code",
   "execution_count": 15,
   "id": "9d14c995",
   "metadata": {},
   "outputs": [],
   "source": [
    "# Get total number of working days and weekend days\n",
    "number_working_days_filtered = len(set(working_day_filtered_data['dates']))\n",
    "number_weekend_days_filtered = len(set(weekend_filtered_data['dates']))"
   ]
  },
  {
   "cell_type": "code",
   "execution_count": 23,
   "id": "9ef70b16",
   "metadata": {},
   "outputs": [
    {
     "name": "stdout",
     "output_type": "stream",
     "text": [
      "Average number of Articles published on working days (after filtering): 203\n",
      "Average number of Articles published on weekend days (after filtering): 33\n"
     ]
    }
   ],
   "source": [
    "print('Average number of Articles published on working days (after filtering): ' + str(round(1/number_working_days * len(working_day_filtered_data))))\n",
    "print('Average number of Articles published on weekend days (after filtering): ' + str(round(1/number_weekend_days * len(weekend_filtered_data))))"
   ]
  },
  {
   "cell_type": "code",
   "execution_count": 17,
   "id": "35d9a070",
   "metadata": {},
   "outputs": [
    {
     "name": "stdout",
     "output_type": "stream",
     "text": [
      "Average length of article published on working days (after filtering): 300\n",
      "Average length of article published on weekend days (after filtering): 281\n"
     ]
    }
   ],
   "source": [
    "print('Average length of article published on working days (after filtering): ' + str(round(sum(working_day_filtered_data['word_count'])/len(working_day_filtered_data))))\n",
    "print('Average length of article published on weekend days (after filtering): ' + str(round(sum(weekend_filtered_data['word_count'])/len(weekend_filtered_data))))"
   ]
  },
  {
   "cell_type": "markdown",
   "id": "921a7984",
   "metadata": {},
   "source": [
    "### Compare Afx and WiPo articles"
   ]
  },
  {
   "cell_type": "markdown",
   "id": "96d74ef8",
   "metadata": {},
   "source": [
    "### Afx"
   ]
  },
  {
   "cell_type": "code",
   "execution_count": 18,
   "id": "2e9401c8",
   "metadata": {},
   "outputs": [],
   "source": [
    "weekend_filtered_data_afx = weekend_filtered_data[weekend_filtered_data['topic'] == 'afx']\n",
    "working_day_filtered_data_afx = working_day_filtered_data[working_day_filtered_data['topic'] == 'afx']\n",
    "\n",
    "# Get total number of working days and weekend days for afx\n",
    "number_working_days_filtered_afx = len(set(working_day_filtered_data_afx['dates']))\n",
    "number_weekend_days_filtered_afx = len(set(weekend_filtered_data_afx['dates']))"
   ]
  },
  {
   "cell_type": "code",
   "execution_count": 24,
   "id": "a6c47cc1",
   "metadata": {},
   "outputs": [
    {
     "name": "stdout",
     "output_type": "stream",
     "text": [
      "Average number of Articles published on working days (after filtering, afx): 145\n",
      "Average number of Articles published on weekend days (after filtering, afx): 19\n"
     ]
    }
   ],
   "source": [
    "print('Average number of Articles published on working days (after filtering, afx): ' + str(round(1/number_working_days * len(working_day_filtered_data_afx))))\n",
    "print('Average number of Articles published on weekend days (after filtering, afx): ' + str(round(1/number_weekend_days * len(weekend_filtered_data_afx))))"
   ]
  },
  {
   "cell_type": "code",
   "execution_count": 25,
   "id": "66f3c2e8",
   "metadata": {},
   "outputs": [
    {
     "name": "stdout",
     "output_type": "stream",
     "text": [
      "Average length of article published on working days (after filtering, afx): 319\n",
      "Average length of article published on weekend days (after filtering, afx): 297\n"
     ]
    }
   ],
   "source": [
    "print('Average length of article published on working days (after filtering, afx): ' + str(round(sum(working_day_filtered_data_afx['word_count'])/len(working_day_filtered_data_afx))))\n",
    "print('Average length of article published on weekend days (after filtering, afx): ' + str(round(sum(weekend_filtered_data_afx['word_count'])/len(weekend_filtered_data_afx))))"
   ]
  },
  {
   "cell_type": "markdown",
   "id": "c723eccc",
   "metadata": {},
   "source": [
    "### WiPo"
   ]
  },
  {
   "cell_type": "code",
   "execution_count": 29,
   "id": "af43eb4b",
   "metadata": {},
   "outputs": [],
   "source": [
    "weekend_filtered_data_wipo = weekend_filtered_data[weekend_filtered_data['topic'] == 'WiPo']\n",
    "working_day_filtered_data_wipo = working_day_filtered_data[working_day_filtered_data['topic'] == 'WiPo']\n",
    "\n",
    "# Get total number of working days and weekend days for WiPo\n",
    "number_working_days_filtered_wipo = len(set(working_day_filtered_data_wipo['dates']))\n",
    "number_weekend_days_filtered_wipo = len(set(weekend_filtered_data_wipo['dates']))"
   ]
  },
  {
   "cell_type": "code",
   "execution_count": 30,
   "id": "6135ff17",
   "metadata": {},
   "outputs": [
    {
     "name": "stdout",
     "output_type": "stream",
     "text": [
      "Average number of Articles published on working days (after filtering, WiPo): 58\n",
      "Average number of Articles published on weekend days (after filtering, WiPo): 14\n"
     ]
    }
   ],
   "source": [
    "print('Average number of Articles published on working days (after filtering, WiPo): ' + str(round(1/number_working_days * len(working_day_filtered_data_wipo))))\n",
    "print('Average number of Articles published on weekend days (after filtering, WiPo): ' + str(round(1/number_weekend_days * len(weekend_filtered_data_wipo))))"
   ]
  },
  {
   "cell_type": "code",
   "execution_count": 31,
   "id": "7c8eb6cd",
   "metadata": {},
   "outputs": [
    {
     "name": "stdout",
     "output_type": "stream",
     "text": [
      "Average length of article published on working days (after filtering, WiPo): 253\n",
      "Average length of article published on weekend days (after filtering, WiPo): 259\n"
     ]
    }
   ],
   "source": [
    "print('Average length of article published on working days (after filtering, WiPo): ' + str(round(sum(working_day_filtered_data_wipo['word_count'])/len(working_day_filtered_data_wipo))))\n",
    "print('Average length of article published on weekend days (after filtering, WiPo): ' + str(round(sum(weekend_filtered_data_wipo['word_count'])/len(weekend_filtered_data_wipo))))"
   ]
  },
  {
   "cell_type": "code",
   "execution_count": null,
   "id": "c15ba221",
   "metadata": {},
   "outputs": [],
   "source": []
  }
 ],
 "metadata": {
  "kernelspec": {
   "display_name": "Python 3",
   "language": "python",
   "name": "python3"
  },
  "language_info": {
   "codemirror_mode": {
    "name": "ipython",
    "version": 3
   },
   "file_extension": ".py",
   "mimetype": "text/x-python",
   "name": "python",
   "nbconvert_exporter": "python",
   "pygments_lexer": "ipython3",
   "version": "3.8.8"
  }
 },
 "nbformat": 4,
 "nbformat_minor": 5
}
