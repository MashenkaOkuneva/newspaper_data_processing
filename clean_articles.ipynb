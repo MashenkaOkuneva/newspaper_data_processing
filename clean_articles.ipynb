{
 "cells": [
  {
   "cell_type": "code",
   "execution_count": 1,
   "id": "e7dab09d",
   "metadata": {},
   "outputs": [],
   "source": [
    "import os\n",
    "from datetime import datetime\n",
    "import multiprocessing as mp\n",
    "import numpy as np\n",
    "import pandas as pd"
   ]
  },
  {
   "cell_type": "code",
   "execution_count": 2,
   "id": "6e07ff51",
   "metadata": {},
   "outputs": [],
   "source": [
    "# Select a path to the folder with preprocessed data\n",
    "PATH = r'D:\\\\Studium\\\\PhD\\\\Media Tenor'\n",
    "os.chdir(PATH)"
   ]
  },
  {
   "cell_type": "code",
   "execution_count": 3,
   "id": "a31d6530",
   "metadata": {},
   "outputs": [],
   "source": [
    "from clean_dp_articles import clean_dpa"
   ]
  },
  {
   "cell_type": "code",
   "execution_count": 4,
   "id": "b597d0ec",
   "metadata": {},
   "outputs": [],
   "source": [
    "data = pd.read_csv('WiPo.csv', encoding = 'utf-8', index_col=False, dtype='unicode')\n",
    "data.fillna('', inplace=True)"
   ]
  },
  {
   "cell_type": "code",
   "execution_count": null,
   "id": "98f9d6d3",
   "metadata": {},
   "outputs": [],
   "source": [
    "NUM_CORE = mp.cpu_count()\n",
    "\n",
    "startTime = datetime.now()\n",
    "\n",
    "if __name__ == \"__main__\":\n",
    "\n",
    "    pool = mp.Pool(NUM_CORE)\n",
    "    data_split = np.array_split(data, NUM_CORE)\n",
    "    [df.reset_index(inplace=True, drop=True) for df in data_split]\n",
    "    data_intermediate = pool.map(clean_dpa, data_split)\n",
    "    data = pd.concat(data_intermediate)\n",
    "    pool.close()\n",
    "    pool.join()\n",
    "\n",
    "print(datetime.now()-startTime)"
   ]
  }
 ],
 "metadata": {
  "kernelspec": {
   "display_name": "Python 3",
   "language": "python",
   "name": "python3"
  },
  "language_info": {
   "codemirror_mode": {
    "name": "ipython",
    "version": 3
   },
   "file_extension": ".py",
   "mimetype": "text/x-python",
   "name": "python",
   "nbconvert_exporter": "python",
   "pygments_lexer": "ipython3",
   "version": "3.8.8"
  }
 },
 "nbformat": 4,
 "nbformat_minor": 5
}
