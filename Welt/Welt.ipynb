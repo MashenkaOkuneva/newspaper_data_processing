{
 "cells": [
  {
   "cell_type": "code",
   "execution_count": 1,
   "metadata": {},
   "outputs": [],
   "source": [
    "import os\n",
    "import multiprocessing as mp # use multiprocessing module for parallel computing\n",
    "import pandas as pd # load pandas: python data analysis library\n",
    "import welt_load\n",
    "import numpy as np\n",
    "import collections\n",
    "import split_articles_welt\n",
    "import itertools\n",
    "import unicode_correct_welt # import the function correcting the unicode errors present in the database\n",
    "import clean_welt_articles\n",
    "import clean_tables_welt\n",
    "from datetime import datetime\n",
    "\n",
    "# We import some functions from the Handelsblatt folder\n",
    "import sys\n",
    "sys.path.insert(1, os.getcwd().replace('Welt', 'Handelsblatt'))\n",
    "import count_words_mp # import the function calculating the number of words in a text\n",
    "import split_number_word\n",
    "\n",
    "# We import some functions from the SZ folder\n",
    "sys.path.insert(1, os.getcwd().replace('Welt', 'SZ'))\n",
    "import umlauts_correct_sz\n",
    "import correct_url_sz\n",
    "import count_names\n",
    "\n",
    "# We import some functions from the 'dpa' folder\n",
    "sys.path.insert(1, os.getcwd().replace('Welt', 'dpa'))\n",
    "import fuzzy_duplicates_test_all_dpa\n",
    "import fuzzy_duplicates_dpa # import a function that outputs the indices of fuzzy duplicates\n",
    "import numeric_articles"
   ]
  },
  {
   "cell_type": "code",
   "execution_count": 2,
   "metadata": {},
   "outputs": [
    {
     "name": "stdout",
     "output_type": "stream",
     "text": [
      "The number of cores that will be used: 56\n"
     ]
    }
   ],
   "source": [
    "NUM_CORE = mp.cpu_count()-8 # set the number of cores to use\n",
    "\n",
    "print(\"The number of cores that will be used: {}\".format(NUM_CORE))"
   ]
  },
  {
   "cell_type": "markdown",
   "metadata": {},
   "source": [
    "# Welt data"
   ]
  },
  {
   "cell_type": "markdown",
   "metadata": {},
   "source": [
    "Welt is a distinguished national daily German newspaper that has substantial sections on both Economy and Politics. According to the IVW (Informationsgemeinschaft zur Feststellung der Verbreitung von Werbeträgern), in the first quarter of 2021, the newspaper had a circulation of 72,215 daily copies.\n",
    "\n",
    "We downloaded the data from **LexisNexis** in July 2018, and since the project was in its early stages, we only downloaded news from the Economy and Finance sections. Our dataset includes **197,565** articles published from Monday to Saturday, between April 1999 and January 2018.\n",
    "\n",
    "The Welt dataset is organized into a main folder named 'Welt', which contains 20 subfolders corresponding to each year from 1999 to 2018. Within each yearly subfolder, there are additional subfolders for each month, such as 'Apr 1999'. These monthly subfolders house multiple files (e.g., 'Die_Welt_1999_Apr_1.txt') that contain several articles from the respective month and year. This hierarchical organization of the Welt dataset ensures that the information is systematically stored, making it convenient for researchers to locate and extract specific articles for analysis. Unfortunately, due to copyright restrictions, we are unable to publish the data."
   ]
  },
  {
   "cell_type": "markdown",
   "metadata": {},
   "source": [
    "## Load the data"
   ]
  },
  {
   "cell_type": "markdown",
   "metadata": {},
   "source": [
    "First, we need to read in the data. We create the list including the names of the 1102 files (`files_list`) and apply the function `welt_load` to them in parallel by exploiting Python's `multiprocessing` library."
   ]
  },
  {
   "cell_type": "markdown",
   "metadata": {},
   "source": [
    "We extract the following information from the txt files:\n",
    "\n",
    "* publication date\n",
    "* section/subsection of the newspaper (RUBRIK)\n",
    "* the name of the newspaper\n",
    "* article's title and annotation\n",
    "* text of the article\n",
    "* a dummy variable for the 'kompakt' section with multiple articles"
   ]
  },
  {
   "cell_type": "code",
   "execution_count": 3,
   "metadata": {},
   "outputs": [],
   "source": [
    "# 'Welt' is the main folder with 20 subfolders corresponding to each year ('1999', '2000'...) in it\n",
    "path = os.getcwd().replace('\\\\newspaper_data_processing\\\\Welt', '') + '\\\\Welt'\n",
    "\n",
    "# Create the list of all files withing the 20 subfolders.\n",
    "files_list=[]\n",
    "\n",
    "# os.listdir(path) - names of directories: '1999', '2000'...\n",
    "# we proceed folder by folder ('1999', '2000'...)\n",
    "for f in [f for f in os.listdir(path) ]: \n",
    "    # again folder by folder ('Apr 1999', 'Aug 1999', ...)\n",
    "    for s in [s for s in os.listdir(path + '\\\\' + f) ]:\n",
    "        # for each file in a particular folder (e.g., Die_Welt_1999_Apr_1.txt)\n",
    "        for k in [k for k in os.listdir(path +  '\\\\' + f + '\\\\' + s) ]:\n",
    "            files_list.append(path + '\\\\' + f + '\\\\' + s + '\\\\' + k)"
   ]
  },
  {
   "cell_type": "code",
   "execution_count": 4,
   "metadata": {},
   "outputs": [
    {
     "name": "stdout",
     "output_type": "stream",
     "text": [
      "0:00:12.049826\n"
     ]
    }
   ],
   "source": [
    "startTime = datetime.now() # track time\n",
    "\n",
    "if __name__ == \"__main__\":\n",
    "    pool = mp.Pool(NUM_CORE)\n",
    "    data_intermediate = pool.map(welt_load.welt_load, files_list) # load data from each file in parallel\n",
    "    data = pd.concat(data_intermediate) # concatenate DataFrames from different files\n",
    "    pool.close()\n",
    "    pool.join()\n",
    "    \n",
    "print(datetime.now()-startTime)"
   ]
  },
  {
   "cell_type": "code",
   "execution_count": 5,
   "metadata": {},
   "outputs": [],
   "source": [
    "data = data.sort_values(['year', 'month', 'day'], ascending=[True, True, True]) # sort the data in chronological order\n",
    "data = data.reset_index() # reset the index of the DataFrame\n",
    "del data['index'] # delete a column with an old index"
   ]
  },
  {
   "cell_type": "code",
   "execution_count": 6,
   "metadata": {},
   "outputs": [
    {
     "data": {
      "text/html": [
       "<div>\n",
       "<style scoped>\n",
       "    .dataframe tbody tr th:only-of-type {\n",
       "        vertical-align: middle;\n",
       "    }\n",
       "\n",
       "    .dataframe tbody tr th {\n",
       "        vertical-align: top;\n",
       "    }\n",
       "\n",
       "    .dataframe thead th {\n",
       "        text-align: right;\n",
       "    }\n",
       "</style>\n",
       "<table border=\"1\" class=\"dataframe\">\n",
       "  <thead>\n",
       "    <tr style=\"text-align: right;\">\n",
       "      <th></th>\n",
       "      <th>year</th>\n",
       "      <th>month</th>\n",
       "      <th>day</th>\n",
       "      <th>newspaper</th>\n",
       "      <th>texts</th>\n",
       "      <th>rubrics</th>\n",
       "      <th>title</th>\n",
       "      <th>kompakt</th>\n",
       "    </tr>\n",
       "  </thead>\n",
       "  <tbody>\n",
       "    <tr>\n",
       "      <th>10</th>\n",
       "      <td>1999</td>\n",
       "      <td>3</td>\n",
       "      <td>3</td>\n",
       "      <td>Welt</td>\n",
       "      <td>[\\r\\n, \\r\\n, BANKEN\\r\\n, \\r\\n, Protestkundgebu...</td>\n",
       "      <td>Wirtschaft Kompakt</td>\n",
       "      <td></td>\n",
       "      <td>1</td>\n",
       "    </tr>\n",
       "    <tr>\n",
       "      <th>11</th>\n",
       "      <td>1999</td>\n",
       "      <td>3</td>\n",
       "      <td>3</td>\n",
       "      <td>Welt</td>\n",
       "      <td>[\\r\\n, \\r\\n, EC-KARTEN\\r\\n, \\r\\n, Neue Rufnumm...</td>\n",
       "      <td>Finanzen Kompakt</td>\n",
       "      <td></td>\n",
       "      <td>1</td>\n",
       "    </tr>\n",
       "    <tr>\n",
       "      <th>12</th>\n",
       "      <td>1999</td>\n",
       "      <td>3</td>\n",
       "      <td>4</td>\n",
       "      <td>Welt</td>\n",
       "      <td>[\\r\\n, \\r\\n, SUBVENTIONEN\\r\\n, \\r\\n, Van Miert...</td>\n",
       "      <td>Wirtschaft Kompakt</td>\n",
       "      <td></td>\n",
       "      <td>1</td>\n",
       "    </tr>\n",
       "    <tr>\n",
       "      <th>13</th>\n",
       "      <td>1999</td>\n",
       "      <td>3</td>\n",
       "      <td>4</td>\n",
       "      <td>Welt</td>\n",
       "      <td>[\\r\\n, \\r\\n, SCHIFFAHRT\\r\\n, \\r\\n, Flaute auf ...</td>\n",
       "      <td>Wirtschaft Kompakt</td>\n",
       "      <td></td>\n",
       "      <td>1</td>\n",
       "    </tr>\n",
       "    <tr>\n",
       "      <th>14</th>\n",
       "      <td>1999</td>\n",
       "      <td>3</td>\n",
       "      <td>4</td>\n",
       "      <td>Welt</td>\n",
       "      <td>[\\r\\n, \\r\\n, KRAFTWERK\\r\\n, \\r\\n, Lauchhammer ...</td>\n",
       "      <td>Wirtschaft Kompakt</td>\n",
       "      <td></td>\n",
       "      <td>1</td>\n",
       "    </tr>\n",
       "  </tbody>\n",
       "</table>\n",
       "</div>"
      ],
      "text/plain": [
       "    year  month  day newspaper  \\\n",
       "10  1999      3    3      Welt   \n",
       "11  1999      3    3      Welt   \n",
       "12  1999      3    4      Welt   \n",
       "13  1999      3    4      Welt   \n",
       "14  1999      3    4      Welt   \n",
       "\n",
       "                                                texts             rubrics  \\\n",
       "10  [\\r\\n, \\r\\n, BANKEN\\r\\n, \\r\\n, Protestkundgebu...  Wirtschaft Kompakt   \n",
       "11  [\\r\\n, \\r\\n, EC-KARTEN\\r\\n, \\r\\n, Neue Rufnumm...    Finanzen Kompakt   \n",
       "12  [\\r\\n, \\r\\n, SUBVENTIONEN\\r\\n, \\r\\n, Van Miert...  Wirtschaft Kompakt   \n",
       "13  [\\r\\n, \\r\\n, SCHIFFAHRT\\r\\n, \\r\\n, Flaute auf ...  Wirtschaft Kompakt   \n",
       "14  [\\r\\n, \\r\\n, KRAFTWERK\\r\\n, \\r\\n, Lauchhammer ...  Wirtschaft Kompakt   \n",
       "\n",
       "   title  kompakt  \n",
       "10              1  \n",
       "11              1  \n",
       "12              1  \n",
       "13              1  \n",
       "14              1  "
      ]
     },
     "execution_count": 6,
     "metadata": {},
     "output_type": "execute_result"
    }
   ],
   "source": [
    "data[10:15]"
   ]
  },
  {
   "cell_type": "code",
   "execution_count": 7,
   "metadata": {},
   "outputs": [
    {
     "data": {
      "text/plain": [
       "197565"
      ]
     },
     "execution_count": 7,
     "metadata": {},
     "output_type": "execute_result"
    }
   ],
   "source": [
    "# the number of articles before pre-processing\n",
    "len(data)"
   ]
  },
  {
   "cell_type": "markdown",
   "metadata": {},
   "source": [
    "## Split up articles"
   ]
  },
  {
   "cell_type": "markdown",
   "metadata": {},
   "source": [
    "In newspaper sections where the term 'kompakt' appears, such as 'Wirtschaft kompakt', it is common to find multiple articles aggregated into a single entry. Since these individual articles may have different sentiment and address distinct topics, it is crucial to separate and process them as distinct entities."
   ]
  },
  {
   "cell_type": "code",
   "execution_count": 8,
   "metadata": {},
   "outputs": [],
   "source": [
    "mult_art = data[data.kompakt == 1]\n",
    "mult_art.reset_index(inplace=True, drop=True)"
   ]
  },
  {
   "cell_type": "code",
   "execution_count": 9,
   "metadata": {},
   "outputs": [],
   "source": [
    "# delete 'mult_art' from the original data\n",
    "data.drop(data[data.kompakt == 1].index, inplace=True)\n",
    "data.reset_index(inplace=True, drop=True)"
   ]
  },
  {
   "cell_type": "code",
   "execution_count": 10,
   "metadata": {},
   "outputs": [],
   "source": [
    "# calculate chunck size \n",
    "chunk_size = int(mult_art.shape[0]/NUM_CORE)\n",
    "\n",
    "# split data into chunks \n",
    "chunks = [mult_art.iloc[mult_art.index[i:i + chunk_size]] for \n",
    "          i in range(0, mult_art.shape[0], chunk_size)]"
   ]
  },
  {
   "cell_type": "code",
   "execution_count": 11,
   "metadata": {},
   "outputs": [
    {
     "name": "stdout",
     "output_type": "stream",
     "text": [
      "0:00:09.248259\n",
      "54410\n"
     ]
    }
   ],
   "source": [
    "# split up articles into smaller articles and append the resulting new articles \n",
    "# to the corpus\n",
    "startTime = datetime.now()\n",
    "\n",
    "if __name__ == \"__main__\":\n",
    "    pool = mp.Pool(NUM_CORE)\n",
    "    results = pool.map(split_articles_welt.split_articles_welt, chunks) \n",
    "    pool.close()\n",
    "    pool.join()\n",
    "    \n",
    "print(datetime.now()-startTime)\n",
    "\n",
    "results = pd.concat(results)\n",
    "print(len(results))\n",
    "results.reset_index(inplace=True, drop=True) # reset the index of the DataFrame"
   ]
  },
  {
   "cell_type": "code",
   "execution_count": 12,
   "metadata": {},
   "outputs": [
    {
     "name": "stderr",
     "output_type": "stream",
     "text": [
      "C:\\Users\\mokuneva\\AppData\\Local\\Temp\\2\\ipykernel_39932\\386242840.py:2: FutureWarning: The frame.append method is deprecated and will be removed from pandas in a future version. Use pandas.concat instead.\n",
      "  data = data.append(results)\n"
     ]
    },
    {
     "name": "stdout",
     "output_type": "stream",
     "text": [
      "232569\n"
     ]
    }
   ],
   "source": [
    "# append separated articles to corpus\n",
    "data = data.append(results)\n",
    "data = data.sort_values(['year', 'month', 'day'], ascending=[True, True, True]) # sort the data in chronological order\n",
    "data.reset_index(inplace=True, drop=True) # reset the index of the DataFrame\n",
    "# the number of articles after splitting up collections of articles\n",
    "print(len(data))"
   ]
  },
  {
   "cell_type": "markdown",
   "metadata": {},
   "source": [
    "## Light pre-processing"
   ]
  },
  {
   "cell_type": "markdown",
   "metadata": {},
   "source": [
    "### Remove short articles (<100 words)"
   ]
  },
  {
   "cell_type": "markdown",
   "metadata": {},
   "source": [
    "The `count_words_mp` function is used to count the number of words in a text. This function only counts words and excludes numbers from the analysis. It takes into consideration Latin letters with any diacritics, such as umlauts. The function removes specific punctuation marks and non-alphabetic characters before counting the words, ensuring that the final count is accurate and relevant for sentiment analysis and topic modeling."
   ]
  },
  {
   "cell_type": "code",
   "execution_count": 13,
   "metadata": {},
   "outputs": [
    {
     "name": "stdout",
     "output_type": "stream",
     "text": [
      "0:00:04.700732\n"
     ]
    }
   ],
   "source": [
    "startTime = datetime.now() # track time\n",
    "\n",
    "if __name__ == \"__main__\":\n",
    "    pool = mp.Pool(NUM_CORE)\n",
    "    count_results = pool.map(count_words_mp.count_words_mp, [text for text in data['texts']]) \n",
    "    pool.close()\n",
    "    pool.join()\n",
    "    \n",
    "print(datetime.now()-startTime)"
   ]
  },
  {
   "cell_type": "code",
   "execution_count": 14,
   "metadata": {},
   "outputs": [],
   "source": [
    "# Save the result as a new column \"word_count\"\n",
    "data['word_count'] = count_results"
   ]
  },
  {
   "cell_type": "markdown",
   "metadata": {},
   "source": [
    "Shorter texts often lack sufficient semantic information, making it challenging for topic models and bag-of-words-based sentiment analysis tools to perform effectively. As a result, we focus on texts with more than 100 words to ensure better performance."
   ]
  },
  {
   "cell_type": "code",
   "execution_count": 15,
   "metadata": {},
   "outputs": [],
   "source": [
    "# remove articles with the number of words<100\n",
    "data = data[data['word_count']>=100]\n",
    "data = data.sort_values(['year', 'month', 'day'], ascending=[True, True, True]) # sort the data in chronological order\n",
    "data.reset_index(inplace=True, drop=True) # reset the index of the DataFrame"
   ]
  },
  {
   "cell_type": "code",
   "execution_count": 16,
   "metadata": {},
   "outputs": [
    {
     "data": {
      "text/plain": [
       "176487"
      ]
     },
     "execution_count": 16,
     "metadata": {},
     "output_type": "execute_result"
    }
   ],
   "source": [
    "# the number of articles after removing short articles\n",
    "len(data)"
   ]
  },
  {
   "cell_type": "markdown",
   "metadata": {},
   "source": [
    "### Remove exact duplicates"
   ]
  },
  {
   "cell_type": "markdown",
   "metadata": {},
   "source": [
    "Removing duplicates is crucial because they do not contribute any new information and only introduce noise into the analysis."
   ]
  },
  {
   "cell_type": "code",
   "execution_count": 17,
   "metadata": {},
   "outputs": [],
   "source": [
    "# All the duplicated articles are saved as 'welt_duplicates' for further exploration.\n",
    "welt_duplicates = data[data['texts'].duplicated(keep = False)]"
   ]
  },
  {
   "cell_type": "markdown",
   "metadata": {},
   "source": [
    "In the given corpus, we observe the following instances of duplicated articles:\n",
    "\n",
    "1. The same article appears twice, published in different sections: e.g. in 'Finanzen kompakt' (a collection of multiple articles) and 'Finanzen'."
   ]
  },
  {
   "cell_type": "code",
   "execution_count": 18,
   "metadata": {},
   "outputs": [
    {
     "data": {
      "text/html": [
       "<div>\n",
       "<style scoped>\n",
       "    .dataframe tbody tr th:only-of-type {\n",
       "        vertical-align: middle;\n",
       "    }\n",
       "\n",
       "    .dataframe tbody tr th {\n",
       "        vertical-align: top;\n",
       "    }\n",
       "\n",
       "    .dataframe thead th {\n",
       "        text-align: right;\n",
       "    }\n",
       "</style>\n",
       "<table border=\"1\" class=\"dataframe\">\n",
       "  <thead>\n",
       "    <tr style=\"text-align: right;\">\n",
       "      <th></th>\n",
       "      <th>year</th>\n",
       "      <th>month</th>\n",
       "      <th>day</th>\n",
       "      <th>newspaper</th>\n",
       "      <th>texts</th>\n",
       "      <th>rubrics</th>\n",
       "      <th>title</th>\n",
       "      <th>kompakt</th>\n",
       "      <th>word_count</th>\n",
       "    </tr>\n",
       "  </thead>\n",
       "  <tbody>\n",
       "    <tr>\n",
       "      <th>377</th>\n",
       "      <td>2000</td>\n",
       "      <td>11</td>\n",
       "      <td>28</td>\n",
       "      <td>Welt</td>\n",
       "      <td>GELDANLAGE. Aktienverkauf mit Verlust kann ste...</td>\n",
       "      <td>Finanzen kompakt</td>\n",
       "      <td></td>\n",
       "      <td>1</td>\n",
       "      <td>111</td>\n",
       "    </tr>\n",
       "    <tr>\n",
       "      <th>378</th>\n",
       "      <td>2000</td>\n",
       "      <td>11</td>\n",
       "      <td>28</td>\n",
       "      <td>Welt</td>\n",
       "      <td>GELDANLAGE. Aktienverkauf mit Verlust kann ste...</td>\n",
       "      <td>Finanzen</td>\n",
       "      <td></td>\n",
       "      <td>1</td>\n",
       "      <td>111</td>\n",
       "    </tr>\n",
       "  </tbody>\n",
       "</table>\n",
       "</div>"
      ],
      "text/plain": [
       "     year month day newspaper  \\\n",
       "377  2000    11  28      Welt   \n",
       "378  2000    11  28      Welt   \n",
       "\n",
       "                                                 texts           rubrics  \\\n",
       "377  GELDANLAGE. Aktienverkauf mit Verlust kann ste...  Finanzen kompakt   \n",
       "378  GELDANLAGE. Aktienverkauf mit Verlust kann ste...          Finanzen   \n",
       "\n",
       "    title kompakt  word_count  \n",
       "377             1         111  \n",
       "378             1         111  "
      ]
     },
     "execution_count": 18,
     "metadata": {},
     "output_type": "execute_result"
    }
   ],
   "source": [
    "welt_duplicates.loc[[377, 378]]"
   ]
  },
  {
   "cell_type": "markdown",
   "metadata": {},
   "source": [
    "2. The same article (here, an overview of a series) is included in the corpus with different publication dates (here, 8.04.2014 and 9.04.2014). In such cases, a logical approach is to retain the first entry."
   ]
  },
  {
   "cell_type": "code",
   "execution_count": 19,
   "metadata": {},
   "outputs": [
    {
     "data": {
      "text/html": [
       "<div>\n",
       "<style scoped>\n",
       "    .dataframe tbody tr th:only-of-type {\n",
       "        vertical-align: middle;\n",
       "    }\n",
       "\n",
       "    .dataframe tbody tr th {\n",
       "        vertical-align: top;\n",
       "    }\n",
       "\n",
       "    .dataframe thead th {\n",
       "        text-align: right;\n",
       "    }\n",
       "</style>\n",
       "<table border=\"1\" class=\"dataframe\">\n",
       "  <thead>\n",
       "    <tr style=\"text-align: right;\">\n",
       "      <th></th>\n",
       "      <th>year</th>\n",
       "      <th>month</th>\n",
       "      <th>day</th>\n",
       "      <th>newspaper</th>\n",
       "      <th>texts</th>\n",
       "      <th>rubrics</th>\n",
       "      <th>title</th>\n",
       "      <th>kompakt</th>\n",
       "      <th>word_count</th>\n",
       "    </tr>\n",
       "  </thead>\n",
       "  <tbody>\n",
       "    <tr>\n",
       "      <th>152567</th>\n",
       "      <td>2014</td>\n",
       "      <td>4</td>\n",
       "      <td>8</td>\n",
       "      <td>Welt</td>\n",
       "      <td>Serie im Überblick. Teil 1: Lohn und Arbeitgeb...</td>\n",
       "      <td>FINANZEN</td>\n",
       "      <td>Serie im Überblick.</td>\n",
       "      <td>0</td>\n",
       "      <td>112</td>\n",
       "    </tr>\n",
       "    <tr>\n",
       "      <th>152587</th>\n",
       "      <td>2014</td>\n",
       "      <td>4</td>\n",
       "      <td>9</td>\n",
       "      <td>Welt</td>\n",
       "      <td>Serie im Überblick. Teil 1: Lohn und Arbeitgeb...</td>\n",
       "      <td>FINANZEN</td>\n",
       "      <td>Serie im Überblick.</td>\n",
       "      <td>0</td>\n",
       "      <td>112</td>\n",
       "    </tr>\n",
       "  </tbody>\n",
       "</table>\n",
       "</div>"
      ],
      "text/plain": [
       "        year month day newspaper  \\\n",
       "152567  2014     4   8      Welt   \n",
       "152587  2014     4   9      Welt   \n",
       "\n",
       "                                                    texts   rubrics  \\\n",
       "152567  Serie im Überblick. Teil 1: Lohn und Arbeitgeb...  FINANZEN   \n",
       "152587  Serie im Überblick. Teil 1: Lohn und Arbeitgeb...  FINANZEN   \n",
       "\n",
       "                      title kompakt  word_count  \n",
       "152567  Serie im Überblick.       0         112  \n",
       "152587  Serie im Überblick.       0         112  "
      ]
     },
     "execution_count": 19,
     "metadata": {},
     "output_type": "execute_result"
    }
   ],
   "source": [
    "welt_duplicates.loc[[152567, 152587]]"
   ]
  },
  {
   "cell_type": "code",
   "execution_count": 20,
   "metadata": {},
   "outputs": [],
   "source": [
    "# drop the exact duplicates, keep the article with the earlier publication date ('first')\n",
    "data.drop_duplicates(['texts'], keep = 'first', inplace=True)\n",
    "data.reset_index(inplace=True, drop=True)"
   ]
  },
  {
   "cell_type": "code",
   "execution_count": 21,
   "metadata": {},
   "outputs": [
    {
     "data": {
      "text/plain": [
       "175482"
      ]
     },
     "execution_count": 21,
     "metadata": {},
     "output_type": "execute_result"
    }
   ],
   "source": [
    "# the number of articles after removing exact duplicates\n",
    "len(data)"
   ]
  },
  {
   "cell_type": "markdown",
   "metadata": {},
   "source": [
    "## Filtering"
   ]
  },
  {
   "cell_type": "markdown",
   "metadata": {},
   "source": [
    "### Section"
   ]
  },
  {
   "cell_type": "markdown",
   "metadata": {},
   "source": [
    "Articles from the economic and financial sections of Welt are categorized into 50 distinct subsections. To maintain consistency in topical content over time, we exclude articles from certain subsections that were only covered during a limited time period."
   ]
  },
  {
   "cell_type": "code",
   "execution_count": 22,
   "metadata": {},
   "outputs": [
    {
     "name": "stdout",
     "output_type": "stream",
     "text": [
      "[('WIRTSCHAFT', 66549), ('Wirtschaft', 53340), ('FINANZEN', 27164), ('Finanzen', 20572), ('Hamburg Wirtschaft', 6132), ('Berlin Wirtschaft', 971), ('Wirtschaft Kompakt', 269), ('Wirtschaft kompakt', 105), ('Finanzen kompakt', 98), ('Berliner Web Wirtschaft', 25), ('Extra', 24), ('FINANZEN Ausg. 241', 24), ('HH-WIRTSCHAFT', 20), ('FINANZEN Ausg. 228', 19), ('Extra Messe-Wirtschaft', 18), ('FINANZEN Ausg. 105', 16), ('Finanzen Kompakt', 15), ('KLIMA & FINANZEN Ausg. 19', 15), ('FINANZEN Ausg. 115', 11), ('Berliner Wirtschaft', 10), ('Wissenschaft', 8), ('FINANZEN Ausg. 90', 8), ('Berlin Werbe Wirtschaft', 6), ('BERLIN WIRTSCHAFT', 6), ('finanzen kompakt', 6), ('WIRTSCHAFT GESAMT', 6), ('Hamburg', 5), ('WebWelt', 4), ('wirtschaft-bestseller', 3), ('Sonderseite Messe-Wirtschaft', 3), ('FINANZEN Ausg. 76', 3), ('WebWirtschaft', 2), ('Investment-Tipps', 2), ('Berlin', 2), ('Wirtschaft - Termine', 2), ('HAMBURG', 2), ('WISSENSCHAFT', 2), ('TITEL', 2), ('Sonderseite Messe Wirtschaft', 2), ('Wirtschafts Bücher', 1), ('Härtetest für den Stabilitätspakt', 1), ('Boot', 1), ('Wirtschaft-Termine', 1), ('Wirtschaft-Bestseller', 1), ('Finanzen-Ticker', 1), ('Messe-Wirtschaft', 1), ('Zinsen ? Devisen ? Derivate ? Waren', 1), ('ZINSEN ? DEVISEN ? DERIVATE ? WAREN', 1), ('BERLIN', 1), ('FINANZEN Ausg. 227', 1)]\n"
     ]
    }
   ],
   "source": [
    "# Subsections and the number of articles per subsection\n",
    "counter=collections.Counter(data['rubrics'])\n",
    "print(counter.most_common(1000))"
   ]
  },
  {
   "cell_type": "markdown",
   "metadata": {},
   "source": [
    "The `keep_sections` variable represents a list of subsections that are retained for subsequent analysis."
   ]
  },
  {
   "cell_type": "code",
   "execution_count": 23,
   "metadata": {},
   "outputs": [],
   "source": [
    "keep_sections = ['WIRTSCHAFT', 'Wirtschaft', 'FINANZEN', 'Finanzen', 'Wirtschaft kompakt', 'Wirtschaft Kompakt', \n",
    "                 'Finanzen kompakt', 'Finanzen Kompakt', 'wirtschaft kompakt', 'finanzen kompakt']"
   ]
  },
  {
   "cell_type": "code",
   "execution_count": 24,
   "metadata": {},
   "outputs": [],
   "source": [
    "# Keep only relevant sections\n",
    "data = data[data['rubrics'].isin(keep_sections)]\n",
    "data.reset_index(inplace=True, drop=True)"
   ]
  },
  {
   "cell_type": "code",
   "execution_count": 25,
   "metadata": {},
   "outputs": [
    {
     "data": {
      "text/plain": [
       "168118"
      ]
     },
     "execution_count": 25,
     "metadata": {},
     "output_type": "execute_result"
    }
   ],
   "source": [
    "# the number of articles after removing articles from subsections with limited time coverage\n",
    "len(data)"
   ]
  },
  {
   "cell_type": "markdown",
   "metadata": {},
   "source": [
    "### Title"
   ]
  },
  {
   "cell_type": "markdown",
   "metadata": {},
   "source": [
    "Exclude articles with the following title patterns:\n",
    "\n",
    "* 'Verlierer.': stock prices only.\n",
    "* 'Gewinner.': stock prices only.\n",
    "* 'Auf dem Sprung an die Börse.': quantitative info on companies planning to go public.\n",
    "* 'Aktuelle Neuemissionen.': quantitative info on new issues.\n",
    "* 'Zinsen in Prozent.': quantitative info on interest rates. \n",
    "* 'Die Schlagzeile vom 1962.' ('Die Schlagzeile vom 1963.'): headlines from 1962/1963, historical news.\n",
    "* 'Leserfrage der Woche.' ('Leserfrage.'): reader's questions unrelated to the economy, typically legal questions.\n",
    "* 'Messe-Termine.': trade show dates.\n",
    "* 'service splitter.' ('ServiceSplitter.', 'Service-Splitter.', 'Service Splitter.') : unrelated to the economy.\n",
    "* 'Die Steuer-Serie auf einen Blick.': tax series, not economy-related.\n",
    "* 'WebWegWeiser.': web news.\n",
    "* 'Die Titel mit den größten Kursausschlägen. Stand: Schluss.': stock prices.\n",
    "* 'Wirtschaft. Vernetzt im Wohnzimmer.' ('Vernetzt im Wohnzimmer.'): advertisement of digital products.\n",
    "* 'Telefonaktion.': advertisement for phone-based Q&A on specific topics.\n",
    "* 'TICKER.' ('Ticker.'): stock prices.\n",
    "* 'Heizöl-Preise aktuell.': current heating oil prices.\n",
    "* 'Die Titel mit den größten Kursausschlägen. Schluss.': stock prices.\n",
    "* 'Telefontarife.': phone rates (numbers).\n",
    "* 'heute im sportteil.': today in sports section (irrelevant).\n",
    "* 'WELT-Rangliste der deutschen Wirtschaft - Auf einen Blick: Umsatz und. Beschäftigung; Die 500 größten Unternehmen des Landes auf einen Blick: Umsatz, Branchen und Beschäftigte.': sales and employment data for the largest companies (numbers).\n",
    "* 'Serie im Überblick.' ('Die Serie im Überblick.'): short introduction to the series.\n",
    "* 'So können Sie Ihr Portfolio optimieren.': the asset check organized by Welt.\n",
    "* 'Richtig vorsorgen. So finden Sie den perfekten Riester-Vertrag.': finding the perfect pension plan.\n",
    "* 'Die Titel mit den größten Kursausschlägen. Stand: 16.00 Uhr.': stock prices.\n",
    "* 'wirtschaft-bestseller.' ('Wirtschaft-Bestseller.'): book prices.\n",
    "* 'Themen (Fotos).': introduction to the topics discussed in the issue.\n",
    "* 'Emittenten-Kontakte.': contact information for warrant issuers.\n",
    "* 'TERMINE': a list of upcoming events.\n",
    "* 'Kursteil erhält ein neues Gesicht': an announcement about an update to the stock market section.\n",
    "* 'Wirtschaft und Politik.': schedule of important events.\n",
    "* '^Termine vom': schedule of important events.\n",
    "* 'Wirtschaftstermine.': schedule of important events."
   ]
  },
  {
   "cell_type": "code",
   "execution_count": 26,
   "metadata": {},
   "outputs": [],
   "source": [
    "title_clean = ['Verlierer.', 'Gewinner.', 'Auf dem Sprung an die Börse.', 'Aktuelle Neuemissionen.',\n",
    "              'Zinsen in Prozent.', 'Die Schlagzeile vom 1962.', 'Leserfrage der Woche.',\n",
    "              'Messe-Termine.', 'service splitter.', 'ServiceSplitter.', 'Service-Splitter.', 'Service Splitter.',\n",
    "              'Die Steuer-Serie auf einen Blick.', 'WebWegWeiser.',\n",
    "              'Die Titel mit den größten Kursausschlägen. Stand: Schluss.',\n",
    "              'Wirtschaft. Vernetzt im Wohnzimmer.', 'Telefonaktion.', 'TICKER.',\n",
    "              'Vernetzt im Wohnzimmer.', 'Die Schlagzeile vom 1963.', 'Heizöl-Preise aktuell.',\n",
    "              'Die Titel mit den größten Kursausschlägen. Schluss.', 'Telefontarife.',\n",
    "              'heute im sportteil.', \n",
    "              'WELT-Rangliste der deutschen Wirtschaft - Auf einen Blick: Umsatz und. Beschäftigung; Die 500 größten Unternehmen des Landes auf einen Blick: Umsatz, Branchen und Beschäftigte.',\n",
    "              'Serie im Überblick.', 'So können Sie Ihr Portfolio optimieren.',\n",
    "              'Richtig vorsorgen. So finden Sie den perfekten Riester-Vertrag.',\n",
    "              'Die Serie im Überblick.', 'Leserfrage.', 'Ticker.',\n",
    "              'Die Titel mit den größten Kursausschlägen. Stand: 16.00 Uhr.'\n",
    "              'wirtschaft-bestseller.', 'Wirtschaft-Bestseller.', 'Themen (Fotos).',\n",
    "              'Emittenten-Kontakte.',\n",
    "              'Wirtschaft und Politik.',\n",
    "              'Wirtschaftstermine.']"
   ]
  },
  {
   "cell_type": "code",
   "execution_count": 27,
   "metadata": {},
   "outputs": [],
   "source": [
    "data = data[~data['title'].isin(title_clean)]\n",
    "data.reset_index(inplace=True, drop=True) # reset the index of the DataFrame"
   ]
  },
  {
   "cell_type": "code",
   "execution_count": 28,
   "metadata": {},
   "outputs": [],
   "source": [
    "title_patterns = ['TERMINE', 'Kursteil erhält ein neues Gesicht', '^Termine vom']"
   ]
  },
  {
   "cell_type": "code",
   "execution_count": 29,
   "metadata": {},
   "outputs": [],
   "source": [
    "data = data[~data['title'].str.contains('|'.join(title_patterns))]\n",
    "data.reset_index(inplace=True, drop=True) # reset the index of the DataFrame"
   ]
  },
  {
   "cell_type": "code",
   "execution_count": 30,
   "metadata": {},
   "outputs": [
    {
     "data": {
      "text/plain": [
       "167735"
      ]
     },
     "execution_count": 30,
     "metadata": {},
     "output_type": "execute_result"
    }
   ],
   "source": [
    "# the number of articles after excluding articles based on the title patterns\n",
    "len(data)"
   ]
  },
  {
   "cell_type": "markdown",
   "metadata": {},
   "source": [
    "## Umlauts"
   ]
  },
  {
   "cell_type": "markdown",
   "metadata": {},
   "source": [
    "In the given dataset, some texts contain incorrect umlaut encodings, such as '&auml;', '&uuml;', '&ouml;', '&Auml;', '&Uuml;', and '&Ouml;'. These encodings are typically used in HTML documents to represent umlaut characters like 'ä', 'ü', 'ö', 'Ä', 'Ü', and 'Ö'. However, in this case, the encodings are not being interpreted correctly, leading to broken umlauts in the text.\n",
    "\n",
    "To fix this issue, we use the function `umlauts_correct_sz` that replaces these incorrect umlaut encodings with the correct umlaut characters."
   ]
  },
  {
   "cell_type": "code",
   "execution_count": 31,
   "metadata": {},
   "outputs": [
    {
     "data": {
      "text/plain": [
       "'Britische Versicherer leiden unter Börsenflaute. Dividenden werden gekürzt - Finanzaufsicht soll die Anlagevorschriften lockern. London - Britische Lebensversicherer galten viele Jahre als Geheimtipp. Während deutsche Assekuranzen wegen der strengen Anlagevorschriften nur einen geringen Teil der Prämien in Aktien investieren durften und deshalb mit mündelsicheren Anleihen und Pfandbriefen nur niedrige einstellige Renditen erwirtschafteten, konnten britische Konkurrenten bis zu 80 Prozent der Spargelder in Aktien investieren. So lange die Kurse an den Börsen stiegen, waren hohe Gewinne garantiert. Doch seit die Finanzmärkte die schlimmste Baisse seit dem zweiten Weltkrieg erleben, haben die britischen Lebensversicherer ein Problem. Mit fallenden Kursen sinken automatisch die Renditen. Gleichzeitig müssen die Versicherungspolicen bedient werden. Um flüssig zu bleiben, sind die Assekuranzen gezwungen, Aktien zu verkaufen. Das wiederum setzt die Kurse zusätzlich unter Druck. Britannic musste wegen eines Gewinneinbruchs um 41 Prozent auf 85 Mio. Pfund (127 Mio. Euro) daher die Dividende für 2002 kürzen. Bei Prudential, dem zweitgrößten Anbieter, verleitete die Ankündigung, die Ausschüttung nicht zu erhöhen, die Anleger zu Panikverkäufen. Branchenprimus Aviva gab bekannt, dass die Gewinnbeteiligung der Aktionäre trotz wachsender Prämieneinnahmen niedriger ausfallen müsse. Auch Standard Life, der größte europäische Versicherer auf Gegenseitigkeit, löste eine Verkaufswelle aus. Dabei ist das Unternehmen gar nicht an der Börse gelistet. Die Bitte an die britische Finanzaufsicht, die Financial Service Agency, die Solvenzregeln zu lockern, trug zur allgemeinen Verunsicherung bei. Wenn die Vorschriften nicht flexibel gehandhabt werden, müssten Versicherer in der jetzigen Phase Aktien verkaufen, sobald eine kritische Grenze beim frei verfügbaren Vermögen unterschritten wird. Da Versicherer in der Regel große Aktienpakete handeln, könnten Verkäufe eine neue Abwärtsspirale auslösen. Doch nicht nur die Aktionäre haben Geld verloren. Auch die Versicherten müssen bluten. Viele Häuslebauer, die ihre Immobilien mit kombinierten Spar- und Lebensversicherungen finanziert haben, fürchten um die eigenen vier Wände, nachdem Aviva, Prudential und andere Versicherer niedrige Auszahlungen angekündigt haben. Beim ältesten Versicher der Welt, Royal & Sun Alliance, ist die Aktie auf ein 20-Jahres-Tief gefallen. Börsianer rechnen nach der Dividendenkürzung für 2001 offenbar erneut mit einem Rückgang der Ausschüttung. Obwohl Analysten einen Gewinnsprung von 16 auf 246 Mio. Pfund erwarten, ist es sehr wahrscheinlich, dass die Aktie zum Monatsende wegen der hohen Kursverluste in den FTSE-All-Share absteigt. Das ist für das Unternehmen bitter, denn es steckt mitten in einem Umbauprozess. Die Lebensversicherungssparte ist bereits geschlossen worden, künftig will sich Royal & Sun auf Sachversicherungen konzentrieren. Aus dem Rahmen gefallen ist bislang nur Legal & General. Aktionäre dürfen sich über eine 2,5-prozentige Dividendenerhöhung freuen. Doch diese Freude wurde teuer erkauft. Im September 2002 hatte L&G vorsorglich das Grundkapital erhöht. Nun bekommen die Aktionäre einen Teil des Geldes zurück. Greg Carter, Kreditanalyst bei der Ratingagentur Fitch, hofft, dass die Versicherer aus ihren Fehlern lernen und künftig weniger Geld in Aktien investieren. Doch erste Reaktionen lassen auf das Gegenteil schließen. Standard Life hat zwar 2002 den Aktienanteil von 77 auf 55 Prozent zurückgefahren. Da Aktien auf lange Sicht aber höhere Renditen als andere Anlageformen erwirtschafteten, werde das Unternehmen auch künftig Dividendentitel übergewichten. Nicht nur die Aktionäre haben viel Geld verloren, auch die Versicherten m&uuml;ssen bluten.'"
      ]
     },
     "execution_count": 31,
     "metadata": {},
     "output_type": "execute_result"
    }
   ],
   "source": [
    "# Define a list of incorrect umlaut encodings\n",
    "incorrect_umlauts = [\"&auml;\", \"&uuml;\", \"&ouml;\", \"&Auml;\", \"&Uuml;\", \"&Ouml;\"]\n",
    "\n",
    "pattern = \"|\".join(incorrect_umlauts)\n",
    "welt_uml_encoding = data[data.texts.str.contains(pattern)]\n",
    "\n",
    "welt_uml_encoding.iloc[0]['texts']"
   ]
  },
  {
   "cell_type": "code",
   "execution_count": 32,
   "metadata": {},
   "outputs": [
    {
     "name": "stdout",
     "output_type": "stream",
     "text": [
      "0:00:03.434115\n"
     ]
    }
   ],
   "source": [
    "startTime = datetime.now() # track time\n",
    "\n",
    "if __name__ == \"__main__\":\n",
    "    pool = mp.Pool(NUM_CORE)\n",
    "    texts_corrected = pool.map(umlauts_correct_sz.umlauts_correct_sz, [text for text in data['texts']]) \n",
    "    pool.close()\n",
    "    pool.join()\n",
    "    \n",
    "print(datetime.now()-startTime)"
   ]
  },
  {
   "cell_type": "code",
   "execution_count": 33,
   "metadata": {},
   "outputs": [],
   "source": [
    "data['texts'] = texts_corrected"
   ]
  },
  {
   "cell_type": "markdown",
   "metadata": {},
   "source": [
    "## Remove URLs"
   ]
  },
  {
   "cell_type": "markdown",
   "metadata": {},
   "source": [
    "A function called `correct_url_sz` takes a text input and processes it to remove URLs, HTML file references, and email addresses. A set called `exceptions` contains specific URLs that are not removed from the text. Preserving specific URLs, such as 'amazon.de', is crucial for maintaining the context and sentence structure, as removing them could result in loss of important information or topic identification, especially when certain internet companies are known primarily by their website names."
   ]
  },
  {
   "cell_type": "code",
   "execution_count": 34,
   "metadata": {},
   "outputs": [
    {
     "name": "stdout",
     "output_type": "stream",
     "text": [
      "0:00:13.657538\n"
     ]
    }
   ],
   "source": [
    "startTime = datetime.now()\n",
    "\n",
    "if __name__ == \"__main__\":\n",
    "    pool = mp.Pool(NUM_CORE)\n",
    "    url_corrected = pool.map(correct_url_sz.correct_url_sz, [text for text in data['texts']]) \n",
    "    pool.close()\n",
    "    pool.join()\n",
    "\n",
    "print(datetime.now()-startTime)"
   ]
  },
  {
   "cell_type": "code",
   "execution_count": 35,
   "metadata": {},
   "outputs": [],
   "source": [
    "data['texts'] = url_corrected"
   ]
  },
  {
   "cell_type": "markdown",
   "metadata": {},
   "source": [
    "## Fixing tokens containing a number and a word"
   ]
  },
  {
   "cell_type": "markdown",
   "metadata": {},
   "source": [
    "We have identified several cases where numbers and words are erroneously merged into a single token. To address this problem of merged tokens, the following code has been implemented."
   ]
  },
  {
   "cell_type": "code",
   "execution_count": 36,
   "metadata": {},
   "outputs": [
    {
     "name": "stdout",
     "output_type": "stream",
     "text": [
      "0:00:04.893910\n"
     ]
    }
   ],
   "source": [
    "startTime = datetime.now()\n",
    "\n",
    "if __name__ == \"__main__\":\n",
    "    pool = mp.Pool(NUM_CORE)\n",
    "    split_corrected = pool.map(split_number_word.split_number_word, [text for text in data['texts']]) \n",
    "    pool.close()\n",
    "    pool.join()\n",
    "\n",
    "print(datetime.now()-startTime)"
   ]
  },
  {
   "cell_type": "code",
   "execution_count": 37,
   "metadata": {},
   "outputs": [],
   "source": [
    "data['texts'] = split_corrected"
   ]
  },
  {
   "cell_type": "markdown",
   "metadata": {},
   "source": [
    "## Remove fuzzy duplicates"
   ]
  },
  {
   "cell_type": "markdown",
   "metadata": {},
   "source": [
    "By fuzzy duplicates we understand nearly duplicated articles. These are:\n",
    "\n",
    "* drafts/minor revisions of the articles saved in the database;\n",
    "* slightly changed advertisements which are published several times during a month.\n",
    "\n",
    "We identify 'fuzzy' duplicates using cosine similarity and choose a threshold of 93% based on some visual exploration. Here is the article by Ryan Basques we used as a reference: [Link](https://towardsdatascience.com/a-laymans-guide-to-fuzzy-document-deduplication-a3b3cf9a05a7). "
   ]
  },
  {
   "cell_type": "code",
   "execution_count": 38,
   "metadata": {},
   "outputs": [],
   "source": [
    "# Create a 'date' column in the data DataFrame\n",
    "data['date'] = pd.to_datetime(data[['year', 'month', 'day']])"
   ]
  },
  {
   "cell_type": "markdown",
   "metadata": {},
   "source": [
    "### Duplicates exploration\n",
    "\n",
    "We must first identify and visually inspect the fuzzy duplicates using the `fuzzy_duplicates_test` function before proceeding with their removal. This step ensures the algorithm's performance is as expected, and it accurately identifies articles as fuzzy duplicates based on their cosine similarity."
   ]
  },
  {
   "cell_type": "code",
   "execution_count": 39,
   "metadata": {},
   "outputs": [],
   "source": [
    "# Required input for the function 'fuzzy_duplicates': a dataframe for each month-year combination.\n",
    "# List with a year\n",
    "inputs_year = []\n",
    "# List with a month\n",
    "inputs_month = []\n",
    "# List with the dataframes containing 'year', 'month', and 'texts' columns\n",
    "inputs_month_year = []\n",
    "for year in list(set(data['year'])):\n",
    "    for month in list(set(data['month'])):\n",
    "        # Exclude time periods with no data\n",
    "        if data[(data['year'] == year) & (data['month'] == month)].empty:\n",
    "            continue\n",
    "        inputs_year.append(year)\n",
    "        inputs_month.append(month)\n",
    "        inputs_month_year.append(data[(data['year'] == year) & (data['month'] == month)][[\"month\", \"year\", \"texts\", \"word_count\", \"date\"]])\n",
    "        \n",
    "inputs = list(zip(inputs_year, inputs_month, inputs_month_year))"
   ]
  },
  {
   "cell_type": "code",
   "execution_count": 40,
   "metadata": {},
   "outputs": [
    {
     "name": "stdout",
     "output_type": "stream",
     "text": [
      "0:03:10.864753\n"
     ]
    }
   ],
   "source": [
    "startTime = datetime.now() # track time\n",
    "\n",
    "import fuzzy_duplicates_test_all_dpa \n",
    "\n",
    "if __name__ == \"__main__\":\n",
    "    pool = mp.Pool(NUM_CORE)\n",
    "    dup_intermediate = pool.map(fuzzy_duplicates_test_all_dpa.fuzzy_duplicates_test, inputs) \n",
    "    duplicates = pd.concat(dup_intermediate) \n",
    "    pool.close()\n",
    "    pool.join()\n",
    "    \n",
    "print(datetime.now()-startTime)\n",
    "\n",
    "duplicates.to_csv('duplicates.csv', encoding = 'utf-8-sig', sep = ';')"
   ]
  },
  {
   "cell_type": "markdown",
   "metadata": {},
   "source": [
    "### Drop the duplicates"
   ]
  },
  {
   "cell_type": "code",
   "execution_count": 41,
   "metadata": {},
   "outputs": [
    {
     "name": "stdout",
     "output_type": "stream",
     "text": [
      "0:03:34.546829\n"
     ]
    }
   ],
   "source": [
    "startTime = datetime.now() # track time\n",
    "\n",
    "delete_indices = []\n",
    "\n",
    "if __name__ == \"__main__\":\n",
    "    pool = mp.Pool(NUM_CORE)\n",
    "    # apply function to all combinations of month-year in parallel\n",
    "    delete_intermediate = pool.map(fuzzy_duplicates_dpa.fuzzy_duplicates, inputs)\n",
    "    delete_indices = delete_indices + delete_intermediate # create one list of indices\n",
    "    pool.close()\n",
    "    pool.join()\n",
    "    \n",
    "print(datetime.now()-startTime)"
   ]
  },
  {
   "cell_type": "code",
   "execution_count": 42,
   "metadata": {},
   "outputs": [],
   "source": [
    "# Free memory\n",
    "inputs = None\n",
    "# List of indices corresponding to the duplicated articles\n",
    "delete_indices = [item for sublist in delete_indices for item in sublist]\n",
    "# List of unique indices\n",
    "delete_indices = list(set(delete_indices))\n",
    "# Drop the fuzzy duplicates\n",
    "data.drop(data.index[delete_indices], inplace = True)\n",
    "data.reset_index(inplace=True, drop=True) # reset the index of the DataFrame"
   ]
  },
  {
   "cell_type": "code",
   "execution_count": 43,
   "metadata": {},
   "outputs": [
    {
     "data": {
      "text/plain": [
       "166603"
      ]
     },
     "execution_count": 43,
     "metadata": {},
     "output_type": "execute_result"
    }
   ],
   "source": [
    "# the number of articles after removing fuzzy duplicates\n",
    "len(data)"
   ]
  },
  {
   "cell_type": "markdown",
   "metadata": {},
   "source": [
    "## Welt-specific problem"
   ]
  },
  {
   "cell_type": "markdown",
   "metadata": {},
   "source": [
    "We encountered a minor issue specific to the Welt dataset while addressing other problems. This issue involves texts containing unicode errors. To resolve this, we identify such texts and correct the unicode errors using the function `unicode_correct_welt`. For example, the function converts 'Ha{ring}kann' to 'Håkan'."
   ]
  },
  {
   "cell_type": "code",
   "execution_count": 44,
   "metadata": {},
   "outputs": [
    {
     "name": "stdout",
     "output_type": "stream",
     "text": [
      "0:00:00.817437\n"
     ]
    }
   ],
   "source": [
    "startTime = datetime.now() \n",
    "\n",
    "to_correct = list(data[data.texts.str.contains('{sbquo}|{ring}|{cech}|{ogon}|{circ}')].index)\n",
    "\n",
    "if __name__ == \"__main__\":\n",
    "    pool = mp.Pool(NUM_CORE)\n",
    "    unicode_corrected = pool.map(unicode_correct_welt.unicode_correct_welt, [text for text in data.loc[to_correct, 'texts']]) \n",
    "    pool.close()\n",
    "    pool.join()\n",
    "    \n",
    "print(datetime.now()-startTime)\n",
    "\n",
    "# Replace the texts with the corrected version of the articles.\n",
    "data.loc[to_correct, 'texts'] = unicode_corrected"
   ]
  },
  {
   "cell_type": "markdown",
   "metadata": {},
   "source": [
    "## Clean articles"
   ]
  },
  {
   "cell_type": "markdown",
   "metadata": {},
   "source": [
    "Welt articles include some text passages that are unlikely to be relevant for either topic modeling or sentiment analysis. We decided to clean the affected articles from these text passages to make the analysis easier for our models.\n",
    "\n",
    "We remove the following information from the texts:\n",
    "\n",
    "   * 1) Internet addresses\n",
    "   * 2) references to photo sources\n",
    "   * 3) references to additional information\n",
    "   * 4) telephone and fax numbers\n",
    "   * 5) references to page numbers\n",
    "   * 6) advertisements for the new Gabler-Wirtschaftslexikon"
   ]
  },
  {
   "cell_type": "code",
   "execution_count": 45,
   "metadata": {},
   "outputs": [
    {
     "name": "stdout",
     "output_type": "stream",
     "text": [
      "0:00:10.341506\n"
     ]
    }
   ],
   "source": [
    "startTime = datetime.now()\n",
    "\n",
    "if __name__ == \"__main__\":\n",
    "    pool = mp.Pool(NUM_CORE)\n",
    "    cleaned_articles = pool.map(clean_welt_articles.clean_welt_articles, [text for text in data['texts']]) \n",
    "    pool.close()\n",
    "    pool.join()\n",
    "    \n",
    "print(datetime.now()-startTime)"
   ]
  },
  {
   "cell_type": "code",
   "execution_count": 46,
   "metadata": {},
   "outputs": [],
   "source": [
    "data['texts'] = cleaned_articles"
   ]
  },
  {
   "cell_type": "code",
   "execution_count": 47,
   "metadata": {},
   "outputs": [
    {
     "name": "stdout",
     "output_type": "stream",
     "text": [
      "0:00:03.923680\n"
     ]
    }
   ],
   "source": [
    "# Calculate an updated word count of the cleaned articles.\n",
    "\n",
    "startTime = datetime.now()\n",
    "\n",
    "if __name__ == \"__main__\":\n",
    "    pool = mp.Pool(NUM_CORE)\n",
    "    count_results = pool.map(count_words_mp.count_words_mp, [text for text in data['texts']]) \n",
    "    pool.close()\n",
    "    pool.join()\n",
    "    \n",
    "print(datetime.now()-startTime)"
   ]
  },
  {
   "cell_type": "code",
   "execution_count": 48,
   "metadata": {},
   "outputs": [],
   "source": [
    "# Update the word count in the data frame.\n",
    "data['word_count'] = count_results\n",
    "# Drop short articles.\n",
    "data = data[data['word_count']>=100]\n",
    "data.reset_index(inplace=True, drop=True)"
   ]
  },
  {
   "cell_type": "code",
   "execution_count": 49,
   "metadata": {},
   "outputs": [
    {
     "data": {
      "text/plain": [
       "166552"
      ]
     },
     "execution_count": 49,
     "metadata": {},
     "output_type": "execute_result"
    }
   ],
   "source": [
    "# the number of articles after excluding articles shorter than 100 words\n",
    "len(data)"
   ]
  },
  {
   "cell_type": "markdown",
   "metadata": {},
   "source": [
    "## Exclude tables"
   ]
  },
  {
   "cell_type": "markdown",
   "metadata": {},
   "source": [
    "In this section, we preprocess the news articles by removing tables to minimize noise and emphasize relevant content. We begin by calculating a numerical density metric for each text, which is computed as the ratio of the count of numbers to the total word count (excluding numbers). Texts with a numerical density of at least 20% are considered as candidates for containing tables. We manually examine these texts to identify recurring strings that typically precede tables. Using regular expressions, we exclude the tables based on these strings. Moreover, we delete some text segments predominantly comprising numbers."
   ]
  },
  {
   "cell_type": "code",
   "execution_count": 50,
   "metadata": {},
   "outputs": [
    {
     "name": "stdout",
     "output_type": "stream",
     "text": [
      "0:00:02.793106\n"
     ]
    }
   ],
   "source": [
    "# use the 'numeric_articles' function to identify articles with a high share of numbers in them\n",
    "inputs = zip(data['texts'], data['word_count'], itertools.repeat(0.20))\n",
    "\n",
    "startTime = datetime.now()\n",
    "\n",
    "if __name__ == \"__main__\":\n",
    "    pool = mp.Pool(NUM_CORE)\n",
    "    tables = pool.starmap(numeric_articles.numeric_articles, inputs)\n",
    "    pool.close()\n",
    "    pool.join()\n",
    "\n",
    "print(datetime.now()-startTime)\n",
    "data['tables'] = tables\n",
    "tables = data[data.tables == True]"
   ]
  },
  {
   "cell_type": "markdown",
   "metadata": {},
   "source": [
    "Below is an example of an article containing a table with the losses of the ten richest Americans. To remove this table, we apply the following regular expression: `r'Tabelle: Die Verluste.{0,}'`."
   ]
  },
  {
   "cell_type": "code",
   "execution_count": 51,
   "metadata": {},
   "outputs": [
    {
     "data": {
      "text/plain": [
       "'Gigantische Übernahme. US-Milliardär Buffett kauft sich eine Eisenbahn. HIGHLIGHT: Der US-Investor Warren Buffett ist geschätzte 40 Milliarden Dollar reich. Nun kauft sich der Milliardär eine komplette Eisenbahn-Gesellschaft - und er gibt dafür noch mehr Geld aus, als ihm als Vermögen zugeschrieben wird. Buffett sagt: Das ist wie eine Wette - und setzt nun alles auf eine Karte. Die Holdinggesellschaft Berkshire Hathaway des Milliardärs Warren Buffett übernimmt für 44 Milliarden US-Dollar - umgerechnet rund 30 Milliarden Euro - die Bahngesellschaft Burlington Northern Santa Fe in den Vereinigten Staaten von Amerika. Damit stemmt Buffett den größten Zukauf in der Geschichte seines Unternehmens. Er wird in der Forbes-Liste der reichsten Menschen 2009 mit 40 Milliarden Dollar Vermögen geführt. Der Zukauf übersteigt somit sogar Buffetts Reichtum. Er hatte in der Finanzkrise mehrere Milliarden Dollar verloren. Berkshire zahle 100 Dollar je Burlington-Aktie in bar und in Dividendenpapieren, teilte das Unternehmen mit. Der Abschluss der Transaktion werde für das erste Quartal 2010 erwartet. Die Anteilsscheine von Burlington sprangen nach Bekanntgabe der Fusionspläne vorbörslich 28 Prozent in die Höhe. Das Geschäft setze alles auf die Karte einer wirtschaftlichen Erholung der USA, sagte Buffett: „Ich liebe solche Wetten.\" Berkshire kontrolliert rund 80 Firmen. Zur breiten Palette der Holdinggesellschaft gehören neben Versicherern auch Versorger, Restaurantketten, Textilunternehmen, Großhandelskonzerne und Schmuckhersteller. Buffetts Holding besitzt bereits gut ein Fünftel der Eisenbahn-Gesellschaft und kauft das Unternehmen nun komplett. Der Preis beinhaltet auch zehn Milliarden Dollar Schulden. Der Kaufpreis bedeutet einen Aufschlag von gut 30 Prozent auf den Schlusskurs der Eisenbahn-Aktie. Tabelle: Die Verluste der zehn reichsten US-Amerikaner Quelle: [URL= Stand: 30.9.2009, 17.9.2008. (Zahlen fürs Vorjahr). Weblink: . Platz 2009/ Name (Platz 2008). Vermögen 2009. Vermögen 2008. Verlust. 1. Bill Gates (2008: 1.). 50 Mrd. $. 57 Mrd. $. -7 Mrd. $. 2. Warren Buffett (2.). 40 Mrd. $. 50 Mrd. $. -10 Mrd. $. 3. Lawrence Ellison (3.). 27 Mrd. $. 27 Mrd. $. +/- 0. 4. Christy Walton und Familie (6.) 21,5 Mrd. $. 23,2 Mrd. $. -1,7 Mrd. $. 5. Jim C. Walton (4.). 19,6 Mrd. $. 23,4 Mrd. $. -3,8 Mrd. $. 6. Alice Walton (6.). 19,3 Mrd. $. 23,2 Mrd. $. -3,9 Mrd. $. 7. S. Robson Walton (5.). 19 Mrd. $. 23,3 Mrd. $. -4,3 Mrd. $. 8. Michael Bloomberg (8.). 17,5 Mrd. $. 20 Mrd. $. -2,5 Mrd. $. 9. Charles Koch (9.). 16 Mrd. $. 19 Mrd. $. -3 Mrd. $. 9. David Koch (9.). 16 Mrd. $. 19 Mrd. $. -3 Mrd. $.'"
      ]
     },
     "execution_count": 51,
     "metadata": {},
     "output_type": "execute_result"
    }
   ],
   "source": [
    "tables.loc[105975,'texts']"
   ]
  },
  {
   "cell_type": "markdown",
   "metadata": {},
   "source": [
    "Clean tables using regular expressions."
   ]
  },
  {
   "cell_type": "code",
   "execution_count": 52,
   "metadata": {},
   "outputs": [
    {
     "name": "stdout",
     "output_type": "stream",
     "text": [
      "0:00:04.014743\n"
     ]
    }
   ],
   "source": [
    "startTime = datetime.now()\n",
    "if __name__ == \"__main__\":\n",
    "    pool = mp.Pool(NUM_CORE)\n",
    "    remove_tables = pool.map(clean_tables_welt.clean_tables_welt, [text for text in data['texts']]) \n",
    "    pool.close()\n",
    "    pool.join()\n",
    "    \n",
    "print(datetime.now()-startTime)\n",
    "\n",
    "data['texts'] = remove_tables"
   ]
  },
  {
   "cell_type": "code",
   "execution_count": 53,
   "metadata": {},
   "outputs": [
    {
     "name": "stdout",
     "output_type": "stream",
     "text": [
      "0:00:04.017384\n"
     ]
    }
   ],
   "source": [
    "startTime = datetime.now()\n",
    "\n",
    "if __name__ == \"__main__\":\n",
    "    pool = mp.Pool(NUM_CORE)\n",
    "    count_results = pool.map(count_words_mp.count_words_mp, [text for text in data['texts']]) \n",
    "    pool.close()\n",
    "    pool.join()\n",
    "    \n",
    "print(datetime.now()-startTime)"
   ]
  },
  {
   "cell_type": "code",
   "execution_count": 54,
   "metadata": {},
   "outputs": [],
   "source": [
    "# Update the content of the column \"word_count\"\n",
    "data['word_count'] = count_results"
   ]
  },
  {
   "cell_type": "code",
   "execution_count": 55,
   "metadata": {},
   "outputs": [
    {
     "name": "stdout",
     "output_type": "stream",
     "text": [
      "166541\n"
     ]
    }
   ],
   "source": [
    "# remove articles with less than 100 words\n",
    "data = data[data['word_count']>=100]\n",
    "data = data.sort_values(['year', 'month', 'day'], ascending=[True, True, True]) # sort the data in chronological order\n",
    "data.reset_index(inplace=True, drop=True)\n",
    "# the number of articles after excluding articles shorter than 100 words\n",
    "print(len(data))\n",
    "del data['tables']"
   ]
  },
  {
   "cell_type": "markdown",
   "metadata": {},
   "source": [
    "## Identify articles that predominantly consist of numbers"
   ]
  },
  {
   "cell_type": "markdown",
   "metadata": {},
   "source": [
    "Articles that predominantly consist of numerical data present challenges for sentiment or topic analysis as, once numbers are removed, they tend to contain limited information. Therefore, we remove articles with a numerical density of 50% or greater."
   ]
  },
  {
   "cell_type": "code",
   "execution_count": 56,
   "metadata": {},
   "outputs": [
    {
     "name": "stdout",
     "output_type": "stream",
     "text": [
      "0:00:02.955905\n"
     ]
    }
   ],
   "source": [
    "# use the 'numeric_articles' function to identify economic articles with a high share of numbers in them\n",
    "inputs = zip(data['texts'], data['word_count'], itertools.repeat(0.50))\n",
    "\n",
    "startTime = datetime.now()\n",
    "\n",
    "if __name__ == \"__main__\":\n",
    "    pool = mp.Pool(NUM_CORE)\n",
    "    numeric_list = pool.starmap(numeric_articles.numeric_articles, inputs)\n",
    "    pool.close()\n",
    "    pool.join()\n",
    "\n",
    "print(datetime.now()-startTime)\n",
    "data['numeric'] = numeric_list"
   ]
  },
  {
   "cell_type": "code",
   "execution_count": 57,
   "metadata": {},
   "outputs": [
    {
     "data": {
      "text/plain": [
       "'Bundesliga Hamburg - Wolfsburg...Sa., 15.30 Schalke - Bayern München...Sa., 15.30 Kaiserslautern - Dortmund...Sa., 15.30 Stuttgart - Mönchengladbach...Sa., 15.30 Mainz - Leverkusen...Sa., 15.30 Bielefeld - Hertha...Sa., 15.30 Bremen - Nürnberg...Sa., 15.30 Köln - Hannover...So., 17.30 Duisburg - Frankfurt...So., 17.30 1. FC Bayern München 8 17:5 21 2. Hamburger SV 8 17:4 20 3. Werder Bremen 8 21:10 19 4. FC Schalke 04 8 10:5 16 5. Hertha BSC Berlin 8 12:9 14 6. Borussia Mönchengladbach 8 10:9 14 7. VfL Wolfsburg 8 11:12 12 8. Bayer 04 Leverkusen 8 15:14 11 9. Borussia Dortmund 8 11:10 10 10. VfB Stuttgart 8 9:9 10 11. 1. FC Köln 8 11:13 9 12. Hannover 96 8 9:12 7 13. 1. FC Kaiserslautern 8 10:18 7 14. MSV Duisburg 8 11:16 6 15. 1. FC Nürnberg 8 6:11 6 16. Arminia Bielefeld 8 6:13 6 17. 1. FSV Mainz 05 8 5:12 4 18. Eintr. Frankfurt 8 3:12 4 BASKETBALL Bundesliga, Männer: EWE Bask. Oldenburg - TBB Trier 90:73. EISHOCKEY DEL, 11. Spieltag: Augsburger Panther - Eisbären Berlin 5:4 n.P. FECHTEN WM in Leipzig, Männer, Degen, Mannschaft: 1. Frankreich, 2. Deutschland (Schmitt/Schmid/Strigel/Fiedler), 3. Ukraine. Frauen, Florett, Mannschaft, 1. Südkorea, 2. Rumänien, 3. Frankreich. Zweite Liga Ahlen - Karlsruhe... Rostock - Aue... 1860 München - Paderborn... Offenbach - Siegen...So., 15.00 Fürth - Burghausen...So., 15.00 Braunschweig - Bochum...So., 15.00 Freiburg - Saarbrücken...So., 15.00 Cottbus - Unterhaching...So., 15.00 Dresden - Aachen...Mo., 20.15 1. VfL Bochum 8 14:5 18 2. Energie Cottbus 8 18:11 16 3. SC Paderborn 8 15:9 15 4. Braunschweig 8 13:7 14 5. Karlsruher SC 8 9:6 14 6. SC Freiburg 8 9:7 14 7. 1860 München 8 15:10 13 8. Greuther Fürth 8 11:12 13 9. Alemannia Aachen 8 16:13 12 10. Siegen 8 13:10 11 11. Dynamo Dresden 8 12:11 11 12. Erzgebirge Aue 8 6:6 10 13. Kickers Offenbach 8 10:18 10 14. Burghausen 8 8:9 8 15. Hansa Rostock 8 9:12 8 16. Unterhaching 8 8:13 5 17. Saarbrücken 8 3:21 4 18. Ahlen 8 8:17 3 TENNIS Männer, Turnier Stockholm, Achtelfinale: Schüttler (Deutschland) - Nieminen (Finnland) 6:3, 3:0 - Aufgabe Nieminen, Srichaphan (Thailand) - Waske (Deutschland) 6:3, 6:2, Björkman (Schweden) - Ancic (Kroatien) 7:5, 7:6, Rochus (Belgien) - Benneteau (Frankreich) 6:4, 6:2, Blake (USA) - Rochus (Belgien) 6:7, 7:5, 6:2, Martin (Spanien) - Malisse (Belgien) 3:6, 6:3, 7:6. Frauen, Turnier in Moskau, Achtelfinale: Schiavone (Italien) - Mauresmo (Frankreich) 6:1, 6:1.'"
      ]
     },
     "execution_count": 57,
     "metadata": {},
     "output_type": "execute_result"
    }
   ],
   "source": [
    "# inspect example article with high share of numbers\n",
    "data[data.numeric == True]['texts'].iloc[0]"
   ]
  },
  {
   "cell_type": "code",
   "execution_count": 58,
   "metadata": {},
   "outputs": [
    {
     "data": {
      "text/plain": [
       "\"Deutschlands Große 500. Die WELT-Rangliste der deutschen Wirtschaft (Teil I, Rang 1-276). RangUnternehmenBrancheUmsatzAnmerkungenBeschäftigte. 09082009+/-%2009+/-%. 1 1 Volkswagen AG, Wolfsburg Automobil 105.187 - 7,6 K, IAS/IFRS 368.500 - 0,4 2 3 Eon AG, Düsseldorf Energie 81.817 - 5,7 K 88.586 - 5,6 3 2 Daimler AG, Stuttgart Automobil 78.924 - 19,8 K, IFRS 256.407 - 6,2 4 4 Siemens AG, München Elektronik, Elektrotechnik 76.651 - 0,9 K, IFRS, 405.000 - 5,2. 5 5 Metro AG, Düsseldorf Handel 65.529 - 3,6 K, IAS/ IFRS 286.091 - 1,7 6 7 Deutsche Telekom AG, Bonn (*1) Telekommunikation 64.600 + 4,8 K, IAS/IFRS, ÄK 259.920 + 14,1. 7 - Porsche Automobil Holding SE, Stuttgart (*2) Automobilindustrie 57.081 - K, IAS/IFRS 375.959 -. 8 9 Unternehmensgruppe Schwarz, Neckarsulm Lebensmitteleinzelhandel 54.500 + 0,9 K, G1 290.000 + 3,6. 9 12 Rewe Group, Köln Handel, Touristik 50.900 + 2,2 K, IAS/IFRS, G1 326.000 + 2,1. 10 6 BASF S.E., Ludwigshafen Chemie 50.693 - 18,6 K, IAS/IFRS 104.779 + 8,1 11 11 BMW AG, München Automobile, Motorräder 50.681 - 4,7 K, IAS/IFRS 96.230 - 3,8. 12 13 RWE AG, Essen (*3) Energie 47.741 - 2,5 K, IAS/IFRS, ÄK 70.726 + 7,3 13 8 Deutsche Post DHL, Bonn Post, Logistik, Finanzen 46.201 - 15,2 K, IAS/IFRS 424.686 - 5,9. 14 15 EADS, München Luft- und Raumfahrt, Rüstung, Dienstleistungen 42.822 - 1,0 K, IAS/IFRS 119.506 + 1,0. 15 17 Edeka Zentrale AG & Co. KG, Hamburg Handel 42.060 + 14,9 K, HGB 289.602 + 10,4. 16 16 Eon Energie AG, München (zu Eon AG) Energie 41.419 + 0,7 48.126 + 9,0 17 25 Eon Energy Trading SE, Düsseldorf (zu Eon Energie AG) Handel 41.251 + 29,4 1.075 + 21,5. 18 10 ThyssenKrupp AG, Düsseldorf Investitionsgüter, Werkstoffe, Automobilzulieferung, Dienstleistung 40.563 - 24,1 K, IAS/IFRS 187.495 - 6,0 19 14 Robert Bosch GmbH, Stuttgart Elektrotechnik 38.174 - 15,4 K, IAS/IFRS, ÄK 270.687 - 4,0. 20 22 Bayer AG, Leverkusen Chemie, Gesundheit, Ernährung 31.168 - 5,3 K, IAS/IFRS 108.400 - 0,2. 21 21 Metro Cash & Carry International GmbH, Düsseldorf (zu Metro AG) Großhandel 30.613 - 7,6 E, IAS/IFRS 118.700 + 7,6 22 19 Audi AG, Ingolstadt Automobile 29.840 - 12,7 K, IAS/IFRS 57.723 + 0,3 23 20 Deutsche Bahn AG, Berlin Transport 29.335 - 12,3 K, IAS/IFRS, ÄK 239.382 - 0,4. 24 28 Franz Haniel & Cie. GmbH, Duisburg Handel und Dienstleistungen 24.524 - 7,0 K, IAS/IFRS 53.243 + 8,3 25 30 Deutsche Lufthansa AG, Frankfurt/Main (*4) Luftverkehr 22.283 - 10,3 K, HGB, IAS/IFRS, Wa2, ÄK 117.521 + 9,0 26 34 Celesio AG, Stuttgart Pharmahandel- und Dienstleistungen 21.497,2 + 1,6 K, IAS/IFRS 46.095 + 22,1. 27 35 Phoenix Pharmahandel GmbH & Co. KG, Mannheim Pharmahandel 21.319 - 1,3 K, G1 23.322 + 6,3. 28 27 Eon Ruhrgas AG, Essen (zu Eon AG) Gaswirtschaft 20.640 - 24,7 K, IAS/IFRS 3.143 - 68,0. 29 32 Aldi Gruppe, Essen und Mülheim/Ruhr Handel 20.360 - 16,9 G3 k.A. - 30 33 Continental AG, Hannover Automobilzulieferer 20.095,7 - 17,1 K, IAS/IFRS 134.434 - 3,4. 31 40 Media-Saturn-Holding GmbH, Ingolstadt (zu Metro AG) Einzelhandel 19.700 + 3,7 E, IAS/IFRS 56.199 + 2,6 32 - Alstom Deutschland AG, Mannheim Maschinenbau 19.650 + 4,9 K 76.000 + 0,9 33 26 Deutsche BP AG, Bochum (*5) Mineralöl, Energie, Solar-Energie 19.561 - 34,5 K, HGB 8.254 + 41,5 34 31 Shell Deutschland Oil GmbH, Hamburg Mineralöl, Erdgas, Chemie 18.505 - 25,0 E, HGB, G1 4.164 - 2,0 35 39 Hochtief Aktiengesellschaft, Essen Baudienstleistung 18.166 - 2,9 K, IAS/IFRS, Wa1 66.178 + 2,6. 36 41 Lufthansa Air Plus Servicekarten GmbH, Neu-Isenburg (zu Lufthansa AG) Finanzdienstleistungen 17.100 - 5,5 K, HGB, G1 856 + 3,6 37 37 Ford-Werke GmbH, Köln (*6) Automobil 17.028 - 13,8 E, HGB, G1, ÄK 28.842 - 3,9. 38 29 TUI AG, Hannover (*7) Touristik, Schifffahrt 16.574 - K, IAS/IFRS, U, ÄK 69.536 - 1,0. 39 47 Heraeus Holding GmbH, Hanau Edelmetall, Quarzglas, Sensoren, Dentalprodukte, Biomaterialien, Medizinprodukte 16.200 + 1,8 K, IFRS 12.340 - 3,8. 40 49 Bayer Health Care AG, Leverkusen (zu Bayer AG) Pharma 15.988 + 3,8 K, IAS/IFRS 53.400 + 0,6. 41 44 EnBW Energie Baden-Württemberg AG, Karlsruhe Energieversorger 15.564,2 - 4,5 K, IAS/IFRS 20.914 + 2,0 42 46 Bertelsmann AG, Gütersloh Medien 15.364 - 4,7 K, IAS/IFRS, ÄK 102.983 - 2,9. 43 43 Thüga Aktiengesellschaft (Gruppe), München Energieversorger 15.300 - 7,8 K, HGB, G1 16.800 - 12,5 44 83 Exxon Mobil Central Europe GmbH, Hamburg Mineralöl 15.200 - V 3.404 + 36,2 45 51 Lidl Dienstleistung GmbH & Co. KG, Neckarsulm (zu Schwarz Beteiligungs GmbH) Lebensmitteleinzelhandel 15.125 + 1,2 E, G3 k.A. - 46 36 Unternehmensgruppe Tengelmann, Mülheim/Ruhr (*8) Handel 14.550 - K, HGB, V, G5 83.655 - 28,2. 47 50 Vattenfall Europe AG, Berlin Energieversorger 14.462 + 7,3 K, IAS/IFRS 20.980 - 1,2. 48 66 Fresenius SE, Bad Homburg Pharma 14.164 + 14,8 K, IAS/IFRS 130.510 + 6,8 49 60 Unternehmensgruppe Aldi Süd, Mühlheim/Ruhr (zu Aldi-Gruppe) Handel 13.750 + 3,4 G3 33.300 + 0,9 50 58 Henkel AG & Co. KGaA, Düsseldorf Konsumgüter 13.573 - 3,9 K, IAS/IFRS 51.361 - 7,5. 51 - RWE Vertrieb AG, Dortmund (ehemals RWE Westfalen-Weser-Ems, zu RWE AG) Energieversorger 13.300 - HGB, G1, U 13.300 - 52 48 Evonik Industries AG, Essen (ehemals RAG AG)9 Chemie, Energie, Immobilien 13.076 - 17,6 K, IAS/IFRS, ÄK 38.681 - 5,1 53 45 Adam Opel GmbH, Rüsselsheim Automobile 13.000 - K, V, G4 20.000 - 14,9 54 70 Boehringer Ingelheim, Ingelheim Pharma 12.721 + 9,7 K, HGB, G1 41.534 + 0,6. 55 75 Kaufland Stiftung & Co. KG (zu Schwarz Beteiligungs GmbH) Lebensmitteleinzelhandel 12.250 + 14,2 G3 k.A. - 56 52 MAN SE, München (*1) (*0) Maschinenbau, Nutzfahrzeuge, Dieselmotoren, Turbomaschinen 12.026 - 19,5 K, IAS/IFRS, ÄK 47.743 - 7,0 57 69 Lekkerland AG & Co. KG, Frechen Lebensmittel, Tabakwaren, Convenience, Telekommunikation, Großhandel 12.000 + 3,5 K, IAS/IFRS 6.766 - 8,1 58 84 Daimler Financial Services AG, Berlin (zu Daimler AG) Finanzdienstleistungen 11.996 + 29,2 K, IAS/IFRS 6.800 - 4,4 59 42 ThyssenKrupp Materials International GmbH, Düsseldorf (zu ThyssenKrupp AG) Werkstoff-Dienstleistungen 11.896 - 31,4 K, IAS/IFRS 43.235 - 7,0 60 72 Aldi Nord, Essen (zu Aldi-Gruppe) Handel 11.700 + 4,5 G3 k.A. - 61 55 Wintershall Holding AG, Celle/Kassel (zu BASF) Erdöl, Erdgas 11.356 - 21,4 K, HGB, IFRS, G4 2.000 + 0,0 62 68 Real-SB-Warenhaus GmbH, Mönchengladbach (zu Metro AG) Handel 11.298 - 2,9 K, HGB k.A. -. 63 54 Schenker AG, Essen (zu Deutsche Bahn AG) Verkehr 11.249 - 23,4 K, HGB 57.134 - 8,0. 64 61 Linde AG, Wiesbaden Chemie 11.211 - 11,5 K, IAS/IFRS, ÄK 47.731 - 8,0 65 57 HeidelbergCement AG, Heidelberg Baustoffe 11.117 - 21,6 K, IAS/IFRS, ÄK 53.302 - 12,4. 66 71 SAP AG, Walldorf Software 10.672 - 7,8 K, IFRS 48.471 - 6,1 67 65 ThyssenKrupp Technologies AG, Essen (zu ThyssenKrupp AG) Automobilzulieferung, Anlagenbau, Schiffbau 10.640 - 14,3 K, IAS/IFRS 49.056 - 9,2. 68 80 Bilfinger Berger AG, Mannheim Bau, Dienstleistungen 10.403 + 6,6 K, IAS/IFRS 67.199 + 10,3. 69 74 Adidas AG, Herzogenaurach Sportartikel 10.381 - 3,9 K, IAS/IFRS 39.596 + 1,6. 70 - RWE Power AG, Essen (zu RWE AG) Energieerzeugung, Energierohstoffgewinnung 10.261 - 1,5 E, HGB, Wa 14.324 + 1,5 71 78 Otto GmbH & Co. KG, Hamburg Versandhandel 10.138 + 1,5 K, IFRS, G1, Wa 48.653 - 1,8. 72 160 Evonik Degussa GmbH, Düsseldorf (zu Evonik AG) (*1) (*1) Chemie 9.978 - 15,2 K, Wa 29.723 - 6,3 73 56 ThyssenKrupp Steel AG, Duisburg (zu ThyssenKrupp AG) Stahl 9.945 - 30,7 K, IAS/IFRS 39.156 - 5,2. 74 159 Netto Marken-Discount AG & Co. KG, Maxhütte-Haidhof (*1) (*2) Einzelhandel 9.940 +137,3 K, HGB, ÄK 64.000 + 125,4 75 63 ZF Friedrichshafen AG, Friedrichshafen Automobilzulieferer 9.371 - 25,0 K, IAS/IFRS 59.771 - 5,6. 76 59 Marquard & Bahls AG, Hamburg Holding 9.306 - 30,4 K, IAS/IFRS 3.692 + 10,4 77 85 Dr. August Oetker KG, Bielefeld Nahrungsmittel, Schifffahrt, Getränke 9.240 - K, HGB, V 24.500 + 0,0 78 81 GE Deutschland Mischkonzern 9.200 - V, G4 7.000 - 79 82 Vodafone D2 GmbH, Düsseldorf (*1) (*3) Telekommunikation 9.040 - 4,0 E, HGB 13.000 - 13,3. 80 86 Maxingvest AG, Hamburg Holding 8.906 - 3,1 K, IAS/IFRS 32.532 - 4,3 81 73 T-Systems, Frankfurt/Main (zu Deutsche Telekom AG) Telekommunikation, Informationstechnologie 8.800 - 5,4 E 45.300 - 13,7 82 67 Total Mineralöl und Chemie GmbH, Berlin Mineralöl 8.714 - 28,9 K, HGB, G1 3.983 - 1,4. 83 93 BSH Bosch und Siemens Hausgeräte GmbH, München (zu Robert Bosch GmbH und Siemens AG) Elektrotechnik, Hausgeräteindustrie 8.405 - 4,0 K, IAS/IFRS 39.600 - 1,7. 84 94 Capgemini Deutschland Holding GmbH, Berlin IT- und Managementberatung, Outsourcing 8.371 - 3,9 K, IAS/IFRS 90.516 - 1,2 85 97 T-Mobile Deutschland GmbH, Bonn (zu Deutsche Telekom AG) (*1) (*4) Telekommunikation 8.109 + 4,0 K, IAS/IFRS 6.077 + 0,8 86 62 Alfred C. Toepfer International GmbH, Hamburg Groß- und Außenhandel 7.950 - 36,4 K, HGB 2.105 + 0,2 87 104 Fresenius Medical Care AG & Co. KGaA, Bad Homburg Dialyse 7.847,4 + 8,5 K, US-GAAP, $ 71.617 + 5,2 88 64 Salzgitter AG, Salzgitter Stahlproduktion 7.818 - 37,5 K, IAS/IFRS 23.378 - 2,2. 89 99 Merck KGaA, Darmstadt Chemie, Pharma 7.774 + 2,9 K, IAS/IFRS 33.062 + 0,8 90 91 Würth-Gruppe, Künzelsau Handel (Montage- und Befestigungstechnik) 7.522 - 14,7 K, IAS/IFRS 57.882 - 7,8 91 - Bayer Material Science (zu Bayer AG) Hochwertige Materialien 7.520 - 22,8 K, IAS/IFRS 14.300 - 5,3. 92 89 Wingas GmbH, Kassel Energieversorger 7.400 -18,0 K, HGB, G5 450 + 22,6 93 90 INA-Holding Schaeffler GmbH & Co. KG, Herzogenaurach Metallverarbeitende Industrie 7.300 - 18,0 K, IAS/IFRS 61.000 - 7,6 94 92 Baywa AG, München Handel 7.260 - 17,5 K, IAS/IFRS, ÄK 15.312 - 1,2 95 102 Anton Schlecker, Ehingen Handel 7.200 - 3,0 K 52.100 - 6,5 96 106 Conoco Phillips Germany GmbH, Hamburg Mineralöl 7.158,6 - V 446 - 0,4 97 121 Airbus GmbH, Hamburg (zu EADS) Zivile Luftfahrt 6.815 - E, IAS/IFRS, V 21.596 - 1,7. 98 108 DB Regio AG, Frankfurt/Main (zu Deutsche Bahn AG) Transport, öffentlicher Personennahverkehr 6.775 + 1,3 K, HGB, G1 25.004 - 0,3 99 95 Aurubis AG Kupferproduzent 6.686,9 - 20,2 K, IAS/IFRS 4.726 - 0,8 100 100 Porsche AG, Stuttgart Automobil 6.600 - 11,6 E, IAS/IFRS 12.652 + 3,7 101 - Bayer Crop Science AG, Monheim (zu Bayer AG) Ernährung, Pflanzenschutz 6.510 + 2,0 K, IAS/IFRS 18.700 + 2,2 102 109 Transpower Stromübertragungs GmbH Netzbetreiber 6.432 - 3,2 E 750 - 103 115 Edeka Minden-Hannover Stiftung & Co. KG, Minden Handel 6.405,7 + 2,0 K, HGB 31.593 + 0,3. 104 103 Brenntag AG, Mülheim Chemiedistribution 6.400 - 13,5 K, IFRS 11.000 + 0,0. 105 76 MAN Nutzfahrzeuge AG, München (zu MAN SE) Nutzfahrzeugbau 6.395 - 39,7 K, IAS/IFRS, 31.285 - 13,7. 106 147 OMV Deutschland GmbH, Burghausen Petrochemie 6.318 - E, HGB, V 610 - 0,2 107 114 C & A Mode & Co., Düsseldorf Textilhandel 6.303 + 0,0 HGB 36.476 + 1,3 108 119 Obi Bau- und Heimwerkermärkte GmbH & Co. Franchise Center KG, Wermelskirchen (zu Unternehmensgruppe Tengelmann) Einzelhandel 5.900 + 0,4 K, HGB 38.500 - 0,3. 109 131 EWE AG, Oldenburg Energieversorger 5.798,4 + 8,8 K, IFRS, ÄK 6.446 + 20,6. 110 117 Beiersdorf AG, Hamburg Kosmetik, Klebebänder 5.748 - 3,7 K, IAS/IFRS 20.346 - 6,5. 111 130 Amprion GmbH, Dortmund (vormals RWE Transportnetz Strom GmbH, zu RWE AG) Energie 5.742 + 6,5 E, IAS/IFRS 768 + 171,4 112 120 Südzucker AG, Mannheim/Ochsenfurt Nahrungsmittel 5.718,2 - 2,6 K, IAS/IFRS 17.493 - 2,5. 113 123 Remondis AG & Co. KG, Lünen Wasser-, Kreislaufwirtschaft 5.600 - E, V 18.800 -. 105 RWE Rheinland Westfalen Netz AG, Essen (ehemals RWE Rhein-Ruhr AG, zu RWE AG) Energievertrieb 5.600 - K, IAS/IFRS, U 8.500 - 115 134 Stadtwerke Köln GmbH, Köln Versorger 5.478,2 + 7,2 K, HGB, G1 10.660 + 2,9. 116 142 ThyssenKrupp Elevator AG, Düsseldorf (zu ThyssenKrupp AG) Aufzugsbau und -wartung 5.308 + 7,7 E, IFRS 42.698 - 0,7 117 98 Sandoz Pharmaceutical GmbH, Holzkirchen (zu Novartis) Pharma 5.235 - 2,4 K, $ 23.000 - 0,6. 118 141 Voith AG, Heidenheim Maschinenbau, Anlagenbau, Industriedienstleistungen 5.083 + 3,0 K, IAS/IFRS 39.329 - 8,4 119 110 Lanxess AG, Leverkusen Chemie 5.057 - 23,1 K, IAS/IFRS 14.338 - 3,1 120 137 Edeka Handelsgesellschaft Südwest mbH, Offenburg Handel 5.020 - 0,2 K, HGB 22.000 -. 121 122 Agravis Raiffeisen AG, Hannover/Münster Agrarhandel 4.956 - 14,7 K, HGB, ÄK 4.932 + 4,8. 122 87 Helm AG, Hamburg Chemie-Marketing 4.928 - 46,0 K, HGB 1.342 + 1,4 123 146 Stadtwerke München, München Versorger 4.900 + 3,9 K, HGB 7.500 + 0,0 124 143 Dow Gruppe Deutschland Chemie 4.835 - K, HGB, G4, V 6.340 - 2,9 125 140 Arvato AG, Gütersloh (zu Bertelsmann AG) Media Services 4.826 - 3,3 K, IAS/IFRS 60.323 - 3,6. 126 124 Unternehmensgruppe Knauf, Iphofen Baustoffe 4.800 - 14,3 K, G1 23.000 + 0,0. 127 126 VNG-Verbundnetz Gas AG, Leipzig Energieversorgung 4.762,9 - 13,8 E, HGB 675 + 8,2. 128 145 TUI Deutschland GmbH, Hannover (zu TUI AG) Tourismus 4.741,9 - 9,0 K, IAS/IFRS 8.506 + 20,9. 129 167 Sanofi-Aventis Deutschland GmbH, Frankfurt/Main Pharma 4.700 + 17,5 E, HGB 10.260 + 2,6. 130 132 Siemens IT Solutions and Services, München (zu Siemens AG) IT-Dienstleistungen 4.686 - 12,0 K, IAS/IFRS 35.000 - 14,6 131 158 Roche Deutschland Holding GmbH, Grenzach-Wyhlen Pharma, Diagnostik 4.673 + 9,0 13.000 + 0,0. 132 161 Globus Handelshof Gruppe, St. Wendel Einzelhandel 4.616 + 11,5 K, HGB 28.050 + 5,5. 133 149 Procter & Gamble GmbH, Schwalbach am Taunus Chemie 4.600 - 1,1 G4 15.000 -. 134 112 Benteler AG, Paderborn Automobilzulieferer 4.564 - 27,9 K, HGB 23.146 - 4,7. 135 139 Hewlett Packard GmbH, Böblingen Informationstechnologie 4.552 - 9,0 E, HGB 8.525 - 2,0. 136 101 ThyssenKrupp Stainless AG, Duisburg (zu ThyssenKrupp Steel AG) Edelstahl 4.486 - 39,5 11.755 - 3,7 137 116 Hapag-Lloyd AG, Hamburg Schifffahrt 4.441 - 28,6 K, IAS/IFRS, G1 6.800 -10,7. 138 - British American Tobacco Germany GmbH, Hamburg (zu British-American Tobacco Industrie GmbH) Tabak 4.420 - E, HGB, V 1.740 + 2,1 139 133 Gea Group AG, Bochum15 Spezialmaschinen- und Anlagenbau 4.411 - 14,8 K, IAS/IFRS, ÄK 20.693 - 3,0. 140 168 DM-Drogerie Markt GmbH & Co. KG, Karlsruhe Einzelhandel 4.379 + 10,5 33.584 + 9,3. 141 128 Total Raffinerie Mitteldeutschland GmbH, Spergau Mineralöl 4.363 - 20,0 E, HGB 626 - 1,3. 142 - Vattenfall Europe Generation AG, Cottbus Versorger 4.291,5 - V 2.700 - 1,0 143 88 IBM Deutschland GmbH, Ehningen Informationstechnologie 4.253 - V 9.173 - 22,8. 144 136 Freudenberg & Co. Kommanditgesellschaft, Weinheim Industrie 4.201 - 16,8 K, IAS/IFRS, ÄK 32.142 - 1,8 145 118 Bosch Rexroth AG, Lohr/Main (zu Robert Bosch GmbH) Antriebs-, Steuerungs- und Regelungstechnik 4.146 - 29,7 K, IAS/IFRS 34.225 - 3,0 146 129 Fujitsu Technology Solutions GmbH, München (ehem. Fujitsu Siemens Computers GmbH) Informationstechnologie 4.109 - 24,3 E 4.109 - 33,5 147 162 Karstadt Warenhaus GmbH, Essen (zu Arcandor AG) (*1) (*6) Handel 4.100 - K, IAS/IFRS, V 23.195 -. 148 155 Strabag AG, Köln Bauindustrie 4.075 - 7,3 K, IAS/IFRS 10.192 - 2,1 152 Einkaufsbüro Deutscher Eisenhändler GmbH, Wuppertal Handel 4.075 - 11,2 K, HGB 775 + 1,3. 150 165 Primondo Gruppe, Fürth (zu Arcandor AG) (*1) (*7) Homeshopping 4.037,5 - K, IAS/IFRS, V k.A. -. 151 151 Osram GmbH, München (zu Siemens AG) Elektronik 4.036 - 12,7 E, US-GAAP 39.396 - 9,6. 152 176 B. Braun Melsungen AG, Melsungen Pharma, Medizinische Instrumente 4.028,2 + 6,4 K, IAS/IFRS 39.504 + 2,7 153 188 RAG Aktiengesellschaft, Herne Bergbau 4.000 + 13,0 E, HGB 31.500 + 12,6 164 Eon Kraftwerke GmbH, Hannover (zu Eon Energie AG) Kraftwerksbetreiber 4.000 - 1,5 E 3.700 + 4,4 155 174 Andreae-Noris Zahn AG, Frankfurt/Main Pharmagroßhandel 3.967,5 + 4,1 K, IAS/IFRS 2.635 + 5,2. 156 179 Lufthansa Technik AG, Hamburg (zu Deutsche Lufthansa AG) Technische Dienstleistungen 3.963 + 6,6 K, IAS/IFRS 19.758 + 2,9 157 175 B + C Tönnies Fleischwerk GmbH & Co. KG, Rheda Wiedenbrück Nahrungsmittel 3.950 + 3,7 K 7.200 + 24,1 158 187 DKV Euro Service GmbH + Co KG, Düsseldorf Dienstleistungen 3.897 + 9,7 K, HGB, G1 575 + 4,5 159 184 SMS Group, Düsseldorf Maschinenbau, Anlagenbau 3.891 + 8,1 K, IAS/IFRS 9.000 + 7,1. 160 138 Mahle GmbH, Stuttgart Automobilzulieferer 3.864 - 22,9 K 43.489 - 11,7 161 107 Klöckner & Co SE, Duisburg Handel 3.860 - 42,8 K 9.032 - 12,2 162 181 Hagebau GmbH & Co. KG, Soltau Baustoffhandel 3.835 + 4,6 E, HGB, G1 318 + 2,3. 163 148 DB Schenker Rail GmbH, Mainz Güterverkehr 3.791 - 18,5 K, HGB, G1 34.145 + 16,8. 164 177 Eurobaustoff Handelsgesellschaft mbH & Co. KG, Bad Nauheim Baustoffhandel 3.768 - 0,1 K 240 + 0,0 165 192 Bauhaus Gruppe, Mannheim Baumärkte (Groß- und Einzelhandel) 3.750 + 7,1 15.000 + 7,1. 166 185 Telefonica O2 Germany, München Telekommunikation 3.746 + 4,2 K, IAS/IFRS 5.029 + 8,2. 167 157 Wacker Chemie AG, München Chemie 3.719,3 - 13,5 K, IAS/IFRS 15.618 - 1,9 168 170 Praktiker Bau- und Heimwerkermärkte Holding AG, Kirkel Bau- und Heimwerkermärkte 3.663,4 - 6,2 K, IAS/IFRS 27.300 - 8,4 169 183 Toshiba Europe GmbH, Neuss Elektronik 3.658 + 0,1 K, HGB 1.104 - 11,6 170 227 Freenet AG, Hamburg (*1) (*8) Telekommunikation 3.650,7 + 31,5 K, IAS/IFRS, ÄK, Wa2 4.394 - 39,4 171 172 Ingram Micro Holding GmbH, München IT-Handel 3.641,1 - 5,9 K, HGB, G1 1.215 - 5,8. 172 178 SCA Hygiene Products SE, München Hygieneprodukte 3.634 - 3,4 K, IAS/IFRS 9.970 + 3,5. 173 144 K+S Aktiengesellschaft, Kassel Agrarchemie 3.573,8 - 25,5 K, IAS/IFRS, ÄK 15.208 + 23,0. 174 190 Galeria Kaufhof GmbH, Köln (zu Metro AG) Handel 3.539 - 1,9 K, IAS/IFRS, ÄK, Wa 18.221 - 5,7. 175 182 Actebis GmbH, Soest IT, Software, Hardware, Unterhaltungselektronik, Telekommunikation 3.530 - 3,6 K, IAS/IFRS 1.900 + 5,6 176 163 Mabanaft Deutschland GmbH & Co. KG, Hamburg (zu Marquard & Bahls AG) Mineralölhandel 3.521 - 13,9 E, IAS/IFRS 72 + 4,3 177 186 Nestlé Deutschland AG, Frankfurt/Main Lebensmittelindustrie 3.437,7 - 4,1 K, HGB, G1, ÄK 12.517 - 1,2 178 189 DB Fernverkehr AG, Frankfurt/Main (zu Deutsche Bahn AG) Transport, Eisenbahnunternehmen, Personen- und Fernverkehr 3.435 - 2,5 K, HGB, G1 15.043 + 3,0. 179 171 Rheinmetall AG, Düsseldorf Automotive, Wehrtechnik 3.420 - 11,6 K, IAS/IFRS 19.766 - 6,0. 180 191 Philips Deutschland GmbH, Hamburg Elektro, Elektronik 3.387 - 3,4 K, IAS/IFRS, G1 6.900 - 5,5. 181 202 Edeka Handelsgesellschaft Rhein-Ruhr mbH, Moers Handel 3.362,3 + 2,6 K, HGB, G1 10.200 + 4,7. 182 198 Ikea Deutschland GmbH & Co. KG, Hofheim Möbel 3.340 + 1,2 G5 13.981 + 2,8. 183 169 Hella KGaA Hueck & Co., Lippstadt Automobilzulieferer 3.285 - 16,6 K, IFRS 22.847 - 7,6. 184 229 Citiworks AG, München Energiehandel und -vertrieb 3.250 + 14,4 E, HGB,G1 47 - 35,6. 185 193 Air Berlin PLC & Co. Luftverkehrs KG, Berlin Fluggesellschaft 3.240,3 - 4,7 K, IAS/IFRS 8.278 - 0,4 186 211 MHK Marketing Handel Kooperation GmbH & Co. Verbundgruppe Holding KG, Dreieich Küchen- und Möbelfachhandel 3.240 + 4,5 k.A. - 187 221 Novartis Deutschland GmbH, Wehr Pharma 3.203 - E, HGB, V 7.099 - 3,0 188 207 Douglas Holding AG, Hagen Handel 3.200,8 + 2,0 K, IAS/IFRS 24.190 - 1,3 189 210 Dachser GmbH & Co. KG, Kempten/Allgäu Logistik, Transport 3.200 - 11,1 K, HGB, IAS/IFRS, G1 17.538 - 3,5 204 Eon Kernkraft GmbH, Hannover (zu Eon Energie AG) Kraftwerksbetreiber 3.200 - 1,9 G5 2.600 -. 191 154 Hamburg Südamerikanische Dampfschifffahrts-Gesellschaft KG, Hamburg (zu Oetker-Gruppe) Reederei 3.193 - 28,3 K, HGB 4.791 + 0,4 192 263 Noweda eG, Essen Arzneimittelgroßhandel 3.191 + 29,9 K, HGB, ÄK 1.841 - 0,8. 193 206 E-Plus Mobilfunk GmbH & Co. KG, Düsseldorf Telekommunikation 3.181 - 1,1 K, IAS/IFRS 2.500 + 0,0. 194 180 ABB AG, Mannheim Energie- und Automationstechnik 3.180 - 13,8 E, US-GAAP 10.600 - 3,6. 195 246 MVV Energie AG Energieversorgung 3.161 + 19,9 K, IAS/IFRS, ÄK 6.053 + 2,6. 196 213 Fegro/Selgros oHG, Neu-Isenburg Handel 3.130 + 1,8 K, G4 14.500 - 0,5 197 201 Edeka Stiftung & Co. KG Nordbayern-Sachsen-Thüringen (zu Edeka Gruppe) Handel 3.093 - 5,8 K, HGB 13.488 - 11,6 198 166 Kühne + Nagel Organisation in Deutschland, Hamburg Logistik 3.089 - 22,9 K, IAS/IFRS 9.356 + 0,4. 199 153 Kion Group GmbH, Wiesbaden Maschinenbau 3.084 - 32,3 K, IAS/IFRS 19.953 - 5,7. 200 156 Infineon Technologies AG, München Halbleiter 3.027 - 29,9 K, IAS/IFRS 26.464 - 9,1. 201 - Renault Deutschland AG, Brühl Automobilhandel 2.916 - E, HGB 550 - 4,0 202 230 McDonald's Deutschland Inc., München Gastronomie 2.909 + 2,6 K, US-GAAP 60.000 + 3,4. 203 205 Claas KGaA, Harsewinkel Landmaschinen 2.900,8 - 10,4 K, IAS/IFRS 9.467 + 4,0. 204 241 Deichmann SE, Essen Handel 2.900 + 6,7 K 28.100 + 0,0 205 113 Salzgitter Mannesmann Handel-Gruppe, Düsseldorf (zu Salzgitter AG) Handel m. Stahlerzeugnissen 2.881,4 - 54,3 K, IAS/IFRS k.A. - 206 220 Bosch Thermotechnik GmbH, Wetzlar (zu Robert Bosch GmbH) Heiztechnik 2.870 - 3,9 K, IAS/IFRS 13.078 + 0,8 207 237 Hornbach Holding AG, Neustadt a.d.W. Handel 2.853 + 3,7 K, IAS/IFRS 13.214 + 0,3. 208 228 Stadtwerke Hannover AG, Hannover Energieversorger 2.815,1 - 1,0 E, HGB 2.722 - 0,5. 209 235 Salzgitter Flachstahl GmbH, Salzgitter (zu Salzgitter AG) Stahlproduktion 2.800 - K, V 4.400 + 0,0 210 214 Panasonic Marketing Europe GmbH, Wiesbaden Elektronik 2.782 - 8,9 588 + 0,3. 211 245 Sanacorp Pharmahandel GmbH, Planegg Pharmahandel 2.781,3 + 4,5 E, HGB 2.483 + 0,4. 212 298 Envia Mitteldeutsche Energie AG, Chemnitz (zu RWE AG) Energieversorger 2.777 + 30,1 E, HGB 2.042 - 2,3 213 234 Miele & Cie. KG, Gütersloh Elektroindustrie 2.770 - 1,4 K 16.859 + 4,3 214 - Bayernoil Raffineriegesellschaft mbH, Vohburg Petrochemie 2.765 - V 800 - 5,9. 215 195 Knorr-Bremse AG, München Nutz- und Schienenfahrzeugbauzulieferer 2.761 - 18,4 K, HGB 14.432 - 3,8 216 251 Pro Sieben Sat.1 Media AG, Unterföhring Medien 2.760,8 - 9,6 K, IAS/IFRS 4.980 - 8,9. 217 243 Bartels-Langness GmbH & Co. KG, Kiel Lebensmittelhandel 2.710 + 0,7 K, G3 k.A. -. 218 199 Rhenus AG & Co. KG, Holzwickede (zu Rethmann AG) Logistik 2.700 - 12,9 K, HGB 16.300 - 7,9. 219 150 Basell Polyolefine GmbH, Wesseling Chemie 2.691 - 42,1 E, HGB 2.575 - 0,4. 220 248 Hornbach-Baumarkt AG, Bornheim (zu Hornbach Holding AG) Bau- und Gartenmärkte 2.686 + 3,3 K, IAS/IFRS 12.640 + 0,5 221 261 Dirk Rossmann GmbH, Burgwedel Drogeriemärkte 2.668 + 8,0 K 29.000 + 20,8 222 240 Axel Springer AG, Berlin (*1) (*9) Medien (Verlag) 2.611,6 - 4,3 K, IAS/IFRS, ÄK 10.740 + 0,7. 223 238 MTU Aero Engines Holding AG, München Luft- und Raumfahrt 2.610,8 - 4,8 IAS/IFRS 7.665 + 1,7. 224 - Union Tank Eckstein GmbH & Co. KG, Kleinostheim Güter- und Personentransport 2.603 - 9,4 E, HGB 320 + 8,8 225 233 Brose Fahrzeugteile GmbH & Co. KG, Coburg Automobilzulieferer 2.600 - 7,5 K, IAS/IFRS 14.200 - 0,7 226 217 Cognis GmbH, Monheim Spezialchemie 2.584 - 13,9 K, IAS/IFRS 5.572 - 5,2 227 - Evonik Steag GmbH, Essen (zu Evonik AG) Kraftwirtschaft, Elektroniksysteme 2.558 - 24,7 K 4.820 + 2,5 228 208 Tognum AG, Friedrichshafen (*2) (*0) Anlagenbau 2.529 - 19,3 K, IAS/IFRS, ÄK 8.726 - 2,3. 229 222 Ed. Züblin AG, Stuttgart Bauunternehmung 2.524 - 14,4 K, IAS/IFRS 12.279 - 14,9. 230 329 Städtische Werke Nürnberg GmbH, Nürnberg kommunaler Versorger 2.519 + 29,8 K, HGB, G1 4.509 - 0,8 231 236 Gruner + Jahr AG & Co KG, Hamburg (zu Bertelsmann AG) Verlag 2.508 - 9,4 K, IAS/IFRS 13.571 - 9,2. 232 258 Werhahn KG, Neuss Mischkonzern 2.500 - 1,5 K, G5 9.000 - 0,6 279 Evobus GmbH, Stuttgart (zu Daimler AG) Automobil 2.500 + 8,1 E, IAS/IFRS, G5 7.900 - 1,3. 284 Eon Bayern AG, Regensburg (zu Eon AG) Strom- und Gasversorger 2.500 + 9,5 3.000 -. 235 203 Gefa Gruppe, Wuppertal Finanzdienstleistung 2.486 - 23,9 E, HGB 761 - 0,3. 236 196 Behr GmbH & Co. KG, Stuttgart (*2) (*1) Automobilzulieferer 2.468 - K, IAS/IFRS, G1, ÄK, U 17.071 - 9,3 237 254 Puma AG, Herzogenaurach Sportartikel 2.460,7 - 2,5 K, HGB, IAS/IFRS 9.646 - 4,2. 238 226 Otto Fuchs Metallwerke KG, Meinerzhagen Metallverarbeitung 2.450 - 15,5 K, HGB, G1 8.300 + 1,2 239 173 Eni Deutschland GmbH, München (ehemals Agip Deutschland GmbH) Mineralöl 2.427 - 36,4 E, HGB 166 - 0,6 240 255 Kaisers Tengelmann GmbH, Mülheim/Ruhr (*2) (*2) Handel 2.425,0 - V, MwStL k.A. -. 241 317 H&M Hennes & Mauritz B.V. & Co. KG, Hamburg Textileinzelhandel 2.424,8 + 16,3 E, kr 10.746 - 3,3 242 194 Norma Lebensmittelfilialbetrieb GmbH & Co. KG, Nürnberg Lebensmitteleinzelhandel 2.420 + 2,8 G3 k.A. - 243 301 Helios Kliniken GmbH, Fulda Kliniken 2.416 + 13,8 K, IAS/IFRS 33.000 + 10,0. 244 252 MAN Diesel SE, Augsburg (zu MAN SE) (*2) (*3) Maschinenbau 2.411 - 5,2 E, IAS/IFRS 7.353 - 0,5. 245 216 Conti Tech AG, Hannover (zu Continental AG) Automobilzulieferer, Maschinen- und Anlagenbau 2.406 - 20,0 K, IAS/IFRS 22.079 + 1,8 246 111 Johnson Controls GmbH, Burscheid Automobilzulieferer 2.400 + 8,1 K, US-GAAP, G4 10.000 + 0,0. 247 346 N-Ergie Aktiengesellschaft, Nürnberg Energiedienstleistungen 2.394,5 + 31,8 K, HGB 2.580 - 2,2 248 267 Edeka Handelsgesellschaft Südbayern mbH, Ingolstadt (zu Edeka Gruppe) Handel 2.365 - 2,5 K, HGB, G1 9.294 - 5,3 249 250 Verlagsgruppe Georg von Holtzbrinck GmbH & Co., Stuttgart Medien 2.357,6 - 8,9 K, IAS/IFRS, ÄK, U 16.460 - 5,7 250 299 Rhön-Klinikum AG, Bad Neustadt/Saale Klinikbetrieb, Gesundheitsdienstleister 2.320 + 8,9 K, IAS/IFRS 36.882 + 9,5 251 219 Heidelberger Druckmaschinen AG, Heidelberg Maschinenbau, Druckvorstufen, Druck, Weiterverarbeitung, Service 2.306 - 23,1 K, IAS/IFRS, G1 16.496 - 12,8 252 281 Asklepios Kliniken GmbH, Königstein Klinikbetrieb 2.300 + 0,0 K, HGB, IFRS 36.000 + 0,0. 259 Microsoft Deutschland GmbH, Unterschleißheim Software 2.300 - V, G4 2.200 - 314 DB Energie GmbH, Frankfurt/Main (zu Deutsche Bahn AG) Energieversorgung 2.300 + 12,8 E 1.600 + 2,8 280 Intel GmbH, Feldkirchen Hardware 2.300 - V, G4 445 - 5,9 256 283 Edeka Handelsgesellschaft Nord mbH, Neumünster (zu Edeka Gruppe) Handel 2.285 - K, HGB, V 6.000 + 2,7 257 313 Deutsche Avia Mineralöl-Gesellschaft mbH, München Mineralöl 2.282,5 - V 20 + 5,3. 258 285 Saarstahl AG, Völklingen Stahl 2.280 - K, HGB, V 7.676 + 6,5 259 286 Unternehmensgruppe Theo Müller GmbH & Co. KG, Aretsried Molkerei, Fruchtzubereitung, Becherwerk, Spedition, Fahrzeugservice 2.268 - K, IAS/IFRS, V 3.722 -. 260 289 Schott AG, Mainz Glas 2.261 + 1,5 K, IAS/IFRS 17.396 + 0,2 261 276 Michelin Reifenwerke AG & Co. KGaA, Karlsruhe Automobilzulieferer 2.260 - E,V 5.288 - 3,1. 262 197 DHS - Dillinger Hütte Saarstahl AG, Dillingen Stahl 2.258 - 31,7 K, HGB 8.170 - 3,7. 263 278 Wincor Nixdorf AG, Paderborn Informationstechnik 2.250 - 3,0 K, IAS/IFRS 9.381 - 1,3. 264 269 Cobana/Fruchtring-Gruppe, Hamburg Import- und Großhandel 2.2310 - 7,8 K 3.589 + 1,5. 265 266 Vaillant GmbH, Remscheid Heiztechnik 2.217 - 9,1 K, IFRS 12.265 - 5,0 266 324 Müller Ltd. & Co. KG, Ulm Handel 2.205 + 10,3 G3 24.000 + 9,1 267 306 Diehl Stiftung & Co. KG, Nürnberg Metall, Controls, Luftfahrt, Wehrtechnik, Metering 2.200 + 3,3 K, G1 12.200 + 7,1 - Bilfinger Berger Industrial Services AG, München Industrienalagen 2.200 - 6,5 K, HGB 5.300 + 1,9. 293 Pfeifer & Langen, Köln Zuckerindustrie 2.200 - K, G3, V k.A. - 270 384 Skoda Auto Deutschland GmbH, Weiterstadt Automobilhandel 2.198,9 + 31,5 E, HGB 292 - 0,3. 271 307 Sonepar Deutschland GmbH, Düsseldorf Fachhandel 2.198 + 4,8 K, IAS/IFRS 4.677 - 9,9. 272 249 ZF Lenksysteme GmbH, Schwäbisch Gmünd Lenksysteme 2.197,2 - 15,3 K, IAS/IFRS 10.031 - 5,5. 273 321 Friedhelm Loh Stiftung & Co. KG, Haiger Holding 2.195 - K, HGB, V 11.114 + 4,3. 274 290 Electronic Partner GmbH, Düsseldorf Einkaufsverbund 2.183 - 1,0 K, HGB 1.900 - 0,7. 275 260 BASF Coatings GmbH, Münster (zu BASF) Chemie 2.163 - 13,3 E k.A. - 276 215 AG der Dillinger Hüttenwerke, Dillingen Stahlindustrie 2.161 - 34,6 E, HGB 5.296 - 0,5.\""
      ]
     },
     "execution_count": 58,
     "metadata": {},
     "output_type": "execute_result"
    }
   ],
   "source": [
    "data[data.numeric == True]['texts'].iloc[1]"
   ]
  },
  {
   "cell_type": "code",
   "execution_count": 59,
   "metadata": {},
   "outputs": [
    {
     "data": {
      "text/plain": [
       "7"
      ]
     },
     "execution_count": 59,
     "metadata": {},
     "output_type": "execute_result"
    }
   ],
   "source": [
    "len(data[data.numeric == True])"
   ]
  },
  {
   "cell_type": "code",
   "execution_count": 60,
   "metadata": {},
   "outputs": [
    {
     "name": "stdout",
     "output_type": "stream",
     "text": [
      "166534\n"
     ]
    }
   ],
   "source": [
    "# drop articles predominantly consisting of numbers\n",
    "data = data[data.numeric == False]\n",
    "del data['numeric']\n",
    "data.reset_index(inplace=True, drop=True)\n",
    "# the number of articles after removing articles that predominantly consist of numbers\n",
    "print(len(data))"
   ]
  },
  {
   "cell_type": "markdown",
   "metadata": {},
   "source": [
    "## Identify articles that predominantly consist of names"
   ]
  },
  {
   "cell_type": "markdown",
   "metadata": {},
   "source": [
    "We eliminate texts with a name density of at least 15% (relative to the total word count, excluding numbers) as part of our pre-processing pipeline. This exclusion is important to guarantee that the remaining articles contain sufficient content for effective topic analysis, as the removal of common German names is a standard pre-processing step in LDA model estimation."
   ]
  },
  {
   "cell_type": "code",
   "execution_count": 61,
   "metadata": {},
   "outputs": [],
   "source": [
    "path = os.getcwd().replace('\\\\Welt', '') + '\\\\SZ'\n",
    "\n",
    "# Load the dictionary containing common German first and last names\n",
    "with open(path + \"\\\\names.txt\", \"r\", encoding=\"utf-8-sig\") as f:\n",
    "    names_list = f.read().splitlines()"
   ]
  },
  {
   "cell_type": "code",
   "execution_count": 62,
   "metadata": {},
   "outputs": [
    {
     "name": "stdout",
     "output_type": "stream",
     "text": [
      "0:00:21.498105\n"
     ]
    }
   ],
   "source": [
    "inputs = zip(data['texts'], data['word_count'], itertools.repeat(names_list))\n",
    "\n",
    "startTime = datetime.now()\n",
    "\n",
    "if __name__ == \"__main__\":\n",
    "    pool = mp.Pool(NUM_CORE)\n",
    "    names_result = pool.starmap(count_names.count_names, inputs)\n",
    "    pool.close()\n",
    "    pool.join()\n",
    "\n",
    "print(datetime.now()-startTime)\n",
    "\n",
    "data['names'] = names_result"
   ]
  },
  {
   "cell_type": "code",
   "execution_count": 63,
   "metadata": {},
   "outputs": [
    {
     "data": {
      "text/plain": [
       "'Die Mitglieder der Kommission. Der Kommission unter der Leitung des Ökonomen Bert Rürup gehören 18 Männer und acht Frauen an. Aus der Politik: Heinrich Tiemann, Staatssekretär im Gesundheits- und Sozialministerium, Rosemarie Wilcken, Wismarer SPD-Bürgermeisterin und Gitta Trauernicht, niedersächsische. SPD-Sozialministerin. Aus der Wissenschaft: die Ökonomen Axel Börsch-Supan, Bernd Raffelhüschen und Gert Wagner, die Verwaltungswissenschaftlerin Gisela Färber, die Gesundheitswissenschaftler Karl W. Lauterbach und Eckhard Nagel, die Politikprofessoren Frank Nullmeier und Josef Schmid. Aus der Wirtschaft: Unternehmensberater Roland Berger, Claus-Michael Dill, Vorstandschef des AXA-Konzerns, die Unternehmerin Dominique Döttling, Günther Fleig, Vorstand bei Daimler-Chrysler, und BASF-Vorstand Eggert Voscherau. Jürgen Husmann vertritt die Arbeitgeberverbände (BDA) und ist Vorstand der Bundesversicherungsanstalt für Angestellte (BfA). Von den Gewerkschaften: Vize-Chefin des DGB, Ursula Engelen-Kefer, Nadine Franz, Mitglied der Tarifkommission der IGBCE, Manfred Schoch, BMW-Betriebsratschef und Klaus Wiesehügel, Vorsitzender der IG BAU. Außerdem: Helmut Platzer, Vorstandschef der AOK Bayern, Franz Ruland, Geschäftsführer der Rentenversicherungsträger, Edda Müller von den Verbraucherzentralen und Barbara Stolterfoht, Vorsitzende des Paritätischen Wohlfahrtsverbandes. Der Darmstädter Wirtschaftswissenschaftler Bert Rürup leitet die Kommission. Bereits jetzt zählt er zu den wichtigsten Beratern der Bundesregierung Rosemarie Wilken (SPD) Bürgermeisterin Wismar. Jürgen Husmann, Arbeitergeberverband. Bernd Raffelhüschen, Universität Freiburg. Edda Müller, Verband der Verbraucherzentralen. Claus-Michael Dill, Vorstandschef Axa Konzern. Ursula Engelen-Kefer, DGB-Vizechefin. Günther Fleig, Vorstand bei Daimler-Chrysler. Gitta Trauernicht (SPD), Landessozialministerin. Eggert Voscherau, BASF-Vorstand.'"
      ]
     },
     "execution_count": 63,
     "metadata": {},
     "output_type": "execute_result"
    }
   ],
   "source": [
    "# Example of an article with a high proportion of names\n",
    "data[data.names>=0.15].iloc[0]['texts']"
   ]
  },
  {
   "cell_type": "code",
   "execution_count": 64,
   "metadata": {},
   "outputs": [
    {
     "name": "stdout",
     "output_type": "stream",
     "text": [
      "166510\n"
     ]
    }
   ],
   "source": [
    "# Exclude texts with a name density of at least 15%\n",
    "data = data[data.names<0.15]\n",
    "del data['names']\n",
    "data.reset_index(inplace=True, drop=True)\n",
    "# the number of articles after removing articles that predominantly consist of names\n",
    "print(len(data))"
   ]
  },
  {
   "cell_type": "code",
   "execution_count": 65,
   "metadata": {},
   "outputs": [
    {
     "name": "stdout",
     "output_type": "stream",
     "text": [
      "Counter({2003: 13950, 2005: 13615, 2006: 13381, 2007: 12874, 2009: 12171, 2002: 11564, 2008: 11487, 2001: 9932, 2010: 9830, 2004: 8419, 2013: 7651, 2011: 7498, 2012: 7223, 2014: 6990, 2015: 6473, 2016: 6216, 2017: 5603, 2000: 899, 2018: 460, 1999: 274})\n"
     ]
    }
   ],
   "source": [
    "counter=collections.Counter(data['year'])\n",
    "print(counter)"
   ]
  },
  {
   "cell_type": "code",
   "execution_count": 66,
   "metadata": {},
   "outputs": [],
   "source": [
    "data.to_csv('welt_prepro_final.csv', encoding = 'utf-8-sig', sep = ';')"
   ]
  }
 ],
 "metadata": {
  "kernelspec": {
   "display_name": "Python 3",
   "language": "python",
   "name": "python3"
  },
  "language_info": {
   "codemirror_mode": {
    "name": "ipython",
    "version": 3
   },
   "file_extension": ".py",
   "mimetype": "text/x-python",
   "name": "python",
   "nbconvert_exporter": "python",
   "pygments_lexer": "ipython3",
   "version": "3.8.15"
  }
 },
 "nbformat": 4,
 "nbformat_minor": 2
}
